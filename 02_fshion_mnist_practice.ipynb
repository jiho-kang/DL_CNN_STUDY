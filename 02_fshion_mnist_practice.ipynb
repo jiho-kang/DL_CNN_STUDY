{
  "metadata": {
    "kernelspec": {
      "language": "python",
      "display_name": "Python 3",
      "name": "python3"
    },
    "language_info": {
      "name": "python",
      "version": "3.7.12",
      "mimetype": "text/x-python",
      "codemirror_mode": {
        "name": "ipython",
        "version": 3
      },
      "pygments_lexer": "ipython3",
      "nbconvert_exporter": "python",
      "file_extension": ".py"
    },
    "colab": {
      "name": "02-fshion-mnist-practice.ipynb",
      "provenance": [],
      "collapsed_sections": [
        "ULUHtDNFGiFu",
        "YZIwCR8EGaXr",
        "MEunzaW9GaXz",
        "qGXpE_C9GaX1",
        "m_C3x7SlGaX2",
        "04zH0HjCGaX4"
      ],
      "toc_visible": true,
      "include_colab_link": true
    }
  },
  "nbformat_minor": 0,
  "nbformat": 4,
  "cells": [
    {
      "cell_type": "markdown",
      "metadata": {
        "id": "view-in-github",
        "colab_type": "text"
      },
      "source": [
        "<a href=\"https://colab.research.google.com/github/jiho-kang/DL_CNN_Study/blob/main/02_fshion_mnist_practice.ipynb\" target=\"_parent\"><img src=\"https://colab.research.google.com/assets/colab-badge.svg\" alt=\"Open In Colab\"/></a>"
      ]
    },
    {
      "cell_type": "markdown",
      "source": [
        "# 환경설정"
      ],
      "metadata": {
        "id": "ULUHtDNFGiFu"
      }
    },
    {
      "cell_type": "code",
      "source": [
        "from tensorflow.keras.datasets import fashion_mnist\n",
        "\n",
        "import matplotlib.pyplot as plt\n",
        "import numpy as np\n",
        "import pandas as pd\n",
        "\n",
        "import tensorflow as tf\n",
        "from tensorflow.keras.layers import Dense, Flatten, Input, Layer\n",
        "from tensorflow.keras.models import Sequential, Model\n",
        "\n",
        "from tensorflow.keras.optimizers import Adam\n",
        "from tensorflow.keras.losses import CategoricalCrossentropy\n",
        "from tensorflow.keras.metrics import Accuracy\n",
        "from tensorflow.keras.utils import to_categorical\n",
        "from sklearn.preprocessing import OneHotEncoder\n",
        "from sklearn.model_selection import train_test_split\n",
        "\n",
        "from tensorflow.keras.callbacks import ModelCheckpoint, ReduceLROnPlateau, EarlyStopping"
      ],
      "metadata": {
        "id": "mKQR5QQCGh6f"
      },
      "execution_count": null,
      "outputs": []
    },
    {
      "cell_type": "markdown",
      "source": [
        "# Keras fashion mnist dataset을 다운로드\n",
        "* 5만개의 학습용, 1만개의 테스트용 grayscale image array를 다운로드"
      ],
      "metadata": {
        "id": "YZIwCR8EGaXr"
      }
    },
    {
      "cell_type": "code",
      "source": [
        "# 전체 6만개 데이터 중, 5만개는 학습 데이터용, 1만개는 테스트 데이터용으로 분리\n",
        "(train_images, train_labels), (test_images, test_labels) = fashion_mnist.load_data()\n",
        "# image size는 28x28의 grayscale 2차원 데이터\n",
        "print(\"train dataset shape:\", train_images.shape, train_labels.shape)\n",
        "print(\"test dataset shape:\", test_images.shape, test_labels.shape)"
      ],
      "metadata": {
        "execution": {
          "iopub.status.busy": "2022-02-13T23:22:22.633675Z",
          "iopub.execute_input": "2022-02-13T23:22:22.634288Z",
          "iopub.status.idle": "2022-02-13T23:22:23.129268Z",
          "shell.execute_reply.started": "2022-02-13T23:22:22.634237Z",
          "shell.execute_reply": "2022-02-13T23:22:23.128460Z"
        },
        "trusted": true,
        "colab": {
          "base_uri": "https://localhost:8080/"
        },
        "id": "7KjJNiwjGaXt",
        "outputId": "a219784f-aad1-4111-c179-b769a835f554"
      },
      "execution_count": null,
      "outputs": [
        {
          "output_type": "stream",
          "name": "stdout",
          "text": [
            "Downloading data from https://storage.googleapis.com/tensorflow/tf-keras-datasets/train-labels-idx1-ubyte.gz\n",
            "32768/29515 [=================================] - 0s 0us/step\n",
            "40960/29515 [=========================================] - 0s 0us/step\n",
            "Downloading data from https://storage.googleapis.com/tensorflow/tf-keras-datasets/train-images-idx3-ubyte.gz\n",
            "26427392/26421880 [==============================] - 0s 0us/step\n",
            "26435584/26421880 [==============================] - 0s 0us/step\n",
            "Downloading data from https://storage.googleapis.com/tensorflow/tf-keras-datasets/t10k-labels-idx1-ubyte.gz\n",
            "16384/5148 [===============================================================================================] - 0s 0us/step\n",
            "Downloading data from https://storage.googleapis.com/tensorflow/tf-keras-datasets/t10k-images-idx3-ubyte.gz\n",
            "4423680/4422102 [==============================] - 0s 0us/step\n",
            "4431872/4422102 [==============================] - 0s 0us/step\n",
            "train dataset shape: (60000, 28, 28) (60000,)\n",
            "test dataset shape: (10000, 28, 28) (10000,)\n"
          ]
        }
      ]
    },
    {
      "cell_type": "markdown",
      "source": [
        "**MNIST image array 시각화**"
      ],
      "metadata": {
        "id": "Xb7JvK-hGaXu"
      }
    },
    {
      "cell_type": "code",
      "source": [
        "%matplotlib inline\n",
        "\n",
        "plt.imshow(train_images[0], cmap='gray')\n",
        "plt.title(train_labels[0])"
      ],
      "metadata": {
        "execution": {
          "iopub.status.busy": "2022-02-13T23:22:23.131208Z",
          "iopub.execute_input": "2022-02-13T23:22:23.131752Z",
          "iopub.status.idle": "2022-02-13T23:22:23.335113Z",
          "shell.execute_reply.started": "2022-02-13T23:22:23.131708Z",
          "shell.execute_reply": "2022-02-13T23:22:23.334152Z"
        },
        "trusted": true,
        "colab": {
          "base_uri": "https://localhost:8080/",
          "height": 300
        },
        "id": "_MUesZixGaXv",
        "outputId": "44dd56a6-d138-4faa-82b2-b4eba71a814b"
      },
      "execution_count": null,
      "outputs": [
        {
          "output_type": "execute_result",
          "data": {
            "text/plain": [
              "Text(0.5, 1.0, '9')"
            ]
          },
          "metadata": {},
          "execution_count": 3
        },
        {
          "output_type": "display_data",
          "data": {
            "image/png": "[encoded data removed]",
            "text/plain": [
              "<Figure size 432x288 with 1 Axes>"
            ]
          },
          "metadata": {
            "needs_background": "light"
          }
        }
      ]
    },
    {
      "cell_type": "code",
      "source": [
        "print(train_images.shape)\n",
        "print(train_images[0, :, :].shape) # 위 신발에 대한 array\n",
        "\n",
        "print()\n",
        "print(train_images[0, :, :])\n",
        "print('label:',train_labels[0])"
      ],
      "metadata": {
        "execution": {
          "iopub.status.busy": "2022-02-13T23:22:23.336495Z",
          "iopub.execute_input": "2022-02-13T23:22:23.336819Z",
          "iopub.status.idle": "2022-02-13T23:22:23.346362Z",
          "shell.execute_reply.started": "2022-02-13T23:22:23.336776Z",
          "shell.execute_reply": "2022-02-13T23:22:23.345467Z"
        },
        "trusted": true,
        "colab": {
          "base_uri": "https://localhost:8080/"
        },
        "id": "UrZ_Mos2GaXx",
        "outputId": "23e9b737-d5a2-4b06-acc2-e948a5da3a23"
      },
      "execution_count": null,
      "outputs": [
        {
          "output_type": "stream",
          "name": "stdout",
          "text": [
            "(60000, 28, 28)\n",
            "(28, 28)\n",
            "\n",
            "[[  0   0   0   0   0   0   0   0   0   0   0   0   0   0   0   0   0   0\n",
            "    0   0   0   0   0   0   0   0   0   0]\n",
            " [  0   0   0   0   0   0   0   0   0   0   0   0   0   0   0   0   0   0\n",
            "    0   0   0   0   0   0   0   0   0   0]\n",
            " [  0   0   0   0   0   0   0   0   0   0   0   0   0   0   0   0   0   0\n",
            "    0   0   0   0   0   0   0   0   0   0]\n",
            " [  0   0   0   0   0   0   0   0   0   0   0   0   1   0   0  13  73   0\n",
            "    0   1   4   0   0   0   0   1   1   0]\n",
            " [  0   0   0   0   0   0   0   0   0   0   0   0   3   0  36 136 127  62\n",
            "   54   0   0   0   1   3   4   0   0   3]\n",
            " [  0   0   0   0   0   0   0   0   0   0   0   0   6   0 102 204 176 134\n",
            "  144 123  23   0   0   0   0  12  10   0]\n",
            " [  0   0   0   0   0   0   0   0   0   0   0   0   0   0 155 236 207 178\n",
            "  107 156 161 109  64  23  77 130  72  15]\n",
            " [  0   0   0   0   0   0   0   0   0   0   0   1   0  69 207 223 218 216\n",
            "  216 163 127 121 122 146 141  88 172  66]\n",
            " [  0   0   0   0   0   0   0   0   0   1   1   1   0 200 232 232 233 229\n",
            "  223 223 215 213 164 127 123 196 229   0]\n",
            " [  0   0   0   0   0   0   0   0   0   0   0   0   0 183 225 216 223 228\n",
            "  235 227 224 222 224 221 223 245 173   0]\n",
            " [  0   0   0   0   0   0   0   0   0   0   0   0   0 193 228 218 213 198\n",
            "  180 212 210 211 213 223 220 243 202   0]\n",
            " [  0   0   0   0   0   0   0   0   0   1   3   0  12 219 220 212 218 192\n",
            "  169 227 208 218 224 212 226 197 209  52]\n",
            " [  0   0   0   0   0   0   0   0   0   0   6   0  99 244 222 220 218 203\n",
            "  198 221 215 213 222 220 245 119 167  56]\n",
            " [  0   0   0   0   0   0   0   0   0   4   0   0  55 236 228 230 228 240\n",
            "  232 213 218 223 234 217 217 209  92   0]\n",
            " [  0   0   1   4   6   7   2   0   0   0   0   0 237 226 217 223 222 219\n",
            "  222 221 216 223 229 215 218 255  77   0]\n",
            " [  0   3   0   0   0   0   0   0   0  62 145 204 228 207 213 221 218 208\n",
            "  211 218 224 223 219 215 224 244 159   0]\n",
            " [  0   0   0   0  18  44  82 107 189 228 220 222 217 226 200 205 211 230\n",
            "  224 234 176 188 250 248 233 238 215   0]\n",
            " [  0  57 187 208 224 221 224 208 204 214 208 209 200 159 245 193 206 223\n",
            "  255 255 221 234 221 211 220 232 246   0]\n",
            " [  3 202 228 224 221 211 211 214 205 205 205 220 240  80 150 255 229 221\n",
            "  188 154 191 210 204 209 222 228 225   0]\n",
            " [ 98 233 198 210 222 229 229 234 249 220 194 215 217 241  65  73 106 117\n",
            "  168 219 221 215 217 223 223 224 229  29]\n",
            " [ 75 204 212 204 193 205 211 225 216 185 197 206 198 213 240 195 227 245\n",
            "  239 223 218 212 209 222 220 221 230  67]\n",
            " [ 48 203 183 194 213 197 185 190 194 192 202 214 219 221 220 236 225 216\n",
            "  199 206 186 181 177 172 181 205 206 115]\n",
            " [  0 122 219 193 179 171 183 196 204 210 213 207 211 210 200 196 194 191\n",
            "  195 191 198 192 176 156 167 177 210  92]\n",
            " [  0   0  74 189 212 191 175 172 175 181 185 188 189 188 193 198 204 209\n",
            "  210 210 211 188 188 194 192 216 170   0]\n",
            " [  2   0   0   0  66 200 222 237 239 242 246 243 244 221 220 193 191 179\n",
            "  182 182 181 176 166 168  99  58   0   0]\n",
            " [  0   0   0   0   0   0   0  40  61  44  72  41  35   0   0   0   0   0\n",
            "    0   0   0   0   0   0   0   0   0   0]\n",
            " [  0   0   0   0   0   0   0   0   0   0   0   0   0   0   0   0   0   0\n",
            "    0   0   0   0   0   0   0   0   0   0]\n",
            " [  0   0   0   0   0   0   0   0   0   0   0   0   0   0   0   0   0   0\n",
            "    0   0   0   0   0   0   0   0   0   0]]\n",
            "label: 9\n"
          ]
        }
      ]
    },
    {
      "cell_type": "code",
      "source": [
        "%matplotlib inline \n",
        "\n",
        "class_names = ['T-shirt/top', 'Trouser', 'Pullover', 'Dress', 'Coat','Sandal', 'Shirt', 'Sneaker', 'Bag', 'Ankle boot']\n",
        "\n",
        "def show_images(images, labels, ncols=8):\n",
        "    figure, axs = plt.subplots(figsize=(22, 6), nrows=1, ncols=ncols) # axs는 plot들이다.\n",
        "    for i in range(ncols):\n",
        "        axs[i].imshow(images[i], cmap='gray')\n",
        "        axs[i].set_title(class_names[labels[i]])\n",
        "        \n",
        "show_images(train_images[:8], train_labels[:8], ncols=8)\n",
        "show_images(train_images[8:16], train_labels[8:16], ncols=8)"
      ],
      "metadata": {
        "execution": {
          "iopub.status.busy": "2022-02-13T23:22:23.348205Z",
          "iopub.execute_input": "2022-02-13T23:22:23.348577Z",
          "iopub.status.idle": "2022-02-13T23:22:25.150402Z",
          "shell.execute_reply.started": "2022-02-13T23:22:23.348533Z",
          "shell.execute_reply": "2022-02-13T23:22:25.149637Z"
        },
        "trusted": true,
        "colab": {
          "base_uri": "https://localhost:8080/",
          "height": 235
        },
        "id": "WkeJK6NOGaXx",
        "outputId": "f244963d-bd37-43db-fd2c-9665691d6728"
      },
      "execution_count": null,
      "outputs": [
        {
          "output_type": "display_data",
          "data": {
            "image/png": "[encoded data removed]",
            "text/plain": [
              "<Figure size 1584x432 with 8 Axes>"
            ]
          },
          "metadata": {
            "needs_background": "light"
          }
        },
        {
          "output_type": "display_data",
          "data": {
            "image/png": "[encoded data removed]",
            "text/plain": [
              "<Figure size 1584x432 with 8 Axes>"
            ]
          },
          "metadata": {
            "needs_background": "light"
          }
        }
      ]
    },
    {
      "cell_type": "markdown",
      "source": [
        "# 데이터 전처리 수행. \n",
        "* 0 ~ 255 사이의 픽셀값을 0 ~ 1 사이 값으로 변환. \n",
        "* array type은 float 32"
      ],
      "metadata": {
        "id": "MEunzaW9GaXz"
      }
    },
    {
      "cell_type": "code",
      "source": [
        "(train_images, train_labels), (test_images, test_labels) = fashion_mnist.load_data()\n",
        "\n",
        "def get_preprocessed_data(images, labels):\n",
        "    \n",
        "    # 학습과 테스트 이미지 array를 0~1 사이값으로 scale 및 float32 형 변형. \n",
        "    images = np.array(images/255.0, dtype=np.float32)\n",
        "    labels = np.array(labels, dtype=np.float32)\n",
        "    \n",
        "    return images, labels\n",
        "\n",
        "train_images_preprocessed, train_labels_preprocessed = get_preprocessed_data(train_images, train_labels)\n",
        "test_images_preprocessed, test_labels_preprocessed = get_preprocessed_data(test_images, test_labels)\n",
        "\n",
        "print(\"train dataset shape:\", train_images_preprocessed.shape, train_labels_preprocessed.shape)\n",
        "print(\"test dataset shape:\", test_images_preprocessed.shape, test_labels_preprocessed.shape)\n"
      ],
      "metadata": {
        "execution": {
          "iopub.status.busy": "2022-02-13T23:30:13.993588Z",
          "iopub.execute_input": "2022-02-13T23:30:13.994172Z",
          "iopub.status.idle": "2022-02-13T23:30:14.739984Z",
          "shell.execute_reply.started": "2022-02-13T23:30:13.994126Z",
          "shell.execute_reply": "2022-02-13T23:30:14.739169Z"
        },
        "trusted": true,
        "colab": {
          "base_uri": "https://localhost:8080/"
        },
        "id": "SEueCCrYGaXz",
        "outputId": "bfea7d26-7b26-4ff2-ebde-deee99d26fdd"
      },
      "execution_count": null,
      "outputs": [
        {
          "output_type": "stream",
          "name": "stdout",
          "text": [
            "train dataset shape: (60000, 28, 28) (60000,)\n",
            "test dataset shape: (10000, 28, 28) (10000,)\n"
          ]
        }
      ]
    },
    {
      "cell_type": "code",
      "source": [
        "train_images[0]"
      ],
      "metadata": {
        "execution": {
          "iopub.status.busy": "2022-02-13T23:30:14.741387Z",
          "iopub.execute_input": "2022-02-13T23:30:14.741692Z",
          "iopub.status.idle": "2022-02-13T23:30:14.750624Z",
          "shell.execute_reply.started": "2022-02-13T23:30:14.741661Z",
          "shell.execute_reply": "2022-02-13T23:30:14.749823Z"
        },
        "trusted": true,
        "colab": {
          "base_uri": "https://localhost:8080/"
        },
        "id": "wixWZPLaGaX0",
        "outputId": "4fcb76de-fb11-4057-d621-bad1893b12b7"
      },
      "execution_count": null,
      "outputs": [
        {
          "output_type": "execute_result",
          "data": {
            "text/plain": [
              "array([[  0,   0,   0,   0,   0,   0,   0,   0,   0,   0,   0,   0,   0,\n",
              "          0,   0,   0,   0,   0,   0,   0,   0,   0,   0,   0,   0,   0,\n",
              "          0,   0],\n",
              "       [  0,   0,   0,   0,   0,   0,   0,   0,   0,   0,   0,   0,   0,\n",
              "          0,   0,   0,   0,   0,   0,   0,   0,   0,   0,   0,   0,   0,\n",
              "          0,   0],\n",
              "       [  0,   0,   0,   0,   0,   0,   0,   0,   0,   0,   0,   0,   0,\n",
              "          0,   0,   0,   0,   0,   0,   0,   0,   0,   0,   0,   0,   0,\n",
              "          0,   0],\n",
              "       [  0,   0,   0,   0,   0,   0,   0,   0,   0,   0,   0,   0,   1,\n",
              "          0,   0,  13,  73,   0,   0,   1,   4,   0,   0,   0,   0,   1,\n",
              "          1,   0],\n",
              "       [  0,   0,   0,   0,   0,   0,   0,   0,   0,   0,   0,   0,   3,\n",
              "          0,  36, 136, 127,  62,  54,   0,   0,   0,   1,   3,   4,   0,\n",
              "          0,   3],\n",
              "       [  0,   0,   0,   0,   0,   0,   0,   0,   0,   0,   0,   0,   6,\n",
              "          0, 102, 204, 176, 134, 144, 123,  23,   0,   0,   0,   0,  12,\n",
              "         10,   0],\n",
              "       [  0,   0,   0,   0,   0,   0,   0,   0,   0,   0,   0,   0,   0,\n",
              "          0, 155, 236, 207, 178, 107, 156, 161, 109,  64,  23,  77, 130,\n",
              "         72,  15],\n",
              "       [  0,   0,   0,   0,   0,   0,   0,   0,   0,   0,   0,   1,   0,\n",
              "         69, 207, 223, 218, 216, 216, 163, 127, 121, 122, 146, 141,  88,\n",
              "        172,  66],\n",
              "       [  0,   0,   0,   0,   0,   0,   0,   0,   0,   1,   1,   1,   0,\n",
              "        200, 232, 232, 233, 229, 223, 223, 215, 213, 164, 127, 123, 196,\n",
              "        229,   0],\n",
              "       [  0,   0,   0,   0,   0,   0,   0,   0,   0,   0,   0,   0,   0,\n",
              "        183, 225, 216, 223, 228, 235, 227, 224, 222, 224, 221, 223, 245,\n",
              "        173,   0],\n",
              "       [  0,   0,   0,   0,   0,   0,   0,   0,   0,   0,   0,   0,   0,\n",
              "        193, 228, 218, 213, 198, 180, 212, 210, 211, 213, 223, 220, 243,\n",
              "        202,   0],\n",
              "       [  0,   0,   0,   0,   0,   0,   0,   0,   0,   1,   3,   0,  12,\n",
              "        219, 220, 212, 218, 192, 169, 227, 208, 218, 224, 212, 226, 197,\n",
              "        209,  52],\n",
              "       [  0,   0,   0,   0,   0,   0,   0,   0,   0,   0,   6,   0,  99,\n",
              "        244, 222, 220, 218, 203, 198, 221, 215, 213, 222, 220, 245, 119,\n",
              "        167,  56],\n",
              "       [  0,   0,   0,   0,   0,   0,   0,   0,   0,   4,   0,   0,  55,\n",
              "        236, 228, 230, 228, 240, 232, 213, 218, 223, 234, 217, 217, 209,\n",
              "         92,   0],\n",
              "       [  0,   0,   1,   4,   6,   7,   2,   0,   0,   0,   0,   0, 237,\n",
              "        226, 217, 223, 222, 219, 222, 221, 216, 223, 229, 215, 218, 255,\n",
              "         77,   0],\n",
              "       [  0,   3,   0,   0,   0,   0,   0,   0,   0,  62, 145, 204, 228,\n",
              "        207, 213, 221, 218, 208, 211, 218, 224, 223, 219, 215, 224, 244,\n",
              "        159,   0],\n",
              "       [  0,   0,   0,   0,  18,  44,  82, 107, 189, 228, 220, 222, 217,\n",
              "        226, 200, 205, 211, 230, 224, 234, 176, 188, 250, 248, 233, 238,\n",
              "        215,   0],\n",
              "       [  0,  57, 187, 208, 224, 221, 224, 208, 204, 214, 208, 209, 200,\n",
              "        159, 245, 193, 206, 223, 255, 255, 221, 234, 221, 211, 220, 232,\n",
              "        246,   0],\n",
              "       [  3, 202, 228, 224, 221, 211, 211, 214, 205, 205, 205, 220, 240,\n",
              "         80, 150, 255, 229, 221, 188, 154, 191, 210, 204, 209, 222, 228,\n",
              "        225,   0],\n",
              "       [ 98, 233, 198, 210, 222, 229, 229, 234, 249, 220, 194, 215, 217,\n",
              "        241,  65,  73, 106, 117, 168, 219, 221, 215, 217, 223, 223, 224,\n",
              "        229,  29],\n",
              "       [ 75, 204, 212, 204, 193, 205, 211, 225, 216, 185, 197, 206, 198,\n",
              "        213, 240, 195, 227, 245, 239, 223, 218, 212, 209, 222, 220, 221,\n",
              "        230,  67],\n",
              "       [ 48, 203, 183, 194, 213, 197, 185, 190, 194, 192, 202, 214, 219,\n",
              "        221, 220, 236, 225, 216, 199, 206, 186, 181, 177, 172, 181, 205,\n",
              "        206, 115],\n",
              "       [  0, 122, 219, 193, 179, 171, 183, 196, 204, 210, 213, 207, 211,\n",
              "        210, 200, 196, 194, 191, 195, 191, 198, 192, 176, 156, 167, 177,\n",
              "        210,  92],\n",
              "       [  0,   0,  74, 189, 212, 191, 175, 172, 175, 181, 185, 188, 189,\n",
              "        188, 193, 198, 204, 209, 210, 210, 211, 188, 188, 194, 192, 216,\n",
              "        170,   0],\n",
              "       [  2,   0,   0,   0,  66, 200, 222, 237, 239, 242, 246, 243, 244,\n",
              "        221, 220, 193, 191, 179, 182, 182, 181, 176, 166, 168,  99,  58,\n",
              "          0,   0],\n",
              "       [  0,   0,   0,   0,   0,   0,   0,  40,  61,  44,  72,  41,  35,\n",
              "          0,   0,   0,   0,   0,   0,   0,   0,   0,   0,   0,   0,   0,\n",
              "          0,   0],\n",
              "       [  0,   0,   0,   0,   0,   0,   0,   0,   0,   0,   0,   0,   0,\n",
              "          0,   0,   0,   0,   0,   0,   0,   0,   0,   0,   0,   0,   0,\n",
              "          0,   0],\n",
              "       [  0,   0,   0,   0,   0,   0,   0,   0,   0,   0,   0,   0,   0,\n",
              "          0,   0,   0,   0,   0,   0,   0,   0,   0,   0,   0,   0,   0,\n",
              "          0,   0]], dtype=uint8)"
            ]
          },
          "metadata": {},
          "execution_count": 10
        }
      ]
    },
    {
      "cell_type": "code",
      "source": [
        "train_images_preprocessed[0]"
      ],
      "metadata": {
        "execution": {
          "iopub.status.busy": "2022-02-13T23:30:14.751889Z",
          "iopub.execute_input": "2022-02-13T23:30:14.752154Z",
          "iopub.status.idle": "2022-02-13T23:30:14.773434Z",
          "shell.execute_reply.started": "2022-02-13T23:30:14.752123Z",
          "shell.execute_reply": "2022-02-13T23:30:14.772747Z"
        },
        "trusted": true,
        "colab": {
          "base_uri": "https://localhost:8080/"
        },
        "id": "XIU8-fC7GaX1",
        "outputId": "caa27fb2-43d4-4150-82f1-e93116512281"
      },
      "execution_count": null,
      "outputs": [
        {
          "output_type": "execute_result",
          "data": {
            "text/plain": [
              "array([[0.        , 0.        , 0.        , 0.        , 0.        ,\n",
              "        0.        , 0.        , 0.        , 0.        , 0.        ,\n",
              "        0.        , 0.        , 0.        , 0.        , 0.        ,\n",
              "        0.        , 0.        , 0.        , 0.        , 0.        ,\n",
              "        0.        , 0.        , 0.        , 0.        , 0.        ,\n",
              "        0.        , 0.        , 0.        ],\n",
              "       [0.        , 0.        , 0.        , 0.        , 0.        ,\n",
              "        0.        , 0.        , 0.        , 0.        , 0.        ,\n",
              "        0.        , 0.        , 0.        , 0.        , 0.        ,\n",
              "        0.        , 0.        , 0.        , 0.        , 0.        ,\n",
              "        0.        , 0.        , 0.        , 0.        , 0.        ,\n",
              "        0.        , 0.        , 0.        ],\n",
              "       [0.        , 0.        , 0.        , 0.        , 0.        ,\n",
              "        0.        , 0.        , 0.        , 0.        , 0.        ,\n",
              "        0.        , 0.        , 0.        , 0.        , 0.        ,\n",
              "        0.        , 0.        , 0.        , 0.        , 0.        ,\n",
              "        0.        , 0.        , 0.        , 0.        , 0.        ,\n",
              "        0.        , 0.        , 0.        ],\n",
              "       [0.        , 0.        , 0.        , 0.        , 0.        ,\n",
              "        0.        , 0.        , 0.        , 0.        , 0.        ,\n",
              "        0.        , 0.        , 0.00392157, 0.        , 0.        ,\n",
              "        0.05098039, 0.28627452, 0.        , 0.        , 0.00392157,\n",
              "        0.01568628, 0.        , 0.        , 0.        , 0.        ,\n",
              "        0.00392157, 0.00392157, 0.        ],\n",
              "       [0.        , 0.        , 0.        , 0.        , 0.        ,\n",
              "        0.        , 0.        , 0.        , 0.        , 0.        ,\n",
              "        0.        , 0.        , 0.01176471, 0.        , 0.14117648,\n",
              "        0.53333336, 0.49803922, 0.24313726, 0.21176471, 0.        ,\n",
              "        0.        , 0.        , 0.00392157, 0.01176471, 0.01568628,\n",
              "        0.        , 0.        , 0.01176471],\n",
              "       [0.        , 0.        , 0.        , 0.        , 0.        ,\n",
              "        0.        , 0.        , 0.        , 0.        , 0.        ,\n",
              "        0.        , 0.        , 0.02352941, 0.        , 0.4       ,\n",
              "        0.8       , 0.6901961 , 0.5254902 , 0.5647059 , 0.48235294,\n",
              "        0.09019608, 0.        , 0.        , 0.        , 0.        ,\n",
              "        0.04705882, 0.03921569, 0.        ],\n",
              "       [0.        , 0.        , 0.        , 0.        , 0.        ,\n",
              "        0.        , 0.        , 0.        , 0.        , 0.        ,\n",
              "        0.        , 0.        , 0.        , 0.        , 0.60784316,\n",
              "        0.9254902 , 0.8117647 , 0.69803923, 0.41960785, 0.6117647 ,\n",
              "        0.6313726 , 0.42745098, 0.2509804 , 0.09019608, 0.3019608 ,\n",
              "        0.50980395, 0.28235295, 0.05882353],\n",
              "       [0.        , 0.        , 0.        , 0.        , 0.        ,\n",
              "        0.        , 0.        , 0.        , 0.        , 0.        ,\n",
              "        0.        , 0.00392157, 0.        , 0.27058825, 0.8117647 ,\n",
              "        0.8745098 , 0.85490197, 0.84705883, 0.84705883, 0.6392157 ,\n",
              "        0.49803922, 0.4745098 , 0.47843137, 0.57254905, 0.5529412 ,\n",
              "        0.34509805, 0.6745098 , 0.25882354],\n",
              "       [0.        , 0.        , 0.        , 0.        , 0.        ,\n",
              "        0.        , 0.        , 0.        , 0.        , 0.00392157,\n",
              "        0.00392157, 0.00392157, 0.        , 0.78431374, 0.9098039 ,\n",
              "        0.9098039 , 0.9137255 , 0.8980392 , 0.8745098 , 0.8745098 ,\n",
              "        0.84313726, 0.8352941 , 0.6431373 , 0.49803922, 0.48235294,\n",
              "        0.76862746, 0.8980392 , 0.        ],\n",
              "       [0.        , 0.        , 0.        , 0.        , 0.        ,\n",
              "        0.        , 0.        , 0.        , 0.        , 0.        ,\n",
              "        0.        , 0.        , 0.        , 0.7176471 , 0.88235295,\n",
              "        0.84705883, 0.8745098 , 0.89411765, 0.92156863, 0.8901961 ,\n",
              "        0.8784314 , 0.87058824, 0.8784314 , 0.8666667 , 0.8745098 ,\n",
              "        0.9607843 , 0.6784314 , 0.        ],\n",
              "       [0.        , 0.        , 0.        , 0.        , 0.        ,\n",
              "        0.        , 0.        , 0.        , 0.        , 0.        ,\n",
              "        0.        , 0.        , 0.        , 0.75686276, 0.89411765,\n",
              "        0.85490197, 0.8352941 , 0.7764706 , 0.7058824 , 0.83137256,\n",
              "        0.8235294 , 0.827451  , 0.8352941 , 0.8745098 , 0.8627451 ,\n",
              "        0.9529412 , 0.7921569 , 0.        ],\n",
              "       [0.        , 0.        , 0.        , 0.        , 0.        ,\n",
              "        0.        , 0.        , 0.        , 0.        , 0.00392157,\n",
              "        0.01176471, 0.        , 0.04705882, 0.85882354, 0.8627451 ,\n",
              "        0.83137256, 0.85490197, 0.7529412 , 0.6627451 , 0.8901961 ,\n",
              "        0.8156863 , 0.85490197, 0.8784314 , 0.83137256, 0.8862745 ,\n",
              "        0.77254903, 0.81960785, 0.20392157],\n",
              "       [0.        , 0.        , 0.        , 0.        , 0.        ,\n",
              "        0.        , 0.        , 0.        , 0.        , 0.        ,\n",
              "        0.02352941, 0.        , 0.3882353 , 0.95686275, 0.87058824,\n",
              "        0.8627451 , 0.85490197, 0.79607844, 0.7764706 , 0.8666667 ,\n",
              "        0.84313726, 0.8352941 , 0.87058824, 0.8627451 , 0.9607843 ,\n",
              "        0.46666667, 0.654902  , 0.21960784],\n",
              "       [0.        , 0.        , 0.        , 0.        , 0.        ,\n",
              "        0.        , 0.        , 0.        , 0.        , 0.01568628,\n",
              "        0.        , 0.        , 0.21568628, 0.9254902 , 0.89411765,\n",
              "        0.9019608 , 0.89411765, 0.9411765 , 0.9098039 , 0.8352941 ,\n",
              "        0.85490197, 0.8745098 , 0.91764706, 0.8509804 , 0.8509804 ,\n",
              "        0.81960785, 0.36078432, 0.        ],\n",
              "       [0.        , 0.        , 0.00392157, 0.01568628, 0.02352941,\n",
              "        0.02745098, 0.00784314, 0.        , 0.        , 0.        ,\n",
              "        0.        , 0.        , 0.92941177, 0.8862745 , 0.8509804 ,\n",
              "        0.8745098 , 0.87058824, 0.85882354, 0.87058824, 0.8666667 ,\n",
              "        0.84705883, 0.8745098 , 0.8980392 , 0.84313726, 0.85490197,\n",
              "        1.        , 0.3019608 , 0.        ],\n",
              "       [0.        , 0.01176471, 0.        , 0.        , 0.        ,\n",
              "        0.        , 0.        , 0.        , 0.        , 0.24313726,\n",
              "        0.5686275 , 0.8       , 0.89411765, 0.8117647 , 0.8352941 ,\n",
              "        0.8666667 , 0.85490197, 0.8156863 , 0.827451  , 0.85490197,\n",
              "        0.8784314 , 0.8745098 , 0.85882354, 0.84313726, 0.8784314 ,\n",
              "        0.95686275, 0.62352943, 0.        ],\n",
              "       [0.        , 0.        , 0.        , 0.        , 0.07058824,\n",
              "        0.17254902, 0.32156864, 0.41960785, 0.7411765 , 0.89411765,\n",
              "        0.8627451 , 0.87058824, 0.8509804 , 0.8862745 , 0.78431374,\n",
              "        0.8039216 , 0.827451  , 0.9019608 , 0.8784314 , 0.91764706,\n",
              "        0.6901961 , 0.7372549 , 0.98039216, 0.972549  , 0.9137255 ,\n",
              "        0.93333334, 0.84313726, 0.        ],\n",
              "       [0.        , 0.22352941, 0.73333335, 0.8156863 , 0.8784314 ,\n",
              "        0.8666667 , 0.8784314 , 0.8156863 , 0.8       , 0.8392157 ,\n",
              "        0.8156863 , 0.81960785, 0.78431374, 0.62352943, 0.9607843 ,\n",
              "        0.75686276, 0.80784315, 0.8745098 , 1.        , 1.        ,\n",
              "        0.8666667 , 0.91764706, 0.8666667 , 0.827451  , 0.8627451 ,\n",
              "        0.9098039 , 0.9647059 , 0.        ],\n",
              "       [0.01176471, 0.7921569 , 0.89411765, 0.8784314 , 0.8666667 ,\n",
              "        0.827451  , 0.827451  , 0.8392157 , 0.8039216 , 0.8039216 ,\n",
              "        0.8039216 , 0.8627451 , 0.9411765 , 0.3137255 , 0.5882353 ,\n",
              "        1.        , 0.8980392 , 0.8666667 , 0.7372549 , 0.6039216 ,\n",
              "        0.7490196 , 0.8235294 , 0.8       , 0.81960785, 0.87058824,\n",
              "        0.89411765, 0.88235295, 0.        ],\n",
              "       [0.38431373, 0.9137255 , 0.7764706 , 0.8235294 , 0.87058824,\n",
              "        0.8980392 , 0.8980392 , 0.91764706, 0.9764706 , 0.8627451 ,\n",
              "        0.7607843 , 0.84313726, 0.8509804 , 0.94509804, 0.25490198,\n",
              "        0.28627452, 0.41568628, 0.45882353, 0.65882355, 0.85882354,\n",
              "        0.8666667 , 0.84313726, 0.8509804 , 0.8745098 , 0.8745098 ,\n",
              "        0.8784314 , 0.8980392 , 0.11372549],\n",
              "       [0.29411766, 0.8       , 0.83137256, 0.8       , 0.75686276,\n",
              "        0.8039216 , 0.827451  , 0.88235295, 0.84705883, 0.7254902 ,\n",
              "        0.77254903, 0.80784315, 0.7764706 , 0.8352941 , 0.9411765 ,\n",
              "        0.7647059 , 0.8901961 , 0.9607843 , 0.9372549 , 0.8745098 ,\n",
              "        0.85490197, 0.83137256, 0.81960785, 0.87058824, 0.8627451 ,\n",
              "        0.8666667 , 0.9019608 , 0.2627451 ],\n",
              "       [0.1882353 , 0.79607844, 0.7176471 , 0.7607843 , 0.8352941 ,\n",
              "        0.77254903, 0.7254902 , 0.74509805, 0.7607843 , 0.7529412 ,\n",
              "        0.7921569 , 0.8392157 , 0.85882354, 0.8666667 , 0.8627451 ,\n",
              "        0.9254902 , 0.88235295, 0.84705883, 0.78039217, 0.80784315,\n",
              "        0.7294118 , 0.70980394, 0.69411767, 0.6745098 , 0.70980394,\n",
              "        0.8039216 , 0.80784315, 0.4509804 ],\n",
              "       [0.        , 0.47843137, 0.85882354, 0.75686276, 0.7019608 ,\n",
              "        0.67058825, 0.7176471 , 0.76862746, 0.8       , 0.8235294 ,\n",
              "        0.8352941 , 0.8117647 , 0.827451  , 0.8235294 , 0.78431374,\n",
              "        0.76862746, 0.7607843 , 0.7490196 , 0.7647059 , 0.7490196 ,\n",
              "        0.7764706 , 0.7529412 , 0.6901961 , 0.6117647 , 0.654902  ,\n",
              "        0.69411767, 0.8235294 , 0.36078432],\n",
              "       [0.        , 0.        , 0.2901961 , 0.7411765 , 0.83137256,\n",
              "        0.7490196 , 0.6862745 , 0.6745098 , 0.6862745 , 0.70980394,\n",
              "        0.7254902 , 0.7372549 , 0.7411765 , 0.7372549 , 0.75686276,\n",
              "        0.7764706 , 0.8       , 0.81960785, 0.8235294 , 0.8235294 ,\n",
              "        0.827451  , 0.7372549 , 0.7372549 , 0.7607843 , 0.7529412 ,\n",
              "        0.84705883, 0.6666667 , 0.        ],\n",
              "       [0.00784314, 0.        , 0.        , 0.        , 0.25882354,\n",
              "        0.78431374, 0.87058824, 0.92941177, 0.9372549 , 0.9490196 ,\n",
              "        0.9647059 , 0.9529412 , 0.95686275, 0.8666667 , 0.8627451 ,\n",
              "        0.75686276, 0.7490196 , 0.7019608 , 0.7137255 , 0.7137255 ,\n",
              "        0.70980394, 0.6901961 , 0.6509804 , 0.65882355, 0.3882353 ,\n",
              "        0.22745098, 0.        , 0.        ],\n",
              "       [0.        , 0.        , 0.        , 0.        , 0.        ,\n",
              "        0.        , 0.        , 0.15686275, 0.23921569, 0.17254902,\n",
              "        0.28235295, 0.16078432, 0.13725491, 0.        , 0.        ,\n",
              "        0.        , 0.        , 0.        , 0.        , 0.        ,\n",
              "        0.        , 0.        , 0.        , 0.        , 0.        ,\n",
              "        0.        , 0.        , 0.        ],\n",
              "       [0.        , 0.        , 0.        , 0.        , 0.        ,\n",
              "        0.        , 0.        , 0.        , 0.        , 0.        ,\n",
              "        0.        , 0.        , 0.        , 0.        , 0.        ,\n",
              "        0.        , 0.        , 0.        , 0.        , 0.        ,\n",
              "        0.        , 0.        , 0.        , 0.        , 0.        ,\n",
              "        0.        , 0.        , 0.        ],\n",
              "       [0.        , 0.        , 0.        , 0.        , 0.        ,\n",
              "        0.        , 0.        , 0.        , 0.        , 0.        ,\n",
              "        0.        , 0.        , 0.        , 0.        , 0.        ,\n",
              "        0.        , 0.        , 0.        , 0.        , 0.        ,\n",
              "        0.        , 0.        , 0.        , 0.        , 0.        ,\n",
              "        0.        , 0.        , 0.        ]], dtype=float32)"
            ]
          },
          "metadata": {},
          "execution_count": 11
        }
      ]
    },
    {
      "cell_type": "markdown",
      "source": [
        "# Sequential API\n",
        "Dense Layer를 기반으로 모델을 생성"
      ],
      "metadata": {
        "id": "qGXpE_C9GaX1"
      }
    },
    {
      "cell_type": "code",
      "source": [
        "INPUT_SIZE = 28 "
      ],
      "metadata": {
        "execution": {
          "iopub.status.busy": "2022-02-13T23:30:14.774840Z",
          "iopub.execute_input": "2022-02-13T23:30:14.775710Z",
          "iopub.status.idle": "2022-02-13T23:30:14.782799Z",
          "shell.execute_reply.started": "2022-02-13T23:30:14.775662Z",
          "shell.execute_reply": "2022-02-13T23:30:14.781991Z"
        },
        "trusted": true,
        "id": "HbmeknGHGaX1"
      },
      "execution_count": null,
      "outputs": []
    },
    {
      "cell_type": "code",
      "source": [
        "from tensorflow.keras.layers import Dense, Flatten\n",
        "from tensorflow.keras.models import Sequential\n",
        "\n",
        "model = Sequential([\n",
        "    Flatten(input_shape=(INPUT_SIZE, INPUT_SIZE)),# H*W = 28, 28\n",
        "    Dense(100, activation='relu'),\n",
        "    Dense(30, activation='relu'),\n",
        "    Dense(10, activation='softmax')\n",
        "])\n",
        "\n",
        "model.summary()\n"
      ],
      "metadata": {
        "execution": {
          "iopub.status.busy": "2022-02-13T23:30:14.799676Z",
          "iopub.execute_input": "2022-02-13T23:30:14.799996Z",
          "iopub.status.idle": "2022-02-13T23:30:14.842307Z",
          "shell.execute_reply.started": "2022-02-13T23:30:14.799965Z",
          "shell.execute_reply": "2022-02-13T23:30:14.841543Z"
        },
        "trusted": true,
        "colab": {
          "base_uri": "https://localhost:8080/"
        },
        "id": "3xhbeDpFGaX2",
        "outputId": "90ff817e-cd65-469d-fb16-2c1a7ef849d1"
      },
      "execution_count": null,
      "outputs": [
        {
          "output_type": "stream",
          "name": "stdout",
          "text": [
            "Model: \"sequential\"\n",
            "_________________________________________________________________\n",
            " Layer (type)                Output Shape              Param #   \n",
            "=================================================================\n",
            " flatten (Flatten)           (None, 784)               0         \n",
            "                                                                 \n",
            " dense (Dense)               (None, 100)               78500     \n",
            "                                                                 \n",
            " dense_1 (Dense)             (None, 30)                3030      \n",
            "                                                                 \n",
            " dense_2 (Dense)             (None, 10)                310       \n",
            "                                                                 \n",
            "=================================================================\n",
            "Total params: 81,840\n",
            "Trainable params: 81,840\n",
            "Non-trainable params: 0\n",
            "_________________________________________________________________\n"
          ]
        }
      ]
    },
    {
      "cell_type": "markdown",
      "source": [
        "## 모델의 Loss와 Optimizer 설정하고 학습 수행\n",
        "* loss는 categorical_crossentropy로, optimizer는 Adam으로 설정\n",
        "* categorical crossentropy를 위해서 Lable을 OHE 로 변경"
      ],
      "metadata": {
        "id": "m_C3x7SlGaX2"
      }
    },
    {
      "cell_type": "code",
      "source": [
        "from tensorflow.keras.optimizers import Adam\n",
        "from tensorflow.keras.losses import CategoricalCrossentropy\n",
        "from tensorflow.keras.metrics import Accuracy\n",
        "\n",
        "model.compile(optimizer=Adam(0.001), loss='categorical_crossentropy', metrics=['accuracy'])"
      ],
      "metadata": {
        "execution": {
          "iopub.status.busy": "2022-02-13T23:30:15.097306Z",
          "iopub.execute_input": "2022-02-13T23:30:15.097574Z",
          "iopub.status.idle": "2022-02-13T23:30:15.107910Z",
          "shell.execute_reply.started": "2022-02-13T23:30:15.097545Z",
          "shell.execute_reply": "2022-02-13T23:30:15.106945Z"
        },
        "trusted": true,
        "id": "MgF33CkWGaX2"
      },
      "execution_count": null,
      "outputs": []
    },
    {
      "cell_type": "code",
      "source": [
        "from tensorflow.keras.utils import to_categorical\n",
        "from sklearn.preprocessing import OneHotEncoder\n",
        "\n",
        "train_labels_categorical = to_categorical(train_labels_preprocessed)  \n",
        "test_labels_categorical = to_categorical(test_labels_preprocessed)\n",
        "\n",
        "print(train_labels_preprocessed.shape, train_labels_categorical.shape)"
      ],
      "metadata": {
        "execution": {
          "iopub.status.busy": "2022-02-13T23:32:50.057801Z",
          "iopub.execute_input": "2022-02-13T23:32:50.058438Z",
          "iopub.status.idle": "2022-02-13T23:32:50.065688Z",
          "shell.execute_reply.started": "2022-02-13T23:32:50.058393Z",
          "shell.execute_reply": "2022-02-13T23:32:50.065084Z"
        },
        "trusted": true,
        "colab": {
          "base_uri": "https://localhost:8080/"
        },
        "id": "wYTG6IswGaX3",
        "outputId": "0e10043f-a34b-48c0-8062-24b9a3ed9778"
      },
      "execution_count": null,
      "outputs": [
        {
          "output_type": "stream",
          "name": "stdout",
          "text": [
            "(60000,) (60000, 10)\n"
          ]
        }
      ]
    },
    {
      "cell_type": "code",
      "source": [
        "history = model.fit(x=train_images_preprocessed, y=train_labels_categorical, batch_size=6000, epochs=20, verbose=1)"
      ],
      "metadata": {
        "execution": {
          "iopub.status.busy": "2022-02-13T23:36:52.989633Z",
          "iopub.execute_input": "2022-02-13T23:36:52.989927Z",
          "iopub.status.idle": "2022-02-13T23:36:59.698181Z",
          "shell.execute_reply.started": "2022-02-13T23:36:52.989899Z",
          "shell.execute_reply": "2022-02-13T23:36:59.697285Z"
        },
        "trusted": true,
        "colab": {
          "base_uri": "https://localhost:8080/"
        },
        "id": "Zf3qhrXFGaX3",
        "outputId": "9582783a-aeab-44c8-acb4-2abba18e4398"
      },
      "execution_count": null,
      "outputs": [
        {
          "output_type": "stream",
          "name": "stdout",
          "text": [
            "Epoch 1/20\n",
            "10/10 [==============================] - 2s 65ms/step - loss: 1.9258 - accuracy: 0.3793\n",
            "Epoch 2/20\n",
            "10/10 [==============================] - 1s 63ms/step - loss: 1.2127 - accuracy: 0.6603\n",
            "Epoch 3/20\n",
            "10/10 [==============================] - 1s 64ms/step - loss: 0.8356 - accuracy: 0.7368\n",
            "Epoch 4/20\n",
            "10/10 [==============================] - 1s 65ms/step - loss: 0.6730 - accuracy: 0.7789\n",
            "Epoch 5/20\n",
            "10/10 [==============================] - 1s 62ms/step - loss: 0.5936 - accuracy: 0.8035\n",
            "Epoch 6/20\n",
            "10/10 [==============================] - 1s 61ms/step - loss: 0.5456 - accuracy: 0.8199\n",
            "Epoch 7/20\n",
            "10/10 [==============================] - 1s 60ms/step - loss: 0.5145 - accuracy: 0.8282\n",
            "Epoch 8/20\n",
            "10/10 [==============================] - 1s 61ms/step - loss: 0.4922 - accuracy: 0.8335\n",
            "Epoch 9/20\n",
            "10/10 [==============================] - 1s 61ms/step - loss: 0.4753 - accuracy: 0.8389\n",
            "Epoch 10/20\n",
            "10/10 [==============================] - 1s 59ms/step - loss: 0.4625 - accuracy: 0.8429\n",
            "Epoch 11/20\n",
            "10/10 [==============================] - 1s 61ms/step - loss: 0.4490 - accuracy: 0.8474\n",
            "Epoch 12/20\n",
            "10/10 [==============================] - 1s 59ms/step - loss: 0.4379 - accuracy: 0.8502\n",
            "Epoch 13/20\n",
            "10/10 [==============================] - 1s 61ms/step - loss: 0.4279 - accuracy: 0.8544\n",
            "Epoch 14/20\n",
            "10/10 [==============================] - 1s 59ms/step - loss: 0.4216 - accuracy: 0.8558\n",
            "Epoch 15/20\n",
            "10/10 [==============================] - 1s 59ms/step - loss: 0.4138 - accuracy: 0.8596\n",
            "Epoch 16/20\n",
            "10/10 [==============================] - 1s 61ms/step - loss: 0.4053 - accuracy: 0.8600\n",
            "Epoch 17/20\n",
            "10/10 [==============================] - 1s 60ms/step - loss: 0.3978 - accuracy: 0.8640\n",
            "Epoch 18/20\n",
            "10/10 [==============================] - 1s 61ms/step - loss: 0.3921 - accuracy: 0.8658\n",
            "Epoch 19/20\n",
            "10/10 [==============================] - 1s 59ms/step - loss: 0.3871 - accuracy: 0.8663\n",
            "Epoch 20/20\n",
            "10/10 [==============================] - 1s 62ms/step - loss: 0.3838 - accuracy: 0.8671\n"
          ]
        }
      ]
    },
    {
      "cell_type": "code",
      "source": [
        "print(history.history['loss'])\n",
        "print(history.history['accuracy'])"
      ],
      "metadata": {
        "execution": {
          "iopub.status.busy": "2022-02-13T23:37:43.792741Z",
          "iopub.execute_input": "2022-02-13T23:37:43.793060Z",
          "iopub.status.idle": "2022-02-13T23:37:43.799630Z",
          "shell.execute_reply.started": "2022-02-13T23:37:43.793029Z",
          "shell.execute_reply": "2022-02-13T23:37:43.798482Z"
        },
        "trusted": true,
        "colab": {
          "base_uri": "https://localhost:8080/"
        },
        "id": "prWDiehaGaX4",
        "outputId": "ed77dc16-67c9-4636-e2f9-d8bb46215b9d"
      },
      "execution_count": null,
      "outputs": [
        {
          "output_type": "stream",
          "name": "stdout",
          "text": [
            "[1.9257830381393433, 1.212712287902832, 0.8355503082275391, 0.6730321645736694, 0.5936217308044434, 0.5456368923187256, 0.5144825577735901, 0.4922165870666504, 0.4753410220146179, 0.462483286857605, 0.44902467727661133, 0.43794310092926025, 0.42787444591522217, 0.4216366410255432, 0.4138382375240326, 0.40525779128074646, 0.39778926968574524, 0.3920687735080719, 0.3871465027332306, 0.38375845551490784]\n",
            "[0.3792833387851715, 0.6602500081062317, 0.7368000149726868, 0.7788833379745483, 0.8035333156585693, 0.8199499845504761, 0.828166663646698, 0.8335166573524475, 0.8389000296592712, 0.8428500294685364, 0.8474166393280029, 0.8501666784286499, 0.854366660118103, 0.8557999730110168, 0.85958331823349, 0.8600166440010071, 0.8640333414077759, 0.8658499717712402, 0.8663166761398315, 0.8671166896820068]\n"
          ]
        }
      ]
    },
    {
      "cell_type": "markdown",
      "source": [
        "## 테스트 데이터를 기반으로 Label 값 예측 및 성능 검증\n",
        "\n",
        "* model.predict()를 이용하여 label값 예측\n",
        "* predict()의 인자로 입력되는 feature array는 학습의 feature array와 shape가 동일해야함. \n",
        "* fit() 시 3차원(28x28 2차원 array가 여러개 존재) array 입력 했으므로 predict()도 동일한 3차원 데이터 입력\n",
        "* 특히 한건만 predict() 할때도 3차원 데이터여야 함. 이를 위해 expand_dims()로 2차원 image 배열을 3차원으로 변경"
      ],
      "metadata": {
        "id": "04zH0HjCGaX4"
      }
    },
    {
      "cell_type": "code",
      "source": [
        "test_images_preprocessed.shape"
      ],
      "metadata": {
        "execution": {
          "iopub.status.busy": "2022-02-13T23:57:22.787922Z",
          "iopub.execute_input": "2022-02-13T23:57:22.788244Z",
          "iopub.status.idle": "2022-02-13T23:57:22.794312Z",
          "shell.execute_reply.started": "2022-02-13T23:57:22.788213Z",
          "shell.execute_reply": "2022-02-13T23:57:22.793750Z"
        },
        "trusted": true,
        "colab": {
          "base_uri": "https://localhost:8080/"
        },
        "id": "qxUJnGgtGaX5",
        "outputId": "583c91e5-384a-405b-ba1a-2e8523d9a441"
      },
      "execution_count": null,
      "outputs": [
        {
          "output_type": "execute_result",
          "data": {
            "text/plain": [
              "(10000, 28, 28)"
            ]
          },
          "metadata": {},
          "execution_count": 20
        }
      ]
    },
    {
      "cell_type": "code",
      "source": [
        "pred_proba = model.predict(test_images_preprocessed)\n",
        "print(pred_proba.shape)\n",
        "pred_proba[0]"
      ],
      "metadata": {
        "execution": {
          "iopub.status.busy": "2022-02-13T23:58:11.017078Z",
          "iopub.execute_input": "2022-02-13T23:58:11.017361Z",
          "iopub.status.idle": "2022-02-13T23:58:11.431992Z",
          "shell.execute_reply.started": "2022-02-13T23:58:11.017333Z",
          "shell.execute_reply": "2022-02-13T23:58:11.430896Z"
        },
        "trusted": true,
        "colab": {
          "base_uri": "https://localhost:8080/"
        },
        "id": "vfUWX_D2GaX5",
        "outputId": "f0d046ef-5d08-4ddf-f9f9-973021e21832"
      },
      "execution_count": null,
      "outputs": [
        {
          "output_type": "stream",
          "name": "stdout",
          "text": [
            "(10000, 10)\n"
          ]
        },
        {
          "output_type": "execute_result",
          "data": {
            "text/plain": [
              "array([6.5630025e-05, 9.5612722e-06, 1.0036639e-04, 2.5331263e-05,\n",
              "       2.8664606e-05, 6.4964436e-02, 2.9865774e-05, 1.1638671e-01,\n",
              "       3.3215969e-03, 8.1506783e-01], dtype=float32)"
            ]
          },
          "metadata": {},
          "execution_count": 21
        }
      ]
    },
    {
      "cell_type": "code",
      "source": [
        "np.expand_dims(test_images_preprocessed[0], axis=0).shape"
      ],
      "metadata": {
        "execution": {
          "iopub.status.busy": "2022-02-14T00:01:05.484481Z",
          "iopub.execute_input": "2022-02-14T00:01:05.484816Z",
          "iopub.status.idle": "2022-02-14T00:01:05.492288Z",
          "shell.execute_reply.started": "2022-02-14T00:01:05.484779Z",
          "shell.execute_reply": "2022-02-14T00:01:05.491313Z"
        },
        "trusted": true,
        "colab": {
          "base_uri": "https://localhost:8080/"
        },
        "id": "cWCBdFEnGaX5",
        "outputId": "79d097ec-312d-42f7-9abb-87c3a602d69c"
      },
      "execution_count": null,
      "outputs": [
        {
          "output_type": "execute_result",
          "data": {
            "text/plain": [
              "(1, 28, 28)"
            ]
          },
          "metadata": {},
          "execution_count": 22
        }
      ]
    },
    {
      "cell_type": "code",
      "source": [
        "pred_proba = model.predict(np.expand_dims(test_images_preprocessed[0], axis=0))\n",
        "print('softmax output:', pred_proba)\n",
        "\n",
        "pred = np.squeeze(pred_proba)\n",
        "print(pred.shape)\n",
        "print('predicted class value:', np.argmax(pred))\n",
        "\n",
        "pred = pred_proba\n",
        "print(pred.shape)\n",
        "print('predicted class value:', np.argmax(pred))"
      ],
      "metadata": {
        "execution": {
          "iopub.status.busy": "2022-02-14T00:04:32.072710Z",
          "iopub.execute_input": "2022-02-14T00:04:32.073203Z",
          "iopub.status.idle": "2022-02-14T00:04:32.135184Z",
          "shell.execute_reply.started": "2022-02-14T00:04:32.073171Z",
          "shell.execute_reply": "2022-02-14T00:04:32.134205Z"
        },
        "trusted": true,
        "colab": {
          "base_uri": "https://localhost:8080/"
        },
        "id": "wn2fU7IDGaX6",
        "outputId": "19941486-3f91-446d-daae-e64459fc9011"
      },
      "execution_count": null,
      "outputs": [
        {
          "output_type": "stream",
          "name": "stdout",
          "text": [
            "softmax output: [[6.5629938e-05 9.5612877e-06 1.0036627e-04 2.5331232e-05 2.8664599e-05\n",
            "  6.4964540e-02 2.9865736e-05 1.1638682e-01 3.3215974e-03 8.1506759e-01]]\n",
            "(10,)\n",
            "predicted class value: 9\n",
            "(1, 10)\n",
            "predicted class value: 9\n"
          ]
        }
      ]
    },
    {
      "cell_type": "code",
      "source": [
        "class_names = ['T-shirt/top', 'Trouser', 'Pullover', 'Dress', 'Coat','Sandal', 'Shirt', 'Sneaker', 'Bag', 'Ankle boot']\n",
        "print('target class value:', test_labels[0], 'predicted class value:', pred)"
      ],
      "metadata": {
        "execution": {
          "iopub.status.busy": "2022-02-14T00:06:08.262479Z",
          "iopub.execute_input": "2022-02-14T00:06:08.263367Z",
          "iopub.status.idle": "2022-02-14T00:06:08.270368Z",
          "shell.execute_reply.started": "2022-02-14T00:06:08.263321Z",
          "shell.execute_reply": "2022-02-14T00:06:08.269673Z"
        },
        "trusted": true,
        "colab": {
          "base_uri": "https://localhost:8080/"
        },
        "id": "gxv2nhzKGaX6",
        "outputId": "204750bb-ebd8-431c-b699-1c636277d9e4"
      },
      "execution_count": null,
      "outputs": [
        {
          "output_type": "stream",
          "name": "stdout",
          "text": [
            "target class value: 9 predicted class value: [[6.5629938e-05 9.5612877e-06 1.0036627e-04 2.5331232e-05 2.8664599e-05\n",
            "  6.4964540e-02 2.9865736e-05 1.1638682e-01 3.3215974e-03 8.1506759e-01]]\n"
          ]
        }
      ]
    },
    {
      "cell_type": "markdown",
      "source": [
        "**테스트 데이터 세트로 모델 성능 검증**"
      ],
      "metadata": {
        "id": "qCF1mOpDGaX6"
      }
    },
    {
      "cell_type": "code",
      "source": [
        "model.evaluate(test_images, test_labels_categorical, batch_size=100)"
      ],
      "metadata": {
        "execution": {
          "iopub.status.busy": "2022-02-14T00:07:25.668360Z",
          "iopub.execute_input": "2022-02-14T00:07:25.668797Z",
          "iopub.status.idle": "2022-02-14T00:07:26.088841Z",
          "shell.execute_reply.started": "2022-02-14T00:07:25.668753Z",
          "shell.execute_reply": "2022-02-14T00:07:26.088064Z"
        },
        "trusted": true,
        "colab": {
          "base_uri": "https://localhost:8080/"
        },
        "id": "zM0q8BN9GaX6",
        "outputId": "b37ed6e5-e19a-47c0-faef-190003aae4bf"
      },
      "execution_count": null,
      "outputs": [
        {
          "output_type": "stream",
          "name": "stdout",
          "text": [
            "100/100 [==============================] - 0s 2ms/step - loss: 61.3089 - accuracy: 0.8404\n"
          ]
        },
        {
          "output_type": "execute_result",
          "data": {
            "text/plain": [
              "[61.30891799926758, 0.840399980545044]"
            ]
          },
          "metadata": {},
          "execution_count": 25
        }
      ]
    },
    {
      "cell_type": "markdown",
      "source": [
        "## 검증 데이터 세트를 이용하여 학습 수행. \n",
        "* 일반적으로 fit() 수행시 별도의 검증 데이터 세트를 이용하여 학습 시 과적합(Overfitting)이 발생하는지 모니터링\n",
        "* fit()을 수행하면 iteration을 반복하기 때문에 중간에 하이퍼파라미터 변경(예: Learning Rate)등의 작업이 어려움. \n",
        "* fit() iteration시 여러 작업을 하기 위해 Callback 객체를 가짐. \n",
        "* 검증 데이터 세트를 fit() 시 적용하여 과적합이나 더이상 검증 데이터 성능이 좋아 지지 않을 때 Callback을 사용하여 Learning Rate 보정 작업등을 수행 가능"
      ],
      "metadata": {
        "id": "vg7u-GwTGaX6"
      }
    },
    {
      "cell_type": "code",
      "source": [
        "import numpy as np \n",
        "import pandas as pd\n",
        "from tensorflow.keras.datasets import fashion_mnist\n",
        "\n",
        "(train_images, train_labels), (test_images, test_labels) = fashion_mnist.load_data()\n",
        "\n",
        "def get_preprocessed_data(images, labels):\n",
        "    \n",
        "    # 학습과 테스트 이미지 array를 0~1 사이값으로 scale 및 float32 형 변형. \n",
        "    images = np.array(images/255.0, dtype=np.float32)\n",
        "    labels = np.array(labels, dtype=np.float32)\n",
        "    \n",
        "    return images, labels\n",
        "\n",
        "train_images, train_labels = get_preprocessed_data(train_images, train_labels)\n",
        "test_images, test_labels = get_preprocessed_data(test_images, test_labels)"
      ],
      "metadata": {
        "execution": {
          "iopub.status.busy": "2022-02-14T00:13:11.117802Z",
          "iopub.execute_input": "2022-02-14T00:13:11.118144Z",
          "iopub.status.idle": "2022-02-14T00:13:17.947784Z",
          "shell.execute_reply.started": "2022-02-14T00:13:11.118057Z",
          "shell.execute_reply": "2022-02-14T00:13:17.947046Z"
        },
        "trusted": true,
        "id": "QlC4oBgwGaX7"
      },
      "execution_count": null,
      "outputs": []
    },
    {
      "cell_type": "code",
      "source": [
        "from sklearn.model_selection import train_test_split\n",
        "from tensorflow.keras.utils import to_categorical\n",
        "\n",
        "# 기존 학습 데이터를 다시 학습과 검증 데이터 세트로 분리\n",
        "tr_images, val_images, tr_labels, val_labels = train_test_split(train_images, train_labels, test_size=0.15, random_state=2022, shuffle=True)\n",
        "print('train과 validation shape:', tr_images.shape, tr_labels.shape, val_images.shape, val_labels.shape)\n",
        "\n",
        "# OHE 적용\n",
        "tr_oh_labels = to_categorical(tr_labels)\n",
        "val_oh_labels = to_categorical(val_labels)\n",
        "\n",
        "print('after OHE:', tr_oh_labels.shape, val_oh_labels.shape)"
      ],
      "metadata": {
        "execution": {
          "iopub.status.busy": "2022-02-14T00:14:51.997520Z",
          "iopub.execute_input": "2022-02-14T00:14:51.997936Z",
          "iopub.status.idle": "2022-02-14T00:14:52.116299Z",
          "shell.execute_reply.started": "2022-02-14T00:14:51.997896Z",
          "shell.execute_reply": "2022-02-14T00:14:52.115021Z"
        },
        "trusted": true,
        "colab": {
          "base_uri": "https://localhost:8080/"
        },
        "id": "MAN0FC1rGaX7",
        "outputId": "8ead04a9-1f9c-4cbc-a471-c90fe1ae0bea"
      },
      "execution_count": null,
      "outputs": [
        {
          "output_type": "stream",
          "name": "stdout",
          "text": [
            "train과 validation shape: (51000, 28, 28) (51000,) (9000, 28, 28) (9000,)\n",
            "after OHE: (51000, 10) (9000, 10)\n"
          ]
        }
      ]
    },
    {
      "cell_type": "code",
      "source": [
        "from tensorflow.keras.layers import Dense, Flatten\n",
        "from tensorflow.keras.models import Sequential\n",
        "from tensorflow.keras.optimizers import Adam\n",
        "\n",
        "INPUT_SIZE = 28\n",
        "model = Sequential([\n",
        "    Flatten(input_shape=(INPUT_SIZE, INPUT_SIZE)),\n",
        "    Dense(100, activation='relu'),\n",
        "    Dense(30, activation='relu'),\n",
        "    Dense(10, activation='softmax')\n",
        "])\n",
        "\n",
        "model.compile(optimizer=Adam(0.001), loss='categorical_crossentropy', metrics=['accuracy'])"
      ],
      "metadata": {
        "execution": {
          "iopub.status.busy": "2022-02-14T00:18:57.218802Z",
          "iopub.execute_input": "2022-02-14T00:18:57.219088Z",
          "iopub.status.idle": "2022-02-14T00:18:57.256051Z",
          "shell.execute_reply.started": "2022-02-14T00:18:57.219055Z",
          "shell.execute_reply": "2022-02-14T00:18:57.255389Z"
        },
        "trusted": true,
        "id": "2ARV3A4hGaX7"
      },
      "execution_count": null,
      "outputs": []
    },
    {
      "cell_type": "code",
      "source": [
        "history = model.fit(x=tr_images, y=tr_oh_labels, batch_size=500, validation_data=(val_images, val_oh_labels), \n",
        "                    epochs=20, verbose=1)"
      ],
      "metadata": {
        "execution": {
          "iopub.status.busy": "2022-02-14T00:18:57.579106Z",
          "iopub.execute_input": "2022-02-14T00:18:57.579579Z",
          "iopub.status.idle": "2022-02-14T00:19:08.384796Z",
          "shell.execute_reply.started": "2022-02-14T00:18:57.579545Z",
          "shell.execute_reply": "2022-02-14T00:19:08.384041Z"
        },
        "trusted": true,
        "colab": {
          "base_uri": "https://localhost:8080/"
        },
        "id": "aZ-OinWeGaX7",
        "outputId": "9330ba9d-e3ef-4b81-f89d-5392a7bbac30"
      },
      "execution_count": null,
      "outputs": [
        {
          "output_type": "stream",
          "name": "stdout",
          "text": [
            "Epoch 1/20\n",
            "102/102 [==============================] - 2s 10ms/step - loss: 0.8058 - accuracy: 0.7351 - val_loss: 0.5141 - val_accuracy: 0.8249\n",
            "Epoch 2/20\n",
            "102/102 [==============================] - 1s 10ms/step - loss: 0.4802 - accuracy: 0.8347 - val_loss: 0.4434 - val_accuracy: 0.8494\n",
            "Epoch 3/20\n",
            "102/102 [==============================] - 1s 13ms/step - loss: 0.4298 - accuracy: 0.8505 - val_loss: 0.4223 - val_accuracy: 0.8556\n",
            "Epoch 4/20\n",
            "102/102 [==============================] - 2s 16ms/step - loss: 0.4022 - accuracy: 0.8588 - val_loss: 0.3879 - val_accuracy: 0.8651\n",
            "Epoch 5/20\n",
            "102/102 [==============================] - 2s 18ms/step - loss: 0.3766 - accuracy: 0.8696 - val_loss: 0.3987 - val_accuracy: 0.8617\n",
            "Epoch 6/20\n",
            "102/102 [==============================] - 2s 18ms/step - loss: 0.3670 - accuracy: 0.8705 - val_loss: 0.3660 - val_accuracy: 0.8734\n",
            "Epoch 7/20\n",
            "102/102 [==============================] - 1s 12ms/step - loss: 0.3492 - accuracy: 0.8782 - val_loss: 0.3562 - val_accuracy: 0.8726\n",
            "Epoch 8/20\n",
            "102/102 [==============================] - 2s 18ms/step - loss: 0.3378 - accuracy: 0.8800 - val_loss: 0.3571 - val_accuracy: 0.8744\n",
            "Epoch 9/20\n",
            "102/102 [==============================] - 2s 16ms/step - loss: 0.3282 - accuracy: 0.8838 - val_loss: 0.3563 - val_accuracy: 0.8750\n",
            "Epoch 10/20\n",
            "102/102 [==============================] - 1s 13ms/step - loss: 0.3162 - accuracy: 0.8867 - val_loss: 0.3473 - val_accuracy: 0.8787\n",
            "Epoch 11/20\n",
            "102/102 [==============================] - 1s 12ms/step - loss: 0.3119 - accuracy: 0.8886 - val_loss: 0.3579 - val_accuracy: 0.8673\n",
            "Epoch 12/20\n",
            "102/102 [==============================] - 1s 12ms/step - loss: 0.3014 - accuracy: 0.8922 - val_loss: 0.3461 - val_accuracy: 0.8761\n",
            "Epoch 13/20\n",
            "102/102 [==============================] - 1s 12ms/step - loss: 0.2981 - accuracy: 0.8933 - val_loss: 0.3528 - val_accuracy: 0.8740\n",
            "Epoch 14/20\n",
            "102/102 [==============================] - 1s 11ms/step - loss: 0.2860 - accuracy: 0.8967 - val_loss: 0.3437 - val_accuracy: 0.8779\n",
            "Epoch 15/20\n",
            "102/102 [==============================] - 1s 11ms/step - loss: 0.2861 - accuracy: 0.8960 - val_loss: 0.3244 - val_accuracy: 0.8868\n",
            "Epoch 16/20\n",
            "102/102 [==============================] - 2s 15ms/step - loss: 0.2814 - accuracy: 0.8970 - val_loss: 0.3259 - val_accuracy: 0.8842\n",
            "Epoch 17/20\n",
            "102/102 [==============================] - 1s 13ms/step - loss: 0.2763 - accuracy: 0.9002 - val_loss: 0.3231 - val_accuracy: 0.8846\n",
            "Epoch 18/20\n",
            "102/102 [==============================] - 1s 13ms/step - loss: 0.2646 - accuracy: 0.9041 - val_loss: 0.3212 - val_accuracy: 0.8858\n",
            "Epoch 19/20\n",
            "102/102 [==============================] - 1s 13ms/step - loss: 0.2611 - accuracy: 0.9059 - val_loss: 0.3206 - val_accuracy: 0.8869\n",
            "Epoch 20/20\n",
            "102/102 [==============================] - 1s 13ms/step - loss: 0.2561 - accuracy: 0.9072 - val_loss: 0.3278 - val_accuracy: 0.8867\n"
          ]
        }
      ]
    },
    {
      "cell_type": "code",
      "source": [
        "print(history.history['loss'])\n",
        "print(history.history['accuracy'])\n",
        "print(history.history['val_loss'])\n",
        "print(history.history['val_accuracy'])"
      ],
      "metadata": {
        "execution": {
          "iopub.status.busy": "2022-02-14T00:19:36.189839Z",
          "iopub.execute_input": "2022-02-14T00:19:36.190323Z",
          "iopub.status.idle": "2022-02-14T00:19:36.196653Z",
          "shell.execute_reply.started": "2022-02-14T00:19:36.190282Z",
          "shell.execute_reply": "2022-02-14T00:19:36.195661Z"
        },
        "trusted": true,
        "colab": {
          "base_uri": "https://localhost:8080/"
        },
        "id": "RC8BegcQGaX8",
        "outputId": "25c29bd5-09cf-44d4-83de-f29c07131fcf"
      },
      "execution_count": null,
      "outputs": [
        {
          "output_type": "stream",
          "name": "stdout",
          "text": [
            "[0.8057830929756165, 0.48020100593566895, 0.4297860860824585, 0.40220266580581665, 0.3765764534473419, 0.3670196831226349, 0.34917762875556946, 0.33777281641960144, 0.32817310094833374, 0.31622371077537537, 0.31189385056495667, 0.3014010488986969, 0.2981167137622833, 0.2860231101512909, 0.2861180305480957, 0.2814403474330902, 0.27632051706314087, 0.26455000042915344, 0.26107585430145264, 0.25608325004577637]\n",
            "[0.7351176738739014, 0.8347451090812683, 0.8504902124404907, 0.8588431477546692, 0.8696274757385254, 0.8704705834388733, 0.878156840801239, 0.8799803853034973, 0.8837646842002869, 0.8867058753967285, 0.888568639755249, 0.8922156691551208, 0.8932548761367798, 0.8967254757881165, 0.8959804177284241, 0.897019624710083, 0.9001568555831909, 0.9040588140487671, 0.9059019684791565, 0.9071961045265198]\n",
            "[0.5140532851219177, 0.4434312582015991, 0.42227134108543396, 0.38789820671081543, 0.3986626863479614, 0.36602625250816345, 0.3562152087688446, 0.35705775022506714, 0.3563397526741028, 0.3473319113254547, 0.3578697443008423, 0.34607794880867004, 0.35283783078193665, 0.34366312623023987, 0.32443854212760925, 0.32590144872665405, 0.3230500817298889, 0.32123002409935, 0.3206009268760681, 0.32775530219078064]\n",
            "[0.8248888850212097, 0.8494444489479065, 0.855555534362793, 0.8651111125946045, 0.8616666793823242, 0.8734444379806519, 0.8725555539131165, 0.8744444251060486, 0.875, 0.8786666393280029, 0.8673333525657654, 0.8761110901832581, 0.8740000128746033, 0.8778889179229736, 0.8867777585983276, 0.8842222094535828, 0.8845555782318115, 0.8857777714729309, 0.886888861656189, 0.8866666555404663]\n"
          ]
        }
      ]
    },
    {
      "cell_type": "code",
      "source": [
        "import matplotlib.pyplot as plt\n",
        "%matplotlib inline\n",
        "\n",
        "plt.plot(history.history['accuracy'], label='train')\n",
        "plt.plot(history.history['val_accuracy'], label='valid')\n",
        "plt.legend()"
      ],
      "metadata": {
        "execution": {
          "iopub.status.busy": "2022-02-14T00:19:46.481792Z",
          "iopub.execute_input": "2022-02-14T00:19:46.482396Z",
          "iopub.status.idle": "2022-02-14T00:19:46.720431Z",
          "shell.execute_reply.started": "2022-02-14T00:19:46.482347Z",
          "shell.execute_reply": "2022-02-14T00:19:46.719776Z"
        },
        "trusted": true,
        "colab": {
          "base_uri": "https://localhost:8080/",
          "height": 283
        },
        "id": "2MzEMvOiGaX8",
        "outputId": "6489d8d3-7b10-4a1d-a99a-27d9e630dd84"
      },
      "execution_count": null,
      "outputs": [
        {
          "output_type": "execute_result",
          "data": {
            "text/plain": [
              "<matplotlib.legend.Legend at 0x7ff32d94f750>"
            ]
          },
          "metadata": {},
          "execution_count": 32
        },
        {
          "output_type": "display_data",
          "data": {
            "image/png": "[encoded data removed]",
            "text/plain": [
              "<Figure size 432x288 with 1 Axes>"
            ]
          },
          "metadata": {
            "needs_background": "light"
          }
        }
      ]
    },
    {
      "cell_type": "markdown",
      "source": [
        "# Functional API\n",
        "sequential은 쉽지만 실제 현업에서는 functional로 많이 사용된다."
      ],
      "metadata": {
        "id": "3ai-OsNLGaX8"
      }
    },
    {
      "cell_type": "code",
      "source": [
        "# Sequential Model을 이용하여 Keras 모델 생성 \n",
        "\n",
        "from tensorflow.keras.layers import Dense, Flatten\n",
        "from tensorflow.keras.models import Sequential\n",
        "\n",
        "INPUT_SIZE = 28\n",
        "\n",
        "# sequenctial api는 input layer가 별도로 없고, 인자로 input_shape을 줌으로써 인식시킨다.\n",
        "# functional api는 input layer를 별도로 만들어줘야 함\n",
        "model = Sequential([\n",
        "    Flatten(input_shape=(INPUT_SIZE, INPUT_SIZE)),\n",
        "    Dense(100, activation='relu'),\n",
        "    Dense(30, activation='relu'),\n",
        "    Dense(10, activation='softmax')\n",
        "])\n",
        "\n",
        "model.summary()\n",
        "\n",
        "model1 = Sequential()\n",
        "model1.add(Flatten(input_shape=(INPUT_SIZE, INPUT_SIZE)))\n",
        "model1.add(Dense(100, activation='relu'))\n",
        "model1.add(Dense(30, activation='relu'))\n",
        "model1.add(Dense(10, activation='softmax'))\n",
        "\n",
        "model1.summary()\n"
      ],
      "metadata": {
        "execution": {
          "iopub.status.busy": "2022-02-14T00:22:39.727433Z",
          "iopub.execute_input": "2022-02-14T00:22:39.728319Z",
          "iopub.status.idle": "2022-02-14T00:22:39.988866Z",
          "shell.execute_reply.started": "2022-02-14T00:22:39.728278Z",
          "shell.execute_reply": "2022-02-14T00:22:39.988159Z"
        },
        "trusted": true,
        "colab": {
          "base_uri": "https://localhost:8080/"
        },
        "id": "KpUVHxfZGaX8",
        "outputId": "bcd269bc-958e-48c0-f7a2-fc5b912d1141"
      },
      "execution_count": null,
      "outputs": [
        {
          "output_type": "stream",
          "name": "stdout",
          "text": [
            "Model: \"sequential_2\"\n",
            "_________________________________________________________________\n",
            " Layer (type)                Output Shape              Param #   \n",
            "=================================================================\n",
            " flatten_2 (Flatten)         (None, 784)               0         \n",
            "                                                                 \n",
            " dense_6 (Dense)             (None, 100)               78500     \n",
            "                                                                 \n",
            " dense_7 (Dense)             (None, 30)                3030      \n",
            "                                                                 \n",
            " dense_8 (Dense)             (None, 10)                310       \n",
            "                                                                 \n",
            "=================================================================\n",
            "Total params: 81,840\n",
            "Trainable params: 81,840\n",
            "Non-trainable params: 0\n",
            "_________________________________________________________________\n",
            "Model: \"sequential_3\"\n",
            "_________________________________________________________________\n",
            " Layer (type)                Output Shape              Param #   \n",
            "=================================================================\n",
            " flatten_3 (Flatten)         (None, 784)               0         \n",
            "                                                                 \n",
            " dense_9 (Dense)             (None, 100)               78500     \n",
            "                                                                 \n",
            " dense_10 (Dense)            (None, 30)                3030      \n",
            "                                                                 \n",
            " dense_11 (Dense)            (None, 10)                310       \n",
            "                                                                 \n",
            "=================================================================\n",
            "Total params: 81,840\n",
            "Trainable params: 81,840\n",
            "Non-trainable params: 0\n",
            "_________________________________________________________________\n"
          ]
        }
      ]
    },
    {
      "cell_type": "code",
      "source": [
        "# Functional Api로 모델 만들기\n",
        "\n",
        "from tensorflow.keras.layers import Input, Flatten, Dense\n",
        "from tensorflow.keras.models import Model\n",
        "\n",
        "# sequenctial api는 input layer가 별도로 없고, 인자로 input_shape을 줌으로써 인식시킨다.\n",
        "# functional api는 input layer를 별도로 만들어줘야 함\n",
        "input_tensor = Input(shape=(INPUT_SIZE, INPUT_SIZE))\n",
        "x = Flatten()(input_tensor)\n",
        "x = Dense(100, activation='relu')(x)\n",
        "x = Dense(30, activation='relu')(x)\n",
        "output = Dense(10, activation='softmax')(x)\n",
        "\n",
        "model = Model(inputs=input_tensor, outputs=output)\n",
        "\n",
        "model.summary()"
      ],
      "metadata": {
        "execution": {
          "iopub.status.busy": "2022-02-14T00:33:06.853131Z",
          "iopub.execute_input": "2022-02-14T00:33:06.853878Z",
          "iopub.status.idle": "2022-02-14T00:33:06.890893Z",
          "shell.execute_reply.started": "2022-02-14T00:33:06.853827Z",
          "shell.execute_reply": "2022-02-14T00:33:06.890214Z"
        },
        "trusted": true,
        "colab": {
          "base_uri": "https://localhost:8080/"
        },
        "id": "9Md5f1yEGaX8",
        "outputId": "5ec5f939-4b3c-4a61-d8c0-2c9daeab0b06"
      },
      "execution_count": null,
      "outputs": [
        {
          "output_type": "stream",
          "name": "stdout",
          "text": [
            "Model: \"model\"\n",
            "_________________________________________________________________\n",
            " Layer (type)                Output Shape              Param #   \n",
            "=================================================================\n",
            " input_1 (InputLayer)        [(None, 28, 28)]          0         \n",
            "                                                                 \n",
            " flatten_4 (Flatten)         (None, 784)               0         \n",
            "                                                                 \n",
            " dense_12 (Dense)            (None, 100)               78500     \n",
            "                                                                 \n",
            " dense_13 (Dense)            (None, 30)                3030      \n",
            "                                                                 \n",
            " dense_14 (Dense)            (None, 10)                310       \n",
            "                                                                 \n",
            "=================================================================\n",
            "Total params: 81,840\n",
            "Trainable params: 81,840\n",
            "Non-trainable params: 0\n",
            "_________________________________________________________________\n"
          ]
        }
      ]
    },
    {
      "cell_type": "markdown",
      "source": [
        "## Custom한 Dense Layer 생성하기"
      ],
      "metadata": {
        "id": "EJe5e8AbGaX9"
      }
    },
    {
      "cell_type": "code",
      "source": [
        "from tensorflow.keras.layers import Layer, Input\n",
        "from tensorflow.keras.models import Model\n",
        "import tensorflow as tf\n",
        "\n",
        "class CustomDense(tf.keras.layers.Layer):\n",
        "    # CustomDense 객체 생성시 입력되는 초기화 parameter 처리\n",
        "    def __init__(self, units=32):\n",
        "        super(CustomDense, self).__init__()\n",
        "        self.units = units\n",
        "\n",
        "    def build(self, input_shape):\n",
        "        self.w = self.add_weight(\n",
        "            shape=(input_shape[-1], self.units),\n",
        "            initializer=\"random_normal\",\n",
        "            trainable=True,\n",
        "        )\n",
        "        self.b = self.add_weight(\n",
        "            shape=(self.units,), initializer=\"random_normal\", trainable=True\n",
        "        )\n",
        "        \n",
        "    # CustomDense 객체에 callable로 입력된 입력 데이터 처리. \n",
        "    def call(self, inputs):\n",
        "        return tf.matmul(inputs, self.w) + self.b\n",
        "\n",
        "# input 값을 4개의 원소를 가지는 1차원으로 생성. \n",
        "inputs = Input((4,))\n",
        "# 10개의 unit을 가지는 CustomDense 객체를 생성 후 callable로 inputs값 입력 \n",
        "outputs = CustomDense(10)(inputs)\n",
        "\n",
        "# inputs와 outputs로 model 생성. \n",
        "model = Model(inputs, outputs)\n",
        "model.summary()\n"
      ],
      "metadata": {
        "execution": {
          "iopub.status.busy": "2022-02-14T00:55:02.742116Z",
          "iopub.execute_input": "2022-02-14T00:55:02.742841Z",
          "iopub.status.idle": "2022-02-14T00:55:02.798710Z",
          "shell.execute_reply.started": "2022-02-14T00:55:02.742803Z",
          "shell.execute_reply": "2022-02-14T00:55:02.797879Z"
        },
        "trusted": true,
        "colab": {
          "base_uri": "https://localhost:8080/"
        },
        "id": "qGw4pK-GGaX9",
        "outputId": "d0cdb1ff-5bdf-4064-a702-730974252746"
      },
      "execution_count": null,
      "outputs": [
        {
          "output_type": "stream",
          "name": "stdout",
          "text": [
            "Model: \"model_1\"\n",
            "_________________________________________________________________\n",
            " Layer (type)                Output Shape              Param #   \n",
            "=================================================================\n",
            " input_2 (InputLayer)        [(None, 4)]               0         \n",
            "                                                                 \n",
            " custom_dense (CustomDense)  (None, 10)                50        \n",
            "                                                                 \n",
            "=================================================================\n",
            "Total params: 50\n",
            "Trainable params: 50\n",
            "Non-trainable params: 0\n",
            "_________________________________________________________________\n"
          ]
        }
      ]
    },
    {
      "cell_type": "markdown",
      "source": [
        "**Functional API는 객체 생성 부분과 Callable 인자 입력 부분을 별도로 수행해도 무방**"
      ],
      "metadata": {
        "id": "ZF_hliowGaX9"
      }
    },
    {
      "cell_type": "code",
      "source": [
        "inputs = Input((4,))\n",
        "# 10개의 unit을 가지는 CustomDense 객체를 생성 후 callable로 inputs값 입력 \n",
        "my_layer = CustomDense(10)\n",
        "outputs = my_layer(inputs)\n",
        "\n",
        "# inputs와 outputs로 model 생성. \n",
        "model = Model(inputs, outputs)\n",
        "model.summary()"
      ],
      "metadata": {
        "execution": {
          "iopub.status.busy": "2022-02-14T00:56:42.890585Z",
          "iopub.execute_input": "2022-02-14T00:56:42.891258Z",
          "iopub.status.idle": "2022-02-14T00:56:42.910963Z",
          "shell.execute_reply.started": "2022-02-14T00:56:42.891219Z",
          "shell.execute_reply": "2022-02-14T00:56:42.910293Z"
        },
        "trusted": true,
        "colab": {
          "base_uri": "https://localhost:8080/"
        },
        "id": "F2_4vfsyGaX9",
        "outputId": "5f520791-b907-495d-9f6f-fe3f7d78199f"
      },
      "execution_count": null,
      "outputs": [
        {
          "output_type": "stream",
          "name": "stdout",
          "text": [
            "Model: \"model_2\"\n",
            "_________________________________________________________________\n",
            " Layer (type)                Output Shape              Param #   \n",
            "=================================================================\n",
            " input_3 (InputLayer)        [(None, 4)]               0         \n",
            "                                                                 \n",
            " custom_dense_1 (CustomDense  (None, 10)               50        \n",
            " )                                                               \n",
            "                                                                 \n",
            "=================================================================\n",
            "Total params: 50\n",
            "Trainable params: 50\n",
            "Non-trainable params: 0\n",
            "_________________________________________________________________\n"
          ]
        }
      ]
    },
    {
      "cell_type": "markdown",
      "source": [
        "**Sequential Model 생성은 단지 Functional API Layer들을 iteration 하면서 연결한 것을 model로 만든 것임**"
      ],
      "metadata": {
        "id": "80cMkkeTGaX-"
      }
    },
    {
      "cell_type": "code",
      "source": [
        "from tensorflow.keras.models import Sequential\n",
        "\n",
        "model = Sequential([Input((4,)),\n",
        "                   CustomDense(10),\n",
        "                   CustomDense(8), \n",
        "                   tf.keras.layers.ReLU()])\n",
        "model.summary()"
      ],
      "metadata": {
        "execution": {
          "iopub.status.busy": "2022-02-14T00:56:51.493766Z",
          "iopub.execute_input": "2022-02-14T00:56:51.494594Z",
          "iopub.status.idle": "2022-02-14T00:56:51.524745Z",
          "shell.execute_reply.started": "2022-02-14T00:56:51.494558Z",
          "shell.execute_reply": "2022-02-14T00:56:51.524023Z"
        },
        "trusted": true,
        "colab": {
          "base_uri": "https://localhost:8080/"
        },
        "id": "uOiEnY0KGaX-",
        "outputId": "3b9163f6-7fe1-4376-812e-498968b0b82f"
      },
      "execution_count": null,
      "outputs": [
        {
          "output_type": "stream",
          "name": "stdout",
          "text": [
            "Model: \"sequential_4\"\n",
            "_________________________________________________________________\n",
            " Layer (type)                Output Shape              Param #   \n",
            "=================================================================\n",
            " custom_dense_2 (CustomDense  (None, 10)               50        \n",
            " )                                                               \n",
            "                                                                 \n",
            " custom_dense_3 (CustomDense  (None, 8)                88        \n",
            " )                                                               \n",
            "                                                                 \n",
            " re_lu (ReLU)                (None, 8)                 0         \n",
            "                                                                 \n",
            "=================================================================\n",
            "Total params: 138\n",
            "Trainable params: 138\n",
            "Non-trainable params: 0\n",
            "_________________________________________________________________\n"
          ]
        }
      ]
    },
    {
      "cell_type": "markdown",
      "source": [
        "### Sequential Model을 Functional 객체를 For loop 반복 호출하여 작성."
      ],
      "metadata": {
        "id": "lpbHJTUMGaX-"
      }
    },
    {
      "cell_type": "code",
      "source": [
        "layers_list = [Input((4,)), CustomDense(10), CustomDense(8), tf.keras.layers.ReLU()]\n",
        "\n",
        "for index, layer in enumerate(layers_list):\n",
        "        print(index, layer)"
      ],
      "metadata": {
        "execution": {
          "iopub.status.busy": "2022-02-14T00:57:20.559382Z",
          "iopub.execute_input": "2022-02-14T00:57:20.559646Z",
          "iopub.status.idle": "2022-02-14T00:57:20.570328Z",
          "shell.execute_reply.started": "2022-02-14T00:57:20.559616Z",
          "shell.execute_reply": "2022-02-14T00:57:20.569520Z"
        },
        "trusted": true,
        "colab": {
          "base_uri": "https://localhost:8080/"
        },
        "id": "hnu-YhdkGaX-",
        "outputId": "b7420c5a-3270-4340-d915-28691ae08aed"
      },
      "execution_count": null,
      "outputs": [
        {
          "output_type": "stream",
          "name": "stdout",
          "text": [
            "0 KerasTensor(type_spec=TensorSpec(shape=(None, 4), dtype=tf.float32, name='input_5'), name='input_5', description=\"created by layer 'input_5'\")\n",
            "1 <__main__.CustomDense object at 0x7ff32d76e950>\n",
            "2 <__main__.CustomDense object at 0x7ff32d7ab490>\n",
            "3 <keras.layers.advanced_activations.ReLU object at 0x7ff32d75d250>\n"
          ]
        }
      ]
    },
    {
      "cell_type": "code",
      "source": [
        "layers_list = [Input((4,)), CustomDense(10), CustomDense(8), tf.keras.layers.ReLU()]\n",
        "\n",
        "inputs = None\n",
        "callable_inputs = None\n",
        "outputs = None\n",
        "# layers_list에 있는 Functional 객체를 iteration 수행하면서 적용. \n",
        "for index, layer in enumerate(layers_list):\n",
        "    # layers_list의 첫번째 인자는 Input 간주. \n",
        "    if index == 0:\n",
        "        inputs = layer\n",
        "        callable_inputs = layer\n",
        "    # Functional 객체에 callable 인자로 callable_inputs를 입력하고 반환 결과 값을 다시 callable_inputs로 할당.     \n",
        "    else: \n",
        "        callable_inputs = layer(callable_inputs)\n",
        "    \n",
        "outputs = callable_inputs\n",
        "model = Model(inputs, outputs)\n",
        "model.summary()\n"
      ],
      "metadata": {
        "trusted": true,
        "colab": {
          "base_uri": "https://localhost:8080/"
        },
        "id": "wNmWD_LeGaX_",
        "outputId": "673e2378-0a41-4f04-d300-eae00ca59856"
      },
      "execution_count": null,
      "outputs": [
        {
          "output_type": "stream",
          "name": "stdout",
          "text": [
            "Model: \"model_3\"\n",
            "_________________________________________________________________\n",
            " Layer (type)                Output Shape              Param #   \n",
            "=================================================================\n",
            " input_6 (InputLayer)        [(None, 4)]               0         \n",
            "                                                                 \n",
            " custom_dense_6 (CustomDense  (None, 10)               50        \n",
            " )                                                               \n",
            "                                                                 \n",
            " custom_dense_7 (CustomDense  (None, 8)                88        \n",
            " )                                                               \n",
            "                                                                 \n",
            " re_lu_2 (ReLU)              (None, 8)                 0         \n",
            "                                                                 \n",
            "=================================================================\n",
            "Total params: 138\n",
            "Trainable params: 138\n",
            "Non-trainable params: 0\n",
            "_________________________________________________________________\n"
          ]
        }
      ]
    },
    {
      "cell_type": "markdown",
      "source": [
        "## 앞에서 생성한 로직들을 함수화 \n",
        "* Functional API로 모델 만들기\n",
        "* pixel값 1 ~ 255를 0 ~ 1사이값 Float 32로 만들기\n",
        "* One Hot Encoding Label에 적용하기\n",
        "* 학습과 검증 데이터로 나누기.\n",
        "* compile, 학습/예측/평가"
      ],
      "metadata": {
        "id": "DQz0eWvdGaX_"
      }
    },
    {
      "cell_type": "code",
      "source": [
        "from tensorflow.keras.layers import Layer, Input, Dense, Flatten\n",
        "from tensorflow.keras.models import Model\n",
        "import tensorflow as tf\n",
        "\n",
        "INPUT_SIZE = 28\n",
        "\n",
        "def create_model():\n",
        "    input_tensor = Input(shape=(INPUT_SIZE, INPUT_SIZE))\n",
        "    x = Flatten()(input_tensor)\n",
        "    x = Dense(100, activation='relu')(x)\n",
        "    x = Dense(30, activation='relu')(x)\n",
        "    output = Dense(10, activation='softmax')(x)\n",
        "    \n",
        "    model = Model(inputs=input_tensor, outputs=output)\n",
        "    return model\n",
        "\n",
        "model = create_model()\n",
        "model.summary()\n"
      ],
      "metadata": {
        "execution": {
          "iopub.status.busy": "2022-02-14T01:31:31.087874Z",
          "iopub.execute_input": "2022-02-14T01:31:31.088481Z",
          "iopub.status.idle": "2022-02-14T01:31:31.134365Z",
          "shell.execute_reply.started": "2022-02-14T01:31:31.088443Z",
          "shell.execute_reply": "2022-02-14T01:31:31.133651Z"
        },
        "trusted": true,
        "colab": {
          "base_uri": "https://localhost:8080/"
        },
        "id": "N9CqI1-xGaYA",
        "outputId": "2fd41c44-3399-4bf4-b8c6-14d1121fa938"
      },
      "execution_count": null,
      "outputs": [
        {
          "output_type": "stream",
          "name": "stdout",
          "text": [
            "Model: \"model_4\"\n",
            "_________________________________________________________________\n",
            " Layer (type)                Output Shape              Param #   \n",
            "=================================================================\n",
            " input_7 (InputLayer)        [(None, 28, 28)]          0         \n",
            "                                                                 \n",
            " flatten_5 (Flatten)         (None, 784)               0         \n",
            "                                                                 \n",
            " dense_15 (Dense)            (None, 100)               78500     \n",
            "                                                                 \n",
            " dense_16 (Dense)            (None, 30)                3030      \n",
            "                                                                 \n",
            " dense_17 (Dense)            (None, 10)                310       \n",
            "                                                                 \n",
            "=================================================================\n",
            "Total params: 81,840\n",
            "Trainable params: 81,840\n",
            "Non-trainable params: 0\n",
            "_________________________________________________________________\n"
          ]
        }
      ]
    },
    {
      "cell_type": "code",
      "source": [
        "import numpy as np\n",
        "from tensorflow.keras.utils import to_categorical\n",
        "from sklearn.model_selection import train_test_split\n",
        "\n",
        "# 0 ~ 1사이값의 float32로 변경하는 함수\n",
        "def get_preprocessed_data(images, labels):\n",
        "    \n",
        "    # 학습과 테스트 이미지 array를 0~1 사이값으로 scale 및 float32 형 변형. \n",
        "    images = np.array(images/255.0, dtype=np.float32)\n",
        "    labels = np.array(labels, dtype=np.float32)\n",
        "    \n",
        "    return images, labels\n",
        "\n",
        "# 0 ~ 1사이값 float32로 변경하는 함수 호출 한 뒤 OHE 적용 \n",
        "def get_preprocessed_ohe(images, labels):\n",
        "    images, labels = get_preprocessed_data(images, labels)\n",
        "    # OHE 적용 \n",
        "    oh_labels = to_categorical(labels)\n",
        "    return images, oh_labels\n",
        "\n",
        "# 학습/검증/테스트 데이터 세트에 전처리 및 OHE 적용한 뒤 반환 \n",
        "def get_train_valid_test_set(train_images, train_labels, test_images, test_labels, valid_size=0.15, random_state=2021):\n",
        "    # 학습 및 테스트 데이터 세트를  0 ~ 1사이값 float32로 변경 및 OHE 적용. \n",
        "    train_images, train_oh_labels = get_preprocessed_ohe(train_images, train_labels)\n",
        "    test_images, test_oh_labels = get_preprocessed_ohe(test_images, test_labels)\n",
        "    \n",
        "    # 학습 데이터를 검증 데이터 세트로 다시 분리\n",
        "    tr_images, val_images, tr_oh_labels, val_oh_labels = train_test_split(train_images, train_oh_labels, test_size=valid_size, random_state=random_state)\n",
        "    \n",
        "    return (tr_images, tr_oh_labels), (val_images, val_oh_labels), (test_images, test_oh_labels ) \n"
      ],
      "metadata": {
        "execution": {
          "iopub.status.busy": "2022-02-14T01:31:31.262444Z",
          "iopub.execute_input": "2022-02-14T01:31:31.262653Z",
          "iopub.status.idle": "2022-02-14T01:31:31.274897Z",
          "shell.execute_reply.started": "2022-02-14T01:31:31.262628Z",
          "shell.execute_reply": "2022-02-14T01:31:31.273983Z"
        },
        "trusted": true,
        "id": "8wAzTDJ0GaYA"
      },
      "execution_count": null,
      "outputs": []
    },
    {
      "cell_type": "code",
      "source": [
        "from tensorflow.keras.datasets import fashion_mnist\n",
        "# Fashion MNIST 데이터 재 로딩 및 전처리 적용하여 학습/검증/데이터 세트 생성. \n",
        "\n",
        "(train_images, train_labels), (test_images, test_labels) = fashion_mnist.load_data()\n",
        "print(train_images.shape, train_labels.shape, test_images.shape, test_labels.shape)\n",
        "(tr_images, tr_oh_labels), (val_images, val_oh_labels), (test_images, test_oh_labels) = \\\n",
        "    get_train_valid_test_set(train_images, train_labels, test_images, test_labels, valid_size=0.15, random_state=2021)\n",
        "print(tr_images.shape, tr_oh_labels.shape, val_images.shape, val_oh_labels.shape, test_images.shape, test_labels.shape)\n"
      ],
      "metadata": {
        "execution": {
          "iopub.status.busy": "2022-02-14T01:31:31.489205Z",
          "iopub.execute_input": "2022-02-14T01:31:31.489429Z",
          "iopub.status.idle": "2022-02-14T01:31:32.188014Z",
          "shell.execute_reply.started": "2022-02-14T01:31:31.489404Z",
          "shell.execute_reply": "2022-02-14T01:31:32.187253Z"
        },
        "trusted": true,
        "colab": {
          "base_uri": "https://localhost:8080/"
        },
        "id": "Zg6cM-3nGaYB",
        "outputId": "bfbe67c7-1418-4845-8008-c4b637bb5764"
      },
      "execution_count": null,
      "outputs": [
        {
          "output_type": "stream",
          "name": "stdout",
          "text": [
            "(60000, 28, 28) (60000,) (10000, 28, 28) (10000,)\n",
            "(51000, 28, 28) (51000, 10) (9000, 28, 28) (9000, 10) (10000, 28, 28) (10000,)\n"
          ]
        }
      ]
    },
    {
      "cell_type": "code",
      "source": [
        "from tensorflow.keras.optimizers import Adam\n",
        "\n",
        "# Model 생성 및 optimizer, loss, metric 적용\n",
        "model = create_model()\n",
        "model.summary()\n",
        "\n",
        "model.compile(optimizer=Adam(0.001), loss='categorical_crossentropy', metrics=['accuracy'])\n"
      ],
      "metadata": {
        "execution": {
          "iopub.status.busy": "2022-02-14T01:31:32.193349Z",
          "iopub.execute_input": "2022-02-14T01:31:32.195610Z",
          "iopub.status.idle": "2022-02-14T01:31:32.267914Z",
          "shell.execute_reply.started": "2022-02-14T01:31:32.195565Z",
          "shell.execute_reply": "2022-02-14T01:31:32.266421Z"
        },
        "trusted": true,
        "colab": {
          "base_uri": "https://localhost:8080/"
        },
        "id": "wFF-10svGaYB",
        "outputId": "2661b0b9-6c7f-47cc-da19-3f3d00bf9ef2"
      },
      "execution_count": null,
      "outputs": [
        {
          "output_type": "stream",
          "name": "stdout",
          "text": [
            "Model: \"model_5\"\n",
            "_________________________________________________________________\n",
            " Layer (type)                Output Shape              Param #   \n",
            "=================================================================\n",
            " input_8 (InputLayer)        [(None, 28, 28)]          0         \n",
            "                                                                 \n",
            " flatten_6 (Flatten)         (None, 784)               0         \n",
            "                                                                 \n",
            " dense_18 (Dense)            (None, 100)               78500     \n",
            "                                                                 \n",
            " dense_19 (Dense)            (None, 30)                3030      \n",
            "                                                                 \n",
            " dense_20 (Dense)            (None, 10)                310       \n",
            "                                                                 \n",
            "=================================================================\n",
            "Total params: 81,840\n",
            "Trainable params: 81,840\n",
            "Non-trainable params: 0\n",
            "_________________________________________________________________\n"
          ]
        }
      ]
    },
    {
      "cell_type": "code",
      "source": [
        "# 학습 수행. \n",
        "history = model.fit(x=tr_images, y=tr_oh_labels, batch_size=1000, epochs=20, validation_data=(val_images, val_oh_labels))\n"
      ],
      "metadata": {
        "execution": {
          "iopub.status.busy": "2022-02-14T01:31:32.314363Z",
          "iopub.execute_input": "2022-02-14T01:31:32.314603Z",
          "iopub.status.idle": "2022-02-14T01:31:37.305360Z",
          "shell.execute_reply.started": "2022-02-14T01:31:32.314571Z",
          "shell.execute_reply": "2022-02-14T01:31:37.304628Z"
        },
        "trusted": true,
        "colab": {
          "base_uri": "https://localhost:8080/"
        },
        "id": "6U4vK84FGaYC",
        "outputId": "0d9bdec6-239e-4135-fe87-8ad2c29ebf71"
      },
      "execution_count": null,
      "outputs": [
        {
          "output_type": "stream",
          "name": "stdout",
          "text": [
            "Epoch 1/20\n",
            "51/51 [==============================] - 1s 17ms/step - loss: 1.0351 - accuracy: 0.6587 - val_loss: 0.6181 - val_accuracy: 0.7881\n",
            "Epoch 2/20\n",
            "51/51 [==============================] - 1s 14ms/step - loss: 0.5383 - accuracy: 0.8176 - val_loss: 0.5090 - val_accuracy: 0.8221\n",
            "Epoch 3/20\n",
            "51/51 [==============================] - 1s 14ms/step - loss: 0.4705 - accuracy: 0.8395 - val_loss: 0.4624 - val_accuracy: 0.8389\n",
            "Epoch 4/20\n",
            "51/51 [==============================] - 1s 13ms/step - loss: 0.4329 - accuracy: 0.8511 - val_loss: 0.4460 - val_accuracy: 0.8442\n",
            "Epoch 5/20\n",
            "51/51 [==============================] - 1s 14ms/step - loss: 0.4080 - accuracy: 0.8596 - val_loss: 0.4256 - val_accuracy: 0.8503\n",
            "Epoch 6/20\n",
            "51/51 [==============================] - 1s 14ms/step - loss: 0.3910 - accuracy: 0.8636 - val_loss: 0.4065 - val_accuracy: 0.8581\n",
            "Epoch 7/20\n",
            "51/51 [==============================] - 1s 14ms/step - loss: 0.3767 - accuracy: 0.8685 - val_loss: 0.3947 - val_accuracy: 0.8618\n",
            "Epoch 8/20\n",
            "51/51 [==============================] - 1s 14ms/step - loss: 0.3644 - accuracy: 0.8727 - val_loss: 0.3914 - val_accuracy: 0.8636\n",
            "Epoch 9/20\n",
            "51/51 [==============================] - 1s 15ms/step - loss: 0.3533 - accuracy: 0.8757 - val_loss: 0.3867 - val_accuracy: 0.8630\n",
            "Epoch 10/20\n",
            "51/51 [==============================] - 1s 14ms/step - loss: 0.3436 - accuracy: 0.8803 - val_loss: 0.3795 - val_accuracy: 0.8644\n",
            "Epoch 11/20\n",
            "51/51 [==============================] - 1s 14ms/step - loss: 0.3343 - accuracy: 0.8816 - val_loss: 0.3736 - val_accuracy: 0.8687\n",
            "Epoch 12/20\n",
            "51/51 [==============================] - 1s 14ms/step - loss: 0.3303 - accuracy: 0.8825 - val_loss: 0.3618 - val_accuracy: 0.8714\n",
            "Epoch 13/20\n",
            "51/51 [==============================] - 1s 14ms/step - loss: 0.3188 - accuracy: 0.8868 - val_loss: 0.3586 - val_accuracy: 0.8737\n",
            "Epoch 14/20\n",
            "51/51 [==============================] - 1s 14ms/step - loss: 0.3178 - accuracy: 0.8857 - val_loss: 0.3601 - val_accuracy: 0.8712\n",
            "Epoch 15/20\n",
            "51/51 [==============================] - 1s 14ms/step - loss: 0.3097 - accuracy: 0.8895 - val_loss: 0.3488 - val_accuracy: 0.8750\n",
            "Epoch 16/20\n",
            "51/51 [==============================] - 1s 15ms/step - loss: 0.2994 - accuracy: 0.8933 - val_loss: 0.3485 - val_accuracy: 0.8771\n",
            "Epoch 17/20\n",
            "51/51 [==============================] - 1s 14ms/step - loss: 0.2945 - accuracy: 0.8945 - val_loss: 0.3554 - val_accuracy: 0.8733\n",
            "Epoch 18/20\n",
            "51/51 [==============================] - 1s 14ms/step - loss: 0.2953 - accuracy: 0.8943 - val_loss: 0.3441 - val_accuracy: 0.8780\n",
            "Epoch 19/20\n",
            "51/51 [==============================] - 1s 14ms/step - loss: 0.2846 - accuracy: 0.8980 - val_loss: 0.3392 - val_accuracy: 0.8782\n",
            "Epoch 20/20\n",
            "51/51 [==============================] - 1s 19ms/step - loss: 0.2794 - accuracy: 0.8997 - val_loss: 0.3374 - val_accuracy: 0.8791\n"
          ]
        }
      ]
    },
    {
      "cell_type": "code",
      "source": [
        "import matplotlib.pyplot as plt\n",
        "%matplotlib inline\n",
        "\n",
        "def show_history(history):\n",
        "    plt.plot(history.history['accuracy'], label='train')\n",
        "    plt.plot(history.history['val_accuracy'], label='valid')\n",
        "    plt.legend()\n",
        "    \n",
        "show_history(history)"
      ],
      "metadata": {
        "execution": {
          "iopub.status.busy": "2022-02-14T01:31:37.308589Z",
          "iopub.execute_input": "2022-02-14T01:31:37.308806Z",
          "iopub.status.idle": "2022-02-14T01:31:37.516378Z",
          "shell.execute_reply.started": "2022-02-14T01:31:37.308782Z",
          "shell.execute_reply": "2022-02-14T01:31:37.515700Z"
        },
        "trusted": true,
        "colab": {
          "base_uri": "https://localhost:8080/",
          "height": 264
        },
        "id": "dp94wpUyGaYC",
        "outputId": "e42512b3-11f2-48f9-db2b-5cb29fa5c35b"
      },
      "execution_count": null,
      "outputs": [
        {
          "output_type": "display_data",
          "data": {
            "image/png": "[encoded data removed]",
            "text/plain": [
              "<Figure size 432x288 with 1 Axes>"
            ]
          },
          "metadata": {
            "needs_background": "light"
          }
        }
      ]
    },
    {
      "cell_type": "code",
      "source": [
        "# 테스트 데이터 세트로 모델 성능 검증\n",
        "model.evaluate(test_images, test_oh_labels, batch_size=256, verbose=1)"
      ],
      "metadata": {
        "execution": {
          "iopub.status.busy": "2022-02-14T01:32:09.684381Z",
          "iopub.execute_input": "2022-02-14T01:32:09.684641Z",
          "iopub.status.idle": "2022-02-14T01:32:10.003532Z",
          "shell.execute_reply.started": "2022-02-14T01:32:09.684613Z",
          "shell.execute_reply": "2022-02-14T01:32:10.002837Z"
        },
        "trusted": true,
        "colab": {
          "base_uri": "https://localhost:8080/"
        },
        "id": "RiOlLNdFGaYC",
        "outputId": "bbf2d712-7e88-4351-e93b-cb097320dca6"
      },
      "execution_count": null,
      "outputs": [
        {
          "output_type": "stream",
          "name": "stdout",
          "text": [
            "40/40 [==============================] - 0s 4ms/step - loss: 0.3576 - accuracy: 0.8706\n"
          ]
        },
        {
          "output_type": "execute_result",
          "data": {
            "text/plain": [
              "[0.35763296484947205, 0.8705999851226807]"
            ]
          },
          "metadata": {},
          "execution_count": 46
        }
      ]
    },
    {
      "cell_type": "markdown",
      "source": [
        "# Callback "
      ],
      "metadata": {
        "id": "AEGsqpngGaYD"
      }
    },
    {
      "cell_type": "markdown",
      "source": [
        "## ModelCheckpoint(filepath, monitor='val_loss', verbose=0, save_best_only=False, save_weights_only=False, mode='auto', period=1)\n",
        "* 특정 조건에 맞춰서 모델을 파일로 저장\n",
        "* filepath: filepath는 (on_epoch_end에서 전달되는) epoch의 값과 logs의 키로 채워진 이름 형식 옵션을 가질 수 있음.\n",
        "예를 들어 filepath가 weights.{epoch:02d}-{val_loss:.2f}.hdf5라면, 파일 이름에 세대 번호와 검증 손실을 넣어 모델의 체크포인트가 저장 \n",
        "* monitor: 모니터할 지표(loss 또는 평가 지표) \n",
        "* save_best_only: 가장 좋은 성능을 나타내는 모델만 저장할 여부\n",
        "* save_weights_only: Weights만 저장할 지 여부 => 웬만하면 이거만 True하고 나중에 load weights 해주는게 나음\n",
        "* mode: {auto, min, max} 중 하나. monitor 지표가 감소해야 좋을 경우 min, 증가해야 좋을 경우 max, auto는 monitor 이름에서 자동으로 유추. "
      ],
      "metadata": {
        "id": "lyh-S_dfGaYD"
      }
    },
    {
      "cell_type": "code",
      "source": [
        "!pwd"
      ],
      "metadata": {
        "execution": {
          "iopub.status.busy": "2022-02-14T01:43:12.186467Z",
          "iopub.execute_input": "2022-02-14T01:43:12.186727Z",
          "iopub.status.idle": "2022-02-14T01:43:12.883944Z",
          "shell.execute_reply.started": "2022-02-14T01:43:12.186698Z",
          "shell.execute_reply": "2022-02-14T01:43:12.883072Z"
        },
        "trusted": true,
        "colab": {
          "base_uri": "https://localhost:8080/"
        },
        "id": "xPGdOzSiGaYD",
        "outputId": "bfade627-546a-4ddd-fea8-792fda3f827a"
      },
      "execution_count": null,
      "outputs": [
        {
          "output_type": "stream",
          "name": "stdout",
          "text": [
            "/content\n"
          ]
        }
      ]
    },
    {
      "cell_type": "code",
      "source": [
        "from tensorflow.keras.callbacks import ModelCheckpoint\n",
        "\n",
        "model = create_model()\n",
        "model.compile(optimizer=Adam(0.001), loss='categorical_crossentropy', metrics=['accuracy'])\n",
        "\n",
        "mcp_cb = ModelCheckpoint(filepath='/content/weights.{epoch:02d}-{val_loss:.2f}.hdf5', monitor='val_loss', \n",
        "                         save_best_only=True, save_weights_only=True, mode='min', period=3, verbose=1)\n",
        "history = model.fit(x=tr_images, y=tr_oh_labels, batch_size=1000, epochs=10, validation_data=(val_images, val_oh_labels),\n",
        "                   callbacks=[mcp_cb])"
      ],
      "metadata": {
        "execution": {
          "iopub.status.busy": "2022-02-14T01:54:43.268829Z",
          "iopub.execute_input": "2022-02-14T01:54:43.269588Z",
          "iopub.status.idle": "2022-02-14T01:54:46.439324Z",
          "shell.execute_reply.started": "2022-02-14T01:54:43.269549Z",
          "shell.execute_reply": "2022-02-14T01:54:46.438468Z"
        },
        "trusted": true,
        "colab": {
          "base_uri": "https://localhost:8080/"
        },
        "id": "tJvTDZjiGaYD",
        "outputId": "ea15355c-178d-4c08-b939-15b80c26bacf"
      },
      "execution_count": null,
      "outputs": [
        {
          "output_type": "stream",
          "name": "stdout",
          "text": [
            "WARNING:tensorflow:`period` argument is deprecated. Please use `save_freq` to specify the frequency in number of batches seen.\n",
            "Epoch 1/10\n",
            "51/51 [==============================] - 2s 28ms/step - loss: 1.0805 - accuracy: 0.6475 - val_loss: 0.6237 - val_accuracy: 0.7946\n",
            "Epoch 2/10\n",
            "51/51 [==============================] - 1s 21ms/step - loss: 0.5346 - accuracy: 0.8216 - val_loss: 0.4996 - val_accuracy: 0.8280\n",
            "Epoch 3/10\n",
            "48/51 [===========================>..] - ETA: 0s - loss: 0.4627 - accuracy: 0.8420\n",
            "Epoch 00003: val_loss improved from inf to 0.45957, saving model to /content/weights.03-0.46.hdf5\n",
            "51/51 [==============================] - 1s 22ms/step - loss: 0.4615 - accuracy: 0.8427 - val_loss: 0.4596 - val_accuracy: 0.8383\n",
            "Epoch 4/10\n",
            "51/51 [==============================] - 1s 22ms/step - loss: 0.4242 - accuracy: 0.8530 - val_loss: 0.4263 - val_accuracy: 0.8512\n",
            "Epoch 5/10\n",
            "51/51 [==============================] - 1s 20ms/step - loss: 0.3979 - accuracy: 0.8631 - val_loss: 0.4136 - val_accuracy: 0.8563\n",
            "Epoch 6/10\n",
            "49/51 [===========================>..] - ETA: 0s - loss: 0.3875 - accuracy: 0.8660\n",
            "Epoch 00006: val_loss improved from 0.45957 to 0.39443, saving model to /content/weights.06-0.39.hdf5\n",
            "51/51 [==============================] - 1s 20ms/step - loss: 0.3864 - accuracy: 0.8665 - val_loss: 0.3944 - val_accuracy: 0.8613\n",
            "Epoch 7/10\n",
            "51/51 [==============================] - 1s 21ms/step - loss: 0.3686 - accuracy: 0.8713 - val_loss: 0.3867 - val_accuracy: 0.8638\n",
            "Epoch 8/10\n",
            "51/51 [==============================] - 1s 22ms/step - loss: 0.3517 - accuracy: 0.8770 - val_loss: 0.3813 - val_accuracy: 0.8654\n",
            "Epoch 9/10\n",
            "50/51 [============================>.] - ETA: 0s - loss: 0.3427 - accuracy: 0.8802\n",
            "Epoch 00009: val_loss improved from 0.39443 to 0.37822, saving model to /content/weights.09-0.38.hdf5\n",
            "51/51 [==============================] - 1s 23ms/step - loss: 0.3422 - accuracy: 0.8802 - val_loss: 0.3782 - val_accuracy: 0.8654\n",
            "Epoch 10/10\n",
            "51/51 [==============================] - 1s 28ms/step - loss: 0.3324 - accuracy: 0.8829 - val_loss: 0.3629 - val_accuracy: 0.8708\n"
          ]
        }
      ]
    },
    {
      "cell_type": "code",
      "source": [
        "!ls -lia\n",
        "# !rm -rf weight*\n",
        "# !ls -lia\n"
      ],
      "metadata": {
        "execution": {
          "iopub.status.busy": "2022-02-14T01:54:46.441233Z",
          "iopub.execute_input": "2022-02-14T01:54:46.441639Z",
          "iopub.status.idle": "2022-02-14T01:54:47.189643Z",
          "shell.execute_reply.started": "2022-02-14T01:54:46.441595Z",
          "shell.execute_reply": "2022-02-14T01:54:47.188837Z"
        },
        "trusted": true,
        "colab": {
          "base_uri": "https://localhost:8080/"
        },
        "id": "9OK4mIvsGaYE",
        "outputId": "29c1be42-dcd1-4c68-8ca5-85907215684f"
      },
      "execution_count": null,
      "outputs": [
        {
          "output_type": "stream",
          "name": "stdout",
          "text": [
            "total 1036\n",
            "5505047 drwxr-xr-x 1 root root   4096 Feb 14 07:29 .\n",
            "5374449 drwxr-xr-x 1 root root   4096 Feb 14 07:19 ..\n",
            "6946832 drwxr-xr-x 4 root root   4096 Feb  1 14:31 .config\n",
            "5505048 drwxr-xr-x 1 root root   4096 Feb  1 14:32 sample_data\n",
            "5373981 -rw-r--r-- 1 root root 344272 Feb 14 07:29 weights.03-0.46.hdf5\n",
            "5373982 -rw-r--r-- 1 root root 344272 Feb 14 07:29 weights.06-0.39.hdf5\n",
            "5373983 -rw-r--r-- 1 root root 344272 Feb 14 07:29 weights.09-0.38.hdf5\n"
          ]
        }
      ]
    },
    {
      "cell_type": "markdown",
      "source": [
        "## ReduceLROnPlateau(monitor='val_loss', factor=0.1, patience=10, verbose=0, mode='auto', min_delta=0.0001, cooldown=0, min_lr=0)\n",
        "* 특정 epochs 횟수동안 성능이 개선 되지 않을 시 Learning rate를 동적으로 감소 시킴 \n",
        "* monitor: 모니터할 지표(loss 또는 평가 지표) \n",
        "* factor: 학습 속도를 줄일 인수. new_lr = lr * factor \n",
        "* patience: Learing Rate를 줄이기 전에 monitor할 epochs 횟수. \n",
        "* mode: {auto, min, max} 중 하나. monitor 지표가 감소해야 좋을 경우 min, 증가해야 좋을 경우 max, auto는 monitor 이름에서 유추. "
      ],
      "metadata": {
        "id": "5TuY64g5GaYE"
      }
    },
    {
      "cell_type": "code",
      "source": [
        "from tensorflow.keras.callbacks import ReduceLROnPlateau\n",
        "\n",
        "model = create_model()\n",
        "model.compile(optimizer=Adam(0.001), loss='categorical_crossentropy', metrics=['accuracy'])\n",
        "\n",
        "rlr_cb = ReduceLROnPlateau(monitor='val_loss', factor=0.3, patience=2, mode='min', verbose=1)\n",
        "history = model.fit(x=tr_images, y=tr_oh_labels, batch_size=1000, epochs=30, validation_data=(val_images, val_oh_labels),\n",
        "                   callbacks=[rlr_cb])"
      ],
      "metadata": {
        "execution": {
          "iopub.status.busy": "2022-02-14T01:58:25.309143Z",
          "iopub.execute_input": "2022-02-14T01:58:25.309645Z",
          "iopub.status.idle": "2022-02-14T01:58:36.141032Z",
          "shell.execute_reply.started": "2022-02-14T01:58:25.309604Z",
          "shell.execute_reply": "2022-02-14T01:58:36.140262Z"
        },
        "trusted": true,
        "colab": {
          "base_uri": "https://localhost:8080/"
        },
        "id": "ZLQXhCNvGaYE",
        "outputId": "e1a259a5-3350-4b7f-82ce-e9bd8a1478de"
      },
      "execution_count": null,
      "outputs": [
        {
          "output_type": "stream",
          "name": "stdout",
          "text": [
            "Epoch 1/30\n",
            "51/51 [==============================] - 1s 17ms/step - loss: 1.1521 - accuracy: 0.6167 - val_loss: 0.6727 - val_accuracy: 0.7776 - lr: 0.0010\n",
            "Epoch 2/30\n",
            "51/51 [==============================] - 1s 14ms/step - loss: 0.5628 - accuracy: 0.8127 - val_loss: 0.5183 - val_accuracy: 0.8238 - lr: 0.0010\n",
            "Epoch 3/30\n",
            "51/51 [==============================] - 1s 14ms/step - loss: 0.4750 - accuracy: 0.8384 - val_loss: 0.4678 - val_accuracy: 0.8362 - lr: 0.0010\n",
            "Epoch 4/30\n",
            "51/51 [==============================] - 1s 14ms/step - loss: 0.4414 - accuracy: 0.8486 - val_loss: 0.4423 - val_accuracy: 0.8427 - lr: 0.0010\n",
            "Epoch 5/30\n",
            "51/51 [==============================] - 1s 14ms/step - loss: 0.4083 - accuracy: 0.8590 - val_loss: 0.4250 - val_accuracy: 0.8458 - lr: 0.0010\n",
            "Epoch 6/30\n",
            "51/51 [==============================] - 1s 14ms/step - loss: 0.3888 - accuracy: 0.8653 - val_loss: 0.4111 - val_accuracy: 0.8540 - lr: 0.0010\n",
            "Epoch 7/30\n",
            "51/51 [==============================] - 1s 14ms/step - loss: 0.3771 - accuracy: 0.8679 - val_loss: 0.3952 - val_accuracy: 0.8579 - lr: 0.0010\n",
            "Epoch 8/30\n",
            "51/51 [==============================] - 1s 14ms/step - loss: 0.3597 - accuracy: 0.8738 - val_loss: 0.3861 - val_accuracy: 0.8639 - lr: 0.0010\n",
            "Epoch 9/30\n",
            "51/51 [==============================] - 1s 15ms/step - loss: 0.3494 - accuracy: 0.8768 - val_loss: 0.3762 - val_accuracy: 0.8653 - lr: 0.0010\n",
            "Epoch 10/30\n",
            "51/51 [==============================] - 1s 14ms/step - loss: 0.3428 - accuracy: 0.8792 - val_loss: 0.3746 - val_accuracy: 0.8656 - lr: 0.0010\n",
            "Epoch 11/30\n",
            "51/51 [==============================] - 1s 14ms/step - loss: 0.3320 - accuracy: 0.8821 - val_loss: 0.3657 - val_accuracy: 0.8692 - lr: 0.0010\n",
            "Epoch 12/30\n",
            "51/51 [==============================] - 1s 14ms/step - loss: 0.3217 - accuracy: 0.8863 - val_loss: 0.3580 - val_accuracy: 0.8722 - lr: 0.0010\n",
            "Epoch 13/30\n",
            "51/51 [==============================] - 1s 14ms/step - loss: 0.3181 - accuracy: 0.8872 - val_loss: 0.3601 - val_accuracy: 0.8731 - lr: 0.0010\n",
            "Epoch 14/30\n",
            "51/51 [==============================] - 1s 14ms/step - loss: 0.3078 - accuracy: 0.8903 - val_loss: 0.3536 - val_accuracy: 0.8726 - lr: 0.0010\n",
            "Epoch 15/30\n",
            "51/51 [==============================] - 1s 14ms/step - loss: 0.3042 - accuracy: 0.8908 - val_loss: 0.3460 - val_accuracy: 0.8776 - lr: 0.0010\n",
            "Epoch 16/30\n",
            "51/51 [==============================] - 1s 16ms/step - loss: 0.3010 - accuracy: 0.8922 - val_loss: 0.3490 - val_accuracy: 0.8771 - lr: 0.0010\n",
            "Epoch 17/30\n",
            "51/51 [==============================] - 1s 14ms/step - loss: 0.2930 - accuracy: 0.8955 - val_loss: 0.3378 - val_accuracy: 0.8782 - lr: 0.0010\n",
            "Epoch 18/30\n",
            "51/51 [==============================] - 1s 15ms/step - loss: 0.2861 - accuracy: 0.8972 - val_loss: 0.3434 - val_accuracy: 0.8756 - lr: 0.0010\n",
            "Epoch 19/30\n",
            "51/51 [==============================] - 1s 14ms/step - loss: 0.2837 - accuracy: 0.8984 - val_loss: 0.3358 - val_accuracy: 0.8789 - lr: 0.0010\n",
            "Epoch 20/30\n",
            "51/51 [==============================] - 1s 14ms/step - loss: 0.2782 - accuracy: 0.9006 - val_loss: 0.3379 - val_accuracy: 0.8799 - lr: 0.0010\n",
            "Epoch 21/30\n",
            "51/51 [==============================] - 1s 15ms/step - loss: 0.2750 - accuracy: 0.9018 - val_loss: 0.3315 - val_accuracy: 0.8822 - lr: 0.0010\n",
            "Epoch 22/30\n",
            "51/51 [==============================] - 1s 14ms/step - loss: 0.2704 - accuracy: 0.9036 - val_loss: 0.3258 - val_accuracy: 0.8824 - lr: 0.0010\n",
            "Epoch 23/30\n",
            "51/51 [==============================] - 1s 14ms/step - loss: 0.2638 - accuracy: 0.9058 - val_loss: 0.3276 - val_accuracy: 0.8836 - lr: 0.0010\n",
            "Epoch 24/30\n",
            "50/51 [============================>.] - ETA: 0s - loss: 0.2603 - accuracy: 0.9066\n",
            "Epoch 00024: ReduceLROnPlateau reducing learning rate to 0.0003000000142492354.\n",
            "51/51 [==============================] - 1s 15ms/step - loss: 0.2605 - accuracy: 0.9066 - val_loss: 0.3456 - val_accuracy: 0.8771 - lr: 0.0010\n",
            "Epoch 25/30\n",
            "51/51 [==============================] - 1s 14ms/step - loss: 0.2506 - accuracy: 0.9096 - val_loss: 0.3200 - val_accuracy: 0.8866 - lr: 3.0000e-04\n",
            "Epoch 26/30\n",
            "51/51 [==============================] - 1s 23ms/step - loss: 0.2463 - accuracy: 0.9122 - val_loss: 0.3207 - val_accuracy: 0.8860 - lr: 3.0000e-04\n",
            "Epoch 27/30\n",
            "50/51 [============================>.] - ETA: 0s - loss: 0.2459 - accuracy: 0.9117\n",
            "Epoch 00027: ReduceLROnPlateau reducing learning rate to 9.000000427477062e-05.\n",
            "51/51 [==============================] - 1s 19ms/step - loss: 0.2450 - accuracy: 0.9123 - val_loss: 0.3223 - val_accuracy: 0.8866 - lr: 3.0000e-04\n",
            "Epoch 28/30\n",
            "51/51 [==============================] - 1s 24ms/step - loss: 0.2422 - accuracy: 0.9134 - val_loss: 0.3175 - val_accuracy: 0.8868 - lr: 9.0000e-05\n",
            "Epoch 29/30\n",
            "51/51 [==============================] - 1s 19ms/step - loss: 0.2411 - accuracy: 0.9141 - val_loss: 0.3169 - val_accuracy: 0.8873 - lr: 9.0000e-05\n",
            "Epoch 30/30\n",
            "51/51 [==============================] - 1s 25ms/step - loss: 0.2407 - accuracy: 0.9141 - val_loss: 0.3176 - val_accuracy: 0.8860 - lr: 9.0000e-05\n"
          ]
        }
      ]
    },
    {
      "cell_type": "markdown",
      "source": [
        "## EarlyStopping(monitor='val_loss', min_delta=0, patience=0, verbose=0, mode='auto', baseline=None, restore_best_weights=False)\n",
        "* 특정 epochs 동안 성능이 개선되지 않을 시 학습을 조기에 중단\n",
        "* monitor: 모니터할 지표(loss 또는 평가 지표) \n",
        "* patience: Early Stopping 적용 전에 monitor할 epochs 횟수. \n",
        "* mode: {auto, min, max} 중 하나. monitor 지표가 감소해야 좋을 경우 min, 증가해야 좋을 경우 max, auto는 monitor 이름에서 유추. "
      ],
      "metadata": {
        "id": "SVpkD18yGaYE"
      }
    },
    {
      "cell_type": "code",
      "source": [
        "from tensorflow.keras.callbacks import EarlyStopping\n",
        "\n",
        "model = create_model()\n",
        "model.compile(optimizer=Adam(0.001), loss='categorical_crossentropy', metrics=['accuracy'])\n",
        "\n",
        "ely_cb = EarlyStopping(monitor='val_loss', patience=3, mode='min', verbose=1)\n",
        "history = model.fit(x=tr_images, y=tr_oh_labels, batch_size=128, epochs=30, validation_data=(val_images, val_oh_labels),\n",
        "                   callbacks=[ely_cb])"
      ],
      "metadata": {
        "execution": {
          "iopub.status.busy": "2022-02-14T02:00:28.118500Z",
          "iopub.execute_input": "2022-02-14T02:00:28.118814Z",
          "iopub.status.idle": "2022-02-14T02:00:41.979573Z",
          "shell.execute_reply.started": "2022-02-14T02:00:28.118783Z",
          "shell.execute_reply": "2022-02-14T02:00:41.978868Z"
        },
        "trusted": true,
        "colab": {
          "base_uri": "https://localhost:8080/"
        },
        "id": "6Ib4JXigGaYF",
        "outputId": "311fb346-ef85-4b96-e1e7-ff3d1e392c87"
      },
      "execution_count": null,
      "outputs": [
        {
          "output_type": "stream",
          "name": "stdout",
          "text": [
            "Epoch 1/30\n",
            "399/399 [==============================] - 4s 7ms/step - loss: 0.6186 - accuracy: 0.7862 - val_loss: 0.4527 - val_accuracy: 0.8384\n",
            "Epoch 2/30\n",
            "399/399 [==============================] - 3s 6ms/step - loss: 0.4158 - accuracy: 0.8531 - val_loss: 0.4248 - val_accuracy: 0.8481\n",
            "Epoch 3/30\n",
            "399/399 [==============================] - 3s 7ms/step - loss: 0.3777 - accuracy: 0.8658 - val_loss: 0.3877 - val_accuracy: 0.8584\n",
            "Epoch 4/30\n",
            "399/399 [==============================] - 3s 7ms/step - loss: 0.3504 - accuracy: 0.8748 - val_loss: 0.3561 - val_accuracy: 0.8684\n",
            "Epoch 5/30\n",
            "399/399 [==============================] - 3s 6ms/step - loss: 0.3272 - accuracy: 0.8817 - val_loss: 0.3559 - val_accuracy: 0.8713\n",
            "Epoch 6/30\n",
            "399/399 [==============================] - 3s 7ms/step - loss: 0.3139 - accuracy: 0.8874 - val_loss: 0.3519 - val_accuracy: 0.8713\n",
            "Epoch 7/30\n",
            "399/399 [==============================] - 3s 7ms/step - loss: 0.3032 - accuracy: 0.8896 - val_loss: 0.3490 - val_accuracy: 0.8716\n",
            "Epoch 8/30\n",
            "399/399 [==============================] - 3s 7ms/step - loss: 0.2924 - accuracy: 0.8931 - val_loss: 0.3331 - val_accuracy: 0.8792\n",
            "Epoch 9/30\n",
            "399/399 [==============================] - 3s 7ms/step - loss: 0.2798 - accuracy: 0.8981 - val_loss: 0.3211 - val_accuracy: 0.8817\n",
            "Epoch 10/30\n",
            "399/399 [==============================] - 3s 8ms/step - loss: 0.2741 - accuracy: 0.9000 - val_loss: 0.3386 - val_accuracy: 0.8779\n",
            "Epoch 11/30\n",
            "399/399 [==============================] - 2s 4ms/step - loss: 0.2633 - accuracy: 0.9035 - val_loss: 0.3137 - val_accuracy: 0.8858\n",
            "Epoch 12/30\n",
            "399/399 [==============================] - 2s 4ms/step - loss: 0.2571 - accuracy: 0.9059 - val_loss: 0.3351 - val_accuracy: 0.8776\n",
            "Epoch 13/30\n",
            "399/399 [==============================] - 2s 5ms/step - loss: 0.2494 - accuracy: 0.9081 - val_loss: 0.3235 - val_accuracy: 0.8856\n",
            "Epoch 14/30\n",
            "399/399 [==============================] - 2s 5ms/step - loss: 0.2378 - accuracy: 0.9122 - val_loss: 0.3108 - val_accuracy: 0.8856\n",
            "Epoch 15/30\n",
            "399/399 [==============================] - 2s 4ms/step - loss: 0.2341 - accuracy: 0.9128 - val_loss: 0.3180 - val_accuracy: 0.8877\n",
            "Epoch 16/30\n",
            "399/399 [==============================] - 2s 4ms/step - loss: 0.2324 - accuracy: 0.9129 - val_loss: 0.3186 - val_accuracy: 0.8846\n",
            "Epoch 17/30\n",
            "399/399 [==============================] - 2s 5ms/step - loss: 0.2216 - accuracy: 0.9171 - val_loss: 0.3088 - val_accuracy: 0.8903\n",
            "Epoch 18/30\n",
            "399/399 [==============================] - 2s 4ms/step - loss: 0.2170 - accuracy: 0.9193 - val_loss: 0.3087 - val_accuracy: 0.8914\n",
            "Epoch 19/30\n",
            "399/399 [==============================] - 2s 4ms/step - loss: 0.2125 - accuracy: 0.9201 - val_loss: 0.3284 - val_accuracy: 0.8870\n",
            "Epoch 20/30\n",
            "399/399 [==============================] - 2s 5ms/step - loss: 0.2085 - accuracy: 0.9235 - val_loss: 0.3194 - val_accuracy: 0.8867\n",
            "Epoch 21/30\n",
            "399/399 [==============================] - 2s 4ms/step - loss: 0.2025 - accuracy: 0.9249 - val_loss: 0.3181 - val_accuracy: 0.8896\n",
            "Epoch 00021: early stopping\n"
          ]
        }
      ]
    },
    {
      "cell_type": "code",
      "source": [
        "!rm weigh*"
      ],
      "metadata": {
        "execution": {
          "iopub.status.busy": "2022-02-14T02:01:00.157460Z",
          "iopub.execute_input": "2022-02-14T02:01:00.157720Z",
          "iopub.status.idle": "2022-02-14T02:01:00.877644Z",
          "shell.execute_reply.started": "2022-02-14T02:01:00.157692Z",
          "shell.execute_reply": "2022-02-14T02:01:00.876710Z"
        },
        "trusted": true,
        "id": "fN3D1FXRGaYF"
      },
      "execution_count": null,
      "outputs": []
    },
    {
      "cell_type": "code",
      "source": [
        "from tensorflow.keras.callbacks import ModelCheckpoint, ReduceLROnPlateau, EarlyStopping\n",
        "\n",
        "model = create_model()\n",
        "model.compile(optimizer=Adam(0.001), loss='categorical_crossentropy', metrics=['accuracy'])\n",
        "\n",
        "mcp_cb = ModelCheckpoint(filepath='/content/weights.{epoch:02d}-{val_loss:.2f}.hdf5', monitor='val_loss', \n",
        "                         save_best_only=True, save_weights_only=True, mode='min', period=1, verbose=0)\n",
        "rlr_cb = ReduceLROnPlateau(monitor='val_loss', factor=0.3, patience=5, mode='min', verbose=1)\n",
        "ely_cb = EarlyStopping(monitor='val_loss', patience=7, mode='min', verbose=1)\n",
        "\n",
        "history = model.fit(x=tr_images, y=tr_oh_labels, batch_size=500, epochs=40, validation_data=(val_images, val_oh_labels),\n",
        "                   callbacks=[mcp_cb, rlr_cb, ely_cb])"
      ],
      "metadata": {
        "execution": {
          "iopub.status.busy": "2022-02-14T02:01:33.068454Z",
          "iopub.execute_input": "2022-02-14T02:01:33.068739Z",
          "iopub.status.idle": "2022-02-14T02:02:04.689617Z",
          "shell.execute_reply.started": "2022-02-14T02:01:33.068711Z",
          "shell.execute_reply": "2022-02-14T02:02:04.688917Z"
        },
        "trusted": true,
        "colab": {
          "base_uri": "https://localhost:8080/"
        },
        "id": "04c_Fi2DGaYF",
        "outputId": "10a18060-7139-4963-b80e-e27288e33eea"
      },
      "execution_count": null,
      "outputs": [
        {
          "output_type": "stream",
          "name": "stdout",
          "text": [
            "WARNING:tensorflow:`period` argument is deprecated. Please use `save_freq` to specify the frequency in number of batches seen.\n",
            "Epoch 1/40\n",
            "102/102 [==============================] - 1s 10ms/step - loss: 0.8312 - accuracy: 0.7281 - val_loss: 0.5447 - val_accuracy: 0.8078 - lr: 0.0010\n",
            "Epoch 2/40\n",
            "102/102 [==============================] - 1s 9ms/step - loss: 0.4801 - accuracy: 0.8362 - val_loss: 0.4669 - val_accuracy: 0.8372 - lr: 0.0010\n",
            "Epoch 3/40\n",
            "102/102 [==============================] - 1s 9ms/step - loss: 0.4325 - accuracy: 0.8504 - val_loss: 0.4343 - val_accuracy: 0.8428 - lr: 0.0010\n",
            "Epoch 4/40\n",
            "102/102 [==============================] - 1s 9ms/step - loss: 0.4048 - accuracy: 0.8584 - val_loss: 0.4091 - val_accuracy: 0.8532 - lr: 0.0010\n",
            "Epoch 5/40\n",
            "102/102 [==============================] - 1s 9ms/step - loss: 0.3795 - accuracy: 0.8667 - val_loss: 0.3915 - val_accuracy: 0.8644 - lr: 0.0010\n",
            "Epoch 6/40\n",
            "102/102 [==============================] - 1s 9ms/step - loss: 0.3653 - accuracy: 0.8703 - val_loss: 0.3933 - val_accuracy: 0.8613 - lr: 0.0010\n",
            "Epoch 7/40\n",
            "102/102 [==============================] - 1s 9ms/step - loss: 0.3525 - accuracy: 0.8757 - val_loss: 0.3742 - val_accuracy: 0.8678 - lr: 0.0010\n",
            "Epoch 8/40\n",
            "102/102 [==============================] - 1s 9ms/step - loss: 0.3401 - accuracy: 0.8798 - val_loss: 0.3642 - val_accuracy: 0.8723 - lr: 0.0010\n",
            "Epoch 9/40\n",
            "102/102 [==============================] - 1s 9ms/step - loss: 0.3276 - accuracy: 0.8839 - val_loss: 0.3792 - val_accuracy: 0.8644 - lr: 0.0010\n",
            "Epoch 10/40\n",
            "102/102 [==============================] - 1s 9ms/step - loss: 0.3235 - accuracy: 0.8844 - val_loss: 0.3496 - val_accuracy: 0.8738 - lr: 0.0010\n",
            "Epoch 11/40\n",
            "102/102 [==============================] - 1s 9ms/step - loss: 0.3147 - accuracy: 0.8886 - val_loss: 0.3489 - val_accuracy: 0.8751 - lr: 0.0010\n",
            "Epoch 12/40\n",
            "102/102 [==============================] - 1s 8ms/step - loss: 0.3033 - accuracy: 0.8920 - val_loss: 0.3415 - val_accuracy: 0.8767 - lr: 0.0010\n",
            "Epoch 13/40\n",
            "102/102 [==============================] - 1s 9ms/step - loss: 0.2955 - accuracy: 0.8939 - val_loss: 0.3403 - val_accuracy: 0.8782 - lr: 0.0010\n",
            "Epoch 14/40\n",
            "102/102 [==============================] - 1s 9ms/step - loss: 0.2949 - accuracy: 0.8937 - val_loss: 0.3459 - val_accuracy: 0.8748 - lr: 0.0010\n",
            "Epoch 15/40\n",
            "102/102 [==============================] - 1s 8ms/step - loss: 0.2837 - accuracy: 0.8981 - val_loss: 0.3387 - val_accuracy: 0.8772 - lr: 0.0010\n",
            "Epoch 16/40\n",
            "102/102 [==============================] - 1s 9ms/step - loss: 0.2824 - accuracy: 0.8985 - val_loss: 0.3353 - val_accuracy: 0.8782 - lr: 0.0010\n",
            "Epoch 17/40\n",
            "102/102 [==============================] - 1s 9ms/step - loss: 0.2754 - accuracy: 0.9008 - val_loss: 0.3363 - val_accuracy: 0.8796 - lr: 0.0010\n",
            "Epoch 18/40\n",
            "102/102 [==============================] - 1s 9ms/step - loss: 0.2685 - accuracy: 0.9037 - val_loss: 0.3273 - val_accuracy: 0.8831 - lr: 0.0010\n",
            "Epoch 19/40\n",
            "102/102 [==============================] - 1s 9ms/step - loss: 0.2623 - accuracy: 0.9047 - val_loss: 0.3391 - val_accuracy: 0.8787 - lr: 0.0010\n",
            "Epoch 20/40\n",
            "102/102 [==============================] - 1s 9ms/step - loss: 0.2603 - accuracy: 0.9060 - val_loss: 0.3231 - val_accuracy: 0.8848 - lr: 0.0010\n",
            "Epoch 21/40\n",
            "102/102 [==============================] - 1s 8ms/step - loss: 0.2565 - accuracy: 0.9080 - val_loss: 0.3296 - val_accuracy: 0.8817 - lr: 0.0010\n",
            "Epoch 22/40\n",
            "102/102 [==============================] - 1s 8ms/step - loss: 0.2503 - accuracy: 0.9087 - val_loss: 0.3308 - val_accuracy: 0.8828 - lr: 0.0010\n",
            "Epoch 23/40\n",
            "102/102 [==============================] - 1s 8ms/step - loss: 0.2453 - accuracy: 0.9115 - val_loss: 0.3369 - val_accuracy: 0.8807 - lr: 0.0010\n",
            "Epoch 24/40\n",
            "102/102 [==============================] - 1s 9ms/step - loss: 0.2441 - accuracy: 0.9110 - val_loss: 0.3307 - val_accuracy: 0.8841 - lr: 0.0010\n",
            "Epoch 25/40\n",
            "100/102 [============================>.] - ETA: 0s - loss: 0.2425 - accuracy: 0.9114\n",
            "Epoch 00025: ReduceLROnPlateau reducing learning rate to 0.0003000000142492354.\n",
            "102/102 [==============================] - 1s 8ms/step - loss: 0.2423 - accuracy: 0.9112 - val_loss: 0.3238 - val_accuracy: 0.8859 - lr: 0.0010\n",
            "Epoch 26/40\n",
            "102/102 [==============================] - 1s 9ms/step - loss: 0.2227 - accuracy: 0.9205 - val_loss: 0.3142 - val_accuracy: 0.8881 - lr: 3.0000e-04\n",
            "Epoch 27/40\n",
            "102/102 [==============================] - 1s 9ms/step - loss: 0.2191 - accuracy: 0.9217 - val_loss: 0.3124 - val_accuracy: 0.8909 - lr: 3.0000e-04\n",
            "Epoch 28/40\n",
            "102/102 [==============================] - 1s 8ms/step - loss: 0.2184 - accuracy: 0.9219 - val_loss: 0.3145 - val_accuracy: 0.8891 - lr: 3.0000e-04\n",
            "Epoch 29/40\n",
            "102/102 [==============================] - 1s 9ms/step - loss: 0.2161 - accuracy: 0.9225 - val_loss: 0.3119 - val_accuracy: 0.8919 - lr: 3.0000e-04\n",
            "Epoch 30/40\n",
            "102/102 [==============================] - 1s 8ms/step - loss: 0.2151 - accuracy: 0.9229 - val_loss: 0.3225 - val_accuracy: 0.8869 - lr: 3.0000e-04\n",
            "Epoch 31/40\n",
            "102/102 [==============================] - 1s 9ms/step - loss: 0.2140 - accuracy: 0.9225 - val_loss: 0.3126 - val_accuracy: 0.8887 - lr: 3.0000e-04\n",
            "Epoch 32/40\n",
            "102/102 [==============================] - 1s 9ms/step - loss: 0.2134 - accuracy: 0.9239 - val_loss: 0.3125 - val_accuracy: 0.8900 - lr: 3.0000e-04\n",
            "Epoch 33/40\n",
            "102/102 [==============================] - 1s 9ms/step - loss: 0.2117 - accuracy: 0.9243 - val_loss: 0.3201 - val_accuracy: 0.8873 - lr: 3.0000e-04\n",
            "Epoch 34/40\n",
            "102/102 [==============================] - ETA: 0s - loss: 0.2102 - accuracy: 0.9254\n",
            "Epoch 00034: ReduceLROnPlateau reducing learning rate to 9.000000427477062e-05.\n",
            "102/102 [==============================] - 1s 9ms/step - loss: 0.2102 - accuracy: 0.9254 - val_loss: 0.3150 - val_accuracy: 0.8906 - lr: 3.0000e-04\n",
            "Epoch 35/40\n",
            "102/102 [==============================] - 1s 9ms/step - loss: 0.2047 - accuracy: 0.9274 - val_loss: 0.3108 - val_accuracy: 0.8918 - lr: 9.0000e-05\n",
            "Epoch 36/40\n",
            "102/102 [==============================] - 1s 9ms/step - loss: 0.2031 - accuracy: 0.9277 - val_loss: 0.3125 - val_accuracy: 0.8901 - lr: 9.0000e-05\n",
            "Epoch 37/40\n",
            "102/102 [==============================] - 1s 8ms/step - loss: 0.2035 - accuracy: 0.9278 - val_loss: 0.3114 - val_accuracy: 0.8900 - lr: 9.0000e-05\n",
            "Epoch 38/40\n",
            "102/102 [==============================] - 1s 8ms/step - loss: 0.2029 - accuracy: 0.9280 - val_loss: 0.3127 - val_accuracy: 0.8907 - lr: 9.0000e-05\n",
            "Epoch 39/40\n",
            "102/102 [==============================] - 1s 8ms/step - loss: 0.2027 - accuracy: 0.9279 - val_loss: 0.3133 - val_accuracy: 0.8884 - lr: 9.0000e-05\n",
            "Epoch 40/40\n",
            " 99/102 [============================>.] - ETA: 0s - loss: 0.2021 - accuracy: 0.9286\n",
            "Epoch 00040: ReduceLROnPlateau reducing learning rate to 2.700000040931627e-05.\n",
            "102/102 [==============================] - 1s 8ms/step - loss: 0.2019 - accuracy: 0.9288 - val_loss: 0.3135 - val_accuracy: 0.8902 - lr: 9.0000e-05\n"
          ]
        }
      ]
    },
    {
      "cell_type": "code",
      "source": [
        "!ls -lia"
      ],
      "metadata": {
        "execution": {
          "iopub.status.busy": "2022-02-14T02:04:50.034898Z",
          "iopub.execute_input": "2022-02-14T02:04:50.035598Z",
          "iopub.status.idle": "2022-02-14T02:04:50.771748Z",
          "shell.execute_reply.started": "2022-02-14T02:04:50.035560Z",
          "shell.execute_reply": "2022-02-14T02:04:50.770958Z"
        },
        "trusted": true,
        "colab": {
          "base_uri": "https://localhost:8080/"
        },
        "id": "m0tVewHSGaYF",
        "outputId": "9dce3c95-eb98-468f-e236-d8822cf0fb85"
      },
      "execution_count": null,
      "outputs": [
        {
          "output_type": "stream",
          "name": "stdout",
          "text": [
            "total 6476\n",
            "5505047 drwxr-xr-x 1 root root   4096 Feb 14 07:31 .\n",
            "5374449 drwxr-xr-x 1 root root   4096 Feb 14 07:19 ..\n",
            "6946832 drwxr-xr-x 4 root root   4096 Feb  1 14:31 .config\n",
            "5505048 drwxr-xr-x 1 root root   4096 Feb  1 14:32 sample_data\n",
            "5373981 -rw-r--r-- 1 root root 344272 Feb 14 07:30 weights.01-0.54.hdf5\n",
            "5373982 -rw-r--r-- 1 root root 344272 Feb 14 07:30 weights.02-0.47.hdf5\n",
            "5373983 -rw-r--r-- 1 root root 344272 Feb 14 07:30 weights.03-0.43.hdf5\n",
            "5374456 -rw-r--r-- 1 root root 344272 Feb 14 07:30 weights.04-0.41.hdf5\n",
            "5374457 -rw-r--r-- 1 root root 344272 Feb 14 07:30 weights.05-0.39.hdf5\n",
            "5374458 -rw-r--r-- 1 root root 344272 Feb 14 07:30 weights.07-0.37.hdf5\n",
            "5374459 -rw-r--r-- 1 root root 344272 Feb 14 07:30 weights.08-0.36.hdf5\n",
            "5374460 -rw-r--r-- 1 root root 344272 Feb 14 07:30 weights.10-0.35.hdf5\n",
            "5374461 -rw-r--r-- 1 root root 344272 Feb 14 07:30 weights.11-0.35.hdf5\n",
            "5374462 -rw-r--r-- 1 root root 344272 Feb 14 07:30 weights.12-0.34.hdf5\n",
            "5374463 -rw-r--r-- 1 root root 344272 Feb 14 07:30 weights.13-0.34.hdf5\n",
            "5374464 -rw-r--r-- 1 root root 344272 Feb 14 07:30 weights.15-0.34.hdf5\n",
            "5374465 -rw-r--r-- 1 root root 344272 Feb 14 07:30 weights.16-0.34.hdf5\n",
            "5374466 -rw-r--r-- 1 root root 344272 Feb 14 07:31 weights.18-0.33.hdf5\n",
            "5374487 -rw-r--r-- 1 root root 344272 Feb 14 07:31 weights.20-0.32.hdf5\n",
            "5374488 -rw-r--r-- 1 root root 344272 Feb 14 07:31 weights.26-0.31.hdf5\n",
            "5374489 -rw-r--r-- 1 root root 344272 Feb 14 07:31 weights.27-0.31.hdf5\n",
            "5374490 -rw-r--r-- 1 root root 344272 Feb 14 07:31 weights.29-0.31.hdf5\n",
            "5374491 -rw-r--r-- 1 root root 344272 Feb 14 07:31 weights.35-0.31.hdf5\n"
          ]
        }
      ]
    }
  ]
}