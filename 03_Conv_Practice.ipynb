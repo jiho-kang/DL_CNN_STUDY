{
  "cells": [
    {
      "cell_type": "markdown",
      "metadata": {
        "id": "view-in-github",
        "colab_type": "text"
      },
      "source": [
        "<a href=\"https://colab.research.google.com/github/jiho-kang/DL_CNN_Study/blob/main/03_Conv_Practice.ipynb\" target=\"_parent\"><img src=\"https://colab.research.google.com/assets/colab-badge.svg\" alt=\"Open In Colab\"/></a>"
      ]
    },
    {
      "metadata": {
        "_uuid": "8f2839f25d086af736a60e9eeb907d3b93b6e0e5",
        "_cell_guid": "b1076dfc-b9ad-4769-8c92-a6c4dae69d19",
        "trusted": true,
        "id": "4MQ9gAaaxc6j"
      },
      "cell_type": "code",
      "source": [
        "import numpy as np # linear algebra\n",
        "import pandas as pd # data processing, CSV file I/O (e.g. pd.read_csv)\n",
        "import os"
      ],
      "execution_count": null,
      "outputs": []
    },
    {
      "metadata": {
        "id": "pm-Rzolvxc6t"
      },
      "cell_type": "markdown",
      "source": [
        "### Conv2D 적용하기\n",
        "* Conv2D() 를 모델에 적용 시에는 반드시 입력은 배치 크기를 제외하고 3차원이 되어야 함(즉 배치를 포함하면 4차원)  "
      ]
    },
    {
      "metadata": {
        "trusted": true,
        "colab": {
          "base_uri": "https://localhost:8080/"
        },
        "id": "QHTpvph4xc6w",
        "outputId": "6e6d569e-9046-4dfa-d7da-2cbf07612609"
      },
      "cell_type": "code",
      "source": [
        "from tensorflow.keras.layers import Input, Conv2D, MaxPooling2D\n",
        "from tensorflow.keras.models import Model\n",
        "\n",
        "input_tensor = Input(shape=(28, 28, 1)) # 지금은 gray니까 1이고, color 이미지는 기본적으로 마지막에 3이 들어간다.\n",
        "x = Conv2D(filters=4, kernel_size=3, strides=1, padding='same', activation='relu')(input_tensor)\n",
        "print('x type:', type(x))\n",
        "print('x:', x)"
      ],
      "execution_count": null,
      "outputs": [
        {
          "output_type": "stream",
          "name": "stdout",
          "text": [
            "x type: <class 'keras.engine.keras_tensor.KerasTensor'>\n",
            "x: KerasTensor(type_spec=TensorSpec(shape=(None, 28, 28, 4), dtype=tf.float32, name=None), name='conv2d_2/Relu:0', description=\"created by layer 'conv2d_2'\")\n"
          ]
        }
      ]
    },
    {
      "metadata": {
        "id": "KDXrvjVdxc6x"
      },
      "cell_type": "markdown",
      "source": [
        "### Pooling 적용하기"
      ]
    },
    {
      "metadata": {
        "trusted": true,
        "colab": {
          "base_uri": "https://localhost:8080/"
        },
        "id": "CbrOqNI_xc6y",
        "outputId": "220cb90c-ec02-417f-a4b0-1fbabce9387c"
      },
      "cell_type": "code",
      "source": [
        "input_tensor = Input(shape=(28, 28, 1))\n",
        "x = Conv2D(filters=16, kernel_size=3, strides=1, padding='same', activation='relu')(input_tensor)\n",
        "x = MaxPooling2D(2)(x)\n",
        "print(x)"
      ],
      "execution_count": null,
      "outputs": [
        {
          "output_type": "stream",
          "name": "stdout",
          "text": [
            "KerasTensor(type_spec=TensorSpec(shape=(None, 14, 14, 16), dtype=tf.float32, name=None), name='max_pooling2d/MaxPool:0', description=\"created by layer 'max_pooling2d'\")\n"
          ]
        }
      ]
    },
    {
      "metadata": {
        "id": "jAxNSnuIxc6z"
      },
      "cell_type": "markdown",
      "source": [
        "### CNN 모델 생성\n",
        "- 이제는 flatten 잘 안쓰고, GlobalAveragePooling2D를 사용함. 일단 flatten 먼저 진행하고 나중에 공부할거임."
      ]
    },
    {
      "metadata": {
        "trusted": true,
        "colab": {
          "base_uri": "https://localhost:8080/"
        },
        "id": "_Zfz3corxc60",
        "outputId": "a0433ff6-ddc7-4ae0-9b50-16b0990cf2f8"
      },
      "cell_type": "code",
      "source": [
        "input_tensor = Input(shape=(28, 28, 1))\n",
        "x = Conv2D(filters=32, kernel_size=3, strides=1, padding='same', activation='relu')(input_tensor)\n",
        "x = Conv2D(filters=64, kernel_size=3, activation='relu')(x)\n",
        "print(x)\n",
        "x = MaxPooling2D(2)(x)\n",
        "\n",
        "model = Model(inputs=input_tensor, outputs=x)\n",
        "model.summary()\n",
        "\n",
        "# 파라미터 갯수\n",
        "# ( 커널사이즈 * 커널사이즈 * 커널 갯수(=depth =채널) * 필터 갯수 ) + bias\n",
        "# 320 = (3 * 3 * 1 * 32) + 32\n",
        "# 18496 = (3 * 3 * 32 * 64) + 64"
      ],
      "execution_count": null,
      "outputs": [
        {
          "output_type": "stream",
          "name": "stdout",
          "text": [
            "KerasTensor(type_spec=TensorSpec(shape=(None, 26, 26, 64), dtype=tf.float32, name=None), name='conv2d_9/Relu:0', description=\"created by layer 'conv2d_9'\")\n",
            "Model: \"model_2\"\n",
            "_________________________________________________________________\n",
            " Layer (type)                Output Shape              Param #   \n",
            "=================================================================\n",
            " input_7 (InputLayer)        [(None, 28, 28, 1)]       0         \n",
            "                                                                 \n",
            " conv2d_8 (Conv2D)           (None, 28, 28, 32)        320       \n",
            "                                                                 \n",
            " conv2d_9 (Conv2D)           (None, 26, 26, 64)        18496     \n",
            "                                                                 \n",
            " max_pooling2d_3 (MaxPooling  (None, 13, 13, 64)       0         \n",
            " 2D)                                                             \n",
            "                                                                 \n",
            "=================================================================\n",
            "Total params: 18,816\n",
            "Trainable params: 18,816\n",
            "Non-trainable params: 0\n",
            "_________________________________________________________________\n"
          ]
        }
      ]
    },
    {
      "metadata": {
        "trusted": true,
        "colab": {
          "base_uri": "https://localhost:8080/"
        },
        "id": "SjVS8193xc62",
        "outputId": "9884effd-a4b1-41cf-efd3-f78880ed08c4"
      },
      "cell_type": "code",
      "source": [
        "from tensorflow.keras.layers import Dense, Flatten\n",
        "\n",
        "input_tensor = Input(shape=(28, 28, 1))\n",
        "x = Conv2D(filters=32, kernel_size=3, strides=1, padding='same', activation='relu')(input_tensor)\n",
        "x = Conv2D(filters=64, kernel_size=3, activation='relu')(x)\n",
        "x = MaxPooling2D(2)(x) # 여기까지 x는 배치를 제외하고 3차원임.\n",
        "\n",
        "# 3차원으로 되어있는 Feature map 결과를 Fully Connected 연결하기 위해서는 Flatten()을 적용해야함. \n",
        "x = Flatten()(x)\n",
        "x = Dense(100, activation='relu')(x)\n",
        "output = Dense(10, activation='softmax')(x)\n",
        "model = Model(inputs=input_tensor, outputs=output)\n",
        "model.summary()"
      ],
      "execution_count": null,
      "outputs": [
        {
          "output_type": "stream",
          "name": "stdout",
          "text": [
            "Model: \"model_3\"\n",
            "_________________________________________________________________\n",
            " Layer (type)                Output Shape              Param #   \n",
            "=================================================================\n",
            " input_8 (InputLayer)        [(None, 28, 28, 1)]       0         \n",
            "                                                                 \n",
            " conv2d_10 (Conv2D)          (None, 28, 28, 32)        320       \n",
            "                                                                 \n",
            " conv2d_11 (Conv2D)          (None, 26, 26, 64)        18496     \n",
            "                                                                 \n",
            " max_pooling2d_4 (MaxPooling  (None, 13, 13, 64)       0         \n",
            " 2D)                                                             \n",
            "                                                                 \n",
            " flatten (Flatten)           (None, 10816)             0         \n",
            "                                                                 \n",
            " dense (Dense)               (None, 100)               1081700   \n",
            "                                                                 \n",
            " dense_1 (Dense)             (None, 10)                1010      \n",
            "                                                                 \n",
            "=================================================================\n",
            "Total params: 1,101,526\n",
            "Trainable params: 1,101,526\n",
            "Non-trainable params: 0\n",
            "_________________________________________________________________\n"
          ]
        }
      ]
    },
    {
      "metadata": {
        "id": "ED216eqQxc69"
      },
      "cell_type": "markdown",
      "source": [
        "### Fashion MNIST 데이터 전처리후 모델 학습\n",
        "이전 fashion-mnist-practice.ipynb에서 학습한 코드"
      ]
    },
    {
      "metadata": {
        "trusted": true,
        "colab": {
          "base_uri": "https://localhost:8080/"
        },
        "id": "tBx9R7TYxc6_",
        "outputId": "5651ba26-8f5b-45cf-ff14-ffada5875015"
      },
      "cell_type": "code",
      "source": [
        "from tensorflow.keras.datasets import fashion_mnist\n",
        "import numpy as np\n",
        "from tensorflow.keras.utils import to_categorical\n",
        "from sklearn.model_selection import train_test_split\n",
        "\n",
        "# 전체 6만개 데이터 중, 5만개는 학습 데이터용, 1만개는 테스트 데이터용으로 분리\n",
        "(train_images, train_labels), (test_images, test_labels) = fashion_mnist.load_data()\n",
        "\n",
        "def get_preprocessed_data(images, labels):\n",
        "    \n",
        "    # 학습과 테스트 이미지 array를 0~1 사이값으로 scale 및 float32 형 변형. \n",
        "    images = np.array(images/255.0, dtype=np.float32)\n",
        "    labels = np.array(labels, dtype=np.float32)\n",
        "    \n",
        "    return images, labels\n",
        "\n",
        "# 0 ~ 1사이값 float32로 변경하는 함수 호출 한 뒤 OHE 적용 \n",
        "def get_preprocessed_ohe(images, labels):\n",
        "    images, labels = get_preprocessed_data(images, labels)\n",
        "    # OHE 적용 \n",
        "    oh_labels = to_categorical(labels)\n",
        "    return images, oh_labels\n",
        "\n",
        "# 학습/검증/테스트 데이터 세트에 전처리 및 OHE 적용한 뒤 반환 \n",
        "def get_train_valid_test_set(train_images, train_labels, test_images, test_labels, valid_size=0.15, random_state=2021):\n",
        "    # 학습 및 테스트 데이터 세트를  0 ~ 1사이값 float32로 변경 및 OHE 적용. \n",
        "    train_images, train_oh_labels = get_preprocessed_ohe(train_images, train_labels)\n",
        "    test_images, test_oh_labels = get_preprocessed_ohe(test_images, test_labels)\n",
        "    \n",
        "    # 학습 데이터를 검증 데이터 세트로 다시 분리\n",
        "    tr_images, val_images, tr_oh_labels, val_oh_labels = train_test_split(train_images, train_oh_labels, test_size=valid_size, random_state=random_state)\n",
        "    \n",
        "    return (tr_images, tr_oh_labels), (val_images, val_oh_labels), (test_images, test_oh_labels ) \n",
        "\n",
        "\n",
        "# Fashion MNIST 데이터 재 로딩 및 전처리 적용하여 학습/검증/데이터 세트 생성. \n",
        "\n",
        "(train_images, train_labels), (test_images, test_labels) = fashion_mnist.load_data()\n",
        "print(train_images.shape, train_labels.shape, test_images.shape, test_labels.shape)\n",
        "(tr_images, tr_oh_labels), (val_images, val_oh_labels), (test_images, test_oh_labels) = \\\n",
        "    get_train_valid_test_set(train_images, train_labels, test_images, test_labels, valid_size=0.15, random_state=2021)\n",
        "print(tr_images.shape, tr_oh_labels.shape, val_images.shape, val_oh_labels.shape, test_images.shape, test_labels.shape)"
      ],
      "execution_count": null,
      "outputs": [
        {
          "output_type": "stream",
          "name": "stdout",
          "text": [
            "Downloading data from https://storage.googleapis.com/tensorflow/tf-keras-datasets/train-labels-idx1-ubyte.gz\n",
            "32768/29515 [=================================] - 0s 0us/step\n",
            "40960/29515 [=========================================] - 0s 0us/step\n",
            "Downloading data from https://storage.googleapis.com/tensorflow/tf-keras-datasets/train-images-idx3-ubyte.gz\n",
            "26427392/26421880 [==============================] - 0s 0us/step\n",
            "26435584/26421880 [==============================] - 0s 0us/step\n",
            "Downloading data from https://storage.googleapis.com/tensorflow/tf-keras-datasets/t10k-labels-idx1-ubyte.gz\n",
            "16384/5148 [===============================================================================================] - 0s 0us/step\n",
            "Downloading data from https://storage.googleapis.com/tensorflow/tf-keras-datasets/t10k-images-idx3-ubyte.gz\n",
            "4423680/4422102 [==============================] - 0s 0us/step\n",
            "4431872/4422102 [==============================] - 0s 0us/step\n",
            "(60000, 28, 28) (60000,) (10000, 28, 28) (10000,)\n",
            "(51000, 28, 28) (51000, 10) (9000, 28, 28) (9000, 10) (10000, 28, 28) (10000,)\n"
          ]
        }
      ]
    },
    {
      "metadata": {
        "trusted": true,
        "id": "Y6mEXizFxc7A"
      },
      "cell_type": "code",
      "source": [
        "from tensorflow.keras.utils import to_categorical\n",
        "from tensorflow.keras.optimizers import Adam\n",
        "from tensorflow.keras.losses import CategoricalCrossentropy\n",
        "from tensorflow.keras.metrics import Accuracy\n",
        "\n",
        "model.compile(optimizer=Adam(0.001), loss='categorical_crossentropy', metrics=['accuracy'])"
      ],
      "execution_count": null,
      "outputs": []
    },
    {
      "metadata": {
        "trusted": true,
        "colab": {
          "base_uri": "https://localhost:8080/"
        },
        "id": "ddZtBor1xc7B",
        "outputId": "b5e655b3-a423-4361-91f9-43b50c259a88"
      },
      "cell_type": "code",
      "source": [
        "history = model.fit(x=tr_images, y=tr_oh_labels, batch_size=1000, epochs=30, validation_data=(val_images, val_oh_labels))"
      ],
      "execution_count": null,
      "outputs": [
        {
          "output_type": "stream",
          "name": "stdout",
          "text": [
            "Epoch 1/30\n",
            "51/51 [==============================] - 11s 30ms/step - loss: 0.7094 - accuracy: 0.7514 - val_loss: 0.4488 - val_accuracy: 0.8360\n",
            "Epoch 2/30\n",
            "51/51 [==============================] - 1s 26ms/step - loss: 0.3951 - accuracy: 0.8615 - val_loss: 0.3794 - val_accuracy: 0.8656\n",
            "Epoch 3/30\n",
            "51/51 [==============================] - 1s 27ms/step - loss: 0.3316 - accuracy: 0.8843 - val_loss: 0.3308 - val_accuracy: 0.8816\n",
            "Epoch 4/30\n",
            "51/51 [==============================] - 1s 27ms/step - loss: 0.3010 - accuracy: 0.8933 - val_loss: 0.3221 - val_accuracy: 0.8837\n",
            "Epoch 5/30\n",
            "51/51 [==============================] - 1s 26ms/step - loss: 0.2682 - accuracy: 0.9048 - val_loss: 0.2864 - val_accuracy: 0.9006\n",
            "Epoch 6/30\n",
            "51/51 [==============================] - 1s 26ms/step - loss: 0.2477 - accuracy: 0.9116 - val_loss: 0.2863 - val_accuracy: 0.8960\n",
            "Epoch 7/30\n",
            "51/51 [==============================] - 1s 27ms/step - loss: 0.2304 - accuracy: 0.9174 - val_loss: 0.2587 - val_accuracy: 0.9074\n",
            "Epoch 8/30\n",
            "51/51 [==============================] - 1s 26ms/step - loss: 0.2229 - accuracy: 0.9199 - val_loss: 0.2499 - val_accuracy: 0.9107\n",
            "Epoch 9/30\n",
            "51/51 [==============================] - 1s 26ms/step - loss: 0.2105 - accuracy: 0.9243 - val_loss: 0.2534 - val_accuracy: 0.9084\n",
            "Epoch 10/30\n",
            "51/51 [==============================] - 1s 26ms/step - loss: 0.1947 - accuracy: 0.9307 - val_loss: 0.2432 - val_accuracy: 0.9159\n",
            "Epoch 11/30\n",
            "51/51 [==============================] - 1s 27ms/step - loss: 0.1835 - accuracy: 0.9336 - val_loss: 0.2464 - val_accuracy: 0.9131\n",
            "Epoch 12/30\n",
            "51/51 [==============================] - 1s 27ms/step - loss: 0.1719 - accuracy: 0.9383 - val_loss: 0.2381 - val_accuracy: 0.9151\n",
            "Epoch 13/30\n",
            "51/51 [==============================] - 1s 26ms/step - loss: 0.1548 - accuracy: 0.9445 - val_loss: 0.2451 - val_accuracy: 0.9121\n",
            "Epoch 14/30\n",
            "51/51 [==============================] - 1s 26ms/step - loss: 0.1435 - accuracy: 0.9491 - val_loss: 0.2408 - val_accuracy: 0.9154\n",
            "Epoch 15/30\n",
            "51/51 [==============================] - 1s 28ms/step - loss: 0.1348 - accuracy: 0.9516 - val_loss: 0.2362 - val_accuracy: 0.9199\n",
            "Epoch 16/30\n",
            "51/51 [==============================] - 1s 26ms/step - loss: 0.1323 - accuracy: 0.9521 - val_loss: 0.2345 - val_accuracy: 0.9204\n",
            "Epoch 17/30\n",
            "51/51 [==============================] - 1s 26ms/step - loss: 0.1216 - accuracy: 0.9566 - val_loss: 0.2414 - val_accuracy: 0.9208\n",
            "Epoch 18/30\n",
            "51/51 [==============================] - 1s 27ms/step - loss: 0.1065 - accuracy: 0.9629 - val_loss: 0.2338 - val_accuracy: 0.9231\n",
            "Epoch 19/30\n",
            "51/51 [==============================] - 1s 26ms/step - loss: 0.0972 - accuracy: 0.9663 - val_loss: 0.2387 - val_accuracy: 0.9229\n",
            "Epoch 20/30\n",
            "51/51 [==============================] - 1s 28ms/step - loss: 0.0927 - accuracy: 0.9673 - val_loss: 0.2472 - val_accuracy: 0.9206\n",
            "Epoch 21/30\n",
            "51/51 [==============================] - 1s 27ms/step - loss: 0.0926 - accuracy: 0.9671 - val_loss: 0.2473 - val_accuracy: 0.9230\n",
            "Epoch 22/30\n",
            "51/51 [==============================] - 1s 28ms/step - loss: 0.0779 - accuracy: 0.9733 - val_loss: 0.2516 - val_accuracy: 0.9233\n",
            "Epoch 23/30\n",
            "51/51 [==============================] - 1s 26ms/step - loss: 0.0719 - accuracy: 0.9758 - val_loss: 0.2633 - val_accuracy: 0.9238\n",
            "Epoch 24/30\n",
            "51/51 [==============================] - 1s 26ms/step - loss: 0.0637 - accuracy: 0.9784 - val_loss: 0.2842 - val_accuracy: 0.9174\n",
            "Epoch 25/30\n",
            "51/51 [==============================] - 1s 26ms/step - loss: 0.0627 - accuracy: 0.9783 - val_loss: 0.2707 - val_accuracy: 0.9236\n",
            "Epoch 26/30\n",
            "51/51 [==============================] - 1s 27ms/step - loss: 0.0533 - accuracy: 0.9827 - val_loss: 0.2897 - val_accuracy: 0.9193\n",
            "Epoch 27/30\n",
            "51/51 [==============================] - 1s 27ms/step - loss: 0.0520 - accuracy: 0.9825 - val_loss: 0.2950 - val_accuracy: 0.9200\n",
            "Epoch 28/30\n",
            "51/51 [==============================] - 1s 26ms/step - loss: 0.0446 - accuracy: 0.9858 - val_loss: 0.2947 - val_accuracy: 0.9193\n",
            "Epoch 29/30\n",
            "51/51 [==============================] - 1s 26ms/step - loss: 0.0462 - accuracy: 0.9841 - val_loss: 0.3323 - val_accuracy: 0.9140\n",
            "Epoch 30/30\n",
            "51/51 [==============================] - 1s 27ms/step - loss: 0.0391 - accuracy: 0.9877 - val_loss: 0.3095 - val_accuracy: 0.9223\n"
          ]
        }
      ]
    },
    {
      "metadata": {
        "id": "MG9WNLqCxc7C"
      },
      "cell_type": "markdown",
      "source": [
        "### 모델 성능 평가"
      ]
    },
    {
      "metadata": {
        "trusted": true,
        "colab": {
          "base_uri": "https://localhost:8080/",
          "height": 265
        },
        "id": "Stpj5DDRxc7C",
        "outputId": "816102b3-12bd-49ee-fd05-dd79539f3562"
      },
      "cell_type": "code",
      "source": [
        "import matplotlib.pyplot as plt\n",
        "%matplotlib inline\n",
        "\n",
        "def show_history(history):\n",
        "    plt.plot(history.history['accuracy'], label='train')\n",
        "    plt.plot(history.history['val_accuracy'], label='valid')\n",
        "    plt.legend()\n",
        "    \n",
        "show_history(history)"
      ],
      "execution_count": null,
      "outputs": [
        {
          "output_type": "display_data",
          "data": {
            "image/png": "[encoded data removed]",
            "text/plain": [
              "<Figure size 432x288 with 1 Axes>"
            ]
          },
          "metadata": {
            "needs_background": "light"
          }
        }
      ]
    },
    {
      "metadata": {
        "trusted": true,
        "colab": {
          "base_uri": "https://localhost:8080/"
        },
        "id": "GgsZw7nyxc7D",
        "outputId": "a9329a73-b54a-4178-9d50-198ae016343d"
      },
      "cell_type": "code",
      "source": [
        "# 테스트 데이터 세트로 모델 성능 검증\n",
        "model.evaluate(test_images, test_oh_labels, batch_size=256, verbose=1)"
      ],
      "execution_count": null,
      "outputs": [
        {
          "output_type": "stream",
          "name": "stdout",
          "text": [
            "40/40 [==============================] - 0s 5ms/step - loss: 0.3178 - accuracy: 0.9202\n"
          ]
        },
        {
          "output_type": "execute_result",
          "data": {
            "text/plain": [
              "[0.31778231263160706, 0.920199990272522]"
            ]
          },
          "metadata": {},
          "execution_count": 14
        }
      ]
    },
    {
      "metadata": {
        "id": "zz2p-M9pxc7D"
      },
      "cell_type": "markdown",
      "source": [
        "### Dropout을 적용하여 Fully Connected Layer의 오버피팅 조정\n",
        "* CNN은 일반적으로 Dense Layer보다는 파라미터수(weight 수) 작음\n",
        "* 하지만 많은 Filter 들을 적용하고 이를  Fully Connected Layer로 연결 시 파라미터 수가 늘어남. \n",
        "- 즉, CNN은 Feature Extraction 이후 FC에 연결할 때 Flatten한 Weight에서 과적합이 많이 생기게 된다.\n",
        "* So, Flatten() 이후 Dropout을 적용하여 특정 비율로 FC Layer 연결을 누락 적용.\n",
        "- 이후에는 Flatten말고 GlobaelAverage2D를 쓸거임.\n"
      ]
    },
    {
      "metadata": {
        "trusted": true,
        "colab": {
          "base_uri": "https://localhost:8080/"
        },
        "id": "mky9XJT8xc7E",
        "outputId": "f5a6face-de48-4183-ba40-595ddf552688"
      },
      "cell_type": "code",
      "source": [
        "from tensorflow.keras.layers import Dense, Flatten, Dropout\n",
        "\n",
        "input_tensor = Input(shape=(28, 28, 1))\n",
        "x = Conv2D(filters=32, kernel_size=3, strides=1, padding='same', activation='relu')(input_tensor)\n",
        "x = Conv2D(filters=64, kernel_size=3, activation='relu')(x)\n",
        "x = MaxPooling2D(2)(x)\n",
        "\n",
        "x = Flatten()(x)\n",
        "x = Dropout(rate=0.5)(x) # 50% 떨어뜨림\n",
        "x = Dense(100, activation='relu')(x)\n",
        "output = Dense(10, activation='softmax')(x)\n",
        "model = Model(inputs=input_tensor, outputs=output)\n",
        "model.summary()\n",
        "\n",
        "# model의 summary에는 param이 0.5 떨어지지 않았지만 실제 학습은 0.5 dropout이 된 상태로 진행됨."
      ],
      "execution_count": null,
      "outputs": [
        {
          "output_type": "stream",
          "name": "stdout",
          "text": [
            "Model: \"model_5\"\n",
            "_________________________________________________________________\n",
            " Layer (type)                Output Shape              Param #   \n",
            "=================================================================\n",
            " input_10 (InputLayer)       [(None, 28, 28, 1)]       0         \n",
            "                                                                 \n",
            " conv2d_14 (Conv2D)          (None, 28, 28, 32)        320       \n",
            "                                                                 \n",
            " conv2d_15 (Conv2D)          (None, 26, 26, 64)        18496     \n",
            "                                                                 \n",
            " max_pooling2d_6 (MaxPooling  (None, 13, 13, 64)       0         \n",
            " 2D)                                                             \n",
            "                                                                 \n",
            " flatten_2 (Flatten)         (None, 10816)             0         \n",
            "                                                                 \n",
            " dropout_1 (Dropout)         (None, 10816)             0         \n",
            "                                                                 \n",
            " dense_4 (Dense)             (None, 100)               1081700   \n",
            "                                                                 \n",
            " dense_5 (Dense)             (None, 10)                1010      \n",
            "                                                                 \n",
            "=================================================================\n",
            "Total params: 1,101,526\n",
            "Trainable params: 1,101,526\n",
            "Non-trainable params: 0\n",
            "_________________________________________________________________\n"
          ]
        }
      ]
    },
    {
      "metadata": {
        "trusted": true,
        "colab": {
          "base_uri": "https://localhost:8080/"
        },
        "id": "y5_pfsycxc7E",
        "outputId": "f5126102-8d9a-4722-bdd6-fd4e183b0847"
      },
      "cell_type": "code",
      "source": [
        "model.compile(optimizer=Adam(0.001), loss='categorical_crossentropy', metrics=['accuracy'])\n",
        "history = model.fit(x=tr_images, y=tr_oh_labels, batch_size=1000, epochs=30, validation_data=(val_images, val_oh_labels))"
      ],
      "execution_count": null,
      "outputs": [
        {
          "output_type": "stream",
          "name": "stdout",
          "text": [
            "Epoch 1/30\n",
            "51/51 [==============================] - 2s 32ms/step - loss: 0.7439 - accuracy: 0.7389 - val_loss: 0.4682 - val_accuracy: 0.8327\n",
            "Epoch 2/30\n",
            "51/51 [==============================] - 1s 27ms/step - loss: 0.4142 - accuracy: 0.8548 - val_loss: 0.3817 - val_accuracy: 0.8631\n",
            "Epoch 3/30\n",
            "51/51 [==============================] - 1s 26ms/step - loss: 0.3600 - accuracy: 0.8722 - val_loss: 0.3394 - val_accuracy: 0.8783\n",
            "Epoch 4/30\n",
            "51/51 [==============================] - 1s 27ms/step - loss: 0.3273 - accuracy: 0.8835 - val_loss: 0.3260 - val_accuracy: 0.8821\n",
            "Epoch 5/30\n",
            "51/51 [==============================] - 1s 27ms/step - loss: 0.3078 - accuracy: 0.8908 - val_loss: 0.2992 - val_accuracy: 0.8939\n",
            "Epoch 6/30\n",
            "51/51 [==============================] - 1s 27ms/step - loss: 0.2812 - accuracy: 0.9008 - val_loss: 0.2872 - val_accuracy: 0.8947\n",
            "Epoch 7/30\n",
            "51/51 [==============================] - 1s 28ms/step - loss: 0.2640 - accuracy: 0.9047 - val_loss: 0.2686 - val_accuracy: 0.9037\n",
            "Epoch 8/30\n",
            "51/51 [==============================] - 1s 27ms/step - loss: 0.2496 - accuracy: 0.9104 - val_loss: 0.2571 - val_accuracy: 0.9090\n",
            "Epoch 9/30\n",
            "51/51 [==============================] - 1s 27ms/step - loss: 0.2361 - accuracy: 0.9150 - val_loss: 0.2514 - val_accuracy: 0.9104\n",
            "Epoch 10/30\n",
            "51/51 [==============================] - 1s 27ms/step - loss: 0.2270 - accuracy: 0.9182 - val_loss: 0.2538 - val_accuracy: 0.9041\n",
            "Epoch 11/30\n",
            "51/51 [==============================] - 1s 27ms/step - loss: 0.2226 - accuracy: 0.9197 - val_loss: 0.2419 - val_accuracy: 0.9141\n",
            "Epoch 12/30\n",
            "51/51 [==============================] - 1s 27ms/step - loss: 0.2067 - accuracy: 0.9250 - val_loss: 0.2347 - val_accuracy: 0.9169\n",
            "Epoch 13/30\n",
            "51/51 [==============================] - 1s 27ms/step - loss: 0.1964 - accuracy: 0.9279 - val_loss: 0.2275 - val_accuracy: 0.9179\n",
            "Epoch 14/30\n",
            "51/51 [==============================] - 1s 27ms/step - loss: 0.1869 - accuracy: 0.9327 - val_loss: 0.2389 - val_accuracy: 0.9141\n",
            "Epoch 15/30\n",
            "51/51 [==============================] - 1s 27ms/step - loss: 0.1850 - accuracy: 0.9323 - val_loss: 0.2444 - val_accuracy: 0.9136\n",
            "Epoch 16/30\n",
            "51/51 [==============================] - 1s 26ms/step - loss: 0.1777 - accuracy: 0.9357 - val_loss: 0.2213 - val_accuracy: 0.9204\n",
            "Epoch 17/30\n",
            "51/51 [==============================] - 1s 27ms/step - loss: 0.1662 - accuracy: 0.9393 - val_loss: 0.2196 - val_accuracy: 0.9214\n",
            "Epoch 18/30\n",
            "51/51 [==============================] - 1s 27ms/step - loss: 0.1590 - accuracy: 0.9420 - val_loss: 0.2226 - val_accuracy: 0.9196\n",
            "Epoch 19/30\n",
            "51/51 [==============================] - 1s 27ms/step - loss: 0.1522 - accuracy: 0.9435 - val_loss: 0.2204 - val_accuracy: 0.9214\n",
            "Epoch 20/30\n",
            "51/51 [==============================] - 1s 27ms/step - loss: 0.1459 - accuracy: 0.9459 - val_loss: 0.2141 - val_accuracy: 0.9249\n",
            "Epoch 21/30\n",
            "51/51 [==============================] - 1s 27ms/step - loss: 0.1444 - accuracy: 0.9474 - val_loss: 0.2101 - val_accuracy: 0.9267\n",
            "Epoch 22/30\n",
            "51/51 [==============================] - 1s 27ms/step - loss: 0.1379 - accuracy: 0.9491 - val_loss: 0.2165 - val_accuracy: 0.9227\n",
            "Epoch 23/30\n",
            "51/51 [==============================] - 1s 27ms/step - loss: 0.1299 - accuracy: 0.9514 - val_loss: 0.2140 - val_accuracy: 0.9277\n",
            "Epoch 24/30\n",
            "51/51 [==============================] - 1s 28ms/step - loss: 0.1272 - accuracy: 0.9529 - val_loss: 0.2078 - val_accuracy: 0.9272\n",
            "Epoch 25/30\n",
            "51/51 [==============================] - 1s 28ms/step - loss: 0.1204 - accuracy: 0.9554 - val_loss: 0.2265 - val_accuracy: 0.9222\n",
            "Epoch 26/30\n",
            "51/51 [==============================] - 1s 27ms/step - loss: 0.1175 - accuracy: 0.9559 - val_loss: 0.2124 - val_accuracy: 0.9281\n",
            "Epoch 27/30\n",
            "51/51 [==============================] - 1s 27ms/step - loss: 0.1098 - accuracy: 0.9589 - val_loss: 0.2282 - val_accuracy: 0.9234\n",
            "Epoch 28/30\n",
            "51/51 [==============================] - 1s 27ms/step - loss: 0.1065 - accuracy: 0.9614 - val_loss: 0.2094 - val_accuracy: 0.9303\n",
            "Epoch 29/30\n",
            "51/51 [==============================] - 1s 28ms/step - loss: 0.1027 - accuracy: 0.9620 - val_loss: 0.2122 - val_accuracy: 0.9301\n",
            "Epoch 30/30\n",
            "51/51 [==============================] - 1s 28ms/step - loss: 0.0985 - accuracy: 0.9630 - val_loss: 0.2158 - val_accuracy: 0.9277\n"
          ]
        }
      ]
    },
    {
      "metadata": {
        "trusted": true,
        "colab": {
          "base_uri": "https://localhost:8080/",
          "height": 302
        },
        "id": "M7-ed-J2xc7F",
        "outputId": "c6463361-b446-40f0-ced2-96626b6b7ac4"
      },
      "cell_type": "code",
      "source": [
        "show_history(history)\n",
        "model.evaluate(test_images, test_oh_labels, batch_size=256, verbose=1)\n",
        "# 0.9202 -> 0.9260"
      ],
      "execution_count": null,
      "outputs": [
        {
          "output_type": "stream",
          "name": "stdout",
          "text": [
            "40/40 [==============================] - 0s 5ms/step - loss: 0.2247 - accuracy: 0.9260\n"
          ]
        },
        {
          "output_type": "execute_result",
          "data": {
            "text/plain": [
              "[0.22473905980587006, 0.9259999990463257]"
            ]
          },
          "metadata": {},
          "execution_count": 18
        },
        {
          "output_type": "display_data",
          "data": {
            "image/png": "[encoded data removed]",
            "text/plain": [
              "<Figure size 432x288 with 1 Axes>"
            ]
          },
          "metadata": {
            "needs_background": "light"
          }
        }
      ]
    },
    {
      "metadata": {
        "trusted": true,
        "colab": {
          "base_uri": "https://localhost:8080/"
        },
        "id": "bpbZ_Svbxc7F",
        "outputId": "d0efd5fb-1b1e-4961-d030-81de25c05ed1"
      },
      "cell_type": "code",
      "source": [
        "from tensorflow.keras.layers import Dense, Flatten, Dropout, GlobalAveragePooling2D\n",
        "\n",
        "def create_model():\n",
        "    input_tensor = Input(shape=(28, 28, 1))\n",
        "    x = Conv2D(filters=32, kernel_size=3, strides=1, padding='same', activation='relu')(input_tensor)\n",
        "    x = Conv2D(filters=64, kernel_size=3, activation='relu')(x)\n",
        "    x = MaxPooling2D(2)(x)\n",
        "\n",
        "    x = Dropout(rate=0.5)(x)\n",
        "    x = Flatten()(x)\n",
        "    x = Dropout(rate=0.5)(x)\n",
        "    x = Dense(200, activation='relu')(x)\n",
        "    X = Dropout(rate=0.2)(x)\n",
        "    output = Dense(10, activation='softmax')(x)\n",
        "    model = Model(inputs=input_tensor, outputs=output)\n",
        "    model.summary()\n",
        "    \n",
        "    return model\n",
        "\n",
        "model = create_model()"
      ],
      "execution_count": null,
      "outputs": [
        {
          "output_type": "stream",
          "name": "stdout",
          "text": [
            "Model: \"model_7\"\n",
            "_________________________________________________________________\n",
            " Layer (type)                Output Shape              Param #   \n",
            "=================================================================\n",
            " input_12 (InputLayer)       [(None, 28, 28, 1)]       0         \n",
            "                                                                 \n",
            " conv2d_18 (Conv2D)          (None, 28, 28, 32)        320       \n",
            "                                                                 \n",
            " conv2d_19 (Conv2D)          (None, 26, 26, 64)        18496     \n",
            "                                                                 \n",
            " max_pooling2d_8 (MaxPooling  (None, 13, 13, 64)       0         \n",
            " 2D)                                                             \n",
            "                                                                 \n",
            " dropout_4 (Dropout)         (None, 13, 13, 64)        0         \n",
            "                                                                 \n",
            " flatten_4 (Flatten)         (None, 10816)             0         \n",
            "                                                                 \n",
            " dropout_5 (Dropout)         (None, 10816)             0         \n",
            "                                                                 \n",
            " dense_8 (Dense)             (None, 200)               2163400   \n",
            "                                                                 \n",
            " dense_9 (Dense)             (None, 10)                2010      \n",
            "                                                                 \n",
            "=================================================================\n",
            "Total params: 2,184,226\n",
            "Trainable params: 2,184,226\n",
            "Non-trainable params: 0\n",
            "_________________________________________________________________\n"
          ]
        }
      ]
    },
    {
      "metadata": {
        "trusted": true,
        "colab": {
          "base_uri": "https://localhost:8080/"
        },
        "id": "oOxawPO5xc7G",
        "outputId": "293ae309-9f05-47a6-b82c-113904568262"
      },
      "cell_type": "code",
      "source": [
        "model.compile(optimizer=Adam(0.001), loss='categorical_crossentropy', metrics=['accuracy'])\n",
        "history = model.fit(x=tr_images, y=tr_oh_labels, batch_size=1000, epochs=30, validation_data=(val_images, val_oh_labels))"
      ],
      "execution_count": null,
      "outputs": [
        {
          "output_type": "stream",
          "name": "stdout",
          "text": [
            "Epoch 1/30\n",
            "51/51 [==============================] - 3s 39ms/step - loss: 0.7217 - accuracy: 0.7423 - val_loss: 0.4358 - val_accuracy: 0.8417\n",
            "Epoch 2/30\n",
            "51/51 [==============================] - 2s 31ms/step - loss: 0.4076 - accuracy: 0.8539 - val_loss: 0.3524 - val_accuracy: 0.8749\n",
            "Epoch 3/30\n",
            "51/51 [==============================] - 2s 30ms/step - loss: 0.3613 - accuracy: 0.8701 - val_loss: 0.3207 - val_accuracy: 0.8841\n",
            "Epoch 4/30\n",
            "51/51 [==============================] - 2s 31ms/step - loss: 0.3305 - accuracy: 0.8813 - val_loss: 0.2942 - val_accuracy: 0.8937\n",
            "Epoch 5/30\n",
            "51/51 [==============================] - 2s 31ms/step - loss: 0.3068 - accuracy: 0.8891 - val_loss: 0.2805 - val_accuracy: 0.8998\n",
            "Epoch 6/30\n",
            "51/51 [==============================] - 2s 31ms/step - loss: 0.2878 - accuracy: 0.8953 - val_loss: 0.2661 - val_accuracy: 0.9029\n",
            "Epoch 7/30\n",
            "51/51 [==============================] - 2s 30ms/step - loss: 0.2780 - accuracy: 0.8990 - val_loss: 0.2611 - val_accuracy: 0.9034\n",
            "Epoch 8/30\n",
            "51/51 [==============================] - 2s 33ms/step - loss: 0.2600 - accuracy: 0.9049 - val_loss: 0.2414 - val_accuracy: 0.9122\n",
            "Epoch 9/30\n",
            "51/51 [==============================] - 2s 33ms/step - loss: 0.2521 - accuracy: 0.9079 - val_loss: 0.2398 - val_accuracy: 0.9149\n",
            "Epoch 10/30\n",
            "51/51 [==============================] - 2s 34ms/step - loss: 0.2432 - accuracy: 0.9106 - val_loss: 0.2346 - val_accuracy: 0.9151\n",
            "Epoch 11/30\n",
            "51/51 [==============================] - 2s 30ms/step - loss: 0.2328 - accuracy: 0.9147 - val_loss: 0.2271 - val_accuracy: 0.9188\n",
            "Epoch 12/30\n",
            "51/51 [==============================] - 2s 30ms/step - loss: 0.2200 - accuracy: 0.9189 - val_loss: 0.2160 - val_accuracy: 0.9217\n",
            "Epoch 13/30\n",
            "51/51 [==============================] - 2s 31ms/step - loss: 0.2150 - accuracy: 0.9206 - val_loss: 0.2135 - val_accuracy: 0.9219\n",
            "Epoch 14/30\n",
            "51/51 [==============================] - 1s 29ms/step - loss: 0.2057 - accuracy: 0.9238 - val_loss: 0.2119 - val_accuracy: 0.9220\n",
            "Epoch 15/30\n",
            "51/51 [==============================] - 2s 30ms/step - loss: 0.1993 - accuracy: 0.9268 - val_loss: 0.2073 - val_accuracy: 0.9247\n",
            "Epoch 16/30\n",
            "51/51 [==============================] - 2s 31ms/step - loss: 0.1937 - accuracy: 0.9279 - val_loss: 0.2020 - val_accuracy: 0.9266\n",
            "Epoch 17/30\n",
            "51/51 [==============================] - 2s 31ms/step - loss: 0.1858 - accuracy: 0.9310 - val_loss: 0.2039 - val_accuracy: 0.9270\n",
            "Epoch 18/30\n",
            "51/51 [==============================] - 2s 32ms/step - loss: 0.1778 - accuracy: 0.9336 - val_loss: 0.2020 - val_accuracy: 0.9269\n",
            "Epoch 19/30\n",
            "51/51 [==============================] - 2s 38ms/step - loss: 0.1750 - accuracy: 0.9353 - val_loss: 0.1964 - val_accuracy: 0.9282\n",
            "Epoch 20/30\n",
            "51/51 [==============================] - 2s 31ms/step - loss: 0.1695 - accuracy: 0.9367 - val_loss: 0.1923 - val_accuracy: 0.9293\n",
            "Epoch 21/30\n",
            "51/51 [==============================] - 2s 31ms/step - loss: 0.1627 - accuracy: 0.9397 - val_loss: 0.1917 - val_accuracy: 0.9333\n",
            "Epoch 22/30\n",
            "51/51 [==============================] - 2s 31ms/step - loss: 0.1564 - accuracy: 0.9417 - val_loss: 0.1913 - val_accuracy: 0.9311\n",
            "Epoch 23/30\n",
            "51/51 [==============================] - 2s 34ms/step - loss: 0.1546 - accuracy: 0.9415 - val_loss: 0.1905 - val_accuracy: 0.9333\n",
            "Epoch 24/30\n",
            "51/51 [==============================] - 2s 34ms/step - loss: 0.1463 - accuracy: 0.9445 - val_loss: 0.1846 - val_accuracy: 0.9338\n",
            "Epoch 25/30\n",
            "51/51 [==============================] - 2s 32ms/step - loss: 0.1421 - accuracy: 0.9467 - val_loss: 0.1882 - val_accuracy: 0.9323\n",
            "Epoch 26/30\n",
            "51/51 [==============================] - 2s 30ms/step - loss: 0.1387 - accuracy: 0.9472 - val_loss: 0.1874 - val_accuracy: 0.9333\n",
            "Epoch 27/30\n",
            "51/51 [==============================] - 2s 29ms/step - loss: 0.1381 - accuracy: 0.9479 - val_loss: 0.1857 - val_accuracy: 0.9346\n",
            "Epoch 28/30\n",
            "51/51 [==============================] - 2s 31ms/step - loss: 0.1304 - accuracy: 0.9510 - val_loss: 0.1912 - val_accuracy: 0.9319\n",
            "Epoch 29/30\n",
            "51/51 [==============================] - 2s 33ms/step - loss: 0.1257 - accuracy: 0.9529 - val_loss: 0.1829 - val_accuracy: 0.9360\n",
            "Epoch 30/30\n",
            "51/51 [==============================] - 2s 33ms/step - loss: 0.1215 - accuracy: 0.9550 - val_loss: 0.1831 - val_accuracy: 0.9366\n"
          ]
        }
      ]
    },
    {
      "metadata": {
        "trusted": true,
        "colab": {
          "base_uri": "https://localhost:8080/",
          "height": 302
        },
        "id": "o8zzZQkrxc7H",
        "outputId": "7377e6df-cf6d-4e3b-8813-5fcac8b9233b"
      },
      "cell_type": "code",
      "source": [
        "show_history(history)\n",
        "model.evaluate(test_images, test_oh_labels, batch_size=256, verbose=1)\n",
        "# 0.9202 -> 0.9260 -> 0.9310"
      ],
      "execution_count": null,
      "outputs": [
        {
          "output_type": "stream",
          "name": "stdout",
          "text": [
            "40/40 [==============================] - 0s 5ms/step - loss: 0.2011 - accuracy: 0.9310\n"
          ]
        },
        {
          "output_type": "execute_result",
          "data": {
            "text/plain": [
              "[0.2011445164680481, 0.9309999942779541]"
            ]
          },
          "metadata": {},
          "execution_count": 23
        },
        {
          "output_type": "display_data",
          "data": {
            "image/png": "[encoded data removed]",
            "text/plain": [
              "<Figure size 432x288 with 1 Axes>"
            ]
          },
          "metadata": {
            "needs_background": "light"
          }
        }
      ]
    },
    {
      "metadata": {
        "id": "Ea16wZllxc7I"
      },
      "cell_type": "markdown",
      "source": [
        "### 입력 이미지는 배치를 포함하여 4차원이 되어야 함(즉 배치를 제외하면 3차원)\n",
        "- fashion_mnist는 다운로드 받으면 사실 배치 포함 3차원임.</br>\n",
        "Conv2D()는 입력으로 배치를 제외하고 3차원 입력이 되어야 함. \n",
        "* 하지만 2차원으로 입력해도 Input(shape=(28, 28, 1)) 에서 3차원으로 변경함. \n",
        "* 명확하게는 2차원 Grayscale이미지더라도 입력 numpy 이미지 배열에서 배치를 제외한 3차원 입력을 만들어 주는게 좋음. "
      ]
    },
    {
      "metadata": {
        "trusted": true,
        "colab": {
          "base_uri": "https://localhost:8080/"
        },
        "id": "mHyRibKQxc7I",
        "outputId": "a45443c9-ee6d-4400-87eb-3e344756243d"
      },
      "cell_type": "code",
      "source": [
        "(train_images, train_labels), (test_images, test_labels) = fashion_mnist.load_data()\n",
        "\n",
        "print('before reshape:', train_images.shape, test_images.shape)\n",
        "train_images = np.reshape(train_images, (60000, 28, 28, 1))\n",
        "test_images = np.reshape(test_images, (10000, 28, 28, 1))\n",
        "print('after reshape:', train_images.shape, train_labels.shape, test_images.shape, test_labels.shape)\n",
        "\n",
        "(tr_images, tr_oh_labels), (val_images, val_oh_labels), (test_images, test_oh_labels) = \\\n",
        "    get_train_valid_test_set(train_images, train_labels, test_images, test_labels, valid_size=0.15, random_state=2021)\n",
        "print(tr_images.shape, tr_oh_labels.shape, val_images.shape, val_oh_labels.shape, test_images.shape, test_labels.shape)"
      ],
      "execution_count": null,
      "outputs": [
        {
          "output_type": "stream",
          "name": "stdout",
          "text": [
            "before reshape: (60000, 28, 28) (10000, 28, 28)\n",
            "after reshape: (60000, 28, 28, 1) (60000,) (10000, 28, 28, 1) (10000,)\n",
            "(51000, 28, 28, 1) (51000, 10) (9000, 28, 28, 1) (9000, 10) (10000, 28, 28, 1) (10000,)\n"
          ]
        }
      ]
    },
    {
      "metadata": {
        "trusted": true,
        "colab": {
          "base_uri": "https://localhost:8080/"
        },
        "id": "9Wuok6yyxc7J",
        "outputId": "281e7f06-ecf8-454c-fd88-89be260f7450"
      },
      "cell_type": "code",
      "source": [
        "from tensorflow.keras.optimizers import Adam\n",
        "\n",
        "model = create_model()\n",
        "model.compile(optimizer=Adam(0.001), loss='categorical_crossentropy', metrics=['accuracy'])\n",
        "history = model.fit(x=tr_images, y=tr_oh_labels, batch_size=1000, epochs=30, validation_data=(val_images, val_oh_labels))"
      ],
      "execution_count": null,
      "outputs": [
        {
          "output_type": "stream",
          "name": "stdout",
          "text": [
            "Model: \"model_8\"\n",
            "_________________________________________________________________\n",
            " Layer (type)                Output Shape              Param #   \n",
            "=================================================================\n",
            " input_13 (InputLayer)       [(None, 28, 28, 1)]       0         \n",
            "                                                                 \n",
            " conv2d_20 (Conv2D)          (None, 28, 28, 32)        320       \n",
            "                                                                 \n",
            " conv2d_21 (Conv2D)          (None, 26, 26, 64)        18496     \n",
            "                                                                 \n",
            " max_pooling2d_9 (MaxPooling  (None, 13, 13, 64)       0         \n",
            " 2D)                                                             \n",
            "                                                                 \n",
            " dropout_7 (Dropout)         (None, 13, 13, 64)        0         \n",
            "                                                                 \n",
            " flatten_5 (Flatten)         (None, 10816)             0         \n",
            "                                                                 \n",
            " dropout_8 (Dropout)         (None, 10816)             0         \n",
            "                                                                 \n",
            " dense_10 (Dense)            (None, 200)               2163400   \n",
            "                                                                 \n",
            " dense_11 (Dense)            (None, 10)                2010      \n",
            "                                                                 \n",
            "=================================================================\n",
            "Total params: 2,184,226\n",
            "Trainable params: 2,184,226\n",
            "Non-trainable params: 0\n",
            "_________________________________________________________________\n",
            "Epoch 1/30\n",
            "51/51 [==============================] - 3s 35ms/step - loss: 0.7156 - accuracy: 0.7479 - val_loss: 0.4343 - val_accuracy: 0.8410\n",
            "Epoch 2/30\n",
            "51/51 [==============================] - 1s 29ms/step - loss: 0.4077 - accuracy: 0.8550 - val_loss: 0.3542 - val_accuracy: 0.8750\n",
            "Epoch 3/30\n",
            "51/51 [==============================] - 1s 29ms/step - loss: 0.3594 - accuracy: 0.8711 - val_loss: 0.3266 - val_accuracy: 0.8846\n",
            "Epoch 4/30\n",
            "51/51 [==============================] - 1s 29ms/step - loss: 0.3339 - accuracy: 0.8801 - val_loss: 0.3077 - val_accuracy: 0.8897\n",
            "Epoch 5/30\n",
            "51/51 [==============================] - 1s 29ms/step - loss: 0.3137 - accuracy: 0.8879 - val_loss: 0.2944 - val_accuracy: 0.8951\n",
            "Epoch 6/30\n",
            "51/51 [==============================] - 2s 30ms/step - loss: 0.2932 - accuracy: 0.8933 - val_loss: 0.2734 - val_accuracy: 0.9031\n",
            "Epoch 7/30\n",
            "51/51 [==============================] - 2s 29ms/step - loss: 0.2803 - accuracy: 0.8994 - val_loss: 0.2641 - val_accuracy: 0.9068\n",
            "Epoch 8/30\n",
            "51/51 [==============================] - 2s 30ms/step - loss: 0.2684 - accuracy: 0.9026 - val_loss: 0.2550 - val_accuracy: 0.9086\n",
            "Epoch 9/30\n",
            "51/51 [==============================] - 2s 31ms/step - loss: 0.2562 - accuracy: 0.9065 - val_loss: 0.2430 - val_accuracy: 0.9101\n",
            "Epoch 10/30\n",
            "51/51 [==============================] - 1s 29ms/step - loss: 0.2460 - accuracy: 0.9100 - val_loss: 0.2361 - val_accuracy: 0.9134\n",
            "Epoch 11/30\n",
            "51/51 [==============================] - 2s 31ms/step - loss: 0.2329 - accuracy: 0.9152 - val_loss: 0.2302 - val_accuracy: 0.9157\n",
            "Epoch 12/30\n",
            "51/51 [==============================] - 2s 30ms/step - loss: 0.2279 - accuracy: 0.9164 - val_loss: 0.2281 - val_accuracy: 0.9164\n",
            "Epoch 13/30\n",
            "51/51 [==============================] - 1s 29ms/step - loss: 0.2191 - accuracy: 0.9194 - val_loss: 0.2193 - val_accuracy: 0.9214\n",
            "Epoch 14/30\n",
            "51/51 [==============================] - 1s 29ms/step - loss: 0.2113 - accuracy: 0.9223 - val_loss: 0.2209 - val_accuracy: 0.9181\n",
            "Epoch 15/30\n",
            "51/51 [==============================] - 2s 31ms/step - loss: 0.2072 - accuracy: 0.9238 - val_loss: 0.2174 - val_accuracy: 0.9220\n",
            "Epoch 16/30\n",
            "51/51 [==============================] - 2s 31ms/step - loss: 0.1988 - accuracy: 0.9261 - val_loss: 0.2093 - val_accuracy: 0.9213\n",
            "Epoch 17/30\n",
            "51/51 [==============================] - 2s 31ms/step - loss: 0.1878 - accuracy: 0.9294 - val_loss: 0.2076 - val_accuracy: 0.9234\n",
            "Epoch 18/30\n",
            "51/51 [==============================] - 2s 30ms/step - loss: 0.1858 - accuracy: 0.9310 - val_loss: 0.2093 - val_accuracy: 0.9238\n",
            "Epoch 19/30\n",
            "51/51 [==============================] - 2s 30ms/step - loss: 0.1801 - accuracy: 0.9323 - val_loss: 0.2020 - val_accuracy: 0.9274\n",
            "Epoch 20/30\n",
            "51/51 [==============================] - 1s 29ms/step - loss: 0.1745 - accuracy: 0.9345 - val_loss: 0.2116 - val_accuracy: 0.9234\n",
            "Epoch 21/30\n",
            "51/51 [==============================] - 2s 31ms/step - loss: 0.1713 - accuracy: 0.9362 - val_loss: 0.1955 - val_accuracy: 0.9301\n",
            "Epoch 22/30\n",
            "51/51 [==============================] - 2s 30ms/step - loss: 0.1635 - accuracy: 0.9382 - val_loss: 0.1979 - val_accuracy: 0.9287\n",
            "Epoch 23/30\n",
            "51/51 [==============================] - 2s 30ms/step - loss: 0.1575 - accuracy: 0.9416 - val_loss: 0.1950 - val_accuracy: 0.9311\n",
            "Epoch 24/30\n",
            "51/51 [==============================] - 2s 30ms/step - loss: 0.1531 - accuracy: 0.9433 - val_loss: 0.1935 - val_accuracy: 0.9309\n",
            "Epoch 25/30\n",
            "51/51 [==============================] - 2s 30ms/step - loss: 0.1499 - accuracy: 0.9439 - val_loss: 0.1938 - val_accuracy: 0.9300\n",
            "Epoch 26/30\n",
            "51/51 [==============================] - 2s 31ms/step - loss: 0.1459 - accuracy: 0.9453 - val_loss: 0.1949 - val_accuracy: 0.9304\n",
            "Epoch 27/30\n",
            "51/51 [==============================] - 2s 30ms/step - loss: 0.1427 - accuracy: 0.9455 - val_loss: 0.1950 - val_accuracy: 0.9310\n",
            "Epoch 28/30\n",
            "51/51 [==============================] - 2s 31ms/step - loss: 0.1401 - accuracy: 0.9466 - val_loss: 0.1883 - val_accuracy: 0.9332\n",
            "Epoch 29/30\n",
            "51/51 [==============================] - 2s 31ms/step - loss: 0.1346 - accuracy: 0.9490 - val_loss: 0.1920 - val_accuracy: 0.9328\n",
            "Epoch 30/30\n",
            "51/51 [==============================] - 2s 31ms/step - loss: 0.1287 - accuracy: 0.9523 - val_loss: 0.1875 - val_accuracy: 0.9349\n"
          ]
        }
      ]
    },
    {
      "metadata": {
        "trusted": true,
        "colab": {
          "base_uri": "https://localhost:8080/",
          "height": 302
        },
        "id": "jTy1XdNexc7K",
        "outputId": "b0cb14c4-f236-42c1-cb3e-f3d0c390b1bb"
      },
      "cell_type": "code",
      "source": [
        "show_history(history)\n",
        "model.evaluate(test_images, test_oh_labels, batch_size=256, verbose=1)"
      ],
      "execution_count": null,
      "outputs": [
        {
          "output_type": "stream",
          "name": "stdout",
          "text": [
            "40/40 [==============================] - 0s 5ms/step - loss: 0.2011 - accuracy: 0.9321\n"
          ]
        },
        {
          "output_type": "execute_result",
          "data": {
            "text/plain": [
              "[0.20112952589988708, 0.9320999979972839]"
            ]
          },
          "metadata": {},
          "execution_count": 26
        },
        {
          "output_type": "display_data",
          "data": {
            "image/png": "[encoded data removed]",
            "text/plain": [
              "<Figure size 432x288 with 1 Axes>"
            ]
          },
          "metadata": {
            "needs_background": "light"
          }
        }
      ]
    },
    {
      "metadata": {
        "id": "oVXunuD6xc7L"
      },
      "cell_type": "markdown",
      "source": [
        "### Stride가 1이고 Padding이 없는 경우\n",
        "* I는 입력 Feature Map의 크기, F는 Filter의 크기(Kernel size), P는 Padding(정수), S는 Strides(정수)\n",
        "* O = (I - F + 2P)/2 + 1 = (5 - 3 + 0 )/1 + 1 = 3"
      ]
    },
    {
      "metadata": {
        "trusted": true,
        "colab": {
          "base_uri": "https://localhost:8080/"
        },
        "id": "zJizBuaXxc7L",
        "outputId": "4c047e87-51f2-4813-9c8d-d86233c3ec64"
      },
      "cell_type": "code",
      "source": [
        "from tensorflow.keras.layers import Input, Conv2D, MaxPooling2D\n",
        "from tensorflow.keras.models import Model\n",
        "\n",
        "input_tensor = Input(shape=(5, 5, 1))\n",
        "x = Conv2D(filters=1, kernel_size=3, strides=1)(input_tensor)\n",
        "print('x.shape:', x.shape)"
      ],
      "execution_count": null,
      "outputs": [
        {
          "output_type": "stream",
          "name": "stdout",
          "text": [
            "x.shape: (None, 3, 3, 1)\n"
          ]
        }
      ]
    },
    {
      "metadata": {
        "id": "i7DLss6Lxc7M"
      },
      "cell_type": "markdown",
      "source": [
        "### Stride가 1이고 Padding이 1인 경우\n",
        "* O = (I - F + 2P)/2 + 1 = (5 - 3 + 2 )/1 + 1 = 5"
      ]
    },
    {
      "metadata": {
        "trusted": true,
        "colab": {
          "base_uri": "https://localhost:8080/"
        },
        "id": "DJwIVcp6xc7M",
        "outputId": "fa45d0b9-46ad-411c-eed7-45947028e93e"
      },
      "cell_type": "code",
      "source": [
        "input_tensor = Input(shape=(5, 5, 1))\n",
        "x = Conv2D(filters=1, kernel_size=3, strides=1, padding='same')(input_tensor)\n",
        "print('x.shape:', x.shape)"
      ],
      "execution_count": null,
      "outputs": [
        {
          "output_type": "stream",
          "name": "stdout",
          "text": [
            "x.shape: (None, 5, 5, 1)\n"
          ]
        }
      ]
    },
    {
      "metadata": {
        "trusted": true,
        "colab": {
          "base_uri": "https://localhost:8080/"
        },
        "id": "cC3KTVFfxc7M",
        "outputId": "de5256a6-5e30-4ee8-be4f-be9389ce2a67"
      },
      "cell_type": "code",
      "source": [
        "# ZeroPadding2D Layer를 이용하여 padding을 수동으로 적용. \n",
        "from tensorflow.keras.layers import ZeroPadding2D\n",
        "\n",
        "input_tensor = Input(shape=(5, 5, 1))\n",
        "padded_input = ZeroPadding2D(padding=1)(input_tensor)\n",
        "print('shape after padding:', padded_input.shape)\n",
        "x = Conv2D(filters=1, kernel_size=3, strides=1)(padded_input)\n",
        "print('x.shape:', x.shape)\n"
      ],
      "execution_count": null,
      "outputs": [
        {
          "output_type": "stream",
          "name": "stdout",
          "text": [
            "shape after padding: (None, 7, 7, 1)\n",
            "x.shape: (None, 5, 5, 1)\n"
          ]
        }
      ]
    },
    {
      "metadata": {
        "id": "9EiSzCJBxc7M"
      },
      "cell_type": "markdown",
      "source": [
        "### Stride가 2이고 Padding이 없는 경우 \n",
        "* O = (I - F + 2P)/2 + 1 = (5 - 3)/2 + 1 = 2"
      ]
    },
    {
      "metadata": {
        "trusted": true,
        "colab": {
          "base_uri": "https://localhost:8080/"
        },
        "id": "PWLr3Nayxc7N",
        "outputId": "361a11d7-346b-45ca-92c9-4a1723d2c71c"
      },
      "cell_type": "code",
      "source": [
        "input_tensor = Input(shape=(5, 5, 1))\n",
        "x = Conv2D(filters=1, kernel_size=3, strides=2)(input_tensor)\n",
        "print('x.shape:', x.shape)"
      ],
      "execution_count": null,
      "outputs": [
        {
          "output_type": "stream",
          "name": "stdout",
          "text": [
            "x.shape: (None, 2, 2, 1)\n"
          ]
        }
      ]
    },
    {
      "metadata": {
        "id": "I8eWIdggxc7N"
      },
      "cell_type": "markdown",
      "source": [
        "### Stride가 2이고 Padding은 1 적용\n",
        "* O = (I - F + 2P)/2 + 1 = (5 - 3 + 2)/2 + 1 = 3"
      ]
    },
    {
      "metadata": {
        "trusted": true,
        "colab": {
          "base_uri": "https://localhost:8080/"
        },
        "id": "8EnewxGBxc7N",
        "outputId": "5c1231d9-2327-43d8-ed09-18dc38f1f6a1"
      },
      "cell_type": "code",
      "source": [
        "input_tensor = Input(shape=(5, 5, 1))\n",
        "padded_input = ZeroPadding2D(padding=1)(input_tensor)\n",
        "print('shape after padding:', padded_input.shape)\n",
        "x = Conv2D(filters=1, kernel_size=3, strides=2)(padded_input)\n",
        "print('x.shape:', x.shape)"
      ],
      "execution_count": null,
      "outputs": [
        {
          "output_type": "stream",
          "name": "stdout",
          "text": [
            "shape after padding: (None, 7, 7, 1)\n",
            "x.shape: (None, 3, 3, 1)\n"
          ]
        }
      ]
    },
    {
      "metadata": {
        "id": "NT1AzVI8xc7O"
      },
      "cell_type": "markdown",
      "source": [
        "### 입력이 6X6에서 Stride가 2 적용\n",
        "* O = (I - F + 2P)/2 + 1 = (6 - 3 + 0)/2 + 1 = 2.5 = 2"
      ]
    },
    {
      "metadata": {
        "trusted": true,
        "colab": {
          "base_uri": "https://localhost:8080/"
        },
        "id": "RqO9r_R6xc7O",
        "outputId": "46d5c34c-1536-41b5-a052-770733dc2c79"
      },
      "cell_type": "code",
      "source": [
        "input_tensor = Input(shape=(6, 6, 1))\n",
        "x = Conv2D(filters=1, kernel_size=3, strides=2)(input_tensor)\n",
        "print('x.shape:', x.shape)"
      ],
      "execution_count": null,
      "outputs": [
        {
          "output_type": "stream",
          "name": "stdout",
          "text": [
            "x.shape: (None, 2, 2, 1)\n"
          ]
        }
      ]
    },
    {
      "metadata": {
        "trusted": true,
        "colab": {
          "base_uri": "https://localhost:8080/"
        },
        "id": "9TWEBKTtxc7O",
        "outputId": "8cfd42bf-9e0f-4459-aeb7-df4f4ae207fc"
      },
      "cell_type": "code",
      "source": [
        "input_tensor = Input(shape=(6, 6, 1))\n",
        "x = Conv2D(filters=1, kernel_size=3, strides=2, padding='same')(input_tensor)\n",
        "print('x.shape:', x.shape)"
      ],
      "execution_count": null,
      "outputs": [
        {
          "output_type": "stream",
          "name": "stdout",
          "text": [
            "x.shape: (None, 3, 3, 1)\n"
          ]
        }
      ]
    },
    {
      "metadata": {
        "trusted": true,
        "colab": {
          "base_uri": "https://localhost:8080/"
        },
        "id": "pHW1rbDfxc7P",
        "outputId": "6fd23b46-c3f1-4453-cedd-80215a4a5a97"
      },
      "cell_type": "code",
      "source": [
        "input_tensor = Input(shape=(6, 6, 1))\n",
        "padded_input = ZeroPadding2D(padding=1)(input_tensor)\n",
        "x = Conv2D(filters=1, kernel_size=3, strides=2, padding='valid')(padded_input)\n",
        "print('x.shape:', x.shape)"
      ],
      "execution_count": null,
      "outputs": [
        {
          "output_type": "stream",
          "name": "stdout",
          "text": [
            "x.shape: (None, 3, 3, 1)\n"
          ]
        }
      ]
    },
    {
      "metadata": {
        "trusted": true,
        "colab": {
          "base_uri": "https://localhost:8080/"
        },
        "id": "dStK3A4Bxc7P",
        "outputId": "51b5bb21-0978-4592-c8ab-6e7933fcf450"
      },
      "cell_type": "code",
      "source": [
        "input_tensor = Input(shape=(6, 6, 1))\n",
        "padded_input = ZeroPadding2D(padding=((1, 0),(1,0)))(input_tensor)\n",
        "x = Conv2D(filters=1, kernel_size=3, strides=2)(padded_input)\n",
        "print('x.shape:', x.shape)"
      ],
      "execution_count": null,
      "outputs": [
        {
          "output_type": "stream",
          "name": "stdout",
          "text": [
            "x.shape: (None, 3, 3, 1)\n"
          ]
        }
      ]
    },
    {
      "metadata": {
        "id": "1vlnhAGhxc7P"
      },
      "cell_type": "markdown",
      "source": [
        "### Maxpooling 적용"
      ]
    },
    {
      "metadata": {
        "trusted": true,
        "colab": {
          "base_uri": "https://localhost:8080/"
        },
        "id": "mUjPTksHxc7P",
        "outputId": "16b40e78-e6e7-4597-8e84-41f5e0263702"
      },
      "cell_type": "code",
      "source": [
        "input_tensor = Input(shape=(223, 223, 1))\n",
        "x = MaxPooling2D(2)(input_tensor)\n",
        "print('x.shape:', x.shape)"
      ],
      "execution_count": null,
      "outputs": [
        {
          "output_type": "stream",
          "name": "stdout",
          "text": [
            "x.shape: (None, 111, 111, 1)\n"
          ]
        }
      ]
    },
    {
      "metadata": {
        "trusted": true,
        "id": "KKp7kxoFxc7Q"
      },
      "cell_type": "code",
      "source": [
        ""
      ],
      "execution_count": null,
      "outputs": []
    }
  ],
  "metadata": {
    "kernelspec": {
      "language": "python",
      "display_name": "Python 3",
      "name": "python3"
    },
    "language_info": {
      "pygments_lexer": "ipython3",
      "nbconvert_exporter": "python",
      "version": "3.6.4",
      "file_extension": ".py",
      "codemirror_mode": {
        "name": "ipython",
        "version": 3
      },
      "name": "python",
      "mimetype": "text/x-python"
    },
    "colab": {
      "name": "03-Conv_Practice.ipynb",
      "provenance": [],
      "collapsed_sections": [],
      "toc_visible": true,
      "include_colab_link": true
    },
    "accelerator": "GPU"
  },
  "nbformat": 4,
  "nbformat_minor": 0
}