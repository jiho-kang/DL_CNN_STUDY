{
  "cells": [
    {
      "cell_type": "markdown",
      "metadata": {
        "id": "view-in-github",
        "colab_type": "text"
      },
      "source": [
        "<a href=\"https://colab.research.google.com/github/jiho-kang/DL_CNN_STUDY/blob/main/04_CIFAR10_Custom.ipynb\" target=\"_parent\"><img src=\"https://colab.research.google.com/assets/colab-badge.svg\" alt=\"Open In Colab\"/></a>"
      ]
    },
    {
      "cell_type": "code",
      "execution_count": 21,
      "metadata": {
        "id": "4er-iA0wGjSw"
      },
      "outputs": [],
      "source": [
        "import numpy as np # linear algebra\n",
        "import pandas as pd # data processing, CSV file I/O (e.g. pd.read_csv)\n",
        "\n",
        "import os"
      ]
    },
    {
      "cell_type": "markdown",
      "metadata": {
        "id": "rvmWUe2TGjS0"
      },
      "source": [
        "### CIFAR10 Dataset 생성 \n",
        "* tf.keras.datasets의 cifar10.load_data()는 웹에서 Local computer로 Download후 train과 test용 image와 label array로 로딩. "
      ]
    },
    {
      "cell_type": "code",
      "execution_count": 22,
      "metadata": {
        "colab": {
          "base_uri": "https://localhost:8080/"
        },
        "id": "KHPc03oHGjS3",
        "outputId": "1782d1e5-6557-4184-8e70-15ae80fc12cb"
      },
      "outputs": [
        {
          "output_type": "stream",
          "name": "stdout",
          "text": [
            "train dataset shape: (50000, 32, 32, 3) (50000, 1)\n",
            "test dataset shape: (10000, 32, 32, 3) (10000, 1)\n"
          ]
        }
      ],
      "source": [
        "from tensorflow.keras.datasets import cifar10\n",
        "\n",
        "# 전체 6만개 데이터 중, 5만개는 학습 데이터용, 1만개는 테스트 데이터용으로 분리\n",
        "(train_images, train_labels), (test_images, test_labels) = cifar10.load_data()\n",
        "print(\"train dataset shape:\", train_images.shape, train_labels.shape)\n",
        "print(\"test dataset shape:\", test_images.shape, test_labels.shape)\n",
        "\n",
        "# 보통 label은 (500000, )인데, 여기는 2차원으로 되어있음."
      ]
    },
    {
      "cell_type": "code",
      "execution_count": 23,
      "metadata": {
        "colab": {
          "base_uri": "https://localhost:8080/"
        },
        "id": "VJ_iarXDGjS4",
        "outputId": "6ef165b6-8ef8-4884-bd63-e0947faf6ef7"
      },
      "outputs": [
        {
          "output_type": "execute_result",
          "data": {
            "text/plain": [
              "(array([[[ 59,  62,  63],\n",
              "         [ 43,  46,  45],\n",
              "         [ 50,  48,  43],\n",
              "         ...,\n",
              "         [158, 132, 108],\n",
              "         [152, 125, 102],\n",
              "         [148, 124, 103]],\n",
              " \n",
              "        [[ 16,  20,  20],\n",
              "         [  0,   0,   0],\n",
              "         [ 18,   8,   0],\n",
              "         ...,\n",
              "         [123,  88,  55],\n",
              "         [119,  83,  50],\n",
              "         [122,  87,  57]],\n",
              " \n",
              "        [[ 25,  24,  21],\n",
              "         [ 16,   7,   0],\n",
              "         [ 49,  27,   8],\n",
              "         ...,\n",
              "         [118,  84,  50],\n",
              "         [120,  84,  50],\n",
              "         [109,  73,  42]],\n",
              " \n",
              "        ...,\n",
              " \n",
              "        [[208, 170,  96],\n",
              "         [201, 153,  34],\n",
              "         [198, 161,  26],\n",
              "         ...,\n",
              "         [160, 133,  70],\n",
              "         [ 56,  31,   7],\n",
              "         [ 53,  34,  20]],\n",
              " \n",
              "        [[180, 139,  96],\n",
              "         [173, 123,  42],\n",
              "         [186, 144,  30],\n",
              "         ...,\n",
              "         [184, 148,  94],\n",
              "         [ 97,  62,  34],\n",
              "         [ 83,  53,  34]],\n",
              " \n",
              "        [[177, 144, 116],\n",
              "         [168, 129,  94],\n",
              "         [179, 142,  87],\n",
              "         ...,\n",
              "         [216, 184, 140],\n",
              "         [151, 118,  84],\n",
              "         [123,  92,  72]]], dtype=uint8), array([6], dtype=uint8))"
            ]
          },
          "metadata": {},
          "execution_count": 23
        }
      ],
      "source": [
        "train_images[0, :, :, :], train_labels[0, :]"
      ]
    },
    {
      "cell_type": "code",
      "execution_count": 24,
      "metadata": {
        "colab": {
          "base_uri": "https://localhost:8080/"
        },
        "id": "YABoTHm5GjS4",
        "outputId": "463d56a7-492d-4053-d2ae-9f2e244842d8"
      },
      "outputs": [
        {
          "output_type": "stream",
          "name": "stdout",
          "text": [
            "[[6]\n",
            " [9]\n",
            " [9]\n",
            " [4]\n",
            " [1]\n",
            " [1]\n",
            " [2]\n",
            " [7]\n",
            " [8]\n",
            " [3]]\n"
          ]
        }
      ],
      "source": [
        "NAMES = np.array(['airplane', 'automobile', 'bird', 'cat', 'deer', 'dog', 'frog', 'horse', 'ship', 'truck'])\n",
        "print(train_labels[:10])"
      ]
    },
    {
      "cell_type": "markdown",
      "metadata": {
        "id": "13l1AXzDGjS5"
      },
      "source": [
        "### CIFAR10 데이터 시각화\n",
        "* 이미지 크기는 32x32이며 RGB채널. \n",
        "* 전반적으로 Label에 해당하는 대상이 이미지의 중앙에 있고, Label 대상 오브젝트 위주로 이미지가 구성. "
      ]
    },
    {
      "cell_type": "code",
      "execution_count": 25,
      "metadata": {
        "colab": {
          "base_uri": "https://localhost:8080/",
          "height": 201
        },
        "id": "XVFd5h3iGjS6",
        "outputId": "92629d7c-919f-41cf-ff5f-163fe3b3a379"
      },
      "outputs": [
        {
          "output_type": "display_data",
          "data": {
            "image/png": "[encoded data removed]",
            "text/plain": [
              "<Figure size 1584x432 with 8 Axes>"
            ]
          },
          "metadata": {
            "needs_background": "light"
          }
        },
        {
          "output_type": "display_data",
          "data": {
            "image/png": "[encoded data removed]",
            "text/plain": [
              "<Figure size 1584x432 with 8 Axes>"
            ]
          },
          "metadata": {
            "needs_background": "light"
          }
        }
      ],
      "source": [
        "import matplotlib.pyplot as plt\n",
        "import cv2\n",
        "%matplotlib inline \n",
        "\n",
        "def show_images(images, labels, ncols=8):\n",
        "    figure, axs = plt.subplots(figsize=(22, 6), nrows=1, ncols=ncols)\n",
        "    for i in range(ncols):\n",
        "        axs[i].imshow(images[i])\n",
        "        label = labels[i].squeeze()\n",
        "        axs[i].set_title(NAMES[int(label)])\n",
        "        \n",
        "show_images(train_images[:8], train_labels[:8], ncols=8)\n",
        "show_images(train_images[8:16], train_labels[8:16], ncols=8)"
      ]
    },
    {
      "cell_type": "markdown",
      "metadata": {
        "id": "NRd2SRhOGjS_"
      },
      "source": [
        "### Data preprocessing\n",
        "* image array의 0 ~ 255 사이의 값으로 되어 있는 pixel intensity 값을 0 ~ 1 사이 값으로 변환. 정수값 pixel 값을 255.0 으로 나눔. \n",
        "* label array는 숫자형 값으로 바꾸되, 원-핫 인코딩을 적용할지 선택. 일반적으로 원-핫 인코딩을 적용하는게 Keras Framework활용이 용이\n",
        "* image array, label array 모두 float32 형으로 변환. numpy 의 float32는 tensor 변환시 tf.float32 로 변환되며 기본적으로 Tensorflow backend Keras는 tf.float32를 기반으로 함. \n"
      ]
    },
    {
      "cell_type": "code",
      "execution_count": 26,
      "metadata": {
        "id": "vj4otlreGjTA"
      },
      "outputs": [],
      "source": [
        "(train_images, train_labels), (test_images, test_labels) = cifar10.load_data()\n",
        "\n",
        "# label은 원-핫 인코딩이 Keras에서는 활용이 용이하나, 여기서는 sparse categorical crossentropy 테스트를 위해 적용하지 않음. \n",
        "def get_preprocessed_data(images, labels):\n",
        "    \n",
        "    # 학습과 테스트 이미지 array를 0~1 사이값으로 scale 및 float32 형 변형. \n",
        "    images = np.array(images/255.0, dtype=np.float32)\n",
        "    labels = np.array(labels, dtype=np.float32)\n",
        "    \n",
        "    return images, labels\n",
        "\n",
        "train_images, train_labels = get_preprocessed_data(train_images, train_labels)\n",
        "test_images, test_labels = get_preprocessed_data(test_images, test_labels)"
      ]
    },
    {
      "cell_type": "code",
      "execution_count": 27,
      "metadata": {
        "colab": {
          "base_uri": "https://localhost:8080/"
        },
        "id": "TzDRzeuQGjTD",
        "outputId": "bea2a62d-903b-46a5-b386-288e3f3efe66"
      },
      "outputs": [
        {
          "output_type": "execute_result",
          "data": {
            "text/plain": [
              "(array([[[0.23137255, 0.24313726, 0.24705882],\n",
              "         [0.16862746, 0.18039216, 0.1764706 ],\n",
              "         [0.19607843, 0.1882353 , 0.16862746],\n",
              "         ...,\n",
              "         [0.61960787, 0.5176471 , 0.42352942],\n",
              "         [0.59607846, 0.49019608, 0.4       ],\n",
              "         [0.5803922 , 0.4862745 , 0.40392157]],\n",
              " \n",
              "        [[0.0627451 , 0.07843138, 0.07843138],\n",
              "         [0.        , 0.        , 0.        ],\n",
              "         [0.07058824, 0.03137255, 0.        ],\n",
              "         ...,\n",
              "         [0.48235294, 0.34509805, 0.21568628],\n",
              "         [0.46666667, 0.3254902 , 0.19607843],\n",
              "         [0.47843137, 0.34117648, 0.22352941]],\n",
              " \n",
              "        [[0.09803922, 0.09411765, 0.08235294],\n",
              "         [0.0627451 , 0.02745098, 0.        ],\n",
              "         [0.19215687, 0.10588235, 0.03137255],\n",
              "         ...,\n",
              "         [0.4627451 , 0.32941177, 0.19607843],\n",
              "         [0.47058824, 0.32941177, 0.19607843],\n",
              "         [0.42745098, 0.28627452, 0.16470589]],\n",
              " \n",
              "        ...,\n",
              " \n",
              "        [[0.8156863 , 0.6666667 , 0.3764706 ],\n",
              "         [0.7882353 , 0.6       , 0.13333334],\n",
              "         [0.7764706 , 0.6313726 , 0.10196079],\n",
              "         ...,\n",
              "         [0.627451  , 0.52156866, 0.27450982],\n",
              "         [0.21960784, 0.12156863, 0.02745098],\n",
              "         [0.20784314, 0.13333334, 0.07843138]],\n",
              " \n",
              "        [[0.7058824 , 0.54509807, 0.3764706 ],\n",
              "         [0.6784314 , 0.48235294, 0.16470589],\n",
              "         [0.7294118 , 0.5647059 , 0.11764706],\n",
              "         ...,\n",
              "         [0.72156864, 0.5803922 , 0.36862746],\n",
              "         [0.38039216, 0.24313726, 0.13333334],\n",
              "         [0.3254902 , 0.20784314, 0.13333334]],\n",
              " \n",
              "        [[0.69411767, 0.5647059 , 0.45490196],\n",
              "         [0.65882355, 0.5058824 , 0.36862746],\n",
              "         [0.7019608 , 0.5568628 , 0.34117648],\n",
              "         ...,\n",
              "         [0.84705883, 0.72156864, 0.54901963],\n",
              "         [0.5921569 , 0.4627451 , 0.32941177],\n",
              "         [0.48235294, 0.36078432, 0.28235295]]], dtype=float32),\n",
              " array([6.], dtype=float32))"
            ]
          },
          "metadata": {},
          "execution_count": 27
        }
      ],
      "source": [
        "train_images[0], train_labels[0]"
      ]
    },
    {
      "cell_type": "code",
      "execution_count": 28,
      "metadata": {
        "colab": {
          "base_uri": "https://localhost:8080/"
        },
        "id": "MgpNJikMGjTE",
        "outputId": "9ef88643-e20a-400c-cb46-dc7a5b0e3575"
      },
      "outputs": [
        {
          "output_type": "stream",
          "name": "stdout",
          "text": [
            "(50000, 32, 32, 3) (50000, 1)\n"
          ]
        }
      ],
      "source": [
        "# Keras는 CNN(정확히는 CNN 2D) 모델에 학습 데이터를 입력할 시 반드시 Image array는 4차원 배열이 되어야 함. \n",
        "# RGB 채널 이미지 array는 기본적으로 3차원임. 여기에 이미지의 갯수를 포함하므로 4차원이 됨.  \n",
        "# 만일 Grayscale인 2차원 이미지 array라도 의도적으로 채널을 명시해서 3차원으로 만들어 주고, 여기에 이미지 개수를 포함해서 4차원이 됨. \n",
        "\n",
        "print(train_images.shape, train_labels.shape)"
      ]
    },
    {
      "cell_type": "code",
      "execution_count": 29,
      "metadata": {
        "colab": {
          "base_uri": "https://localhost:8080/"
        },
        "id": "b1WX4K_qGjTF",
        "outputId": "e5bfb6ef-5519-4d26-b89c-ccf5d9429ac5"
      },
      "outputs": [
        {
          "output_type": "stream",
          "name": "stdout",
          "text": [
            "train label shape: (50000,) test label shape: (10000,)\n",
            "6.0\n"
          ]
        }
      ],
      "source": [
        "# label 데이터가 2차원임. 이를 Keras 모델에 입력해도 별 문제없이 동작하지만, label의 경우는 OHE적용이 안되었는지를 알 수 있게 명확하게 1차원으로 표현해 주는것이 좋음. \n",
        "# 2차원인 labels 데이터를 1차원으로 변경. \n",
        "train_labels = train_labels.squeeze()\n",
        "test_labels = test_labels.squeeze()\n",
        "print('train label shape:', train_labels.shape, 'test label shape:', test_labels.shape)\n",
        "print(train_labels[0])"
      ]
    },
    {
      "cell_type": "markdown",
      "metadata": {
        "id": "LvTdRHNTGjTG"
      },
      "source": [
        "### Custom Model 생성\n",
        "* CNN Model의 맨처음 Layer는 Input layer. Input layer의 shape를 이미지 사이즈와 RGB 3채널에 맞게 (32, 32, 3) 으로 설정.\n",
        "* Conv 연산을 연달아 적용하고 MaxPooling을 적용하는 루틴으로 모델 생성. MaxPooling을 적용 후에는 필터 갯수를 더욱 증가 시킴. \n",
        "* MaxPooling 적용 후에 출력 피처맵의 사이즈는 작아지되, 채널(깊이)는 늘어나는 형태로 모델 생성. \n",
        "* CIFAR10의 Label수가 10개이므로 Classification을 위한 맨 마지막 Dense layer의 units 갯수는 10개임\n",
        "* label값이 원-핫 인코딩 되지 않았기 때문에 model.compile()에서 loss는 반드시 sparse_categorical_crossentropy여야함. \n",
        "* 만일 label값이 원-핫 인코딩 되었다면 loss는 categorical_crossentropy 임. "
      ]
    },
    {
      "cell_type": "code",
      "execution_count": 30,
      "metadata": {
        "id": "WMVFnpXvGjTG"
      },
      "outputs": [],
      "source": [
        "IMAGE_SIZE = 32"
      ]
    },
    {
      "cell_type": "code",
      "execution_count": 31,
      "metadata": {
        "colab": {
          "base_uri": "https://localhost:8080/"
        },
        "id": "HtibCjbEGjTG",
        "outputId": "0fb8c2b9-e305-4444-c5a1-b26462f531aa"
      },
      "outputs": [
        {
          "output_type": "stream",
          "name": "stdout",
          "text": [
            "Model: \"model_1\"\n",
            "_________________________________________________________________\n",
            " Layer (type)                Output Shape              Param #   \n",
            "=================================================================\n",
            " input_2 (InputLayer)        [(None, 32, 32, 3)]       0         \n",
            "                                                                 \n",
            " conv2d_6 (Conv2D)           (None, 32, 32, 32)        896       \n",
            "                                                                 \n",
            " conv2d_7 (Conv2D)           (None, 32, 32, 32)        9248      \n",
            "                                                                 \n",
            " max_pooling2d_3 (MaxPooling  (None, 16, 16, 32)       0         \n",
            " 2D)                                                             \n",
            "                                                                 \n",
            " conv2d_8 (Conv2D)           (None, 16, 16, 64)        18496     \n",
            "                                                                 \n",
            " activation_1 (Activation)   (None, 16, 16, 64)        0         \n",
            "                                                                 \n",
            " max_pooling2d_4 (MaxPooling  (None, 8, 8, 64)         0         \n",
            " 2D)                                                             \n",
            "                                                                 \n",
            " conv2d_9 (Conv2D)           (None, 8, 8, 128)         73856     \n",
            "                                                                 \n",
            " conv2d_10 (Conv2D)          (None, 8, 8, 128)         147584    \n",
            "                                                                 \n",
            " max_pooling2d_5 (MaxPooling  (None, 4, 4, 128)        0         \n",
            " 2D)                                                             \n",
            "                                                                 \n",
            " flatten (Flatten)           (None, 2048)              0         \n",
            "                                                                 \n",
            " dropout_2 (Dropout)         (None, 2048)              0         \n",
            "                                                                 \n",
            " fc1 (Dense)                 (None, 300)               614700    \n",
            "                                                                 \n",
            " dropout_3 (Dropout)         (None, 300)               0         \n",
            "                                                                 \n",
            " output (Dense)              (None, 10)                3010      \n",
            "                                                                 \n",
            "=================================================================\n",
            "Total params: 867,790\n",
            "Trainable params: 867,790\n",
            "Non-trainable params: 0\n",
            "_________________________________________________________________\n"
          ]
        }
      ],
      "source": [
        "from tensorflow.keras.models import Sequential, Model\n",
        "from tensorflow.keras.layers import Input, Dense , Conv2D , Dropout , Flatten , Activation, MaxPooling2D , GlobalAveragePooling2D\n",
        "from tensorflow.keras.optimizers import Adam , RMSprop \n",
        "from tensorflow.keras.layers import BatchNormalization\n",
        "from tensorflow.keras.callbacks import ReduceLROnPlateau , EarlyStopping , ModelCheckpoint , LearningRateScheduler\n",
        "\n",
        "input_tensor = Input(shape=(IMAGE_SIZE, IMAGE_SIZE, 3))\n",
        "\n",
        "# x = Conv2D(filters=32, kernel_size=(5, 5), padding='valid', activation='relu')(input_tensor)\n",
        "# 일반적으로 인풋 사이즈가 32보다는 크니까 kernerl은 (5,5) 이상을 사용. 현재는 인풋 사이즈가 작으니 (3,3)을 사용해보자\n",
        "x = Conv2D(filters=32, kernel_size=(3, 3), padding='same', activation='relu')(input_tensor)\n",
        "x = Conv2D(filters=32, kernel_size=(3, 3), padding='same', activation='relu')(x)\n",
        "x = MaxPooling2D(pool_size=(2, 2))(x)\n",
        "\n",
        "x = Conv2D(filters=64, kernel_size=(3, 3), padding='same')(x)\n",
        "x = Activation('relu')(x)\n",
        "x = MaxPooling2D(pool_size=2)(x)\n",
        "\n",
        "x = Conv2D(filters=128, kernel_size=(3,3), padding='same', activation='relu')(x)\n",
        "x = Conv2D(filters=128, kernel_size=(3,3), padding='same', activation='relu')(x)\n",
        "x = MaxPooling2D(pool_size=2)(x)\n",
        "\n",
        "# cifar10의 클래스가 10개 이므로 마지막 classification의 Dense layer units갯수는 10\n",
        "x = Flatten(name='flatten')(x)\n",
        "x = Dropout(rate=0.5)(x)\n",
        "x = Dense(300, activation='relu', name='fc1')(x)\n",
        "x = Dropout(rate=0.3)(x)\n",
        "output = Dense(10, activation='softmax', name='output')(x)\n",
        "\n",
        "model = Model(inputs=input_tensor, outputs=output)\n",
        "\n",
        "model.summary()"
      ]
    },
    {
      "cell_type": "code",
      "execution_count": 32,
      "metadata": {
        "id": "sSwz0FwXGjTH"
      },
      "outputs": [],
      "source": [
        "# optimizer는 Adam으로 설정하고, label값이 원-핫 인코딩이 아니므로 loss는 sparse_categorical_crossentropy 임. \n",
        "model.compile(optimizer=Adam(), loss='sparse_categorical_crossentropy', metrics=['accuracy'])"
      ]
    },
    {
      "cell_type": "markdown",
      "metadata": {
        "id": "wwQo1TgnGjTH"
      },
      "source": [
        "### Model 학습 수행 및 테스트 데이터로 평가 \n",
        "* Model의 fit() 메소드를 호출하여 학습\n",
        "* fit()은 학습 데이터가 Numpy array 자체로 들어올때, Generator 형태로 들어올때 약간의 수행로직 차이가 있음. \n",
        "* 인자로 x에는 학습 image data, y는 학습 label 데이터. \n",
        "* batch_size는 한번에 가져올 image/label array 갯수. 1개씩 가져오면 수행속도가 너무 느리고, 전체를 가져오면 GPU Memory 부족이 발생할 수 있으므로 적절한 batch_size 설정이 필요. 만약 학습 데이터가 generator일 경우, fit()에서 batch_size를 설정하지 않음. \n",
        "* epochs 는 전체 학습 데이터 학습을 반복 수행할 횟수\n",
        "* steps_per_epoch는 전체 학습 데이터를 몇번 배치 작업으로 수행하는가를 의미. 보통 입력데이터가 generator일 경우 설정. \n",
        "* validation_data는 검증용 데이터 세트\n",
        "* validation_steps는 검증용 데이터의 steps_per_epoch임. \n",
        "* validation_split는 validation_data로 별도의 검증용 데이터 세트를 설정하지 않고 자동으로 학습용 데이터에서 검증용 데이터 세트 분할. \n"
      ]
    },
    {
      "cell_type": "code",
      "execution_count": 33,
      "metadata": {
        "colab": {
          "base_uri": "https://localhost:8080/"
        },
        "id": "gMmLFC5uGjTI",
        "outputId": "3f69091f-fc88-4a0e-85ec-c938b65b5cd6"
      },
      "outputs": [
        {
          "output_type": "stream",
          "name": "stdout",
          "text": [
            "Epoch 1/30\n",
            "43/43 [==============================] - 3s 46ms/step - loss: 2.0203 - accuracy: 0.2546 - val_loss: 1.6991 - val_accuracy: 0.3709\n",
            "Epoch 2/30\n",
            "43/43 [==============================] - 2s 40ms/step - loss: 1.6364 - accuracy: 0.3995 - val_loss: 1.4963 - val_accuracy: 0.4524\n",
            "Epoch 3/30\n",
            "43/43 [==============================] - 2s 40ms/step - loss: 1.4686 - accuracy: 0.4642 - val_loss: 1.3619 - val_accuracy: 0.5023\n",
            "Epoch 4/30\n",
            "43/43 [==============================] - 2s 40ms/step - loss: 1.3433 - accuracy: 0.5120 - val_loss: 1.2513 - val_accuracy: 0.5556\n",
            "Epoch 5/30\n",
            "43/43 [==============================] - 2s 41ms/step - loss: 1.2438 - accuracy: 0.5537 - val_loss: 1.1420 - val_accuracy: 0.5969\n",
            "Epoch 6/30\n",
            "43/43 [==============================] - 2s 40ms/step - loss: 1.1612 - accuracy: 0.5854 - val_loss: 1.0760 - val_accuracy: 0.6180\n",
            "Epoch 7/30\n",
            "43/43 [==============================] - 2s 40ms/step - loss: 1.0771 - accuracy: 0.6176 - val_loss: 1.0207 - val_accuracy: 0.6371\n",
            "Epoch 8/30\n",
            "43/43 [==============================] - 2s 40ms/step - loss: 1.0334 - accuracy: 0.6347 - val_loss: 0.9542 - val_accuracy: 0.6651\n",
            "Epoch 9/30\n",
            "43/43 [==============================] - 2s 40ms/step - loss: 0.9716 - accuracy: 0.6564 - val_loss: 0.9238 - val_accuracy: 0.6736\n",
            "Epoch 10/30\n",
            "43/43 [==============================] - 2s 40ms/step - loss: 0.9270 - accuracy: 0.6739 - val_loss: 0.8750 - val_accuracy: 0.6961\n",
            "Epoch 11/30\n",
            "43/43 [==============================] - 2s 41ms/step - loss: 0.8819 - accuracy: 0.6885 - val_loss: 0.9077 - val_accuracy: 0.6761\n",
            "Epoch 12/30\n",
            "43/43 [==============================] - 2s 39ms/step - loss: 0.8624 - accuracy: 0.6975 - val_loss: 0.8374 - val_accuracy: 0.7143\n",
            "Epoch 13/30\n",
            "43/43 [==============================] - 2s 39ms/step - loss: 0.8129 - accuracy: 0.7132 - val_loss: 0.7894 - val_accuracy: 0.7288\n",
            "Epoch 14/30\n",
            "43/43 [==============================] - 2s 40ms/step - loss: 0.7854 - accuracy: 0.7248 - val_loss: 0.7767 - val_accuracy: 0.7315\n",
            "Epoch 15/30\n",
            "43/43 [==============================] - 2s 40ms/step - loss: 0.7614 - accuracy: 0.7332 - val_loss: 0.7538 - val_accuracy: 0.7433\n",
            "Epoch 16/30\n",
            "43/43 [==============================] - 2s 40ms/step - loss: 0.7314 - accuracy: 0.7415 - val_loss: 0.7373 - val_accuracy: 0.7473\n",
            "Epoch 17/30\n",
            "43/43 [==============================] - 2s 40ms/step - loss: 0.7096 - accuracy: 0.7516 - val_loss: 0.7390 - val_accuracy: 0.7477\n",
            "Epoch 18/30\n",
            "43/43 [==============================] - 2s 40ms/step - loss: 0.6886 - accuracy: 0.7564 - val_loss: 0.7212 - val_accuracy: 0.7509\n",
            "Epoch 19/30\n",
            "43/43 [==============================] - 2s 40ms/step - loss: 0.6623 - accuracy: 0.7673 - val_loss: 0.6978 - val_accuracy: 0.7611\n",
            "Epoch 20/30\n",
            "43/43 [==============================] - 2s 40ms/step - loss: 0.6422 - accuracy: 0.7767 - val_loss: 0.6839 - val_accuracy: 0.7628\n",
            "Epoch 21/30\n",
            "43/43 [==============================] - 2s 39ms/step - loss: 0.6287 - accuracy: 0.7795 - val_loss: 0.6781 - val_accuracy: 0.7663\n",
            "Epoch 22/30\n",
            "43/43 [==============================] - 2s 40ms/step - loss: 0.5937 - accuracy: 0.7922 - val_loss: 0.6697 - val_accuracy: 0.7712\n",
            "Epoch 23/30\n",
            "43/43 [==============================] - 2s 40ms/step - loss: 0.5780 - accuracy: 0.7968 - val_loss: 0.6530 - val_accuracy: 0.7747\n",
            "Epoch 24/30\n",
            "43/43 [==============================] - 2s 40ms/step - loss: 0.5612 - accuracy: 0.8018 - val_loss: 0.6687 - val_accuracy: 0.7725\n",
            "Epoch 25/30\n",
            "43/43 [==============================] - 2s 40ms/step - loss: 0.5517 - accuracy: 0.8065 - val_loss: 0.6629 - val_accuracy: 0.7747\n",
            "Epoch 26/30\n",
            "43/43 [==============================] - 2s 40ms/step - loss: 0.5327 - accuracy: 0.8097 - val_loss: 0.6205 - val_accuracy: 0.7876\n",
            "Epoch 27/30\n",
            "43/43 [==============================] - 2s 40ms/step - loss: 0.5130 - accuracy: 0.8200 - val_loss: 0.6205 - val_accuracy: 0.7831\n",
            "Epoch 28/30\n",
            "43/43 [==============================] - 2s 41ms/step - loss: 0.4900 - accuracy: 0.8276 - val_loss: 0.6487 - val_accuracy: 0.7816\n",
            "Epoch 29/30\n",
            "43/43 [==============================] - 2s 40ms/step - loss: 0.4777 - accuracy: 0.8296 - val_loss: 0.6195 - val_accuracy: 0.7877\n",
            "Epoch 30/30\n",
            "43/43 [==============================] - 2s 40ms/step - loss: 0.4738 - accuracy: 0.8316 - val_loss: 0.6115 - val_accuracy: 0.7931\n"
          ]
        }
      ],
      "source": [
        "history = model.fit(x=train_images, y=train_labels, batch_size=1000, epochs=30, validation_split=0.15 )"
      ]
    },
    {
      "cell_type": "code",
      "execution_count": 34,
      "metadata": {
        "colab": {
          "base_uri": "https://localhost:8080/",
          "height": 411
        },
        "id": "sYljscw0GjTI",
        "outputId": "32c94948-ac70-4d45-95a7-0b21bba5a5e7"
      },
      "outputs": [
        {
          "output_type": "stream",
          "name": "stdout",
          "text": [
            "313/313 [==============================] - 1s 3ms/step - loss: 0.6213 - accuracy: 0.7894\n"
          ]
        },
        {
          "output_type": "execute_result",
          "data": {
            "text/plain": [
              "[0.6212841272354126, 0.7893999814987183]"
            ]
          },
          "metadata": {},
          "execution_count": 34
        },
        {
          "output_type": "display_data",
          "data": {
            "image/png": "[encoded data removed]",
            "text/plain": [
              "<Figure size 432x432 with 1 Axes>"
            ]
          },
          "metadata": {
            "needs_background": "light"
          }
        }
      ],
      "source": [
        "import matplotlib.pyplot as plt\n",
        "%matplotlib inline\n",
        "\n",
        "def show_history(history):\n",
        "    plt.figure(figsize=(6, 6))\n",
        "    plt.yticks(np.arange(0, 1, 0.05))\n",
        "    plt.plot(history.history['accuracy'], label='train')\n",
        "    plt.plot(history.history['val_accuracy'], label='valid')\n",
        "    plt.legend()\n",
        "    \n",
        "show_history(history)\n",
        "\n",
        "# 테스트 데이터로 성능 평가\n",
        "model.evaluate(test_images, test_labels)"
      ]
    },
    {
      "cell_type": "markdown",
      "metadata": {
        "id": "k8F2MLTvGjTJ"
      },
      "source": [
        "### model.predict()를 통해 이미지 분류 예측\n",
        "* 4차원 이미지 배열을 입력해서 모델학습함. predict()시에도 4차원 이미지 배열을 입력해야함. \n",
        "* 학습 데이터의 원-핫 인코딩 적용 여부와 관계없이 softmax 적용 결과는 무조건 2차원 임에 유의  "
      ]
    },
    {
      "cell_type": "code",
      "execution_count": 35,
      "metadata": {
        "colab": {
          "base_uri": "https://localhost:8080/",
          "height": 822
        },
        "id": "UxNpfex7GjTJ",
        "outputId": "9cd68f47-9b28-4005-e3c8-286c04027f4e"
      },
      "outputs": [
        {
          "output_type": "stream",
          "name": "stdout",
          "text": [
            "(32, 32, 3)\n"
          ]
        },
        {
          "output_type": "error",
          "ename": "ValueError",
          "evalue": "ignored",
          "traceback": [
            "\u001b[0;31m---------------------------------------------------------------------------\u001b[0m",
            "\u001b[0;31mValueError\u001b[0m                                Traceback (most recent call last)",
            "\u001b[0;32m<ipython-input-35-43e66dec7483>\u001b[0m in \u001b[0;36m<module>\u001b[0;34m()\u001b[0m\n\u001b[1;32m      1\u001b[0m \u001b[0;31m# 아래 코드는 오류 발생. Conv2D를 사용한 모델에 4차원 이미지 배열을 입력해서 모델을 학습했으므로 predict()시에도 테스트용 4차원 이미지 배열을 입력해야 함.\u001b[0m\u001b[0;34m\u001b[0m\u001b[0;34m\u001b[0m\u001b[0;34m\u001b[0m\u001b[0m\n\u001b[1;32m      2\u001b[0m \u001b[0mprint\u001b[0m\u001b[0;34m(\u001b[0m\u001b[0mtest_images\u001b[0m\u001b[0;34m[\u001b[0m\u001b[0;36m0\u001b[0m\u001b[0;34m]\u001b[0m\u001b[0;34m.\u001b[0m\u001b[0mshape\u001b[0m\u001b[0;34m)\u001b[0m\u001b[0;34m\u001b[0m\u001b[0;34m\u001b[0m\u001b[0m\n\u001b[0;32m----> 3\u001b[0;31m \u001b[0mpreds\u001b[0m \u001b[0;34m=\u001b[0m \u001b[0mmodel\u001b[0m\u001b[0;34m.\u001b[0m\u001b[0mpredict\u001b[0m\u001b[0;34m(\u001b[0m\u001b[0mtest_images\u001b[0m\u001b[0;34m[\u001b[0m\u001b[0;36m0\u001b[0m\u001b[0;34m]\u001b[0m\u001b[0;34m)\u001b[0m\u001b[0;34m\u001b[0m\u001b[0;34m\u001b[0m\u001b[0m\n\u001b[0m",
            "\u001b[0;32m/usr/local/lib/python3.7/dist-packages/keras/utils/traceback_utils.py\u001b[0m in \u001b[0;36merror_handler\u001b[0;34m(*args, **kwargs)\u001b[0m\n\u001b[1;32m     65\u001b[0m     \u001b[0;32mexcept\u001b[0m \u001b[0mException\u001b[0m \u001b[0;32mas\u001b[0m \u001b[0me\u001b[0m\u001b[0;34m:\u001b[0m  \u001b[0;31m# pylint: disable=broad-except\u001b[0m\u001b[0;34m\u001b[0m\u001b[0;34m\u001b[0m\u001b[0m\n\u001b[1;32m     66\u001b[0m       \u001b[0mfiltered_tb\u001b[0m \u001b[0;34m=\u001b[0m \u001b[0m_process_traceback_frames\u001b[0m\u001b[0;34m(\u001b[0m\u001b[0me\u001b[0m\u001b[0;34m.\u001b[0m\u001b[0m__traceback__\u001b[0m\u001b[0;34m)\u001b[0m\u001b[0;34m\u001b[0m\u001b[0;34m\u001b[0m\u001b[0m\n\u001b[0;32m---> 67\u001b[0;31m       \u001b[0;32mraise\u001b[0m \u001b[0me\u001b[0m\u001b[0;34m.\u001b[0m\u001b[0mwith_traceback\u001b[0m\u001b[0;34m(\u001b[0m\u001b[0mfiltered_tb\u001b[0m\u001b[0;34m)\u001b[0m \u001b[0;32mfrom\u001b[0m \u001b[0;32mNone\u001b[0m\u001b[0;34m\u001b[0m\u001b[0;34m\u001b[0m\u001b[0m\n\u001b[0m\u001b[1;32m     68\u001b[0m     \u001b[0;32mfinally\u001b[0m\u001b[0;34m:\u001b[0m\u001b[0;34m\u001b[0m\u001b[0;34m\u001b[0m\u001b[0m\n\u001b[1;32m     69\u001b[0m       \u001b[0;32mdel\u001b[0m \u001b[0mfiltered_tb\u001b[0m\u001b[0;34m\u001b[0m\u001b[0;34m\u001b[0m\u001b[0m\n",
            "\u001b[0;32m/usr/local/lib/python3.7/dist-packages/tensorflow/python/framework/func_graph.py\u001b[0m in \u001b[0;36mautograph_handler\u001b[0;34m(*args, **kwargs)\u001b[0m\n\u001b[1;32m   1127\u001b[0m           \u001b[0;32mexcept\u001b[0m \u001b[0mException\u001b[0m \u001b[0;32mas\u001b[0m \u001b[0me\u001b[0m\u001b[0;34m:\u001b[0m  \u001b[0;31m# pylint:disable=broad-except\u001b[0m\u001b[0;34m\u001b[0m\u001b[0;34m\u001b[0m\u001b[0m\n\u001b[1;32m   1128\u001b[0m             \u001b[0;32mif\u001b[0m \u001b[0mhasattr\u001b[0m\u001b[0;34m(\u001b[0m\u001b[0me\u001b[0m\u001b[0;34m,\u001b[0m \u001b[0;34m\"ag_error_metadata\"\u001b[0m\u001b[0;34m)\u001b[0m\u001b[0;34m:\u001b[0m\u001b[0;34m\u001b[0m\u001b[0;34m\u001b[0m\u001b[0m\n\u001b[0;32m-> 1129\u001b[0;31m               \u001b[0;32mraise\u001b[0m \u001b[0me\u001b[0m\u001b[0;34m.\u001b[0m\u001b[0mag_error_metadata\u001b[0m\u001b[0;34m.\u001b[0m\u001b[0mto_exception\u001b[0m\u001b[0;34m(\u001b[0m\u001b[0me\u001b[0m\u001b[0;34m)\u001b[0m\u001b[0;34m\u001b[0m\u001b[0;34m\u001b[0m\u001b[0m\n\u001b[0m\u001b[1;32m   1130\u001b[0m             \u001b[0;32melse\u001b[0m\u001b[0;34m:\u001b[0m\u001b[0;34m\u001b[0m\u001b[0;34m\u001b[0m\u001b[0m\n\u001b[1;32m   1131\u001b[0m               \u001b[0;32mraise\u001b[0m\u001b[0;34m\u001b[0m\u001b[0;34m\u001b[0m\u001b[0m\n",
            "\u001b[0;31mValueError\u001b[0m: in user code:\n\n    File \"/usr/local/lib/python3.7/dist-packages/keras/engine/training.py\", line 1621, in predict_function  *\n        return step_function(self, iterator)\n    File \"/usr/local/lib/python3.7/dist-packages/keras/engine/training.py\", line 1611, in step_function  **\n        outputs = model.distribute_strategy.run(run_step, args=(data,))\n    File \"/usr/local/lib/python3.7/dist-packages/keras/engine/training.py\", line 1604, in run_step  **\n        outputs = model.predict_step(data)\n    File \"/usr/local/lib/python3.7/dist-packages/keras/engine/training.py\", line 1572, in predict_step\n        return self(x, training=False)\n    File \"/usr/local/lib/python3.7/dist-packages/keras/utils/traceback_utils.py\", line 67, in error_handler\n        raise e.with_traceback(filtered_tb) from None\n    File \"/usr/local/lib/python3.7/dist-packages/keras/engine/input_spec.py\", line 263, in assert_input_compatibility\n        raise ValueError(f'Input {input_index} of layer \"{layer_name}\" is '\n\n    ValueError: Input 0 of layer \"model_1\" is incompatible with the layer: expected shape=(None, 32, 32, 3), found shape=(32, 32, 3)\n"
          ]
        }
      ],
      "source": [
        "# 아래 코드는 오류 발생. Conv2D를 사용한 모델에 4차원 이미지 배열을 입력해서 모델을 학습했으므로 predict()시에도 테스트용 4차원 이미지 배열을 입력해야 함.  \n",
        "print(test_images[0].shape)\n",
        "preds = model.predict(test_images[0])"
      ]
    },
    {
      "cell_type": "code",
      "execution_count": 36,
      "metadata": {
        "colab": {
          "base_uri": "https://localhost:8080/"
        },
        "id": "-G1K6UdBGjTJ",
        "outputId": "bc99d06c-fdb9-4ab8-f7eb-b9513506b054"
      },
      "outputs": [
        {
          "output_type": "stream",
          "name": "stdout",
          "text": [
            "예측 결과 shape: (1, 10)\n",
            "예측 결과: [[1.5299163e-04 4.9574843e-05 1.1418134e-03 6.4917666e-01 5.1629282e-05\n",
            "  3.4309247e-01 5.9507941e-03 2.3031468e-04 1.2619060e-04 2.7601976e-05]]\n"
          ]
        }
      ],
      "source": [
        "# 테스트용 4차원 이미지 배열을 입력해서 predict()수행. \n",
        "# predict()의 결과는 softmax 적용 결과임. 학습 데이터의 원-핫 인코딩 적용 여부와 관계없이 softmax 적용 결과는 무조건 2차원 임에 유의 \n",
        "preds = model.predict(np.expand_dims(test_images[0], axis=0))\n",
        "print('예측 결과 shape:', preds.shape)\n",
        "print('예측 결과:', preds)"
      ]
    },
    {
      "cell_type": "code",
      "execution_count": 37,
      "metadata": {
        "colab": {
          "base_uri": "https://localhost:8080/"
        },
        "id": "VTb_jaYzGjTK",
        "outputId": "5fd2d9c1-fa7b-4f10-f4e0-9730de49dc05"
      },
      "outputs": [
        {
          "output_type": "stream",
          "name": "stdout",
          "text": [
            "예측 결과 shape: (32, 10)\n"
          ]
        }
      ],
      "source": [
        "preds = model.predict(test_images[:32], batch_size=32)\n",
        "print('예측 결과 shape:', preds.shape)\n",
        "# print('예측 결과:', preds)"
      ]
    },
    {
      "cell_type": "code",
      "execution_count": 38,
      "metadata": {
        "colab": {
          "base_uri": "https://localhost:8080/"
        },
        "id": "8a5LKsuaGjTL",
        "outputId": "06759381-2e54-481f-d997-092b4a6a9cee"
      },
      "outputs": [
        {
          "output_type": "stream",
          "name": "stdout",
          "text": [
            "예측 클래스 값: [3 8 8 0 6 6 1 6 3 1 0 9 5 7 9 8 5 7 8 6 7 2 4 9 4 2 5 0 9 6 6 5]\n"
          ]
        }
      ],
      "source": [
        "predicted_class = np.argmax(preds, axis=1)\n",
        "print('예측 클래스 값:', predicted_class)"
      ]
    },
    {
      "cell_type": "code",
      "execution_count": 39,
      "metadata": {
        "colab": {
          "base_uri": "https://localhost:8080/",
          "height": 201
        },
        "id": "OHumOm3sGjTO",
        "outputId": "f1b40da6-6a7b-4eb3-ef5d-4f241015189a"
      },
      "outputs": [
        {
          "output_type": "display_data",
          "data": {
            "image/png": "[encoded data removed]",
            "text/plain": [
              "<Figure size 1584x432 with 8 Axes>"
            ]
          },
          "metadata": {
            "needs_background": "light"
          }
        },
        {
          "output_type": "display_data",
          "data": {
            "image/png": "[encoded data removed]",
            "text/plain": [
              "<Figure size 1584x432 with 8 Axes>"
            ]
          },
          "metadata": {
            "needs_background": "light"
          }
        }
      ],
      "source": [
        "show_images(test_images[:8], predicted_class[:8], ncols=8)\n",
        "show_images(test_images[:8], test_labels[:8], ncols=8)"
      ]
    },
    {
      "cell_type": "code",
      "execution_count": 39,
      "metadata": {
        "id": "jq1plJ4AGjTP"
      },
      "outputs": [],
      "source": [
        ""
      ]
    },
    {
      "cell_type": "markdown",
      "metadata": {
        "id": "VUxfB6NEGjTP"
      },
      "source": [
        "### 평균이 1 이고 표준편차가 1인 표준 정규분포에서 난수 추출\n",
        "* 표준 편차가 클 수록 개별 값의 크기가 일반적으로 커짐."
      ]
    },
    {
      "cell_type": "code",
      "execution_count": 40,
      "metadata": {
        "id": "u4XHpXf5GjTP",
        "colab": {
          "base_uri": "https://localhost:8080/"
        },
        "outputId": "df727916-5b36-48bc-f966-eaaea4a0610c"
      },
      "outputs": [
        {
          "output_type": "stream",
          "name": "stdout",
          "text": [
            "[[-0.62643564 -1.44772014  0.11696925 ...  0.6187573  -0.54109104\n",
            "   0.17442741]\n",
            " [-0.28168392 -0.54005113  1.24645683 ...  0.70674474 -1.39775395\n",
            "   0.0398007 ]\n",
            " [-0.05427505  0.84835196  1.63117804 ... -2.67130256 -0.95105067\n",
            "   0.12835856]\n",
            " ...\n",
            " [-0.85681797 -0.31920013 -0.49590712 ...  0.64558754  0.53763635\n",
            "  -0.64760702]\n",
            " [ 0.87670222  0.83929595  1.23757906 ...  0.47735545 -0.73308111\n",
            "  -0.93285753]\n",
            " [-2.04574667  1.83009477 -3.30487984 ...  0.38902867 -1.07646873\n",
            "   0.21315858]]\n",
            "-0.011627068312786525\n",
            "0.9911159993393904\n",
            "-116.27068312786525\n"
          ]
        }
      ],
      "source": [
        "numbers = np.random.normal(loc=0.0,scale=1,size=[100, 100]) # loc: 평균의 위치  # scale: 표준편차  # size: 차원과 갯수\n",
        "print(numbers)\n",
        "print(numbers.mean())\n",
        "print(numbers.std())\n",
        "print(numbers.sum())"
      ]
    },
    {
      "cell_type": "markdown",
      "metadata": {
        "id": "oT6yXXFvGjTP"
      },
      "source": [
        "### Xavier initialization - 정규분포(glorot_normal), 균일분포(glorot_uniform) "
      ]
    },
    {
      "cell_type": "code",
      "execution_count": 41,
      "metadata": {
        "id": "AzY_Ok_XGjTQ",
        "colab": {
          "base_uri": "https://localhost:8080/"
        },
        "outputId": "1ddcd616-e179-4a33-86af-d1d3558f08c3"
      },
      "outputs": [
        {
          "output_type": "stream",
          "name": "stdout",
          "text": [
            "scale: 0.23904572186687872\n",
            "[[ 0.26983769 -0.33942298 -0.24396145 ... -0.37727935 -0.21893383\n",
            "   0.15347674]\n",
            " [ 0.0892502  -0.3392229   0.07343333 ... -0.24950585  0.3616799\n",
            "  -0.51067875]\n",
            " [ 0.3418583   0.28790734  0.1517619  ...  0.26969297  0.03138403\n",
            "  -0.06550029]\n",
            " ...\n",
            " [-0.08436121  0.141419   -0.02944016 ...  0.16774588 -0.08798991\n",
            "   0.1539025 ]\n",
            " [-0.08163995 -0.06471518 -0.09214194 ...  0.05530551 -0.11179722\n",
            "  -0.00901799]\n",
            " [-0.28246375  0.00382801 -0.35278239 ...  0.30388534 -0.01244724\n",
            "   0.22382913]]\n",
            "weights mean: -0.004398094459689141 std: 0.23910229720297638 sum: -43.98094459689141\n"
          ]
        }
      ],
      "source": [
        "# glorot_normal 정규분포\n",
        "fan_in = 20\n",
        "fan_out = 15\n",
        "scale_value = np.sqrt(2/(fan_in + fan_out))\n",
        "print('scale:', scale_value)\n",
        "weights = np.random.normal(loc=0.0, scale=scale_value, size=(100, 100))\n",
        "print(weights)\n",
        "print('weights mean:',weights.mean(), 'std:', weights.std(), 'sum:', weights.sum())"
      ]
    },
    {
      "cell_type": "code",
      "execution_count": 42,
      "metadata": {
        "id": "2gAb7b1gGjTQ",
        "colab": {
          "base_uri": "https://localhost:8080/"
        },
        "outputId": "8fb9fd2e-3b63-4844-f91f-af1a710fbcdf"
      },
      "outputs": [
        {
          "output_type": "stream",
          "name": "stdout",
          "text": [
            "limit: 0.5773502691896257\n",
            "[[ 0.0149116  -0.51276342 -0.2547272  ...  0.01101799 -0.22116896\n",
            "   0.05738318]\n",
            " [-0.36900004  0.1303267   0.05743955 ... -0.12000515 -0.32540182\n",
            "   0.10870443]\n",
            " [ 0.16143846 -0.30890412  0.17392101 ... -0.04738759 -0.23179895\n",
            "   0.09045142]\n",
            " ...\n",
            " [-0.31918485 -0.42355259  0.12715225 ...  0.3367706  -0.08912833\n",
            "  -0.11475978]\n",
            " [ 0.54186743  0.19648585 -0.01184922 ...  0.36084944 -0.21552663\n",
            "   0.24914712]\n",
            " [ 0.54265433  0.54574942  0.51594755 ...  0.23135968  0.04229806\n",
            "   0.15526397]]\n",
            "weights mean: -0.0016783868752759518 std: 0.3342020724646079 sum: -16.783868752759517\n"
          ]
        }
      ],
      "source": [
        "# glorot_uniform 균일분포 \n",
        "fan_in = 10\n",
        "fan_out = 8\n",
        "limit = np.sqrt(6/(fan_in + fan_out))\n",
        "print('limit:', limit)\n",
        "weights = np.random.uniform(-1*limit, limit, size=(100, 100))\n",
        "print(weights)\n",
        "print('weights mean:',weights.mean(), 'std:', weights.std(), 'sum:', weights.sum())"
      ]
    },
    {
      "cell_type": "markdown",
      "metadata": {
        "id": "_L9ULBM-GjTQ"
      },
      "source": [
        "### He initialization - 정규분포(he_normal), 균일분포(he_uniform) "
      ]
    },
    {
      "cell_type": "code",
      "execution_count": 43,
      "metadata": {
        "id": "fpaWjsPxGjTQ",
        "colab": {
          "base_uri": "https://localhost:8080/"
        },
        "outputId": "42d52b44-76f2-45b7-bd98-e8be9add1c06"
      },
      "outputs": [
        {
          "output_type": "stream",
          "name": "stdout",
          "text": [
            "scale: 0.4472135954999579\n",
            "[[ 0.11542552 -0.07622458  0.37308283 ... -0.24686761 -0.43219647\n",
            "   0.11897927]\n",
            " [ 0.52266796  0.61483854 -0.20729809 ...  0.28170981 -0.14109697\n",
            "   0.0109012 ]\n",
            " [-0.44603879  0.30030119  0.6541824  ...  0.59438461 -0.2135769\n",
            "   0.20798698]\n",
            " ...\n",
            " [ 0.45778644 -0.56312398  0.55987296 ... -0.16871846  0.30756073\n",
            "  -0.1512014 ]\n",
            " [-1.13217785 -0.60880834 -0.21761137 ...  0.06155766  0.08355846\n",
            "  -0.06162944]\n",
            " [ 0.32634901 -0.30224562 -0.52236425 ... -0.17433608  0.0509038\n",
            "   0.1248552 ]]\n",
            "weights mean: -8.849674125272066e-05 std: 0.4454921863097304 sum: -0.8849674125272067\n"
          ]
        }
      ],
      "source": [
        "fan_in = 10\n",
        "fan_out = 8\n",
        "scale_value = np.sqrt(2/(fan_in))\n",
        "print('scale:', scale_value)\n",
        "weights = np.random.normal(loc=0.0, scale=scale_value, size=(100, 100))\n",
        "print(weights)\n",
        "print('weights mean:',weights.mean(), 'std:', weights.std(), 'sum:', weights.sum())"
      ]
    },
    {
      "cell_type": "code",
      "execution_count": 44,
      "metadata": {
        "id": "COGA4oxcGjTR",
        "colab": {
          "base_uri": "https://localhost:8080/"
        },
        "outputId": "eeb51beb-122e-4670-bf17-bfcfa359f9df"
      },
      "outputs": [
        {
          "output_type": "stream",
          "name": "stdout",
          "text": [
            "limit: 0.7745966692414834\n",
            "[[-0.66404891  0.22988957 -0.34581865 ...  0.16981278  0.68150737\n",
            "  -0.3757635 ]\n",
            " [-0.65875    -0.67165284 -0.14040469 ...  0.16068671 -0.54420095\n",
            "   0.5453627 ]\n",
            " [-0.21402871  0.12994114 -0.14541633 ... -0.05564134 -0.48206981\n",
            "   0.04445331]\n",
            " ...\n",
            " [ 0.16953931  0.08080057  0.28821993 ... -0.08146504  0.13462459\n",
            "   0.34554936]\n",
            " [-0.38914813  0.28847335  0.49833469 ...  0.6750576   0.68817034\n",
            "  -0.47107612]\n",
            " [ 0.34107077  0.36413135  0.50027123 ...  0.4417371   0.35691867\n",
            "  -0.23524515]]\n",
            "weights mean: -0.0015926354950597976 std: 0.44385875653319207 sum: -15.926354950597975\n"
          ]
        }
      ],
      "source": [
        "fan_in = 10\n",
        "fan_out = 8\n",
        "limit = np.sqrt(6/(fan_in))\n",
        "print('limit:', limit)\n",
        "weights = np.random.uniform(-1*limit, limit, size=(100, 100))\n",
        "print(weights)\n",
        "print('weights mean:',weights.mean(), 'std:', weights.std(), 'sum:', weights.sum())"
      ]
    },
    {
      "cell_type": "markdown",
      "metadata": {
        "id": "_8Yr_1nsGjTR"
      },
      "source": [
        "### weight 초기화를 He Normal로 변경 후 성능 검증\n",
        "* Keras Conv2D의 기본 weight 초기화는 glorot_uniform임. 이를 he_normal로 변경 후 동일 모델로 성능 테스트 \n",
        "* label은 원-핫 인코딩을 적용 \n",
        "- 결과: 현재 데이터로는 큰 성능 개선은 없다"
      ]
    },
    {
      "cell_type": "code",
      "execution_count": 68,
      "metadata": {
        "id": "Xee-b5BtGjTR",
        "colab": {
          "base_uri": "https://localhost:8080/"
        },
        "outputId": "d30aaf94-1048-4265-8524-42531b5233ec"
      },
      "outputs": [
        {
          "output_type": "stream",
          "name": "stdout",
          "text": [
            "(50000, 32, 32, 3) (50000, 1)\n",
            "(50000, 32, 32, 3) (50000, 10) (10000, 32, 32, 3) (10000, 10)\n"
          ]
        }
      ],
      "source": [
        "from tensorflow.keras.datasets import cifar10\n",
        "from tensorflow.keras.utils import to_categorical\n",
        "\n",
        "\n",
        "def get_preprocessed_data(images, labels):\n",
        "    \n",
        "    # 학습과 테스트 이미지 array를 0~1 사이값으로 scale 및 float32 형 변형. \n",
        "    images = np.array(images/255.0, dtype=np.float32)\n",
        "    labels = np.array(labels, dtype=np.float32)\n",
        "    labels = labels.squeeze()\n",
        "    \n",
        "    return images, labels\n",
        "\n",
        "# 0 ~ 1사이값 float32로 변경하는 함수 호출 한 뒤 OHE 적용 \n",
        "def get_preprocessed_ohe(images, labels):\n",
        "    images, labels = get_preprocessed_data(images, labels)\n",
        "    # OHE 적용 \n",
        "    oh_labels = to_categorical(labels)\n",
        "    return images, oh_labels\n",
        "\n",
        "(train_images, train_labels), (test_images, test_labels) = cifar10.load_data()\n",
        "\n",
        "print(train_images.shape, train_labels.shape)\n",
        "train_images, train_oh_labels = get_preprocessed_ohe(train_images, train_labels)\n",
        "test_images, test_oh_labels = get_preprocessed_ohe(test_images, test_labels)\n",
        "print(train_images.shape, train_oh_labels.shape, test_images.shape, test_oh_labels.shape)"
      ]
    },
    {
      "cell_type": "code",
      "execution_count": 46,
      "metadata": {
        "id": "mHsie-U2GjTS",
        "colab": {
          "base_uri": "https://localhost:8080/"
        },
        "outputId": "e3ccb3f4-8e73-4a3a-8307-85287d4aace5"
      },
      "outputs": [
        {
          "output_type": "stream",
          "name": "stdout",
          "text": [
            "Model: \"model_2\"\n",
            "_________________________________________________________________\n",
            " Layer (type)                Output Shape              Param #   \n",
            "=================================================================\n",
            " input_3 (InputLayer)        [(None, 32, 32, 3)]       0         \n",
            "                                                                 \n",
            " conv2d_11 (Conv2D)          (None, 32, 32, 32)        896       \n",
            "                                                                 \n",
            " conv2d_12 (Conv2D)          (None, 32, 32, 32)        9248      \n",
            "                                                                 \n",
            " max_pooling2d_6 (MaxPooling  (None, 16, 16, 32)       0         \n",
            " 2D)                                                             \n",
            "                                                                 \n",
            " conv2d_13 (Conv2D)          (None, 16, 16, 64)        18496     \n",
            "                                                                 \n",
            " conv2d_14 (Conv2D)          (None, 16, 16, 64)        36928     \n",
            "                                                                 \n",
            " activation_2 (Activation)   (None, 16, 16, 64)        0         \n",
            "                                                                 \n",
            " max_pooling2d_7 (MaxPooling  (None, 8, 8, 64)         0         \n",
            " 2D)                                                             \n",
            "                                                                 \n",
            " conv2d_15 (Conv2D)          (None, 8, 8, 128)         73856     \n",
            "                                                                 \n",
            " conv2d_16 (Conv2D)          (None, 8, 8, 128)         147584    \n",
            "                                                                 \n",
            " max_pooling2d_8 (MaxPooling  (None, 4, 4, 128)        0         \n",
            " 2D)                                                             \n",
            "                                                                 \n",
            " flatten (Flatten)           (None, 2048)              0         \n",
            "                                                                 \n",
            " dropout_4 (Dropout)         (None, 2048)              0         \n",
            "                                                                 \n",
            " fc1 (Dense)                 (None, 300)               614700    \n",
            "                                                                 \n",
            " dropout_5 (Dropout)         (None, 300)               0         \n",
            "                                                                 \n",
            " output (Dense)              (None, 10)                3010      \n",
            "                                                                 \n",
            "=================================================================\n",
            "Total params: 904,718\n",
            "Trainable params: 904,718\n",
            "Non-trainable params: 0\n",
            "_________________________________________________________________\n"
          ]
        }
      ],
      "source": [
        "from tensorflow.keras.models import Sequential, Model\n",
        "from tensorflow.keras.layers import Input, Dense , Conv2D , Dropout , Flatten , Activation, MaxPooling2D , GlobalAveragePooling2D\n",
        "from tensorflow.keras.optimizers import Adam , RMSprop \n",
        "from tensorflow.keras.layers import BatchNormalization\n",
        "from tensorflow.keras.callbacks import ReduceLROnPlateau , EarlyStopping , ModelCheckpoint , LearningRateScheduler\n",
        "\n",
        "IMAGE_SIZE = 32\n",
        "\n",
        "input_tensor = Input(shape=(IMAGE_SIZE, IMAGE_SIZE, 3))\n",
        "\n",
        "#x = Conv2D(filters=32, kernel_size=(5, 5), padding='valid', activation='relu')(input_tensor)\n",
        "x = Conv2D(filters=32, kernel_size=(3, 3), padding='same', activation='relu', kernel_initializer='he_normal')(input_tensor)\n",
        "x = Conv2D(filters=32, kernel_size=(3, 3), padding='same', activation='relu', kernel_initializer='he_normal')(x)\n",
        "x = MaxPooling2D(pool_size=(2, 2))(x)\n",
        "\n",
        "x = Conv2D(filters=64, kernel_size=3, padding='same', activation='relu', kernel_initializer='he_normal')(x)\n",
        "x = Conv2D(filters=64, kernel_size=3, padding='same', kernel_initializer='he_normal')(x)\n",
        "x = Activation('relu')(x)\n",
        "x = MaxPooling2D(pool_size=2)(x)\n",
        "\n",
        "x = Conv2D(filters=128, kernel_size=3, padding='same', activation='relu', kernel_initializer='he_normal')(x)\n",
        "x = Conv2D(filters=128, kernel_size=3, padding='same', activation='relu', kernel_initializer='he_normal')(x)\n",
        "x = MaxPooling2D(pool_size=2)(x)\n",
        "\n",
        "# cifar10의 클래스가 10개 이므로 마지막 classification의 Dense layer units갯수는 10\n",
        "x = Flatten(name='flatten')(x)\n",
        "x = Dropout(rate=0.5)(x)\n",
        "x = Dense(300, activation='relu', name='fc1')(x)\n",
        "x = Dropout(rate=0.3)(x)\n",
        "output = Dense(10, activation='softmax', name='output')(x)\n",
        "\n",
        "model = Model(inputs=input_tensor, outputs=output)\n",
        "\n",
        "model.summary()"
      ]
    },
    {
      "cell_type": "code",
      "execution_count": 47,
      "metadata": {
        "id": "3me-dirhGjTS",
        "colab": {
          "base_uri": "https://localhost:8080/"
        },
        "outputId": "d385bfaf-6403-4467-aa4c-1f17ebc926a1"
      },
      "outputs": [
        {
          "output_type": "stream",
          "name": "stdout",
          "text": [
            "Epoch 1/30\n",
            "43/43 [==============================] - 3s 55ms/step - loss: 2.1938 - accuracy: 0.2032 - val_loss: 1.7897 - val_accuracy: 0.3425\n",
            "Epoch 2/30\n",
            "43/43 [==============================] - 2s 48ms/step - loss: 1.6988 - accuracy: 0.3731 - val_loss: 1.5111 - val_accuracy: 0.4457\n",
            "Epoch 3/30\n",
            "43/43 [==============================] - 2s 48ms/step - loss: 1.5031 - accuracy: 0.4520 - val_loss: 1.3454 - val_accuracy: 0.5137\n",
            "Epoch 4/30\n",
            "43/43 [==============================] - 2s 48ms/step - loss: 1.3733 - accuracy: 0.5011 - val_loss: 1.2777 - val_accuracy: 0.5419\n",
            "Epoch 5/30\n",
            "43/43 [==============================] - 2s 48ms/step - loss: 1.2469 - accuracy: 0.5503 - val_loss: 1.1399 - val_accuracy: 0.5952\n",
            "Epoch 6/30\n",
            "43/43 [==============================] - 2s 48ms/step - loss: 1.1652 - accuracy: 0.5830 - val_loss: 1.0495 - val_accuracy: 0.6328\n",
            "Epoch 7/30\n",
            "43/43 [==============================] - 2s 49ms/step - loss: 1.0644 - accuracy: 0.6218 - val_loss: 1.0115 - val_accuracy: 0.6428\n",
            "Epoch 8/30\n",
            "43/43 [==============================] - 2s 48ms/step - loss: 1.0184 - accuracy: 0.6397 - val_loss: 0.9514 - val_accuracy: 0.6651\n",
            "Epoch 9/30\n",
            "43/43 [==============================] - 2s 55ms/step - loss: 0.9524 - accuracy: 0.6609 - val_loss: 0.8899 - val_accuracy: 0.6912\n",
            "Epoch 10/30\n",
            "43/43 [==============================] - 2s 48ms/step - loss: 0.8977 - accuracy: 0.6822 - val_loss: 0.8599 - val_accuracy: 0.6948\n",
            "Epoch 11/30\n",
            "43/43 [==============================] - 2s 48ms/step - loss: 0.8512 - accuracy: 0.7001 - val_loss: 0.8374 - val_accuracy: 0.7079\n",
            "Epoch 12/30\n",
            "43/43 [==============================] - 2s 49ms/step - loss: 0.8149 - accuracy: 0.7119 - val_loss: 0.7796 - val_accuracy: 0.7264\n",
            "Epoch 13/30\n",
            "43/43 [==============================] - 2s 48ms/step - loss: 0.7768 - accuracy: 0.7242 - val_loss: 0.7777 - val_accuracy: 0.7277\n",
            "Epoch 14/30\n",
            "43/43 [==============================] - 2s 49ms/step - loss: 0.7464 - accuracy: 0.7368 - val_loss: 0.7659 - val_accuracy: 0.7379\n",
            "Epoch 15/30\n",
            "43/43 [==============================] - 2s 48ms/step - loss: 0.7029 - accuracy: 0.7501 - val_loss: 0.7385 - val_accuracy: 0.7408\n",
            "Epoch 16/30\n",
            "43/43 [==============================] - 2s 48ms/step - loss: 0.6874 - accuracy: 0.7585 - val_loss: 0.7460 - val_accuracy: 0.7437\n",
            "Epoch 17/30\n",
            "43/43 [==============================] - 2s 48ms/step - loss: 0.6466 - accuracy: 0.7714 - val_loss: 0.7440 - val_accuracy: 0.7435\n",
            "Epoch 18/30\n",
            "43/43 [==============================] - 2s 48ms/step - loss: 0.6177 - accuracy: 0.7817 - val_loss: 0.6944 - val_accuracy: 0.7649\n",
            "Epoch 19/30\n",
            "43/43 [==============================] - 2s 48ms/step - loss: 0.5993 - accuracy: 0.7881 - val_loss: 0.7088 - val_accuracy: 0.7571\n",
            "Epoch 20/30\n",
            "43/43 [==============================] - 2s 48ms/step - loss: 0.5668 - accuracy: 0.7993 - val_loss: 0.6729 - val_accuracy: 0.7712\n",
            "Epoch 21/30\n",
            "43/43 [==============================] - 2s 48ms/step - loss: 0.5449 - accuracy: 0.8071 - val_loss: 0.6711 - val_accuracy: 0.7636\n",
            "Epoch 22/30\n",
            "43/43 [==============================] - 2s 48ms/step - loss: 0.5156 - accuracy: 0.8164 - val_loss: 0.6743 - val_accuracy: 0.7663\n",
            "Epoch 23/30\n",
            "43/43 [==============================] - 2s 48ms/step - loss: 0.5104 - accuracy: 0.8177 - val_loss: 0.6935 - val_accuracy: 0.7639\n",
            "Epoch 24/30\n",
            "43/43 [==============================] - 2s 48ms/step - loss: 0.4814 - accuracy: 0.8285 - val_loss: 0.6580 - val_accuracy: 0.7745\n",
            "Epoch 25/30\n",
            "43/43 [==============================] - 2s 48ms/step - loss: 0.4714 - accuracy: 0.8333 - val_loss: 0.6582 - val_accuracy: 0.7759\n",
            "Epoch 26/30\n",
            "43/43 [==============================] - 2s 48ms/step - loss: 0.4405 - accuracy: 0.8415 - val_loss: 0.6598 - val_accuracy: 0.7779\n",
            "Epoch 27/30\n",
            "43/43 [==============================] - 2s 49ms/step - loss: 0.4294 - accuracy: 0.8488 - val_loss: 0.6550 - val_accuracy: 0.7789\n",
            "Epoch 28/30\n",
            "43/43 [==============================] - 2s 48ms/step - loss: 0.4309 - accuracy: 0.8463 - val_loss: 0.6964 - val_accuracy: 0.7749\n",
            "Epoch 29/30\n",
            "43/43 [==============================] - 2s 48ms/step - loss: 0.3954 - accuracy: 0.8594 - val_loss: 0.6562 - val_accuracy: 0.7821\n",
            "Epoch 30/30\n",
            "43/43 [==============================] - 2s 49ms/step - loss: 0.3732 - accuracy: 0.8669 - val_loss: 0.6618 - val_accuracy: 0.7852\n"
          ]
        }
      ],
      "source": [
        "# optimizer는 Adam으로 설정하고, label값이 원-핫 인코딩이므로 loss는 categorical_crossentropy 임. \n",
        "model.compile(optimizer=Adam(), loss='categorical_crossentropy', metrics=['accuracy'])\n",
        "history = model.fit(x=train_images, y=train_oh_labels, batch_size=1000, epochs=30, validation_split=0.15 )"
      ]
    },
    {
      "cell_type": "code",
      "execution_count": 52,
      "metadata": {
        "id": "BAA8uXTTGjTS",
        "colab": {
          "base_uri": "https://localhost:8080/",
          "height": 378
        },
        "outputId": "7d7bfcbf-2c48-4e8e-f488-48bd453e9471"
      },
      "outputs": [
        {
          "output_type": "display_data",
          "data": {
            "image/png": "[encoded data removed]",
            "text/plain": [
              "<Figure size 432x432 with 1 Axes>"
            ]
          },
          "metadata": {
            "needs_background": "light"
          }
        }
      ],
      "source": [
        "import matplotlib.pyplot as plt\n",
        "%matplotlib inline\n",
        "\n",
        "def show_history(history):\n",
        "    plt.figure(figsize=(6, 6))\n",
        "    plt.yticks(np.arange(0, 1, 0.05))\n",
        "    plt.plot(history.history['accuracy'], label='train')\n",
        "    plt.plot(history.history['val_accuracy'], label='valid')\n",
        "    plt.legend()\n",
        "    \n",
        "show_history(history)"
      ]
    },
    {
      "cell_type": "code",
      "execution_count": 53,
      "metadata": {
        "id": "p0M1WWM2GjTS",
        "colab": {
          "base_uri": "https://localhost:8080/"
        },
        "outputId": "77d10c7f-6cdb-4661-e37a-cf4af3b47cd6"
      },
      "outputs": [
        {
          "output_type": "stream",
          "name": "stdout",
          "text": [
            "313/313 [==============================] - 1s 4ms/step - loss: 0.6877 - accuracy: 0.7746\n"
          ]
        },
        {
          "output_type": "execute_result",
          "data": {
            "text/plain": [
              "[0.6876876950263977, 0.7746000289916992]"
            ]
          },
          "metadata": {},
          "execution_count": 53
        }
      ],
      "source": [
        "# 테스트 데이터로 성능 평가\n",
        "model.evaluate(test_images, test_oh_labels)"
      ]
    },
    {
      "cell_type": "markdown",
      "metadata": {
        "id": "60Be58YiGjTT"
      },
      "source": [
        "### Batch Normalization을 모델에 적용 후 성능 검증\n",
        "- Layer를 따로 추가해야함.\n",
        "- Batch -> Activation 순서라서, activatoin도 Layer따로 넣어줘야 함.\n",
        "- Batch가 성능이 좋아서 대부분의 layer에 사용됨"
      ]
    },
    {
      "cell_type": "code",
      "execution_count": 66,
      "metadata": {
        "id": "EjJwLsPBGjTT"
      },
      "outputs": [],
      "source": [
        "import tensorflow as tf\n",
        "import numpy as np\n",
        "import random as python_random\n",
        "\n",
        "np.random.seed(2021)\n",
        "python_random.seed(2021)\n",
        "tf.random.set_seed(2021)"
      ]
    },
    {
      "cell_type": "code",
      "source": [
        "from tensorflow.keras.datasets import cifar10\n",
        "from tensorflow.keras.utils import to_categorical\n",
        "\n",
        "\n",
        "def get_preprocessed_data(images, labels):\n",
        "    \n",
        "    # 학습과 테스트 이미지 array를 0~1 사이값으로 scale 및 float32 형 변형. \n",
        "    images = np.array(images/255.0, dtype=np.float32)\n",
        "    labels = np.array(labels, dtype=np.float32)\n",
        "    labels = labels.squeeze()\n",
        "    \n",
        "    return images, labels\n",
        "\n",
        "# 0 ~ 1사이값 float32로 변경하는 함수 호출 한 뒤 OHE 적용 \n",
        "def get_preprocessed_ohe(images, labels):\n",
        "    images, labels = get_preprocessed_data(images, labels)\n",
        "    # OHE 적용 \n",
        "    oh_labels = to_categorical(labels)\n",
        "    return images, oh_labels\n",
        "\n",
        "(train_images, train_labels), (test_images, test_labels) = cifar10.load_data()\n",
        "\n",
        "print(train_images.shape, train_labels.shape)\n",
        "train_images, train_oh_labels = get_preprocessed_ohe(train_images, train_labels)\n",
        "test_images, test_oh_labels = get_preprocessed_ohe(test_images, test_labels)\n",
        "print(train_images.shape, train_oh_labels.shape, test_images.shape, test_oh_labels.shape)"
      ],
      "metadata": {
        "colab": {
          "base_uri": "https://localhost:8080/"
        },
        "id": "D9LqZdTUNxGf",
        "outputId": "fc4f4f39-8bfd-4aa0-e27c-aa0ffad7b983"
      },
      "execution_count": 69,
      "outputs": [
        {
          "output_type": "stream",
          "name": "stdout",
          "text": [
            "(50000, 32, 32, 3) (50000, 1)\n",
            "(50000, 32, 32, 3) (50000, 10) (10000, 32, 32, 3) (10000, 10)\n"
          ]
        }
      ]
    },
    {
      "cell_type": "code",
      "execution_count": 70,
      "metadata": {
        "id": "MiYD-VPOGjTT",
        "colab": {
          "base_uri": "https://localhost:8080/"
        },
        "outputId": "5f300f79-f334-468f-d129-5018e223fde2"
      },
      "outputs": [
        {
          "output_type": "stream",
          "name": "stdout",
          "text": [
            "Model: \"model_7\"\n",
            "_________________________________________________________________\n",
            " Layer (type)                Output Shape              Param #   \n",
            "=================================================================\n",
            " input_8 (InputLayer)        [(None, 32, 32, 3)]       0         \n",
            "                                                                 \n",
            " conv2d_41 (Conv2D)          (None, 32, 32, 32)        896       \n",
            "                                                                 \n",
            " batch_normalization_20 (Bat  (None, 32, 32, 32)       128       \n",
            " chNormalization)                                                \n",
            "                                                                 \n",
            " activation_31 (Activation)  (None, 32, 32, 32)        0         \n",
            "                                                                 \n",
            " conv2d_42 (Conv2D)          (None, 32, 32, 32)        9248      \n",
            "                                                                 \n",
            " batch_normalization_21 (Bat  (None, 32, 32, 32)       128       \n",
            " chNormalization)                                                \n",
            "                                                                 \n",
            " activation_32 (Activation)  (None, 32, 32, 32)        0         \n",
            "                                                                 \n",
            " max_pooling2d_21 (MaxPoolin  (None, 16, 16, 32)       0         \n",
            " g2D)                                                            \n",
            "                                                                 \n",
            " conv2d_43 (Conv2D)          (None, 16, 16, 64)        18496     \n",
            "                                                                 \n",
            " batch_normalization_22 (Bat  (None, 16, 16, 64)       256       \n",
            " chNormalization)                                                \n",
            "                                                                 \n",
            " activation_33 (Activation)  (None, 16, 16, 64)        0         \n",
            "                                                                 \n",
            " conv2d_44 (Conv2D)          (None, 16, 16, 64)        36928     \n",
            "                                                                 \n",
            " activation_34 (Activation)  (None, 16, 16, 64)        0         \n",
            "                                                                 \n",
            " activation_35 (Activation)  (None, 16, 16, 64)        0         \n",
            "                                                                 \n",
            " max_pooling2d_22 (MaxPoolin  (None, 8, 8, 64)         0         \n",
            " g2D)                                                            \n",
            "                                                                 \n",
            " conv2d_45 (Conv2D)          (None, 8, 8, 128)         73856     \n",
            "                                                                 \n",
            " batch_normalization_23 (Bat  (None, 8, 8, 128)        512       \n",
            " chNormalization)                                                \n",
            "                                                                 \n",
            " activation_36 (Activation)  (None, 8, 8, 128)         0         \n",
            "                                                                 \n",
            " conv2d_46 (Conv2D)          (None, 8, 8, 128)         147584    \n",
            "                                                                 \n",
            " batch_normalization_24 (Bat  (None, 8, 8, 128)        512       \n",
            " chNormalization)                                                \n",
            "                                                                 \n",
            " activation_37 (Activation)  (None, 8, 8, 128)         0         \n",
            "                                                                 \n",
            " max_pooling2d_23 (MaxPoolin  (None, 4, 4, 128)        0         \n",
            " g2D)                                                            \n",
            "                                                                 \n",
            " flatten (Flatten)           (None, 2048)              0         \n",
            "                                                                 \n",
            " dropout_14 (Dropout)        (None, 2048)              0         \n",
            "                                                                 \n",
            " fc1 (Dense)                 (None, 300)               614700    \n",
            "                                                                 \n",
            " dropout_15 (Dropout)        (None, 300)               0         \n",
            "                                                                 \n",
            " output (Dense)              (None, 10)                3010      \n",
            "                                                                 \n",
            "=================================================================\n",
            "Total params: 906,254\n",
            "Trainable params: 905,486\n",
            "Non-trainable params: 768\n",
            "_________________________________________________________________\n"
          ]
        }
      ],
      "source": [
        "from tensorflow.keras.models import Sequential, Model\n",
        "from tensorflow.keras.layers import Input, Dense , Conv2D , Dropout , Flatten , Activation, MaxPooling2D , GlobalAveragePooling2D\n",
        "from tensorflow.keras.optimizers import Adam , RMSprop \n",
        "from tensorflow.keras.layers import BatchNormalization\n",
        "from tensorflow.keras.callbacks import ReduceLROnPlateau , EarlyStopping , ModelCheckpoint , LearningRateScheduler\n",
        "\n",
        "input_tensor = Input(shape=(IMAGE_SIZE, IMAGE_SIZE, 3))\n",
        "\n",
        "#x = Conv2D(filters=32, kernel_size=(5, 5), padding='valid', activation='relu')(input_tensor)\n",
        "x = Conv2D(filters=32, kernel_size=(3, 3), padding='same')(input_tensor)\n",
        "x = BatchNormalization()(x)\n",
        "x = Activation('relu')(x)\n",
        "\n",
        "x = Conv2D(filters=32, kernel_size=(3, 3), padding='same')(x)\n",
        "x = BatchNormalization()(x)\n",
        "x = Activation('relu')(x)\n",
        "x = MaxPooling2D(pool_size=(2, 2))(x)\n",
        "\n",
        "x = Conv2D(filters=64, kernel_size=3, padding='same')(x)\n",
        "x = BatchNormalization()(x)\n",
        "x = Activation('relu')(x)\n",
        "\n",
        "x = Conv2D(filters=64, kernel_size=3, padding='same')(x)\n",
        "x = Activation('relu')(x)\n",
        "x = Activation('relu')(x)\n",
        "x = MaxPooling2D(pool_size=2)(x)\n",
        "\n",
        "x = Conv2D(filters=128, kernel_size=3, padding='same')(x)\n",
        "x = BatchNormalization()(x)\n",
        "x = Activation('relu')(x)\n",
        "\n",
        "x = Conv2D(filters=128, kernel_size=3, padding='same')(x)\n",
        "x = BatchNormalization()(x)\n",
        "x = Activation('relu')(x)\n",
        "x = MaxPooling2D(pool_size=2)(x)\n",
        "\n",
        "# cifar10의 클래스가 10개 이므로 마지막 classification의 Dense layer units갯수는 10\n",
        "x = Flatten(name='flatten')(x)\n",
        "x = Dropout(rate=0.5)(x)\n",
        "x = Dense(300, activation='relu', name='fc1')(x)\n",
        "x = Dropout(rate=0.3)(x)\n",
        "output = Dense(10, activation='softmax', name='output')(x)\n",
        "\n",
        "model = Model(inputs=input_tensor, outputs=output)\n",
        "\n",
        "model.summary()"
      ]
    },
    {
      "cell_type": "code",
      "execution_count": 71,
      "metadata": {
        "id": "s3G6wjCwGjTT",
        "colab": {
          "base_uri": "https://localhost:8080/"
        },
        "outputId": "22455f84-c098-4a5f-f0ec-da496fe71802"
      },
      "outputs": [
        {
          "output_type": "stream",
          "name": "stdout",
          "text": [
            "Epoch 1/30\n",
            "43/43 [==============================] - 5s 83ms/step - loss: 2.3615 - accuracy: 0.2222 - val_loss: 2.3148 - val_accuracy: 0.1251\n",
            "Epoch 2/30\n",
            "43/43 [==============================] - 3s 64ms/step - loss: 1.6529 - accuracy: 0.3883 - val_loss: 2.9128 - val_accuracy: 0.0953\n",
            "Epoch 3/30\n",
            "43/43 [==============================] - 3s 63ms/step - loss: 1.4167 - accuracy: 0.4781 - val_loss: 3.8558 - val_accuracy: 0.1028\n",
            "Epoch 4/30\n",
            "43/43 [==============================] - 3s 67ms/step - loss: 1.2713 - accuracy: 0.5376 - val_loss: 4.2432 - val_accuracy: 0.1016\n",
            "Epoch 5/30\n",
            "43/43 [==============================] - 3s 67ms/step - loss: 1.1555 - accuracy: 0.5826 - val_loss: 3.7858 - val_accuracy: 0.1132\n",
            "Epoch 6/30\n",
            "43/43 [==============================] - 3s 63ms/step - loss: 1.0415 - accuracy: 0.6268 - val_loss: 3.6644 - val_accuracy: 0.1679\n",
            "Epoch 7/30\n",
            "43/43 [==============================] - 3s 63ms/step - loss: 0.9465 - accuracy: 0.6632 - val_loss: 3.1206 - val_accuracy: 0.1984\n",
            "Epoch 8/30\n",
            "43/43 [==============================] - 3s 63ms/step - loss: 0.8721 - accuracy: 0.6922 - val_loss: 3.0207 - val_accuracy: 0.2364\n",
            "Epoch 9/30\n",
            "43/43 [==============================] - 3s 63ms/step - loss: 0.8051 - accuracy: 0.7173 - val_loss: 3.0215 - val_accuracy: 0.2703\n",
            "Epoch 10/30\n",
            "43/43 [==============================] - 3s 63ms/step - loss: 0.7554 - accuracy: 0.7351 - val_loss: 1.7829 - val_accuracy: 0.4667\n",
            "Epoch 11/30\n",
            "43/43 [==============================] - 3s 63ms/step - loss: 0.6927 - accuracy: 0.7562 - val_loss: 1.4552 - val_accuracy: 0.5433\n",
            "Epoch 12/30\n",
            "43/43 [==============================] - 3s 63ms/step - loss: 0.6551 - accuracy: 0.7714 - val_loss: 1.3813 - val_accuracy: 0.5403\n",
            "Epoch 13/30\n",
            "43/43 [==============================] - 3s 63ms/step - loss: 0.6136 - accuracy: 0.7849 - val_loss: 1.1076 - val_accuracy: 0.6416\n",
            "Epoch 14/30\n",
            "43/43 [==============================] - 3s 63ms/step - loss: 0.5766 - accuracy: 0.7981 - val_loss: 1.1447 - val_accuracy: 0.6261\n",
            "Epoch 15/30\n",
            "43/43 [==============================] - 3s 63ms/step - loss: 0.5435 - accuracy: 0.8086 - val_loss: 1.1011 - val_accuracy: 0.6623\n",
            "Epoch 16/30\n",
            "43/43 [==============================] - 3s 63ms/step - loss: 0.5121 - accuracy: 0.8194 - val_loss: 0.8970 - val_accuracy: 0.7052\n",
            "Epoch 17/30\n",
            "43/43 [==============================] - 3s 63ms/step - loss: 0.4832 - accuracy: 0.8297 - val_loss: 0.8630 - val_accuracy: 0.7203\n",
            "Epoch 18/30\n",
            "43/43 [==============================] - 3s 63ms/step - loss: 0.4666 - accuracy: 0.8356 - val_loss: 0.7175 - val_accuracy: 0.7579\n",
            "Epoch 19/30\n",
            "43/43 [==============================] - 3s 64ms/step - loss: 0.4450 - accuracy: 0.8419 - val_loss: 0.7270 - val_accuracy: 0.7593\n",
            "Epoch 20/30\n",
            "43/43 [==============================] - 3s 63ms/step - loss: 0.4051 - accuracy: 0.8583 - val_loss: 0.8641 - val_accuracy: 0.7312\n",
            "Epoch 21/30\n",
            "43/43 [==============================] - 3s 63ms/step - loss: 0.3898 - accuracy: 0.8618 - val_loss: 0.6948 - val_accuracy: 0.7781\n",
            "Epoch 22/30\n",
            "43/43 [==============================] - 3s 63ms/step - loss: 0.3667 - accuracy: 0.8698 - val_loss: 0.8035 - val_accuracy: 0.7539\n",
            "Epoch 23/30\n",
            "43/43 [==============================] - 3s 64ms/step - loss: 0.3527 - accuracy: 0.8744 - val_loss: 0.6897 - val_accuracy: 0.7759\n",
            "Epoch 24/30\n",
            "43/43 [==============================] - 3s 63ms/step - loss: 0.3227 - accuracy: 0.8864 - val_loss: 0.8069 - val_accuracy: 0.7484\n",
            "Epoch 25/30\n",
            "43/43 [==============================] - 3s 64ms/step - loss: 0.3090 - accuracy: 0.8930 - val_loss: 0.7915 - val_accuracy: 0.7668\n",
            "Epoch 26/30\n",
            "43/43 [==============================] - 3s 64ms/step - loss: 0.2873 - accuracy: 0.9000 - val_loss: 0.7931 - val_accuracy: 0.7764\n",
            "Epoch 27/30\n",
            "43/43 [==============================] - 3s 67ms/step - loss: 0.2794 - accuracy: 0.9002 - val_loss: 0.9119 - val_accuracy: 0.7427\n",
            "Epoch 28/30\n",
            "43/43 [==============================] - 3s 64ms/step - loss: 0.2671 - accuracy: 0.9058 - val_loss: 0.7431 - val_accuracy: 0.7853\n",
            "Epoch 29/30\n",
            "43/43 [==============================] - 3s 64ms/step - loss: 0.2568 - accuracy: 0.9099 - val_loss: 1.0121 - val_accuracy: 0.7403\n",
            "Epoch 30/30\n",
            "43/43 [==============================] - 3s 64ms/step - loss: 0.2354 - accuracy: 0.9160 - val_loss: 0.8995 - val_accuracy: 0.7553\n"
          ]
        }
      ],
      "source": [
        "# label값이 원-핫 인코딩이 아니므로 loss는 categorical_crossentropy 임. \n",
        "model.compile(optimizer=Adam(), loss='categorical_crossentropy', metrics=['accuracy'])\n",
        "history = model.fit(x=train_images, y=train_oh_labels, batch_size=1000, epochs=30, validation_split=0.15)"
      ]
    },
    {
      "cell_type": "code",
      "execution_count": 72,
      "metadata": {
        "id": "5Q5s8dG0GjTT",
        "colab": {
          "base_uri": "https://localhost:8080/"
        },
        "outputId": "93cb4805-7062-4009-860d-2e8d4751226b"
      },
      "outputs": [
        {
          "output_type": "stream",
          "name": "stdout",
          "text": [
            "313/313 [==============================] - 1s 4ms/step - loss: 0.9395 - accuracy: 0.7517\n"
          ]
        },
        {
          "output_type": "execute_result",
          "data": {
            "text/plain": [
              "[0.9394737482070923, 0.7516999840736389]"
            ]
          },
          "metadata": {},
          "execution_count": 72
        }
      ],
      "source": [
        "model.evaluate(test_images, test_oh_labels)"
      ]
    },
    {
      "cell_type": "code",
      "execution_count": 57,
      "metadata": {
        "id": "eCvZFDQCGjTU"
      },
      "outputs": [],
      "source": [
        ""
      ]
    },
    {
      "cell_type": "markdown",
      "metadata": {
        "id": "q-QbjR3KGjTU"
      },
      "source": [
        "### He Normal 적용 후 Batch Normalization"
      ]
    },
    {
      "cell_type": "code",
      "execution_count": 58,
      "metadata": {
        "id": "W_ppVmJ9GjTU",
        "colab": {
          "base_uri": "https://localhost:8080/"
        },
        "outputId": "6145967c-4546-47e1-e43e-b69e72c6e7af"
      },
      "outputs": [
        {
          "output_type": "stream",
          "name": "stdout",
          "text": [
            "Model: \"model_4\"\n",
            "_________________________________________________________________\n",
            " Layer (type)                Output Shape              Param #   \n",
            "=================================================================\n",
            " input_5 (InputLayer)        [(None, 32, 32, 3)]       0         \n",
            "                                                                 \n",
            " conv2d_23 (Conv2D)          (None, 32, 32, 32)        896       \n",
            "                                                                 \n",
            " batch_normalization_5 (Batc  (None, 32, 32, 32)       128       \n",
            " hNormalization)                                                 \n",
            "                                                                 \n",
            " activation_10 (Activation)  (None, 32, 32, 32)        0         \n",
            "                                                                 \n",
            " conv2d_24 (Conv2D)          (None, 32, 32, 32)        9248      \n",
            "                                                                 \n",
            " batch_normalization_6 (Batc  (None, 32, 32, 32)       128       \n",
            " hNormalization)                                                 \n",
            "                                                                 \n",
            " activation_11 (Activation)  (None, 32, 32, 32)        0         \n",
            "                                                                 \n",
            " max_pooling2d_12 (MaxPoolin  (None, 16, 16, 32)       0         \n",
            " g2D)                                                            \n",
            "                                                                 \n",
            " conv2d_25 (Conv2D)          (None, 16, 16, 64)        18496     \n",
            "                                                                 \n",
            " batch_normalization_7 (Batc  (None, 16, 16, 64)       256       \n",
            " hNormalization)                                                 \n",
            "                                                                 \n",
            " activation_12 (Activation)  (None, 16, 16, 64)        0         \n",
            "                                                                 \n",
            " conv2d_26 (Conv2D)          (None, 16, 16, 64)        36928     \n",
            "                                                                 \n",
            " activation_13 (Activation)  (None, 16, 16, 64)        0         \n",
            "                                                                 \n",
            " activation_14 (Activation)  (None, 16, 16, 64)        0         \n",
            "                                                                 \n",
            " max_pooling2d_13 (MaxPoolin  (None, 8, 8, 64)         0         \n",
            " g2D)                                                            \n",
            "                                                                 \n",
            " conv2d_27 (Conv2D)          (None, 8, 8, 128)         73856     \n",
            "                                                                 \n",
            " batch_normalization_8 (Batc  (None, 8, 8, 128)        512       \n",
            " hNormalization)                                                 \n",
            "                                                                 \n",
            " activation_15 (Activation)  (None, 8, 8, 128)         0         \n",
            "                                                                 \n",
            " conv2d_28 (Conv2D)          (None, 8, 8, 128)         147584    \n",
            "                                                                 \n",
            " batch_normalization_9 (Batc  (None, 8, 8, 128)        512       \n",
            " hNormalization)                                                 \n",
            "                                                                 \n",
            " activation_16 (Activation)  (None, 8, 8, 128)         0         \n",
            "                                                                 \n",
            " max_pooling2d_14 (MaxPoolin  (None, 4, 4, 128)        0         \n",
            " g2D)                                                            \n",
            "                                                                 \n",
            " flatten (Flatten)           (None, 2048)              0         \n",
            "                                                                 \n",
            " dropout_8 (Dropout)         (None, 2048)              0         \n",
            "                                                                 \n",
            " fc1 (Dense)                 (None, 300)               614700    \n",
            "                                                                 \n",
            " dropout_9 (Dropout)         (None, 300)               0         \n",
            "                                                                 \n",
            " output (Dense)              (None, 10)                3010      \n",
            "                                                                 \n",
            "=================================================================\n",
            "Total params: 906,254\n",
            "Trainable params: 905,486\n",
            "Non-trainable params: 768\n",
            "_________________________________________________________________\n"
          ]
        }
      ],
      "source": [
        "from tensorflow.keras.models import Sequential, Model\n",
        "from tensorflow.keras.layers import Input, Dense , Conv2D , Dropout , Flatten , Activation, MaxPooling2D , GlobalAveragePooling2D\n",
        "from tensorflow.keras.optimizers import Adam , RMSprop \n",
        "from tensorflow.keras.layers import BatchNormalization\n",
        "from tensorflow.keras.callbacks import ReduceLROnPlat eau , EarlyStopping , ModelCheckpoint , LearningRateScheduler\n",
        "\n",
        "input_tensor = Input(shape=(IMAGE_SIZE, IMAGE_SIZE, 3))\n",
        "\n",
        "#x = Conv2D(filters=32, kernel_size=(5, 5), padding='valid', activation='relu')(input_tensor)\n",
        "x = Conv2D(filters=32, kernel_size=(3, 3), padding='same', kernel_initializer='he_normal')(input_tensor)\n",
        "x = BatchNormalization()(x)\n",
        "x = Activation('relu')(x)\n",
        "\n",
        "x = Conv2D(filters=32, kernel_size=(3, 3), padding='same', kernel_initializer='he_normal')(x)\n",
        "x = BatchNormalization()(x)\n",
        "x = Activation('relu')(x)\n",
        "x = MaxPooling2D(pool_size=(2, 2))(x)\n",
        "\n",
        "x = Conv2D(filters=64, kernel_size=3, padding='same', kernel_initializer='he_normal')(x)\n",
        "x = BatchNormalization()(x)\n",
        "x = Activation('relu')(x)\n",
        "\n",
        "x = Conv2D(filters=64, kernel_size=3, padding='same', kernel_initializer='he_normal')(x)\n",
        "x = Activation('relu')(x)\n",
        "x = Activation('relu')(x)\n",
        "x = MaxPooling2D(pool_size=2)(x)\n",
        "\n",
        "x = Conv2D(filters=128, kernel_size=3, padding='same', kernel_initializer='he_normal')(x)\n",
        "x = BatchNormalization()(x)\n",
        "x = Activation('relu')(x)\n",
        "\n",
        "x = Conv2D(filters=128, kernel_size=3, padding='same', kernel_initializer='he_normal')(x)\n",
        "x = BatchNormalization()(x)\n",
        "x = Activation('relu')(x)\n",
        "x = MaxPooling2D(pool_size=2)(x)\n",
        "\n",
        "# cifar10의 클래스가 10개 이므로 마지막 classification의 Dense layer units갯수는 10\n",
        "x = Flatten(name='flatten')(x)\n",
        "x = Dropout(rate=0.5)(x)\n",
        "x = Dense(300, activation='relu', name='fc1')(x)\n",
        "x = Dropout(rate=0.3)(x)\n",
        "output = Dense(10, activation='softmax', name='output')(x)\n",
        "\n",
        "model = Model(inputs=input_tensor, outputs=output)\n",
        "\n",
        "model.summary()"
      ]
    },
    {
      "cell_type": "code",
      "execution_count": 73,
      "metadata": {
        "id": "YZFalEvwGjTU",
        "colab": {
          "base_uri": "https://localhost:8080/"
        },
        "outputId": "664442b8-9ff1-4c5f-aabe-4ecd61a5d386"
      },
      "outputs": [
        {
          "output_type": "stream",
          "name": "stdout",
          "text": [
            "Epoch 1/30\n",
            "43/43 [==============================] - 6s 87ms/step - loss: 0.2582 - accuracy: 0.9094 - val_loss: 0.9318 - val_accuracy: 0.7589\n",
            "Epoch 2/30\n",
            "43/43 [==============================] - 3s 63ms/step - loss: 0.2074 - accuracy: 0.9263 - val_loss: 0.9837 - val_accuracy: 0.7636\n",
            "Epoch 3/30\n",
            "43/43 [==============================] - 3s 63ms/step - loss: 0.2000 - accuracy: 0.9285 - val_loss: 0.9856 - val_accuracy: 0.7677\n",
            "Epoch 4/30\n",
            "43/43 [==============================] - 3s 63ms/step - loss: 0.1918 - accuracy: 0.9323 - val_loss: 1.1866 - val_accuracy: 0.7469\n",
            "Epoch 5/30\n",
            "43/43 [==============================] - 3s 64ms/step - loss: 0.1795 - accuracy: 0.9378 - val_loss: 0.9131 - val_accuracy: 0.7891\n",
            "Epoch 6/30\n",
            "43/43 [==============================] - 3s 63ms/step - loss: 0.1781 - accuracy: 0.9372 - val_loss: 1.0214 - val_accuracy: 0.7601\n",
            "Epoch 7/30\n",
            "43/43 [==============================] - 3s 63ms/step - loss: 0.1666 - accuracy: 0.9412 - val_loss: 0.8987 - val_accuracy: 0.7803\n",
            "Epoch 8/30\n",
            "43/43 [==============================] - 3s 64ms/step - loss: 0.1576 - accuracy: 0.9440 - val_loss: 0.9325 - val_accuracy: 0.7756\n",
            "Epoch 9/30\n",
            "43/43 [==============================] - 3s 63ms/step - loss: 0.1570 - accuracy: 0.9439 - val_loss: 0.8494 - val_accuracy: 0.7861\n",
            "Epoch 10/30\n",
            "43/43 [==============================] - 3s 63ms/step - loss: 0.1460 - accuracy: 0.9484 - val_loss: 0.9898 - val_accuracy: 0.7773\n",
            "Epoch 11/30\n",
            "43/43 [==============================] - 3s 63ms/step - loss: 0.1349 - accuracy: 0.9530 - val_loss: 1.0211 - val_accuracy: 0.7681\n",
            "Epoch 12/30\n",
            "43/43 [==============================] - 3s 64ms/step - loss: 0.1389 - accuracy: 0.9514 - val_loss: 0.9258 - val_accuracy: 0.7864\n",
            "Epoch 13/30\n",
            "43/43 [==============================] - 3s 63ms/step - loss: 0.1279 - accuracy: 0.9541 - val_loss: 0.9472 - val_accuracy: 0.7911\n",
            "Epoch 14/30\n",
            "43/43 [==============================] - 3s 67ms/step - loss: 0.1163 - accuracy: 0.9595 - val_loss: 1.0168 - val_accuracy: 0.7775\n",
            "Epoch 15/30\n",
            "43/43 [==============================] - 3s 63ms/step - loss: 0.1085 - accuracy: 0.9629 - val_loss: 1.0036 - val_accuracy: 0.7844\n",
            "Epoch 16/30\n",
            "43/43 [==============================] - 3s 63ms/step - loss: 0.1132 - accuracy: 0.9601 - val_loss: 1.0418 - val_accuracy: 0.7804\n",
            "Epoch 17/30\n",
            "43/43 [==============================] - 3s 63ms/step - loss: 0.1071 - accuracy: 0.9619 - val_loss: 1.1056 - val_accuracy: 0.7725\n",
            "Epoch 18/30\n",
            "43/43 [==============================] - 3s 63ms/step - loss: 0.1057 - accuracy: 0.9627 - val_loss: 1.1244 - val_accuracy: 0.7732\n",
            "Epoch 19/30\n",
            "43/43 [==============================] - 3s 63ms/step - loss: 0.1056 - accuracy: 0.9625 - val_loss: 1.2050 - val_accuracy: 0.7493\n",
            "Epoch 20/30\n",
            "43/43 [==============================] - 3s 64ms/step - loss: 0.0940 - accuracy: 0.9671 - val_loss: 1.0157 - val_accuracy: 0.7889\n",
            "Epoch 21/30\n",
            "43/43 [==============================] - 3s 67ms/step - loss: 0.0961 - accuracy: 0.9669 - val_loss: 1.4655 - val_accuracy: 0.7469\n",
            "Epoch 22/30\n",
            "43/43 [==============================] - 3s 63ms/step - loss: 0.0970 - accuracy: 0.9660 - val_loss: 1.3675 - val_accuracy: 0.7505\n",
            "Epoch 23/30\n",
            "43/43 [==============================] - 3s 64ms/step - loss: 0.0953 - accuracy: 0.9676 - val_loss: 1.2143 - val_accuracy: 0.7609\n",
            "Epoch 24/30\n",
            "43/43 [==============================] - 3s 64ms/step - loss: 0.0865 - accuracy: 0.9705 - val_loss: 1.2083 - val_accuracy: 0.7756\n",
            "Epoch 25/30\n",
            "43/43 [==============================] - 3s 63ms/step - loss: 0.0918 - accuracy: 0.9691 - val_loss: 1.0278 - val_accuracy: 0.7888\n",
            "Epoch 26/30\n",
            "43/43 [==============================] - 3s 63ms/step - loss: 0.0803 - accuracy: 0.9719 - val_loss: 1.3326 - val_accuracy: 0.7741\n",
            "Epoch 27/30\n",
            "43/43 [==============================] - 3s 64ms/step - loss: 0.0898 - accuracy: 0.9701 - val_loss: 1.1768 - val_accuracy: 0.7808\n",
            "Epoch 28/30\n",
            "43/43 [==============================] - 3s 64ms/step - loss: 0.0926 - accuracy: 0.9677 - val_loss: 1.3559 - val_accuracy: 0.7365\n",
            "Epoch 29/30\n",
            "43/43 [==============================] - 3s 64ms/step - loss: 0.0887 - accuracy: 0.9698 - val_loss: 1.2143 - val_accuracy: 0.7812\n",
            "Epoch 30/30\n",
            "43/43 [==============================] - 3s 63ms/step - loss: 0.0737 - accuracy: 0.9753 - val_loss: 1.2863 - val_accuracy: 0.7739\n"
          ]
        }
      ],
      "source": [
        "model.compile(optimizer=Adam(), loss='categorical_crossentropy', metrics=['accuracy'])\n",
        "history = model.fit(x=train_images, y=train_oh_labels, batch_size=1000, epochs=30, validation_split=0.15)"
      ]
    },
    {
      "cell_type": "code",
      "execution_count": 74,
      "metadata": {
        "id": "7bc8PlNNGjTU",
        "colab": {
          "base_uri": "https://localhost:8080/"
        },
        "outputId": "07f32b8a-6127-420f-a241-34c659cd3a92"
      },
      "outputs": [
        {
          "output_type": "stream",
          "name": "stdout",
          "text": [
            "157/157 [==============================] - 1s 5ms/step - loss: 1.3619 - accuracy: 0.7554\n"
          ]
        },
        {
          "output_type": "execute_result",
          "data": {
            "text/plain": [
              "[1.3618903160095215, 0.7554000020027161]"
            ]
          },
          "metadata": {},
          "execution_count": 74
        }
      ],
      "source": [
        "model.evaluate(test_images, test_oh_labels, batch_size=64)"
      ]
    },
    {
      "cell_type": "code",
      "execution_count": 75,
      "metadata": {
        "id": "WEvx7LzlGjTU",
        "colab": {
          "base_uri": "https://localhost:8080/"
        },
        "outputId": "35b20e44-db6b-425e-e172-2c54c8f2486a"
      },
      "outputs": [
        {
          "output_type": "stream",
          "name": "stdout",
          "text": [
            "예측 클래스 값: [3]\n"
          ]
        }
      ],
      "source": [
        "preds = model.predict(np.expand_dims(test_images[0], axis=0))\n",
        "predicted_class = np.argmax(preds, axis=1)\n",
        "print('예측 클래스 값:', predicted_class)"
      ]
    },
    {
      "cell_type": "markdown",
      "metadata": {
        "id": "08JFNslxGjTU"
      },
      "source": [
        "### 학습 시 데이터를 섞는 shuffle 적용 유무에 따른  성능 테스트\n",
        "- 하나의 epoch안에서 전체 데이터를 섞는 것은 fit()에 들어가있고, default=True"
      ]
    },
    {
      "cell_type": "code",
      "execution_count": 78,
      "metadata": {
        "id": "MvA6NzsWGjTV"
      },
      "outputs": [],
      "source": [
        "import tensorflow as tf\n",
        "import numpy as np\n",
        "import random as python_random\n",
        "from tensorflow.keras.utils import to_categorical\n",
        "from sklearn.model_selection import train_test_split\n",
        "\n",
        "# seed 를 설정해서 학습시마다 동일한 결과 유도. 불행히도 의도한 대로 동작하지 않음. \n",
        "def set_random_seed(seed_value):\n",
        "    np.random.seed(seed_value)\n",
        "    python_random.seed(seed_value)\n",
        "    tf.random.set_seed(seed_value)\n",
        "\n",
        "# 0 ~ 1사이값의 float32로 변경하는 함수\n",
        "def get_preprocessed_data(images, labels):\n",
        "    \n",
        "    # 학습과 테스트 이미지 array를 0~1 사이값으로 scale 및 float32 형 변형. \n",
        "    images = np.array(images/255.0, dtype=np.float32)\n",
        "    labels = np.array(labels, dtype=np.float32)\n",
        "    \n",
        "    return images, labels\n",
        "\n",
        "# 0 ~ 1사이값 float32로 변경하는 함수 호출 한 뒤 OHE 적용 \n",
        "def get_preprocessed_ohe(images, labels):\n",
        "    images, labels = get_preprocessed_data(images, labels)\n",
        "    # OHE 적용 \n",
        "    oh_labels = to_categorical(labels)\n",
        "    return images, oh_labels\n",
        "\n",
        "# 학습/검증/테스트 데이터 세트에 전처리 및 OHE 적용한 뒤 반환 \n",
        "def get_train_valid_test_set(train_images, train_labels, test_images, test_labels, valid_size=0.15, random_state=2021):\n",
        "    # 학습 및 테스트 데이터 세트를  0 ~ 1사이값 float32로 변경 및 OHE 적용. \n",
        "    train_images, train_oh_labels = get_preprocessed_ohe(train_images, train_labels)\n",
        "    test_images, test_oh_labels = get_preprocessed_ohe(test_images, test_labels)\n",
        "    \n",
        "    # 학습 데이터를 검증 데이터 세트로 다시 분리\n",
        "    tr_images, val_images, tr_oh_labels, val_oh_labels = train_test_split(train_images, train_oh_labels, test_size=valid_size, random_state=random_state)\n",
        "    \n",
        "    return (tr_images, tr_oh_labels), (val_images, val_oh_labels), (test_images, test_oh_labels ) "
      ]
    },
    {
      "cell_type": "code",
      "execution_count": 79,
      "metadata": {
        "id": "cB2H_6G_GjTV",
        "colab": {
          "base_uri": "https://localhost:8080/"
        },
        "outputId": "4ea11cf7-5504-4f35-e5c5-de8b1a3c5b37"
      },
      "outputs": [
        {
          "output_type": "stream",
          "name": "stdout",
          "text": [
            "(50000, 32, 32, 3) (50000, 1) (10000, 32, 32, 3) (10000, 1)\n",
            "(42500, 32, 32, 3) (42500, 10) (7500, 32, 32, 3) (7500, 10) (10000, 32, 32, 3) (10000, 10)\n"
          ]
        }
      ],
      "source": [
        "from tensorflow.keras.datasets import cifar10\n",
        "\n",
        "# random seed는 2021로 고정.\n",
        "set_random_seed(2021)\n",
        "# CIFAR10 데이터 재 로딩 및 Scaling/OHE 전처리 적용하여 학습/검증/데이터 세트 생성. \n",
        "(train_images, train_labels), (test_images, test_labels) = cifar10.load_data()\n",
        "print(train_images.shape, train_labels.shape, test_images.shape, test_labels.shape)\n",
        "(tr_images, tr_oh_labels), (val_images, val_oh_labels), (test_images, test_oh_labels) = \\\n",
        "    get_train_valid_test_set(train_images, train_labels, test_images, test_labels, valid_size=0.15, random_state=2021)\n",
        "\n",
        "print(tr_images.shape, tr_oh_labels.shape, val_images.shape, val_oh_labels.shape, test_images.shape, test_oh_labels.shape)"
      ]
    },
    {
      "cell_type": "markdown",
      "metadata": {
        "id": "2W9Fk6lmGjTV"
      },
      "source": [
        "### model 생성을 위한 별도 함수 생성"
      ]
    },
    {
      "cell_type": "code",
      "execution_count": 80,
      "metadata": {
        "id": "mUE-_7jPGjTV"
      },
      "outputs": [],
      "source": [
        "from tensorflow.keras.models import Sequential, Model\n",
        "from tensorflow.keras.layers import Input, Dense , Conv2D , Dropout , Flatten , Activation, MaxPooling2D , GlobalAveragePooling2D\n",
        "from tensorflow.keras.optimizers import Adam , RMSprop \n",
        "from tensorflow.keras.layers import BatchNormalization\n",
        "from tensorflow.keras.callbacks import ReduceLROnPlateau , EarlyStopping , ModelCheckpoint , LearningRateScheduler\n",
        "\n",
        "def create_model():\n",
        "    input_tensor = Input(shape=(IMAGE_SIZE, IMAGE_SIZE, 3))\n",
        "\n",
        "    #x = Conv2D(filters=32, kernel_size=(5, 5), padding='valid', activation='relu')(input_tensor)\n",
        "    x = Conv2D(filters=32, kernel_size=(3, 3), padding='same')(input_tensor)\n",
        "    x = BatchNormalization()(x)\n",
        "    x = Activation('relu')(x)\n",
        "\n",
        "    x = Conv2D(filters=32, kernel_size=(3, 3), padding='same')(x)\n",
        "    x = BatchNormalization()(x)\n",
        "    x = Activation('relu')(x)\n",
        "    x = MaxPooling2D(pool_size=(2, 2))(x)\n",
        "\n",
        "    x = Conv2D(filters=64, kernel_size=3, padding='same')(x)\n",
        "    x = BatchNormalization()(x)\n",
        "    x = Activation('relu')(x)\n",
        "\n",
        "    x = Conv2D(filters=64, kernel_size=3, padding='same')(x)\n",
        "    x = Activation('relu')(x)\n",
        "    x = Activation('relu')(x)\n",
        "    x = MaxPooling2D(pool_size=2)(x)\n",
        "\n",
        "    x = Conv2D(filters=128, kernel_size=3, padding='same')(x)\n",
        "    x = BatchNormalization()(x)\n",
        "    x = Activation('relu')(x)\n",
        "\n",
        "    x = Conv2D(filters=128, kernel_size=3, padding='same')(x)\n",
        "    x = BatchNormalization()(x)\n",
        "    x = Activation('relu')(x)\n",
        "    x = MaxPooling2D(pool_size=2)(x)\n",
        "\n",
        "    # cifar10의 클래스가 10개 이므로 마지막 classification의 Dense layer units갯수는 10\n",
        "    x = Flatten(name='flatten')(x)\n",
        "    x = Dropout(rate=0.5)(x)\n",
        "    x = Dense(300, activation='relu', name='fc1')(x)\n",
        "    x = Dropout(rate=0.3)(x)\n",
        "    output = Dense(10, activation='softmax', name='output')(x)\n",
        "\n",
        "    model = Model(inputs=input_tensor, outputs=output)\n",
        "    #model.summary()\n",
        "    \n",
        "    return model\n"
      ]
    },
    {
      "cell_type": "markdown",
      "metadata": {
        "id": "wAbC51dIGjTV"
      },
      "source": [
        "### shuffle을 False/True 변경하면서 테스트 "
      ]
    },
    {
      "cell_type": "code",
      "execution_count": 81,
      "metadata": {
        "id": "83utZb_6GjTV",
        "colab": {
          "base_uri": "https://localhost:8080/"
        },
        "outputId": "40612760-607c-4ea2-e258-71efa3ef81b4"
      },
      "outputs": [
        {
          "output_type": "stream",
          "name": "stdout",
          "text": [
            "Epoch 1/30\n",
            "43/43 [==============================] - 5s 76ms/step - loss: 2.3376 - accuracy: 0.2409 - val_loss: 2.4457 - val_accuracy: 0.1133\n",
            "Epoch 2/30\n",
            "43/43 [==============================] - 3s 62ms/step - loss: 1.6577 - accuracy: 0.3828 - val_loss: 3.0840 - val_accuracy: 0.1025\n",
            "Epoch 3/30\n",
            "43/43 [==============================] - 3s 63ms/step - loss: 1.4320 - accuracy: 0.4721 - val_loss: 3.4022 - val_accuracy: 0.1025\n",
            "Epoch 4/30\n",
            "43/43 [==============================] - 3s 66ms/step - loss: 1.2569 - accuracy: 0.5388 - val_loss: 3.8098 - val_accuracy: 0.1025\n",
            "Epoch 5/30\n",
            "43/43 [==============================] - 3s 63ms/step - loss: 1.1304 - accuracy: 0.5946 - val_loss: 3.9496 - val_accuracy: 0.1036\n",
            "Epoch 6/30\n",
            "43/43 [==============================] - 3s 63ms/step - loss: 1.0178 - accuracy: 0.6359 - val_loss: 3.7889 - val_accuracy: 0.1189\n",
            "Epoch 7/30\n",
            "43/43 [==============================] - 3s 63ms/step - loss: 0.9154 - accuracy: 0.6738 - val_loss: 3.4466 - val_accuracy: 0.1627\n",
            "Epoch 8/30\n",
            "43/43 [==============================] - 3s 63ms/step - loss: 0.8334 - accuracy: 0.7058 - val_loss: 2.8354 - val_accuracy: 0.2253\n",
            "Epoch 9/30\n",
            "43/43 [==============================] - 3s 63ms/step - loss: 0.7759 - accuracy: 0.7251 - val_loss: 1.8222 - val_accuracy: 0.4092\n",
            "Epoch 10/30\n",
            "43/43 [==============================] - 3s 63ms/step - loss: 0.7270 - accuracy: 0.7433 - val_loss: 1.7254 - val_accuracy: 0.4345\n",
            "Epoch 11/30\n",
            "43/43 [==============================] - 3s 63ms/step - loss: 0.6744 - accuracy: 0.7602 - val_loss: 1.2531 - val_accuracy: 0.5921\n",
            "Epoch 12/30\n",
            "43/43 [==============================] - 3s 67ms/step - loss: 0.6407 - accuracy: 0.7727 - val_loss: 1.1142 - val_accuracy: 0.6319\n",
            "Epoch 13/30\n",
            "43/43 [==============================] - 3s 71ms/step - loss: 0.6135 - accuracy: 0.7828 - val_loss: 0.9617 - val_accuracy: 0.6919\n",
            "Epoch 14/30\n",
            "43/43 [==============================] - 3s 76ms/step - loss: 0.5745 - accuracy: 0.7988 - val_loss: 0.9519 - val_accuracy: 0.6899\n",
            "Epoch 15/30\n",
            "43/43 [==============================] - 3s 63ms/step - loss: 0.5453 - accuracy: 0.8087 - val_loss: 1.1044 - val_accuracy: 0.6641\n",
            "Epoch 16/30\n",
            "43/43 [==============================] - 3s 63ms/step - loss: 0.5147 - accuracy: 0.8189 - val_loss: 0.9254 - val_accuracy: 0.7216\n",
            "Epoch 17/30\n",
            "43/43 [==============================] - 3s 63ms/step - loss: 0.4765 - accuracy: 0.8334 - val_loss: 1.0305 - val_accuracy: 0.6823\n",
            "Epoch 18/30\n",
            "43/43 [==============================] - 3s 63ms/step - loss: 0.4575 - accuracy: 0.8391 - val_loss: 1.0332 - val_accuracy: 0.6827\n",
            "Epoch 19/30\n",
            "43/43 [==============================] - 3s 63ms/step - loss: 0.4323 - accuracy: 0.8473 - val_loss: 0.6867 - val_accuracy: 0.7695\n",
            "Epoch 20/30\n",
            "43/43 [==============================] - 3s 63ms/step - loss: 0.4101 - accuracy: 0.8563 - val_loss: 0.9235 - val_accuracy: 0.7193\n",
            "Epoch 21/30\n",
            "43/43 [==============================] - 3s 63ms/step - loss: 0.3998 - accuracy: 0.8594 - val_loss: 0.8260 - val_accuracy: 0.7463\n",
            "Epoch 22/30\n",
            "43/43 [==============================] - 3s 63ms/step - loss: 0.3816 - accuracy: 0.8649 - val_loss: 0.8317 - val_accuracy: 0.7555\n",
            "Epoch 23/30\n",
            "43/43 [==============================] - 3s 63ms/step - loss: 0.3709 - accuracy: 0.8684 - val_loss: 1.0740 - val_accuracy: 0.7181\n",
            "Epoch 24/30\n",
            "43/43 [==============================] - 3s 62ms/step - loss: 0.3533 - accuracy: 0.8758 - val_loss: 1.3062 - val_accuracy: 0.6851\n",
            "Epoch 25/30\n",
            "43/43 [==============================] - 3s 62ms/step - loss: 0.3331 - accuracy: 0.8812 - val_loss: 1.1166 - val_accuracy: 0.7093\n",
            "Epoch 26/30\n",
            "43/43 [==============================] - 3s 62ms/step - loss: 0.3229 - accuracy: 0.8852 - val_loss: 1.4500 - val_accuracy: 0.6823\n",
            "Epoch 27/30\n",
            "43/43 [==============================] - 3s 65ms/step - loss: 0.3020 - accuracy: 0.8933 - val_loss: 0.7696 - val_accuracy: 0.7889\n",
            "Epoch 28/30\n",
            "43/43 [==============================] - 3s 68ms/step - loss: 0.2966 - accuracy: 0.8945 - val_loss: 0.9682 - val_accuracy: 0.7576\n",
            "Epoch 29/30\n",
            "43/43 [==============================] - 3s 66ms/step - loss: 0.2816 - accuracy: 0.9002 - val_loss: 1.2088 - val_accuracy: 0.7192\n",
            "Epoch 30/30\n",
            "43/43 [==============================] - 3s 63ms/step - loss: 0.2740 - accuracy: 0.9034 - val_loss: 1.0956 - val_accuracy: 0.7420\n",
            "313/313 [==============================] - 1s 4ms/step - loss: 1.1376 - accuracy: 0.7266\n",
            "#### 테스트 세트로 evaluation 결과 : [1.1376099586486816, 0.7265999913215637]\n"
          ]
        }
      ],
      "source": [
        "model = create_model()\n",
        "model.compile(optimizer=Adam(), loss='categorical_crossentropy', metrics=['accuracy'])\n",
        "# 먼저 shuffle을 false로 테스트 \n",
        "noshuffle_history = model.fit(x=tr_images, y=tr_oh_labels, batch_size=1000, epochs=30, shuffle=False, \n",
        "                    validation_data=(val_images, val_oh_labels))\n",
        "evaluation_result = model.evaluate(test_images, test_oh_labels)\n",
        "print('#### 테스트 세트로 evaluation 결과 :', evaluation_result)\n",
        "\n",
        "# model이 반복적으로 메모리 차지하는것을 없애기 위해서 수행. \n",
        "tf.keras.backend.clear_session()"
      ]
    },
    {
      "cell_type": "markdown",
      "metadata": {
        "id": "oKX5Jhx1GjTW"
      },
      "source": [
        "### shuffle을 True로 변경하고 학습 및 테스트\n",
        "- 일반적으로 True가 성능이 조금 더 좋다"
      ]
    },
    {
      "cell_type": "code",
      "execution_count": 82,
      "metadata": {
        "id": "tVH8k5PYGjTW",
        "colab": {
          "base_uri": "https://localhost:8080/"
        },
        "outputId": "084977ab-552f-4c9b-95ae-32b9170e5ea9"
      },
      "outputs": [
        {
          "output_type": "stream",
          "name": "stdout",
          "text": [
            "Epoch 1/30\n",
            "43/43 [==============================] - 4s 70ms/step - loss: 2.4783 - accuracy: 0.2060 - val_loss: 2.3111 - val_accuracy: 0.1287\n",
            "Epoch 2/30\n",
            "43/43 [==============================] - 3s 63ms/step - loss: 1.7062 - accuracy: 0.3605 - val_loss: 3.0557 - val_accuracy: 0.1025\n",
            "Epoch 3/30\n",
            "43/43 [==============================] - 3s 63ms/step - loss: 1.4524 - accuracy: 0.4662 - val_loss: 3.4995 - val_accuracy: 0.1025\n",
            "Epoch 4/30\n",
            "43/43 [==============================] - 3s 63ms/step - loss: 1.2874 - accuracy: 0.5303 - val_loss: 4.0771 - val_accuracy: 0.1032\n",
            "Epoch 5/30\n",
            "43/43 [==============================] - 3s 63ms/step - loss: 1.1473 - accuracy: 0.5851 - val_loss: 4.0734 - val_accuracy: 0.1205\n",
            "Epoch 6/30\n",
            "43/43 [==============================] - 3s 63ms/step - loss: 1.0443 - accuracy: 0.6251 - val_loss: 3.9143 - val_accuracy: 0.1368\n",
            "Epoch 7/30\n",
            "43/43 [==============================] - 3s 63ms/step - loss: 0.9434 - accuracy: 0.6656 - val_loss: 3.1103 - val_accuracy: 0.1760\n",
            "Epoch 8/30\n",
            "43/43 [==============================] - 3s 64ms/step - loss: 0.8729 - accuracy: 0.6887 - val_loss: 2.3089 - val_accuracy: 0.2888\n",
            "Epoch 9/30\n",
            "43/43 [==============================] - 3s 63ms/step - loss: 0.7997 - accuracy: 0.7150 - val_loss: 2.0266 - val_accuracy: 0.3657\n",
            "Epoch 10/30\n",
            "43/43 [==============================] - 3s 63ms/step - loss: 0.7539 - accuracy: 0.7341 - val_loss: 1.8451 - val_accuracy: 0.4260\n",
            "Epoch 11/30\n",
            "43/43 [==============================] - 3s 63ms/step - loss: 0.7069 - accuracy: 0.7503 - val_loss: 1.2047 - val_accuracy: 0.5780\n",
            "Epoch 12/30\n",
            "43/43 [==============================] - 3s 63ms/step - loss: 0.6614 - accuracy: 0.7668 - val_loss: 1.2732 - val_accuracy: 0.5855\n",
            "Epoch 13/30\n",
            "43/43 [==============================] - 3s 63ms/step - loss: 0.6237 - accuracy: 0.7800 - val_loss: 0.9793 - val_accuracy: 0.6611\n",
            "Epoch 14/30\n",
            "43/43 [==============================] - 3s 63ms/step - loss: 0.5803 - accuracy: 0.7947 - val_loss: 0.9378 - val_accuracy: 0.6889\n",
            "Epoch 15/30\n",
            "43/43 [==============================] - 3s 63ms/step - loss: 0.5507 - accuracy: 0.8068 - val_loss: 0.8255 - val_accuracy: 0.7043\n",
            "Epoch 16/30\n",
            "43/43 [==============================] - 3s 63ms/step - loss: 0.5286 - accuracy: 0.8141 - val_loss: 0.6906 - val_accuracy: 0.7587\n",
            "Epoch 17/30\n",
            "43/43 [==============================] - 3s 63ms/step - loss: 0.4936 - accuracy: 0.8253 - val_loss: 0.8086 - val_accuracy: 0.7328\n",
            "Epoch 18/30\n",
            "43/43 [==============================] - 3s 67ms/step - loss: 0.4725 - accuracy: 0.8343 - val_loss: 0.7027 - val_accuracy: 0.7632\n",
            "Epoch 19/30\n",
            "43/43 [==============================] - 3s 70ms/step - loss: 0.4393 - accuracy: 0.8461 - val_loss: 0.7334 - val_accuracy: 0.7643\n",
            "Epoch 20/30\n",
            "43/43 [==============================] - 3s 71ms/step - loss: 0.4153 - accuracy: 0.8528 - val_loss: 0.7832 - val_accuracy: 0.7491\n",
            "Epoch 21/30\n",
            "43/43 [==============================] - 3s 65ms/step - loss: 0.4034 - accuracy: 0.8578 - val_loss: 0.7182 - val_accuracy: 0.7720\n",
            "Epoch 22/30\n",
            "43/43 [==============================] - 3s 68ms/step - loss: 0.3860 - accuracy: 0.8636 - val_loss: 0.7001 - val_accuracy: 0.7772\n",
            "Epoch 23/30\n",
            "43/43 [==============================] - 3s 67ms/step - loss: 0.3589 - accuracy: 0.8733 - val_loss: 0.7766 - val_accuracy: 0.7647\n",
            "Epoch 24/30\n",
            "43/43 [==============================] - 3s 62ms/step - loss: 0.3406 - accuracy: 0.8778 - val_loss: 1.0870 - val_accuracy: 0.7240\n",
            "Epoch 25/30\n",
            "43/43 [==============================] - 3s 63ms/step - loss: 0.3171 - accuracy: 0.8877 - val_loss: 0.8397 - val_accuracy: 0.7532\n",
            "Epoch 26/30\n",
            "43/43 [==============================] - 3s 62ms/step - loss: 0.2972 - accuracy: 0.8944 - val_loss: 0.8072 - val_accuracy: 0.7692\n",
            "Epoch 27/30\n",
            "43/43 [==============================] - 3s 63ms/step - loss: 0.2882 - accuracy: 0.8989 - val_loss: 0.8887 - val_accuracy: 0.7523\n",
            "Epoch 28/30\n",
            "43/43 [==============================] - 3s 63ms/step - loss: 0.2727 - accuracy: 0.9033 - val_loss: 0.7788 - val_accuracy: 0.7728\n",
            "Epoch 29/30\n",
            "43/43 [==============================] - 3s 62ms/step - loss: 0.2499 - accuracy: 0.9098 - val_loss: 0.9250 - val_accuracy: 0.7428\n",
            "Epoch 30/30\n",
            "43/43 [==============================] - 3s 63ms/step - loss: 0.2505 - accuracy: 0.9095 - val_loss: 1.1733 - val_accuracy: 0.6964\n",
            "10/10 [==============================] - 0s 23ms/step - loss: 1.2669 - accuracy: 0.6795\n",
            "#### 테스트 세트로 evaluation 결과 : [1.2669086456298828, 0.6794999837875366]\n"
          ]
        }
      ],
      "source": [
        "model = create_model()\n",
        "model.compile(optimizer=Adam(), loss='categorical_crossentropy', metrics=['accuracy'])\n",
        "# shuffle을 True로 변경하여 학습 및 테스트\n",
        "shuffle_history = model.fit(x=tr_images, y=tr_oh_labels, batch_size=1000, epochs=30, shuffle=True, \n",
        "                    validation_data=(val_images, val_oh_labels))\n",
        "evaluation_result = model.evaluate(test_images, test_oh_labels, batch_size=1000)\n",
        "print('#### 테스트 세트로 evaluation 결과 :', evaluation_result)\n",
        "\n",
        "tf.keras.backend.clear_session()"
      ]
    },
    {
      "cell_type": "markdown",
      "metadata": {
        "id": "OnW4kogpGjTW"
      },
      "source": [
        "### 위에서 수행한 Shuffle테스트 시 validation 데이터 기반 성능 검증 시각화 "
      ]
    },
    {
      "cell_type": "code",
      "execution_count": 83,
      "metadata": {
        "id": "uAaj8m4cGjTW",
        "colab": {
          "base_uri": "https://localhost:8080/",
          "height": 192
        },
        "outputId": "592d59c1-8970-443e-a8c0-88b85e580dfa"
      },
      "outputs": [
        {
          "output_type": "display_data",
          "data": {
            "image/png": "[encoded data removed]",
            "text/plain": [
              "<Figure size 1152x288 with 2 Axes>"
            ]
          },
          "metadata": {
            "needs_background": "light"
          }
        }
      ],
      "source": [
        "import matplotlib.pyplot as plt\n",
        "%matplotlib inline\n",
        "\n",
        "def show_history_shuffle(noshuffle_history, shuffle_history):\n",
        "    figure, axs = plt.subplots(nrows=1, ncols=2, figsize=(16, 4))\n",
        "    # shuffle과 no shuffle의 validation accuracy 비교 \n",
        "    axs[0].plot(noshuffle_history.history['val_accuracy'], label='no shuffle acc')\n",
        "    axs[0].plot(shuffle_history.history['val_accuracy'], label='shuffle acc')\n",
        "    # shuffle과 no shuffle의 validation loss 비교 \n",
        "    axs[1].plot(noshuffle_history.history['val_loss'], label='no shuffle loss')\n",
        "    axs[1].plot(shuffle_history.history['val_loss'], label='shuffle loss')\n",
        "    axs[0].legend()\n",
        "    axs[1].legend()\n",
        "\n",
        "show_history_shuffle(noshuffle_history, shuffle_history)\n"
      ]
    },
    {
      "cell_type": "markdown",
      "metadata": {
        "id": "W8QkaYmwGjTW"
      },
      "source": [
        "### batch 크기를 32, 64, 256, 512로 변경하면서 테스트"
      ]
    },
    {
      "cell_type": "code",
      "execution_count": 85,
      "metadata": {
        "id": "qVMrUH3PGjTW",
        "colab": {
          "base_uri": "https://localhost:8080/"
        },
        "outputId": "ad2dbada-0c14-4ad8-dd47-c73c8bc7a007"
      },
      "outputs": [
        {
          "output_type": "stream",
          "name": "stdout",
          "text": [
            "##### batch size : 32 학습 #####\n",
            "Epoch 1/30\n",
            "1329/1329 [==============================] - 16s 11ms/step - loss: 1.5439 - accuracy: 0.4444 - val_loss: 1.2613 - val_accuracy: 0.5595\n",
            "Epoch 2/30\n",
            "1329/1329 [==============================] - 13s 10ms/step - loss: 1.1096 - accuracy: 0.6034 - val_loss: 0.9582 - val_accuracy: 0.6683\n",
            "Epoch 3/30\n",
            "1329/1329 [==============================] - 13s 10ms/step - loss: 0.9180 - accuracy: 0.6808 - val_loss: 0.9836 - val_accuracy: 0.6633\n",
            "Epoch 4/30\n",
            "1329/1329 [==============================] - 9s 7ms/step - loss: 0.8036 - accuracy: 0.7213 - val_loss: 0.7973 - val_accuracy: 0.7261\n",
            "Epoch 5/30\n",
            "1329/1329 [==============================] - 9s 7ms/step - loss: 0.7163 - accuracy: 0.7544 - val_loss: 0.6693 - val_accuracy: 0.7736\n",
            "Epoch 6/30\n",
            "1329/1329 [==============================] - 9s 7ms/step - loss: 0.6441 - accuracy: 0.7813 - val_loss: 0.6723 - val_accuracy: 0.7688\n",
            "Epoch 7/30\n",
            "1329/1329 [==============================] - 9s 7ms/step - loss: 0.5854 - accuracy: 0.8010 - val_loss: 0.7650 - val_accuracy: 0.7467\n",
            "Epoch 8/30\n",
            "1329/1329 [==============================] - 9s 7ms/step - loss: 0.5365 - accuracy: 0.8189 - val_loss: 0.8543 - val_accuracy: 0.7112\n",
            "Epoch 9/30\n",
            "1329/1329 [==============================] - 9s 7ms/step - loss: 0.4954 - accuracy: 0.8298 - val_loss: 0.7584 - val_accuracy: 0.7532\n",
            "Epoch 10/30\n",
            "1329/1329 [==============================] - 9s 7ms/step - loss: 0.4506 - accuracy: 0.8474 - val_loss: 0.5776 - val_accuracy: 0.8064\n",
            "Epoch 11/30\n",
            "1329/1329 [==============================] - 10s 7ms/step - loss: 0.4138 - accuracy: 0.8572 - val_loss: 0.5749 - val_accuracy: 0.8057\n",
            "Epoch 12/30\n",
            "1329/1329 [==============================] - 9s 7ms/step - loss: 0.3839 - accuracy: 0.8686 - val_loss: 0.6323 - val_accuracy: 0.7953\n",
            "Epoch 13/30\n",
            "1329/1329 [==============================] - 10s 7ms/step - loss: 0.3576 - accuracy: 0.8776 - val_loss: 0.5311 - val_accuracy: 0.8289\n",
            "Epoch 14/30\n",
            "1329/1329 [==============================] - 9s 7ms/step - loss: 0.3299 - accuracy: 0.8859 - val_loss: 0.6131 - val_accuracy: 0.8155\n",
            "Epoch 15/30\n",
            "1329/1329 [==============================] - 9s 7ms/step - loss: 0.3030 - accuracy: 0.8952 - val_loss: 0.5356 - val_accuracy: 0.8276\n",
            "Epoch 16/30\n",
            "1329/1329 [==============================] - 9s 7ms/step - loss: 0.2850 - accuracy: 0.9013 - val_loss: 0.5096 - val_accuracy: 0.8371\n",
            "Epoch 17/30\n",
            "1329/1329 [==============================] - 9s 7ms/step - loss: 0.2694 - accuracy: 0.9061 - val_loss: 0.5453 - val_accuracy: 0.8317\n",
            "Epoch 18/30\n",
            "1329/1329 [==============================] - 9s 7ms/step - loss: 0.2493 - accuracy: 0.9132 - val_loss: 0.5171 - val_accuracy: 0.8372\n",
            "Epoch 19/30\n",
            "1329/1329 [==============================] - 9s 7ms/step - loss: 0.2333 - accuracy: 0.9196 - val_loss: 0.6233 - val_accuracy: 0.8076\n",
            "Epoch 20/30\n",
            "1329/1329 [==============================] - 9s 7ms/step - loss: 0.2234 - accuracy: 0.9228 - val_loss: 0.7561 - val_accuracy: 0.7984\n",
            "Epoch 21/30\n",
            "1329/1329 [==============================] - 9s 7ms/step - loss: 0.2147 - accuracy: 0.9273 - val_loss: 0.5160 - val_accuracy: 0.8449\n",
            "Epoch 22/30\n",
            "1329/1329 [==============================] - 9s 7ms/step - loss: 0.2038 - accuracy: 0.9294 - val_loss: 0.5674 - val_accuracy: 0.8375\n",
            "Epoch 23/30\n",
            "1329/1329 [==============================] - 9s 7ms/step - loss: 0.1960 - accuracy: 0.9324 - val_loss: 0.7745 - val_accuracy: 0.7985\n",
            "Epoch 24/30\n",
            "1329/1329 [==============================] - 10s 7ms/step - loss: 0.1972 - accuracy: 0.9320 - val_loss: 0.8137 - val_accuracy: 0.7955\n",
            "Epoch 25/30\n",
            "1329/1329 [==============================] - 9s 7ms/step - loss: 0.1775 - accuracy: 0.9388 - val_loss: 0.6227 - val_accuracy: 0.8408\n",
            "Epoch 26/30\n",
            "1329/1329 [==============================] - 9s 7ms/step - loss: 0.1695 - accuracy: 0.9416 - val_loss: 0.5958 - val_accuracy: 0.8337\n",
            "Epoch 27/30\n",
            "1329/1329 [==============================] - 9s 7ms/step - loss: 0.1686 - accuracy: 0.9425 - val_loss: 0.6656 - val_accuracy: 0.8199\n",
            "Epoch 28/30\n",
            "1329/1329 [==============================] - 9s 7ms/step - loss: 0.1576 - accuracy: 0.9456 - val_loss: 0.5917 - val_accuracy: 0.8464\n",
            "Epoch 29/30\n",
            "1329/1329 [==============================] - 9s 7ms/step - loss: 0.1530 - accuracy: 0.9482 - val_loss: 0.6399 - val_accuracy: 0.8376\n",
            "Epoch 30/30\n",
            "1329/1329 [==============================] - 9s 7ms/step - loss: 0.1504 - accuracy: 0.9488 - val_loss: 0.6449 - val_accuracy: 0.8372\n",
            "313/313 [==============================] - 1s 4ms/step - loss: 0.7049 - accuracy: 0.8235\n",
            "#### 테스트 세트로 evaluation 결과 : [0.7049394845962524, 0.8234999775886536]\n",
            "##### batch size : 64 학습 #####\n",
            "Epoch 1/30\n",
            "665/665 [==============================] - 53s 9ms/step - loss: 1.6100 - accuracy: 0.4184 - val_loss: 1.4058 - val_accuracy: 0.4917\n",
            "Epoch 2/30\n",
            "665/665 [==============================] - 5s 8ms/step - loss: 1.1367 - accuracy: 0.5922 - val_loss: 1.7955 - val_accuracy: 0.4295\n",
            "Epoch 3/30\n",
            "665/665 [==============================] - 5s 8ms/step - loss: 0.9408 - accuracy: 0.6693 - val_loss: 0.9239 - val_accuracy: 0.6725\n",
            "Epoch 4/30\n",
            "665/665 [==============================] - 6s 9ms/step - loss: 0.8106 - accuracy: 0.7177 - val_loss: 0.8396 - val_accuracy: 0.6967\n",
            "Epoch 5/30\n",
            "665/665 [==============================] - 6s 9ms/step - loss: 0.7209 - accuracy: 0.7505 - val_loss: 0.7306 - val_accuracy: 0.7431\n",
            "Epoch 6/30\n",
            "665/665 [==============================] - 6s 8ms/step - loss: 0.6530 - accuracy: 0.7743 - val_loss: 0.6730 - val_accuracy: 0.7727\n",
            "Epoch 7/30\n",
            "665/665 [==============================] - 6s 9ms/step - loss: 0.5958 - accuracy: 0.7958 - val_loss: 0.9174 - val_accuracy: 0.7136\n",
            "Epoch 8/30\n",
            "665/665 [==============================] - 6s 8ms/step - loss: 0.5515 - accuracy: 0.8107 - val_loss: 0.8528 - val_accuracy: 0.7139\n",
            "Epoch 9/30\n",
            "665/665 [==============================] - 6s 9ms/step - loss: 0.5095 - accuracy: 0.8258 - val_loss: 0.6048 - val_accuracy: 0.7928\n",
            "Epoch 10/30\n",
            "665/665 [==============================] - 6s 9ms/step - loss: 0.4632 - accuracy: 0.8408 - val_loss: 0.7117 - val_accuracy: 0.7585\n",
            "Epoch 11/30\n",
            "665/665 [==============================] - 6s 9ms/step - loss: 0.4252 - accuracy: 0.8538 - val_loss: 0.5757 - val_accuracy: 0.8104\n",
            "Epoch 12/30\n",
            "665/665 [==============================] - 6s 9ms/step - loss: 0.3937 - accuracy: 0.8633 - val_loss: 0.5776 - val_accuracy: 0.8116\n",
            "Epoch 13/30\n",
            "665/665 [==============================] - 6s 9ms/step - loss: 0.3623 - accuracy: 0.8762 - val_loss: 0.6406 - val_accuracy: 0.7923\n",
            "Epoch 14/30\n",
            "665/665 [==============================] - 6s 9ms/step - loss: 0.3358 - accuracy: 0.8845 - val_loss: 0.6109 - val_accuracy: 0.8112\n",
            "Epoch 15/30\n",
            "665/665 [==============================] - 6s 9ms/step - loss: 0.3109 - accuracy: 0.8931 - val_loss: 0.7882 - val_accuracy: 0.7784\n",
            "Epoch 16/30\n",
            "665/665 [==============================] - 6s 8ms/step - loss: 0.2901 - accuracy: 0.8995 - val_loss: 0.7368 - val_accuracy: 0.7735\n",
            "Epoch 17/30\n",
            "665/665 [==============================] - 6s 9ms/step - loss: 0.2697 - accuracy: 0.9065 - val_loss: 0.6200 - val_accuracy: 0.8101\n",
            "Epoch 18/30\n",
            "665/665 [==============================] - 6s 8ms/step - loss: 0.2489 - accuracy: 0.9140 - val_loss: 0.5456 - val_accuracy: 0.8364\n",
            "Epoch 19/30\n",
            "665/665 [==============================] - 6s 8ms/step - loss: 0.2350 - accuracy: 0.9183 - val_loss: 0.8211 - val_accuracy: 0.7688\n",
            "Epoch 20/30\n",
            "665/665 [==============================] - 6s 9ms/step - loss: 0.2200 - accuracy: 0.9234 - val_loss: 0.7181 - val_accuracy: 0.8007\n",
            "Epoch 21/30\n",
            "665/665 [==============================] - 6s 8ms/step - loss: 0.2013 - accuracy: 0.9292 - val_loss: 0.6995 - val_accuracy: 0.8057\n",
            "Epoch 22/30\n",
            "665/665 [==============================] - 6s 9ms/step - loss: 0.2024 - accuracy: 0.9303 - val_loss: 0.6391 - val_accuracy: 0.8252\n",
            "Epoch 23/30\n",
            "665/665 [==============================] - 6s 9ms/step - loss: 0.1895 - accuracy: 0.9329 - val_loss: 0.6976 - val_accuracy: 0.8179\n",
            "Epoch 24/30\n",
            "665/665 [==============================] - 6s 9ms/step - loss: 0.1729 - accuracy: 0.9401 - val_loss: 0.8459 - val_accuracy: 0.7841\n",
            "Epoch 25/30\n",
            "665/665 [==============================] - 6s 9ms/step - loss: 0.1870 - accuracy: 0.9352 - val_loss: 0.7586 - val_accuracy: 0.8145\n",
            "Epoch 26/30\n",
            "665/665 [==============================] - 6s 9ms/step - loss: 0.1521 - accuracy: 0.9472 - val_loss: 0.7152 - val_accuracy: 0.8177\n",
            "Epoch 27/30\n",
            "665/665 [==============================] - 6s 9ms/step - loss: 0.1720 - accuracy: 0.9414 - val_loss: 0.6858 - val_accuracy: 0.8196\n",
            "Epoch 28/30\n",
            "665/665 [==============================] - 6s 8ms/step - loss: 0.1421 - accuracy: 0.9521 - val_loss: 0.5941 - val_accuracy: 0.8447\n",
            "Epoch 29/30\n",
            "665/665 [==============================] - 6s 8ms/step - loss: 0.1512 - accuracy: 0.9488 - val_loss: 0.8166 - val_accuracy: 0.8097\n",
            "Epoch 30/30\n",
            "665/665 [==============================] - 6s 8ms/step - loss: 0.1382 - accuracy: 0.9545 - val_loss: 0.7582 - val_accuracy: 0.8129\n",
            "157/157 [==============================] - 1s 4ms/step - loss: 0.7602 - accuracy: 0.8120\n",
            "#### 테스트 세트로 evaluation 결과 : [0.760208249092102, 0.8119999766349792]\n",
            "##### batch size : 256 학습 #####\n",
            "Epoch 1/30\n",
            "167/167 [==============================] - 5s 22ms/step - loss: 1.7455 - accuracy: 0.3756 - val_loss: 3.0772 - val_accuracy: 0.1121\n",
            "Epoch 2/30\n",
            "167/167 [==============================] - 3s 20ms/step - loss: 1.2896 - accuracy: 0.5314 - val_loss: 2.7399 - val_accuracy: 0.1699\n",
            "Epoch 3/30\n",
            "167/167 [==============================] - 3s 20ms/step - loss: 1.1083 - accuracy: 0.6033 - val_loss: 1.7303 - val_accuracy: 0.3768\n",
            "Epoch 4/30\n",
            "167/167 [==============================] - 3s 20ms/step - loss: 0.9629 - accuracy: 0.6556 - val_loss: 1.1051 - val_accuracy: 0.6368\n",
            "Epoch 5/30\n",
            "167/167 [==============================] - 3s 20ms/step - loss: 0.8601 - accuracy: 0.6928 - val_loss: 1.0941 - val_accuracy: 0.6175\n",
            "Epoch 6/30\n",
            "167/167 [==============================] - 3s 20ms/step - loss: 0.8417 - accuracy: 0.7035 - val_loss: 0.8652 - val_accuracy: 0.6931\n",
            "Epoch 7/30\n",
            "167/167 [==============================] - 3s 20ms/step - loss: 0.7161 - accuracy: 0.7479 - val_loss: 1.1287 - val_accuracy: 0.6349\n",
            "Epoch 8/30\n",
            "167/167 [==============================] - 3s 20ms/step - loss: 0.6929 - accuracy: 0.7580 - val_loss: 0.9159 - val_accuracy: 0.7015\n",
            "Epoch 9/30\n",
            "167/167 [==============================] - 3s 20ms/step - loss: 0.6815 - accuracy: 0.7623 - val_loss: 0.7572 - val_accuracy: 0.7439\n",
            "Epoch 10/30\n",
            "167/167 [==============================] - 3s 20ms/step - loss: 0.5930 - accuracy: 0.7906 - val_loss: 0.6419 - val_accuracy: 0.7805\n",
            "Epoch 11/30\n",
            "167/167 [==============================] - 3s 20ms/step - loss: 0.5312 - accuracy: 0.8122 - val_loss: 0.7661 - val_accuracy: 0.7421\n",
            "Epoch 12/30\n",
            "167/167 [==============================] - 3s 20ms/step - loss: 0.5133 - accuracy: 0.8189 - val_loss: 0.7354 - val_accuracy: 0.7539\n",
            "Epoch 13/30\n",
            "167/167 [==============================] - 3s 20ms/step - loss: 0.4778 - accuracy: 0.8319 - val_loss: 0.6606 - val_accuracy: 0.7789\n",
            "Epoch 14/30\n",
            "167/167 [==============================] - 3s 20ms/step - loss: 0.4500 - accuracy: 0.8437 - val_loss: 0.6952 - val_accuracy: 0.7715\n",
            "Epoch 15/30\n",
            "167/167 [==============================] - 3s 20ms/step - loss: 0.4093 - accuracy: 0.8566 - val_loss: 1.2296 - val_accuracy: 0.6604\n",
            "Epoch 16/30\n",
            "167/167 [==============================] - 3s 21ms/step - loss: 0.4977 - accuracy: 0.8289 - val_loss: 0.7851 - val_accuracy: 0.7393\n",
            "Epoch 17/30\n",
            "167/167 [==============================] - 3s 20ms/step - loss: 0.4427 - accuracy: 0.8446 - val_loss: 0.8637 - val_accuracy: 0.7229\n",
            "Epoch 18/30\n",
            "167/167 [==============================] - 3s 20ms/step - loss: 0.3945 - accuracy: 0.8625 - val_loss: 0.7092 - val_accuracy: 0.7673\n",
            "Epoch 19/30\n",
            "167/167 [==============================] - 3s 20ms/step - loss: 0.4247 - accuracy: 0.8528 - val_loss: 0.7454 - val_accuracy: 0.7697\n",
            "Epoch 20/30\n",
            "167/167 [==============================] - 3s 21ms/step - loss: 0.4330 - accuracy: 0.8495 - val_loss: 0.5388 - val_accuracy: 0.8169\n",
            "Epoch 21/30\n",
            "167/167 [==============================] - 3s 20ms/step - loss: 0.3367 - accuracy: 0.8831 - val_loss: 0.7895 - val_accuracy: 0.7483\n",
            "Epoch 22/30\n",
            "167/167 [==============================] - 3s 20ms/step - loss: 0.3787 - accuracy: 0.8688 - val_loss: 0.6761 - val_accuracy: 0.7904\n",
            "Epoch 23/30\n",
            "167/167 [==============================] - 3s 20ms/step - loss: 0.4187 - accuracy: 0.8547 - val_loss: 0.6845 - val_accuracy: 0.7828\n",
            "Epoch 24/30\n",
            "167/167 [==============================] - 3s 20ms/step - loss: 0.3355 - accuracy: 0.8824 - val_loss: 0.5759 - val_accuracy: 0.8125\n",
            "Epoch 25/30\n",
            "167/167 [==============================] - 3s 20ms/step - loss: 0.2706 - accuracy: 0.9038 - val_loss: 0.6398 - val_accuracy: 0.8096\n",
            "Epoch 26/30\n",
            "167/167 [==============================] - 3s 20ms/step - loss: 0.2358 - accuracy: 0.9181 - val_loss: 0.8829 - val_accuracy: 0.7540\n",
            "Epoch 27/30\n",
            "167/167 [==============================] - 3s 20ms/step - loss: 0.3666 - accuracy: 0.8733 - val_loss: 0.8899 - val_accuracy: 0.7597\n",
            "Epoch 28/30\n",
            "167/167 [==============================] - 3s 20ms/step - loss: 0.3043 - accuracy: 0.8945 - val_loss: 0.9118 - val_accuracy: 0.7557\n",
            "Epoch 29/30\n",
            "167/167 [==============================] - 3s 21ms/step - loss: 0.3200 - accuracy: 0.8882 - val_loss: 0.8705 - val_accuracy: 0.7667\n",
            "Epoch 30/30\n",
            "167/167 [==============================] - 3s 21ms/step - loss: 0.2618 - accuracy: 0.9093 - val_loss: 0.6667 - val_accuracy: 0.8084\n",
            "40/40 [==============================] - 0s 8ms/step - loss: 0.7232 - accuracy: 0.7978\n",
            "#### 테스트 세트로 evaluation 결과 : [0.7232287526130676, 0.7978000044822693]\n",
            "##### batch size : 512 학습 #####\n",
            "Epoch 1/30\n",
            "84/84 [==============================] - 4s 38ms/step - loss: 1.9175 - accuracy: 0.3373 - val_loss: 2.7478 - val_accuracy: 0.1025\n",
            "Epoch 2/30\n",
            "84/84 [==============================] - 3s 34ms/step - loss: 1.4120 - accuracy: 0.4828 - val_loss: 3.2890 - val_accuracy: 0.1176\n",
            "Epoch 3/30\n",
            "84/84 [==============================] - 3s 34ms/step - loss: 1.3260 - accuracy: 0.5220 - val_loss: 4.0808 - val_accuracy: 0.1080\n",
            "Epoch 4/30\n",
            "84/84 [==============================] - 3s 34ms/step - loss: 1.1438 - accuracy: 0.5896 - val_loss: 3.5547 - val_accuracy: 0.1532\n",
            "Epoch 5/30\n",
            "84/84 [==============================] - 3s 34ms/step - loss: 1.0520 - accuracy: 0.6217 - val_loss: 1.7995 - val_accuracy: 0.3611\n",
            "Epoch 6/30\n",
            "84/84 [==============================] - 3s 34ms/step - loss: 0.9800 - accuracy: 0.6494 - val_loss: 1.1596 - val_accuracy: 0.5935\n",
            "Epoch 7/30\n",
            "84/84 [==============================] - 3s 34ms/step - loss: 0.8451 - accuracy: 0.7008 - val_loss: 1.5648 - val_accuracy: 0.5216\n",
            "Epoch 8/30\n",
            "84/84 [==============================] - 3s 34ms/step - loss: 0.8911 - accuracy: 0.6886 - val_loss: 1.3390 - val_accuracy: 0.5863\n",
            "Epoch 9/30\n",
            "84/84 [==============================] - 3s 34ms/step - loss: 0.7806 - accuracy: 0.7247 - val_loss: 0.8708 - val_accuracy: 0.6957\n",
            "Epoch 10/30\n",
            "84/84 [==============================] - 3s 34ms/step - loss: 0.7460 - accuracy: 0.7362 - val_loss: 0.7302 - val_accuracy: 0.7480\n",
            "Epoch 11/30\n",
            "84/84 [==============================] - 3s 34ms/step - loss: 0.6541 - accuracy: 0.7700 - val_loss: 1.4639 - val_accuracy: 0.5933\n",
            "Epoch 12/30\n",
            "84/84 [==============================] - 3s 34ms/step - loss: 0.7425 - accuracy: 0.7416 - val_loss: 0.7189 - val_accuracy: 0.7511\n",
            "Epoch 13/30\n",
            "84/84 [==============================] - 3s 34ms/step - loss: 0.6450 - accuracy: 0.7726 - val_loss: 0.7085 - val_accuracy: 0.7573\n",
            "Epoch 14/30\n",
            "84/84 [==============================] - 3s 34ms/step - loss: 0.6023 - accuracy: 0.7870 - val_loss: 0.6807 - val_accuracy: 0.7645\n",
            "Epoch 15/30\n",
            "84/84 [==============================] - 3s 34ms/step - loss: 0.5327 - accuracy: 0.8115 - val_loss: 1.1305 - val_accuracy: 0.6421\n",
            "Epoch 16/30\n",
            "84/84 [==============================] - 3s 34ms/step - loss: 0.6474 - accuracy: 0.7736 - val_loss: 1.0818 - val_accuracy: 0.6667\n",
            "Epoch 17/30\n",
            "84/84 [==============================] - 3s 34ms/step - loss: 0.6475 - accuracy: 0.7752 - val_loss: 0.7336 - val_accuracy: 0.7436\n",
            "Epoch 18/30\n",
            "84/84 [==============================] - 3s 34ms/step - loss: 0.5778 - accuracy: 0.7985 - val_loss: 0.7329 - val_accuracy: 0.7556\n",
            "Epoch 19/30\n",
            "84/84 [==============================] - 3s 35ms/step - loss: 0.6738 - accuracy: 0.7678 - val_loss: 0.9954 - val_accuracy: 0.6480\n",
            "Epoch 20/30\n",
            "84/84 [==============================] - 3s 34ms/step - loss: 0.6791 - accuracy: 0.7656 - val_loss: 0.7954 - val_accuracy: 0.7316\n",
            "Epoch 21/30\n",
            "84/84 [==============================] - 3s 34ms/step - loss: 0.5753 - accuracy: 0.8002 - val_loss: 0.7868 - val_accuracy: 0.7351\n",
            "Epoch 22/30\n",
            "84/84 [==============================] - 3s 34ms/step - loss: 0.5526 - accuracy: 0.8086 - val_loss: 0.6003 - val_accuracy: 0.7939\n",
            "Epoch 23/30\n",
            "84/84 [==============================] - 3s 34ms/step - loss: 0.5605 - accuracy: 0.8063 - val_loss: 0.6832 - val_accuracy: 0.7660\n",
            "Epoch 24/30\n",
            "84/84 [==============================] - 3s 34ms/step - loss: 0.5233 - accuracy: 0.8180 - val_loss: 0.9193 - val_accuracy: 0.6936\n",
            "Epoch 25/30\n",
            "84/84 [==============================] - 3s 34ms/step - loss: 0.5523 - accuracy: 0.8090 - val_loss: 0.6048 - val_accuracy: 0.7955\n",
            "Epoch 26/30\n",
            "84/84 [==============================] - 3s 34ms/step - loss: 0.4344 - accuracy: 0.8482 - val_loss: 0.6041 - val_accuracy: 0.7972\n",
            "Epoch 27/30\n",
            "84/84 [==============================] - 3s 36ms/step - loss: 0.4717 - accuracy: 0.8362 - val_loss: 0.5903 - val_accuracy: 0.8091\n",
            "Epoch 28/30\n",
            "84/84 [==============================] - 3s 34ms/step - loss: 0.3796 - accuracy: 0.8677 - val_loss: 1.0071 - val_accuracy: 0.6975\n",
            "Epoch 29/30\n",
            "84/84 [==============================] - 3s 34ms/step - loss: 0.6265 - accuracy: 0.7819 - val_loss: 1.1415 - val_accuracy: 0.6600\n",
            "Epoch 30/30\n",
            "84/84 [==============================] - 3s 34ms/step - loss: 0.4511 - accuracy: 0.8428 - val_loss: 0.5464 - val_accuracy: 0.8172\n",
            "20/20 [==============================] - 0s 17ms/step - loss: 0.5743 - accuracy: 0.8086\n",
            "#### 테스트 세트로 evaluation 결과 : [0.5742540955543518, 0.8086000084877014]\n",
            "##### batch size : 1000 학습 #####\n",
            "Epoch 1/30\n",
            "43/43 [==============================] - 4s 70ms/step - loss: 2.0885 - accuracy: 0.2888 - val_loss: 2.4224 - val_accuracy: 0.1025\n",
            "Epoch 2/30\n",
            "43/43 [==============================] - 3s 63ms/step - loss: 1.5056 - accuracy: 0.4483 - val_loss: 2.9506 - val_accuracy: 0.1025\n",
            "Epoch 3/30\n",
            "43/43 [==============================] - 3s 63ms/step - loss: 1.2918 - accuracy: 0.5299 - val_loss: 3.3258 - val_accuracy: 0.1025\n",
            "Epoch 4/30\n",
            "43/43 [==============================] - 3s 63ms/step - loss: 1.1303 - accuracy: 0.5913 - val_loss: 3.5685 - val_accuracy: 0.1025\n",
            "Epoch 5/30\n",
            "43/43 [==============================] - 3s 64ms/step - loss: 1.0049 - accuracy: 0.6413 - val_loss: 3.8256 - val_accuracy: 0.1027\n",
            "Epoch 6/30\n",
            "43/43 [==============================] - 3s 64ms/step - loss: 0.9122 - accuracy: 0.6756 - val_loss: 3.8450 - val_accuracy: 0.1052\n",
            "Epoch 7/30\n",
            "43/43 [==============================] - 3s 64ms/step - loss: 0.8373 - accuracy: 0.7038 - val_loss: 3.2252 - val_accuracy: 0.1357\n",
            "Epoch 8/30\n",
            "43/43 [==============================] - 3s 64ms/step - loss: 0.7731 - accuracy: 0.7271 - val_loss: 2.7045 - val_accuracy: 0.2560\n",
            "Epoch 9/30\n",
            "43/43 [==============================] - 3s 64ms/step - loss: 0.7197 - accuracy: 0.7454 - val_loss: 1.8192 - val_accuracy: 0.3899\n",
            "Epoch 10/30\n",
            "43/43 [==============================] - 3s 64ms/step - loss: 0.6762 - accuracy: 0.7580 - val_loss: 1.8164 - val_accuracy: 0.4244\n",
            "Epoch 11/30\n",
            "43/43 [==============================] - 3s 64ms/step - loss: 0.6369 - accuracy: 0.7740 - val_loss: 1.2003 - val_accuracy: 0.5956\n",
            "Epoch 12/30\n",
            "43/43 [==============================] - 3s 64ms/step - loss: 0.5964 - accuracy: 0.7900 - val_loss: 1.0239 - val_accuracy: 0.6423\n",
            "Epoch 13/30\n",
            "43/43 [==============================] - 3s 64ms/step - loss: 0.5645 - accuracy: 0.8017 - val_loss: 1.1255 - val_accuracy: 0.6339\n",
            "Epoch 14/30\n",
            "43/43 [==============================] - 3s 64ms/step - loss: 0.5273 - accuracy: 0.8124 - val_loss: 0.6748 - val_accuracy: 0.7676\n",
            "Epoch 15/30\n",
            "43/43 [==============================] - 3s 64ms/step - loss: 0.4975 - accuracy: 0.8238 - val_loss: 1.1389 - val_accuracy: 0.6381\n",
            "Epoch 16/30\n",
            "43/43 [==============================] - 3s 64ms/step - loss: 0.4673 - accuracy: 0.8346 - val_loss: 0.8138 - val_accuracy: 0.7385\n",
            "Epoch 17/30\n",
            "43/43 [==============================] - 3s 64ms/step - loss: 0.4320 - accuracy: 0.8475 - val_loss: 0.6209 - val_accuracy: 0.7860\n",
            "Epoch 18/30\n",
            "43/43 [==============================] - 3s 64ms/step - loss: 0.4127 - accuracy: 0.8540 - val_loss: 0.7944 - val_accuracy: 0.7451\n",
            "Epoch 19/30\n",
            "43/43 [==============================] - 3s 64ms/step - loss: 0.3877 - accuracy: 0.8619 - val_loss: 0.9138 - val_accuracy: 0.7279\n",
            "Epoch 20/30\n",
            "43/43 [==============================] - 3s 64ms/step - loss: 0.3679 - accuracy: 0.8702 - val_loss: 0.9502 - val_accuracy: 0.7083\n",
            "Epoch 21/30\n",
            "43/43 [==============================] - 3s 64ms/step - loss: 0.3569 - accuracy: 0.8724 - val_loss: 0.7340 - val_accuracy: 0.7727\n",
            "Epoch 22/30\n",
            "43/43 [==============================] - 3s 64ms/step - loss: 0.3357 - accuracy: 0.8810 - val_loss: 0.6796 - val_accuracy: 0.7849\n",
            "Epoch 23/30\n",
            "43/43 [==============================] - 3s 64ms/step - loss: 0.3012 - accuracy: 0.8924 - val_loss: 0.7977 - val_accuracy: 0.7595\n",
            "Epoch 24/30\n",
            "43/43 [==============================] - 3s 64ms/step - loss: 0.2938 - accuracy: 0.8936 - val_loss: 1.0564 - val_accuracy: 0.7252\n",
            "Epoch 25/30\n",
            "43/43 [==============================] - 3s 64ms/step - loss: 0.2849 - accuracy: 0.8983 - val_loss: 0.7964 - val_accuracy: 0.7657\n",
            "Epoch 26/30\n",
            "43/43 [==============================] - 3s 64ms/step - loss: 0.2564 - accuracy: 0.9100 - val_loss: 0.8301 - val_accuracy: 0.7648\n",
            "Epoch 27/30\n",
            "43/43 [==============================] - 3s 63ms/step - loss: 0.2405 - accuracy: 0.9139 - val_loss: 0.8456 - val_accuracy: 0.7584\n",
            "Epoch 28/30\n",
            "43/43 [==============================] - 3s 63ms/step - loss: 0.2292 - accuracy: 0.9181 - val_loss: 0.8145 - val_accuracy: 0.7775\n",
            "Epoch 29/30\n",
            "43/43 [==============================] - 3s 64ms/step - loss: 0.2110 - accuracy: 0.9252 - val_loss: 0.9969 - val_accuracy: 0.7484\n",
            "Epoch 30/30\n",
            "43/43 [==============================] - 3s 63ms/step - loss: 0.2058 - accuracy: 0.9267 - val_loss: 0.8097 - val_accuracy: 0.7793\n",
            "10/10 [==============================] - 0s 20ms/step - loss: 0.8664 - accuracy: 0.7658\n",
            "#### 테스트 세트로 evaluation 결과 : [0.8664039969444275, 0.7657999992370605]\n"
          ]
        }
      ],
      "source": [
        "b_sizes = [32, 64, 256, 512, 1000]\n",
        "histories = []\n",
        "evaluations = []\n",
        "for b_size in b_sizes:\n",
        "    model = create_model()\n",
        "    model.compile(optimizer=Adam(), loss='categorical_crossentropy', metrics=['accuracy'])\n",
        "    # batch_size를 순차적으로 32, 64, 256, 512로 변경하여 학습 및 evaluation 수행. \n",
        "    print('##### batch size :', b_size, '학습 #####')\n",
        "    history = model.fit(x=tr_images, y=tr_oh_labels, batch_size=b_size, epochs=30, \n",
        "                        shuffle=True, validation_data=(val_images, val_oh_labels))\n",
        "    # batch size별 학습 history 결과 저장. \n",
        "    histories.append(history)\n",
        "    # 테스트 세트로 evaluation 수행하고 batch size별 결과 저장. \n",
        "    evaluation_result = model.evaluate(test_images, test_oh_labels, batch_size=b_size)\n",
        "    print('#### 테스트 세트로 evaluation 결과 :', evaluation_result)\n",
        "    evaluations.append(evaluation_result)\n",
        "    \n",
        "    tf.keras.backend.clear_session()"
      ]
    },
    {
      "cell_type": "code",
      "execution_count": 86,
      "metadata": {
        "id": "3EcrEdl2GjTX",
        "colab": {
          "base_uri": "https://localhost:8080/",
          "height": 192
        },
        "outputId": "19100293-2ca0-4b49-bcb1-57bbee33f71b"
      },
      "outputs": [
        {
          "output_type": "display_data",
          "data": {
            "image/png": "[encoded data removed]",
            "text/plain": [
              "<Figure size 1152x288 with 2 Axes>"
            ]
          },
          "metadata": {
            "needs_background": "light"
          }
        }
      ],
      "source": [
        "import matplotlib.pyplot as plt\n",
        "%matplotlib inline\n",
        "\n",
        "def show_history_batch(histories):\n",
        "    figure, axs = plt.subplots(nrows=1, ncols=2, figsize=(16, 4))  \n",
        "    # batch 크기별 validation accuracy 비교 \n",
        "    axs[0].plot(histories[0].history['val_accuracy'], label='batch 32 acc')\n",
        "    axs[0].plot(histories[1].history['val_accuracy'], label='batch 64 acc')\n",
        "    axs[0].plot(histories[2].history['val_accuracy'], label='batch 256 acc')\n",
        "    axs[0].plot(histories[3].history['val_accuracy'], label='batch 512 acc')\n",
        "    axs[0].plot(histories[4].history['val_accuracy'], label='batch 1000 acc')\n",
        "    \n",
        "    # batch 크기별 validation loss 비교\n",
        "    axs[1].plot(histories[0].history['val_loss'], label='batch 32 loss')\n",
        "    axs[1].plot(histories[1].history['val_loss'], label='batch 64 loss')\n",
        "    axs[1].plot(histories[2].history['val_loss'], label='batch 256 loss')\n",
        "    axs[1].plot(histories[3].history['val_loss'], label='batch 512 loss')\n",
        "    axs[1].plot(histories[4].history['val_loss'], label='batch 1000 loss')\n",
        "    \n",
        "    axs[0].legend()\n",
        "    axs[1].legend()\n",
        "\n",
        "show_history_batch(histories)"
      ]
    },
    {
      "cell_type": "code",
      "execution_count": null,
      "metadata": {
        "id": "_nJ8qDB6GjTX"
      },
      "outputs": [],
      "source": [
        ""
      ]
    }
  ],
  "metadata": {
    "accelerator": "GPU",
    "colab": {
      "collapsed_sections": [
        "rvmWUe2TGjS0",
        "13l1AXzDGjS5",
        "NRd2SRhOGjS_",
        "LvTdRHNTGjTG",
        "wwQo1TgnGjTH",
        "k8F2MLTvGjTJ",
        "VUxfB6NEGjTP",
        "oT6yXXFvGjTP",
        "_L9ULBM-GjTQ"
      ],
      "name": "04-CIFAR10_Custom.ipynb",
      "toc_visible": true,
      "provenance": [],
      "include_colab_link": true
    },
    "kernelspec": {
      "display_name": "Python 3",
      "language": "python",
      "name": "python3"
    },
    "language_info": {
      "codemirror_mode": {
        "name": "ipython",
        "version": 3
      },
      "file_extension": ".py",
      "mimetype": "text/x-python",
      "name": "python",
      "nbconvert_exporter": "python",
      "pygments_lexer": "ipython3",
      "version": "3.6.4"
    }
  },
  "nbformat": 4,
  "nbformat_minor": 0
}