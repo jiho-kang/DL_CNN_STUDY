{
  "cells": [
    {
      "cell_type": "markdown",
      "metadata": {
        "id": "view-in-github",
        "colab_type": "text"
      },
      "source": [
        "<a href=\"https://colab.research.google.com/github/jiho-kang/DL_CNN_STUDY/blob/main/05_CIFAR10_Custom_CB_Filters_Decay.ipynb\" target=\"_parent\"><img src=\"https://colab.research.google.com/assets/colab-badge.svg\" alt=\"Open In Colab\"/></a>"
      ]
    },
    {
      "metadata": {
        "id": "ZlQROZF2V61h"
      },
      "cell_type": "markdown",
      "source": [
        "### 데이터 전처리 수행.\n",
        "* 학습/검증/테스트 데이터 세트로 나누고 원-핫 인코딩 수행"
      ]
    },
    {
      "metadata": {
        "_uuid": "8f2839f25d086af736a60e9eeb907d3b93b6e0e5",
        "_cell_guid": "b1076dfc-b9ad-4769-8c92-a6c4dae69d19",
        "trusted": true,
        "colab": {
          "base_uri": "https://localhost:8080/"
        },
        "id": "EHnGPTgPV616",
        "outputId": "739d651a-a56c-4779-d7d6-271605be31a3"
      },
      "cell_type": "code",
      "source": [
        "import tensorflow as tf\n",
        "import numpy as np\n",
        "import pandas as pd\n",
        "\n",
        "import random as python_random\n",
        "from tensorflow.keras.utils import to_categorical\n",
        "from sklearn.model_selection import train_test_split\n",
        "from tensorflow.keras.datasets import cifar10\n",
        "\n",
        "# seed 를 설정해서 학습시마다 동일한 결과 유도. 불행히도 의도한 대로 동작하지 않음. \n",
        "def set_random_seed(seed_value):\n",
        "    np.random.seed(seed_value)\n",
        "    python_random.seed(seed_value)\n",
        "    tf.random.set_seed(seed_value)\n",
        "\n",
        "# 0 ~ 1사이값의 float32로 변경하는 함수\n",
        "def get_preprocessed_data(images, labels):\n",
        "    \n",
        "    # 학습과 테스트 이미지 array를 0~1 사이값으로 scale 및 float32 형 변형. \n",
        "    images = np.array(images/255.0, dtype=np.float32)\n",
        "    labels = np.array(labels, dtype=np.float32)\n",
        "    \n",
        "    return images, labels\n",
        "\n",
        "# 0 ~ 1사이값 float32로 변경하는 함수 호출 한 뒤 OHE 적용 \n",
        "def get_preprocessed_ohe(images, labels):\n",
        "    images, labels = get_preprocessed_data(images, labels)\n",
        "    # OHE 적용 \n",
        "    oh_labels = to_categorical(labels)\n",
        "    return images, oh_labels\n",
        "\n",
        "# 학습/검증/테스트 데이터 세트에 전처리 및 OHE 적용한 뒤 반환 \n",
        "def get_train_valid_test_set(train_images, train_labels, test_images, test_labels, valid_size=0.15, random_state=2021):\n",
        "    # 학습 및 테스트 데이터 세트를  0 ~ 1사이값 float32로 변경 및 OHE 적용. \n",
        "    train_images, train_oh_labels = get_preprocessed_ohe(train_images, train_labels)\n",
        "    test_images, test_oh_labels = get_preprocessed_ohe(test_images, test_labels)\n",
        "    \n",
        "    # 학습 데이터를 검증 데이터 세트로 다시 분리\n",
        "    tr_images, val_images, tr_oh_labels, val_oh_labels = train_test_split(train_images, train_oh_labels, test_size=valid_size, random_state=random_state)\n",
        "    \n",
        "    return (tr_images, tr_oh_labels), (val_images, val_oh_labels), (test_images, test_oh_labels ) \n",
        "\n",
        "\n",
        "# random seed는 2021로 고정.\n",
        "set_random_seed(2021)\n",
        "# CIFAR10 데이터 재 로딩 및 Scaling/OHE 전처리 적용하여 학습/검증/데이터 세트 생성. \n",
        "(train_images, train_labels), (test_images, test_labels) = cifar10.load_data()\n",
        "print(train_images.shape, train_labels.shape, test_images.shape, test_labels.shape)\n",
        "(tr_images, tr_oh_labels), (val_images, val_oh_labels), (test_images, test_oh_labels) = \\\n",
        "    get_train_valid_test_set(train_images, train_labels, test_images, test_labels, valid_size=0.15, random_state=2021)\n",
        "\n",
        "print(tr_images.shape, tr_oh_labels.shape, val_images.shape, val_oh_labels.shape, test_images.shape, test_oh_labels.shape)"
      ],
      "execution_count": 1,
      "outputs": [
        {
          "output_type": "stream",
          "name": "stdout",
          "text": [
            "Downloading data from https://www.cs.toronto.edu/~kriz/cifar-10-python.tar.gz\n",
            "170500096/170498071 [==============================] - 2s 0us/step\n",
            "170508288/170498071 [==============================] - 2s 0us/step\n",
            "(50000, 32, 32, 3) (50000, 1) (10000, 32, 32, 3) (10000, 1)\n",
            "(42500, 32, 32, 3) (42500, 10) (7500, 32, 32, 3) (7500, 10) (10000, 32, 32, 3) (10000, 10)\n"
          ]
        }
      ]
    },
    {
      "metadata": {
        "trusted": true,
        "id": "HkOJemHvV62F"
      },
      "cell_type": "code",
      "source": [
        "IMAGE_SIZE = 32"
      ],
      "execution_count": 2,
      "outputs": []
    },
    {
      "metadata": {
        "id": "9QLjKsvXV62I"
      },
      "cell_type": "markdown",
      "source": [
        "### 모델 생성 함수 생성"
      ]
    },
    {
      "metadata": {
        "trusted": true,
        "id": "xMxsLWPZV62P"
      },
      "cell_type": "code",
      "source": [
        "from tensorflow.keras.models import Sequential, Model\n",
        "from tensorflow.keras.layers import Input, Dense , Conv2D , Dropout , Flatten , Activation, MaxPooling2D , GlobalAveragePooling2D\n",
        "from tensorflow.keras.optimizers import Adam , RMSprop \n",
        "from tensorflow.keras.layers import BatchNormalization\n",
        "from tensorflow.keras.callbacks import ReduceLROnPlateau , EarlyStopping , ModelCheckpoint , LearningRateScheduler\n",
        "\n",
        "def create_model(verbose=False):\n",
        "    input_tensor = Input(shape=(IMAGE_SIZE, IMAGE_SIZE, 3))\n",
        "\n",
        "    #x = Conv2D(filters=32, kernel_size=(5, 5), padding='valid', activation='relu')(input_tensor)\n",
        "    x = Conv2D(filters=32, kernel_size=(3, 3), padding='same')(input_tensor)\n",
        "    x = BatchNormalization()(x)\n",
        "    x = Activation('relu')(x)\n",
        "\n",
        "    x = Conv2D(filters=32, kernel_size=(3, 3), padding='same')(x)\n",
        "    x = BatchNormalization()(x)\n",
        "    x = Activation('relu')(x)\n",
        "    x = MaxPooling2D(pool_size=(2, 2))(x)\n",
        "\n",
        "    x = Conv2D(filters=64, kernel_size=3, padding='same')(x)\n",
        "    x = BatchNormalization()(x)\n",
        "    x = Activation('relu')(x)\n",
        "\n",
        "    x = Conv2D(filters=64, kernel_size=3, padding='same')(x)\n",
        "    x = Activation('relu')(x)\n",
        "    x = Activation('relu')(x)\n",
        "    x = MaxPooling2D(pool_size=2)(x)\n",
        "\n",
        "    x = Conv2D(filters=128, kernel_size=3, padding='same')(x)\n",
        "    x = BatchNormalization()(x)\n",
        "    x = Activation('relu')(x)\n",
        "\n",
        "    x = Conv2D(filters=128, kernel_size=3, padding='same')(x)\n",
        "    x = BatchNormalization()(x)\n",
        "    x = Activation('relu')(x)\n",
        "    x = MaxPooling2D(pool_size=2)(x)\n",
        "\n",
        "    # cifar10의 클래스가 10개 이므로 마지막 classification의 Dense layer units갯수는 10\n",
        "    x = Flatten(name='flatten')(x)\n",
        "    x = Dropout(rate=0.5)(x)\n",
        "    x = Dense(300, activation='relu', name='fc1')(x)\n",
        "    x = Dropout(rate=0.3)(x)\n",
        "    output = Dense(10, activation='softmax', name='output')(x)\n",
        "\n",
        "    model = Model(inputs=input_tensor, outputs=output)\n",
        "    \n",
        "    if verbose:\n",
        "        model.summary()\n",
        "    \n",
        "    return model"
      ],
      "execution_count": 3,
      "outputs": []
    },
    {
      "metadata": {
        "trusted": true,
        "colab": {
          "base_uri": "https://localhost:8080/"
        },
        "id": "HFFnwGIuV62c",
        "outputId": "06a328de-66cb-4d44-e1ae-7c047fc4c977"
      },
      "cell_type": "code",
      "source": [
        "create_model(verbose=True)"
      ],
      "execution_count": 4,
      "outputs": [
        {
          "output_type": "stream",
          "name": "stdout",
          "text": [
            "Model: \"model\"\n",
            "_________________________________________________________________\n",
            " Layer (type)                Output Shape              Param #   \n",
            "=================================================================\n",
            " input_1 (InputLayer)        [(None, 32, 32, 3)]       0         \n",
            "                                                                 \n",
            " conv2d (Conv2D)             (None, 32, 32, 32)        896       \n",
            "                                                                 \n",
            " batch_normalization (BatchN  (None, 32, 32, 32)       128       \n",
            " ormalization)                                                   \n",
            "                                                                 \n",
            " activation (Activation)     (None, 32, 32, 32)        0         \n",
            "                                                                 \n",
            " conv2d_1 (Conv2D)           (None, 32, 32, 32)        9248      \n",
            "                                                                 \n",
            " batch_normalization_1 (Batc  (None, 32, 32, 32)       128       \n",
            " hNormalization)                                                 \n",
            "                                                                 \n",
            " activation_1 (Activation)   (None, 32, 32, 32)        0         \n",
            "                                                                 \n",
            " max_pooling2d (MaxPooling2D  (None, 16, 16, 32)       0         \n",
            " )                                                               \n",
            "                                                                 \n",
            " conv2d_2 (Conv2D)           (None, 16, 16, 64)        18496     \n",
            "                                                                 \n",
            " batch_normalization_2 (Batc  (None, 16, 16, 64)       256       \n",
            " hNormalization)                                                 \n",
            "                                                                 \n",
            " activation_2 (Activation)   (None, 16, 16, 64)        0         \n",
            "                                                                 \n",
            " conv2d_3 (Conv2D)           (None, 16, 16, 64)        36928     \n",
            "                                                                 \n",
            " activation_3 (Activation)   (None, 16, 16, 64)        0         \n",
            "                                                                 \n",
            " activation_4 (Activation)   (None, 16, 16, 64)        0         \n",
            "                                                                 \n",
            " max_pooling2d_1 (MaxPooling  (None, 8, 8, 64)         0         \n",
            " 2D)                                                             \n",
            "                                                                 \n",
            " conv2d_4 (Conv2D)           (None, 8, 8, 128)         73856     \n",
            "                                                                 \n",
            " batch_normalization_3 (Batc  (None, 8, 8, 128)        512       \n",
            " hNormalization)                                                 \n",
            "                                                                 \n",
            " activation_5 (Activation)   (None, 8, 8, 128)         0         \n",
            "                                                                 \n",
            " conv2d_5 (Conv2D)           (None, 8, 8, 128)         147584    \n",
            "                                                                 \n",
            " batch_normalization_4 (Batc  (None, 8, 8, 128)        512       \n",
            " hNormalization)                                                 \n",
            "                                                                 \n",
            " activation_6 (Activation)   (None, 8, 8, 128)         0         \n",
            "                                                                 \n",
            " max_pooling2d_2 (MaxPooling  (None, 4, 4, 128)        0         \n",
            " 2D)                                                             \n",
            "                                                                 \n",
            " flatten (Flatten)           (None, 2048)              0         \n",
            "                                                                 \n",
            " dropout (Dropout)           (None, 2048)              0         \n",
            "                                                                 \n",
            " fc1 (Dense)                 (None, 300)               614700    \n",
            "                                                                 \n",
            " dropout_1 (Dropout)         (None, 300)               0         \n",
            "                                                                 \n",
            " output (Dense)              (None, 10)                3010      \n",
            "                                                                 \n",
            "=================================================================\n",
            "Total params: 906,254\n",
            "Trainable params: 905,486\n",
            "Non-trainable params: 768\n",
            "_________________________________________________________________\n"
          ]
        },
        {
          "output_type": "execute_result",
          "data": {
            "text/plain": [
              "<keras.engine.functional.Functional at 0x7fd2022b6850>"
            ]
          },
          "metadata": {},
          "execution_count": 4
        }
      ]
    },
    {
      "metadata": {
        "id": "P7i6wVgRV62f"
      },
      "cell_type": "markdown",
      "source": [
        "### Learning Rate와 Early Stopping을 위한 Callback 생성 \n",
        "* Learning rate 동적 변경은 ReduceLROnPlateau(모델 성능이 증가되지 않으면 lr을 감소),  모델 Ealry Stopping은 EarlyStopping Callback을 이용.  "
      ]
    },
    {
      "metadata": {
        "trusted": true,
        "colab": {
          "base_uri": "https://localhost:8080/"
        },
        "id": "UyzPX0hbV62j",
        "outputId": "95bef9b3-6174-4d8c-bace-bd6ae1b9c3ca"
      },
      "cell_type": "code",
      "source": [
        "# ModelCheckpoint를 동작시키기 전에 기존 저장된 모델은 모두 삭제 \n",
        "!rm *.hdf5"
      ],
      "execution_count": 5,
      "outputs": [
        {
          "output_type": "stream",
          "name": "stdout",
          "text": [
            "rm: cannot remove '*.hdf5': No such file or directory\n"
          ]
        }
      ]
    },
    {
      "cell_type": "code",
      "source": [
        ""
      ],
      "metadata": {
        "id": "90FHkbp_aeev"
      },
      "execution_count": null,
      "outputs": []
    },
    {
      "metadata": {
        "trusted": true,
        "colab": {
          "base_uri": "https://localhost:8080/"
        },
        "id": "JyekXUNDV62m",
        "outputId": "f9bf9ea2-14c6-4423-da59-21dd2ade109c"
      },
      "cell_type": "code",
      "source": [
        "from tensorflow.keras.callbacks import ReduceLROnPlateau\n",
        "from tensorflow.keras.callbacks import EarlyStopping, ModelCheckpoint\n",
        "\n",
        "model = create_model()\n",
        "model.compile(optimizer=Adam(lr=0.001), loss='categorical_crossentropy', metrics=['accuracy'])\n",
        "\n",
        "# validation loss가 향상되는 모델만 저장.\n",
        "mcp_cb = ModelCheckpoint(filepath='/content/weights.{epoch:02d}-{val_loss:.2f}.hdf5', monitor='val_loss', \n",
        "                         save_best_only=True, save_weights_only=True, mode='min', period=1, verbose=0)\n",
        "\n",
        "# 5번 iteration내에 validation loss가 향상되지 않으면 learning rate을 기존 learning rate * 0.2로 줄임.  \n",
        "rlr_cb = ReduceLROnPlateau(monitor='val_loss', factor=0.2, patience=5, mode='min', verbose=1)\n",
        "# 10번 iteration내에 validation loss가 향상되지 않으면 더 이상 학습하지 않고 종료\n",
        "ely_cb = EarlyStopping(monitor='val_loss', patience=10, mode='min', verbose=1)\n",
        "\n",
        "\n",
        "history = model.fit(x=tr_images, y=tr_oh_labels, batch_size=32, epochs=30, shuffle=True,\n",
        "                    validation_data=(val_images, val_oh_labels),  \n",
        "                    callbacks=[mcp_cb, rlr_cb, ely_cb] )"
      ],
      "execution_count": 7,
      "outputs": [
        {
          "output_type": "stream",
          "name": "stdout",
          "text": [
            "WARNING:tensorflow:`period` argument is deprecated. Please use `save_freq` to specify the frequency in number of batches seen.\n"
          ]
        },
        {
          "output_type": "stream",
          "name": "stderr",
          "text": [
            "/usr/local/lib/python3.7/dist-packages/keras/optimizer_v2/adam.py:105: UserWarning: The `lr` argument is deprecated, use `learning_rate` instead.\n",
            "  super(Adam, self).__init__(name, **kwargs)\n"
          ]
        },
        {
          "output_type": "stream",
          "name": "stdout",
          "text": [
            "Epoch 1/30\n",
            "1329/1329 [==============================] - 12s 7ms/step - loss: 1.5779 - accuracy: 0.4295 - val_loss: 1.2356 - val_accuracy: 0.5619 - lr: 0.0010\n",
            "Epoch 2/30\n",
            "1329/1329 [==============================] - 9s 6ms/step - loss: 1.1154 - accuracy: 0.6004 - val_loss: 0.9669 - val_accuracy: 0.6524 - lr: 0.0010\n",
            "Epoch 3/30\n",
            "1329/1329 [==============================] - 9s 7ms/step - loss: 0.9194 - accuracy: 0.6776 - val_loss: 1.1856 - val_accuracy: 0.5987 - lr: 0.0010\n",
            "Epoch 4/30\n",
            "1329/1329 [==============================] - 9s 7ms/step - loss: 0.8125 - accuracy: 0.7186 - val_loss: 0.7289 - val_accuracy: 0.7505 - lr: 0.0010\n",
            "Epoch 5/30\n",
            "1329/1329 [==============================] - 9s 6ms/step - loss: 0.7192 - accuracy: 0.7532 - val_loss: 0.7387 - val_accuracy: 0.7463 - lr: 0.0010\n",
            "Epoch 6/30\n",
            "1329/1329 [==============================] - 8s 6ms/step - loss: 0.6514 - accuracy: 0.7786 - val_loss: 0.9334 - val_accuracy: 0.6981 - lr: 0.0010\n",
            "Epoch 7/30\n",
            "1329/1329 [==============================] - 9s 7ms/step - loss: 0.5906 - accuracy: 0.7977 - val_loss: 0.6695 - val_accuracy: 0.7713 - lr: 0.0010\n",
            "Epoch 8/30\n",
            "1329/1329 [==============================] - 8s 6ms/step - loss: 0.5405 - accuracy: 0.8160 - val_loss: 0.9860 - val_accuracy: 0.6861 - lr: 0.0010\n",
            "Epoch 9/30\n",
            "1329/1329 [==============================] - 9s 7ms/step - loss: 0.4928 - accuracy: 0.8321 - val_loss: 0.5892 - val_accuracy: 0.7969 - lr: 0.0010\n",
            "Epoch 10/30\n",
            "1329/1329 [==============================] - 9s 7ms/step - loss: 0.4526 - accuracy: 0.8463 - val_loss: 0.5835 - val_accuracy: 0.7997 - lr: 0.0010\n",
            "Epoch 11/30\n",
            "1329/1329 [==============================] - 9s 6ms/step - loss: 0.4189 - accuracy: 0.8561 - val_loss: 0.5089 - val_accuracy: 0.8332 - lr: 0.0010\n",
            "Epoch 12/30\n",
            "1329/1329 [==============================] - 8s 6ms/step - loss: 0.3828 - accuracy: 0.8711 - val_loss: 0.5477 - val_accuracy: 0.8245 - lr: 0.0010\n",
            "Epoch 13/30\n",
            "1329/1329 [==============================] - 8s 6ms/step - loss: 0.3549 - accuracy: 0.8780 - val_loss: 0.5912 - val_accuracy: 0.8136 - lr: 0.0010\n",
            "Epoch 14/30\n",
            "1329/1329 [==============================] - 9s 6ms/step - loss: 0.3335 - accuracy: 0.8840 - val_loss: 0.5742 - val_accuracy: 0.8120 - lr: 0.0010\n",
            "Epoch 15/30\n",
            "1329/1329 [==============================] - 9s 7ms/step - loss: 0.3055 - accuracy: 0.8938 - val_loss: 0.5057 - val_accuracy: 0.8437 - lr: 0.0010\n",
            "Epoch 16/30\n",
            "1329/1329 [==============================] - 9s 6ms/step - loss: 0.2812 - accuracy: 0.9037 - val_loss: 0.5415 - val_accuracy: 0.8368 - lr: 0.0010\n",
            "Epoch 17/30\n",
            "1329/1329 [==============================] - 9s 7ms/step - loss: 0.2663 - accuracy: 0.9088 - val_loss: 0.6014 - val_accuracy: 0.8267 - lr: 0.0010\n",
            "Epoch 18/30\n",
            "1329/1329 [==============================] - 9s 6ms/step - loss: 0.2520 - accuracy: 0.9144 - val_loss: 0.5389 - val_accuracy: 0.8300 - lr: 0.0010\n",
            "Epoch 19/30\n",
            "1329/1329 [==============================] - 9s 6ms/step - loss: 0.2319 - accuracy: 0.9206 - val_loss: 0.6531 - val_accuracy: 0.8215 - lr: 0.0010\n",
            "Epoch 20/30\n",
            "1321/1329 [============================>.] - ETA: 0s - loss: 0.2215 - accuracy: 0.9236\n",
            "Epoch 00020: ReduceLROnPlateau reducing learning rate to 0.00020000000949949026.\n",
            "1329/1329 [==============================] - 8s 6ms/step - loss: 0.2214 - accuracy: 0.9236 - val_loss: 0.5929 - val_accuracy: 0.8345 - lr: 0.0010\n",
            "Epoch 21/30\n",
            "1329/1329 [==============================] - 8s 6ms/step - loss: 0.1354 - accuracy: 0.9541 - val_loss: 0.5167 - val_accuracy: 0.8671 - lr: 2.0000e-04\n",
            "Epoch 22/30\n",
            "1329/1329 [==============================] - 8s 6ms/step - loss: 0.1067 - accuracy: 0.9622 - val_loss: 0.5318 - val_accuracy: 0.8631 - lr: 2.0000e-04\n",
            "Epoch 23/30\n",
            "1329/1329 [==============================] - 8s 6ms/step - loss: 0.0919 - accuracy: 0.9682 - val_loss: 0.5701 - val_accuracy: 0.8669 - lr: 2.0000e-04\n",
            "Epoch 24/30\n",
            "1329/1329 [==============================] - 8s 6ms/step - loss: 0.0848 - accuracy: 0.9706 - val_loss: 0.5795 - val_accuracy: 0.8649 - lr: 2.0000e-04\n",
            "Epoch 25/30\n",
            "1326/1329 [============================>.] - ETA: 0s - loss: 0.0749 - accuracy: 0.9734\n",
            "Epoch 00025: ReduceLROnPlateau reducing learning rate to 4.0000001899898055e-05.\n",
            "1329/1329 [==============================] - 8s 6ms/step - loss: 0.0750 - accuracy: 0.9734 - val_loss: 0.6008 - val_accuracy: 0.8604 - lr: 2.0000e-04\n",
            "Epoch 00025: early stopping\n"
          ]
        }
      ]
    },
    {
      "metadata": {
        "trusted": true,
        "colab": {
          "base_uri": "https://localhost:8080/"
        },
        "id": "e8bno0hLV62o",
        "outputId": "4b7cdc43-94f4-468d-d35b-515d683f6d57"
      },
      "cell_type": "code",
      "source": [
        "model.evaluate(test_images, test_oh_labels)"
      ],
      "execution_count": 8,
      "outputs": [
        {
          "output_type": "stream",
          "name": "stdout",
          "text": [
            "313/313 [==============================] - 1s 4ms/step - loss: 0.6251 - accuracy: 0.8535\n"
          ]
        },
        {
          "output_type": "execute_result",
          "data": {
            "text/plain": [
              "[0.6251313090324402, 0.8535000085830688]"
            ]
          },
          "metadata": {},
          "execution_count": 8
        }
      ]
    },
    {
      "metadata": {
        "trusted": true,
        "colab": {
          "base_uri": "https://localhost:8080/"
        },
        "id": "fGqF-AZiV62p",
        "outputId": "9f8ae109-f64c-4713-8c9d-e0da5b8062fe"
      },
      "cell_type": "code",
      "source": [
        "!ls -lia"
      ],
      "execution_count": 9,
      "outputs": [
        {
          "output_type": "stream",
          "name": "stdout",
          "text": [
            "total 28816\n",
            "2884489 drwxr-xr-x 1 root root    4096 Feb 15 12:47 .\n",
            "3819664 drwxr-xr-x 1 root root    4096 Feb 15 12:39 ..\n",
            "3539133 drwxr-xr-x 4 root root    4096 Feb  1 14:31 .config\n",
            "2884490 drwxr-xr-x 1 root root    4096 Feb  1 14:32 sample_data\n",
            "5242902 -rw-r--r-- 1 root root 3685760 Feb 15 12:45 weights.01-1.24.hdf5\n",
            "5242903 -rw-r--r-- 1 root root 3685760 Feb 15 12:45 weights.02-0.97.hdf5\n",
            "5242904 -rw-r--r-- 1 root root 3685760 Feb 15 12:45 weights.04-0.73.hdf5\n",
            "5242905 -rw-r--r-- 1 root root 3685760 Feb 15 12:46 weights.07-0.67.hdf5\n",
            "5242906 -rw-r--r-- 1 root root 3685760 Feb 15 12:46 weights.09-0.59.hdf5\n",
            "5242907 -rw-r--r-- 1 root root 3685760 Feb 15 12:46 weights.10-0.58.hdf5\n",
            "5242908 -rw-r--r-- 1 root root 3685760 Feb 15 12:46 weights.11-0.51.hdf5\n",
            "5242909 -rw-r--r-- 1 root root 3685760 Feb 15 12:47 weights.15-0.51.hdf5\n"
          ]
        }
      ]
    },
    {
      "metadata": {
        "id": "HpkBLvVTV62u"
      },
      "cell_type": "markdown",
      "source": [
        "### 최적 weight를 모델로 재 로딩한 다음에 테스트 데이터로 다시 평가"
      ]
    },
    {
      "metadata": {
        "trusted": true,
        "colab": {
          "base_uri": "https://localhost:8080/"
        },
        "id": "lpWzUH91V62v",
        "outputId": "6a029c56-9b88-44c2-eac4-99f163e45af0"
      },
      "cell_type": "code",
      "source": [
        "model = create_model()\n",
        "model.compile(optimizer=Adam(lr=0.001), loss='categorical_crossentropy', metrics=['accuracy'])\n",
        "model.load_weights('/content/weights.15-0.51.hdf5')"
      ],
      "execution_count": 10,
      "outputs": [
        {
          "output_type": "stream",
          "name": "stderr",
          "text": [
            "/usr/local/lib/python3.7/dist-packages/keras/optimizer_v2/adam.py:105: UserWarning: The `lr` argument is deprecated, use `learning_rate` instead.\n",
            "  super(Adam, self).__init__(name, **kwargs)\n"
          ]
        }
      ]
    },
    {
      "metadata": {
        "trusted": true,
        "colab": {
          "base_uri": "https://localhost:8080/"
        },
        "id": "Apn2pNLQV62z",
        "outputId": "e0bed460-bb36-4122-9a58-a866ee68d770"
      },
      "cell_type": "code",
      "source": [
        "model.evaluate(test_images, test_oh_labels)"
      ],
      "execution_count": 11,
      "outputs": [
        {
          "output_type": "stream",
          "name": "stdout",
          "text": [
            "313/313 [==============================] - 2s 4ms/step - loss: 0.5314 - accuracy: 0.8332\n"
          ]
        },
        {
          "output_type": "execute_result",
          "data": {
            "text/plain": [
              "[0.5313654541969299, 0.8331999778747559]"
            ]
          },
          "metadata": {},
          "execution_count": 11
        }
      ]
    },
    {
      "metadata": {
        "trusted": true,
        "colab": {
          "base_uri": "https://localhost:8080/",
          "height": 265
        },
        "id": "Vg715ppcV621",
        "outputId": "107a59ea-521e-4d84-e1e7-e886221b52c0"
      },
      "cell_type": "code",
      "source": [
        "import matplotlib.pyplot as plt\n",
        "%matplotlib inline\n",
        "\n",
        "def show_history(history):\n",
        "    plt.figure(figsize=(8, 4))\n",
        "    plt.yticks(np.arange(0, 1, 0.05))\n",
        "    plt.xticks(np.arange(0, 30, 2))\n",
        "    plt.plot(history.history['accuracy'], label='train')\n",
        "    plt.plot(history.history['val_accuracy'], label='valid')\n",
        "    plt.legend()\n",
        "    \n",
        "show_history(history)"
      ],
      "execution_count": 12,
      "outputs": [
        {
          "output_type": "display_data",
          "data": {
            "image/png": "[encoded data removed]",
            "text/plain": [
              "<Figure size 576x288 with 1 Axes>"
            ]
          },
          "metadata": {
            "needs_background": "light"
          }
        }
      ]
    },
    {
      "metadata": {
        "id": "AoqXOQSJV624"
      },
      "cell_type": "markdown",
      "source": [
        "### 필터의 개수를 증가시켜 테스트\n",
        "* Conv Layer의 필터를 기존보다 2배씩 증가\n",
        "* 맨 마지막 Conv는 512로 대폭 증가"
      ]
    },
    {
      "metadata": {
        "trusted": true,
        "colab": {
          "base_uri": "https://localhost:8080/"
        },
        "id": "jX3wXvMBV627",
        "outputId": "cec51433-4c82-43d6-a2f8-00bcbf2abea2"
      },
      "cell_type": "code",
      "source": [
        "from tensorflow.keras.models import Sequential, Model\n",
        "from tensorflow.keras.layers import Input, Dense , Conv2D , Dropout , Flatten , Activation, MaxPooling2D , GlobalAveragePooling2D\n",
        "from tensorflow.keras.optimizers import Adam , RMSprop \n",
        "from tensorflow.keras.layers import BatchNormalization\n",
        "from tensorflow.keras.callbacks import ReduceLROnPlateau , EarlyStopping , ModelCheckpoint , LearningRateScheduler\n",
        "\n",
        "input_tensor = Input(shape=(IMAGE_SIZE, IMAGE_SIZE, 3))\n",
        "\n",
        "#x = Conv2D(filters=32, kernel_size=(5, 5), padding='valid', activation='relu')(input_tensor)\n",
        "x = Conv2D(filters=64, kernel_size=(3, 3), padding='same')(input_tensor)\n",
        "x = BatchNormalization()(x)\n",
        "x = Activation('relu')(x)\n",
        "\n",
        "x = Conv2D(filters=64, kernel_size=(3, 3), padding='same')(x)\n",
        "x = BatchNormalization()(x)\n",
        "x = Activation('relu')(x)\n",
        "x = MaxPooling2D(pool_size=(2, 2))(x)\n",
        "\n",
        "x = Conv2D(filters=128, kernel_size=3, padding='same')(x)\n",
        "x = BatchNormalization()(x)\n",
        "x = Activation('relu')(x)\n",
        "\n",
        "x = Conv2D(filters=128, kernel_size=3, padding='same')(x)\n",
        "x = Activation('relu')(x)\n",
        "x = Activation('relu')(x)\n",
        "x = MaxPooling2D(pool_size=2)(x)\n",
        "\n",
        "x = Conv2D(filters=256, kernel_size=3, padding='same')(x)\n",
        "x = BatchNormalization()(x)\n",
        "x = Activation('relu')(x)\n",
        "\n",
        "x = Conv2D(filters=256, kernel_size=3, padding='same')(x)\n",
        "x = BatchNormalization()(x)\n",
        "x = Activation('relu')(x)\n",
        "\n",
        "# 512 filters Conv layer 추가\n",
        "x = Conv2D(filters=512, kernel_size=3, padding='same')(x)\n",
        "x = BatchNormalization()(x)\n",
        "x = Activation('relu')(x)\n",
        "\n",
        "x = MaxPooling2D(pool_size=2)(x)\n",
        "\n",
        "# cifar10의 클래스가 10개 이므로 마지막 classification의 Dense layer units갯수는 10\n",
        "x = Flatten(name='flatten')(x)\n",
        "x = Dropout(rate=0.5)(x)\n",
        "x = Dense(300, activation='relu', name='fc1')(x)\n",
        "x = Dropout(rate=0.3)(x)\n",
        "output = Dense(10, activation='softmax', name='output')(x)\n",
        "\n",
        "model = Model(inputs=input_tensor, outputs=output)\n",
        "\n",
        "model.summary()"
      ],
      "execution_count": 13,
      "outputs": [
        {
          "output_type": "stream",
          "name": "stdout",
          "text": [
            "Model: \"model_4\"\n",
            "_________________________________________________________________\n",
            " Layer (type)                Output Shape              Param #   \n",
            "=================================================================\n",
            " input_5 (InputLayer)        [(None, 32, 32, 3)]       0         \n",
            "                                                                 \n",
            " conv2d_24 (Conv2D)          (None, 32, 32, 64)        1792      \n",
            "                                                                 \n",
            " batch_normalization_20 (Bat  (None, 32, 32, 64)       256       \n",
            " chNormalization)                                                \n",
            "                                                                 \n",
            " activation_28 (Activation)  (None, 32, 32, 64)        0         \n",
            "                                                                 \n",
            " conv2d_25 (Conv2D)          (None, 32, 32, 64)        36928     \n",
            "                                                                 \n",
            " batch_normalization_21 (Bat  (None, 32, 32, 64)       256       \n",
            " chNormalization)                                                \n",
            "                                                                 \n",
            " activation_29 (Activation)  (None, 32, 32, 64)        0         \n",
            "                                                                 \n",
            " max_pooling2d_12 (MaxPoolin  (None, 16, 16, 64)       0         \n",
            " g2D)                                                            \n",
            "                                                                 \n",
            " conv2d_26 (Conv2D)          (None, 16, 16, 128)       73856     \n",
            "                                                                 \n",
            " batch_normalization_22 (Bat  (None, 16, 16, 128)      512       \n",
            " chNormalization)                                                \n",
            "                                                                 \n",
            " activation_30 (Activation)  (None, 16, 16, 128)       0         \n",
            "                                                                 \n",
            " conv2d_27 (Conv2D)          (None, 16, 16, 128)       147584    \n",
            "                                                                 \n",
            " activation_31 (Activation)  (None, 16, 16, 128)       0         \n",
            "                                                                 \n",
            " activation_32 (Activation)  (None, 16, 16, 128)       0         \n",
            "                                                                 \n",
            " max_pooling2d_13 (MaxPoolin  (None, 8, 8, 128)        0         \n",
            " g2D)                                                            \n",
            "                                                                 \n",
            " conv2d_28 (Conv2D)          (None, 8, 8, 256)         295168    \n",
            "                                                                 \n",
            " batch_normalization_23 (Bat  (None, 8, 8, 256)        1024      \n",
            " chNormalization)                                                \n",
            "                                                                 \n",
            " activation_33 (Activation)  (None, 8, 8, 256)         0         \n",
            "                                                                 \n",
            " conv2d_29 (Conv2D)          (None, 8, 8, 256)         590080    \n",
            "                                                                 \n",
            " batch_normalization_24 (Bat  (None, 8, 8, 256)        1024      \n",
            " chNormalization)                                                \n",
            "                                                                 \n",
            " activation_34 (Activation)  (None, 8, 8, 256)         0         \n",
            "                                                                 \n",
            " conv2d_30 (Conv2D)          (None, 8, 8, 512)         1180160   \n",
            "                                                                 \n",
            " batch_normalization_25 (Bat  (None, 8, 8, 512)        2048      \n",
            " chNormalization)                                                \n",
            "                                                                 \n",
            " activation_35 (Activation)  (None, 8, 8, 512)         0         \n",
            "                                                                 \n",
            " max_pooling2d_14 (MaxPoolin  (None, 4, 4, 512)        0         \n",
            " g2D)                                                            \n",
            "                                                                 \n",
            " flatten (Flatten)           (None, 8192)              0         \n",
            "                                                                 \n",
            " dropout_8 (Dropout)         (None, 8192)              0         \n",
            "                                                                 \n",
            " fc1 (Dense)                 (None, 300)               2457900   \n",
            "                                                                 \n",
            " dropout_9 (Dropout)         (None, 300)               0         \n",
            "                                                                 \n",
            " output (Dense)              (None, 10)                3010      \n",
            "                                                                 \n",
            "=================================================================\n",
            "Total params: 4,791,598\n",
            "Trainable params: 4,789,038\n",
            "Non-trainable params: 2,560\n",
            "_________________________________________________________________\n"
          ]
        }
      ]
    },
    {
      "metadata": {
        "trusted": true,
        "colab": {
          "base_uri": "https://localhost:8080/"
        },
        "id": "G9JGYmqWV63A",
        "outputId": "04245fde-0e5b-4df0-d61c-d21719c6b862"
      },
      "cell_type": "code",
      "source": [
        "model.compile(optimizer=Adam(lr=0.001), loss='categorical_crossentropy', metrics=['accuracy'])\n",
        "\n",
        "# 5번 iteration내에 validation loss가 향상되지 않으면 learning rate을 기존 learning rate * 0.2로 줄임.  \n",
        "rlr_cb = ReduceLROnPlateau(monitor='val_loss', factor=0.2, patience=5, mode='min', verbose=1)\n",
        "# 10번 iteration내에 validation loss가 향상되지 않으면 더 이상 학습하지 않고 종료\n",
        "ely_cb = EarlyStopping(monitor='val_loss', patience=10, mode='min', verbose=1)\n",
        "\n",
        "\n",
        "history = model.fit(x=tr_images, y=tr_oh_labels, batch_size=32, epochs=30, shuffle=True,\n",
        "                    validation_data=(val_images, val_oh_labels),  \n",
        "                    callbacks=[rlr_cb, ely_cb] )"
      ],
      "execution_count": 14,
      "outputs": [
        {
          "output_type": "stream",
          "name": "stderr",
          "text": [
            "/usr/local/lib/python3.7/dist-packages/keras/optimizer_v2/adam.py:105: UserWarning: The `lr` argument is deprecated, use `learning_rate` instead.\n",
            "  super(Adam, self).__init__(name, **kwargs)\n"
          ]
        },
        {
          "output_type": "stream",
          "name": "stdout",
          "text": [
            "Epoch 1/30\n",
            "1329/1329 [==============================] - 15s 11ms/step - loss: 2.0754 - accuracy: 0.2335 - val_loss: 1.8593 - val_accuracy: 0.3281 - lr: 0.0010\n",
            "Epoch 2/30\n",
            "1329/1329 [==============================] - 14s 10ms/step - loss: 1.6446 - accuracy: 0.3627 - val_loss: 1.5950 - val_accuracy: 0.4160 - lr: 0.0010\n",
            "Epoch 3/30\n",
            "1329/1329 [==============================] - 14s 10ms/step - loss: 1.4604 - accuracy: 0.4228 - val_loss: 1.2583 - val_accuracy: 0.5599 - lr: 0.0010\n",
            "Epoch 4/30\n",
            "1329/1329 [==============================] - 14s 10ms/step - loss: 1.3401 - accuracy: 0.4798 - val_loss: 1.4031 - val_accuracy: 0.4961 - lr: 0.0010\n",
            "Epoch 5/30\n",
            "1329/1329 [==============================] - 14s 10ms/step - loss: 1.2375 - accuracy: 0.5256 - val_loss: 1.0480 - val_accuracy: 0.6423 - lr: 0.0010\n",
            "Epoch 6/30\n",
            "1329/1329 [==============================] - 14s 10ms/step - loss: 1.1162 - accuracy: 0.5814 - val_loss: 0.8402 - val_accuracy: 0.7187 - lr: 0.0010\n",
            "Epoch 7/30\n",
            "1329/1329 [==============================] - 14s 10ms/step - loss: 0.9883 - accuracy: 0.6432 - val_loss: 0.7955 - val_accuracy: 0.7407 - lr: 0.0010\n",
            "Epoch 8/30\n",
            "1329/1329 [==============================] - 14s 10ms/step - loss: 0.8042 - accuracy: 0.7198 - val_loss: 0.7878 - val_accuracy: 0.7359 - lr: 0.0010\n",
            "Epoch 9/30\n",
            "1329/1329 [==============================] - 14s 10ms/step - loss: 0.6870 - accuracy: 0.7646 - val_loss: 0.6837 - val_accuracy: 0.7849 - lr: 0.0010\n",
            "Epoch 10/30\n",
            "1329/1329 [==============================] - 14s 10ms/step - loss: 0.5963 - accuracy: 0.8003 - val_loss: 0.6710 - val_accuracy: 0.7905 - lr: 0.0010\n",
            "Epoch 11/30\n",
            "1329/1329 [==============================] - 14s 10ms/step - loss: 0.5085 - accuracy: 0.8301 - val_loss: 0.6480 - val_accuracy: 0.7945 - lr: 0.0010\n",
            "Epoch 12/30\n",
            "1329/1329 [==============================] - 14s 10ms/step - loss: 0.4456 - accuracy: 0.8535 - val_loss: 0.6184 - val_accuracy: 0.8152 - lr: 0.0010\n",
            "Epoch 13/30\n",
            "1329/1329 [==============================] - 14s 10ms/step - loss: 0.3737 - accuracy: 0.8749 - val_loss: 0.5395 - val_accuracy: 0.8345 - lr: 0.0010\n",
            "Epoch 14/30\n",
            "1329/1329 [==============================] - 14s 10ms/step - loss: 0.3180 - accuracy: 0.8956 - val_loss: 0.5844 - val_accuracy: 0.8295 - lr: 0.0010\n",
            "Epoch 15/30\n",
            "1329/1329 [==============================] - 14s 10ms/step - loss: 0.2829 - accuracy: 0.9063 - val_loss: 0.5820 - val_accuracy: 0.8417 - lr: 0.0010\n",
            "Epoch 16/30\n",
            "1329/1329 [==============================] - 14s 10ms/step - loss: 0.2498 - accuracy: 0.9184 - val_loss: 0.5852 - val_accuracy: 0.8404 - lr: 0.0010\n",
            "Epoch 17/30\n",
            "1329/1329 [==============================] - 14s 10ms/step - loss: 0.2099 - accuracy: 0.9299 - val_loss: 0.5999 - val_accuracy: 0.8372 - lr: 0.0010\n",
            "Epoch 18/30\n",
            "1325/1329 [============================>.] - ETA: 0s - loss: 0.1946 - accuracy: 0.9377\n",
            "Epoch 00018: ReduceLROnPlateau reducing learning rate to 0.00020000000949949026.\n",
            "1329/1329 [==============================] - 13s 10ms/step - loss: 0.1947 - accuracy: 0.9377 - val_loss: 0.6007 - val_accuracy: 0.8389 - lr: 0.0010\n",
            "Epoch 19/30\n",
            "1329/1329 [==============================] - 14s 10ms/step - loss: 0.0857 - accuracy: 0.9719 - val_loss: 0.5811 - val_accuracy: 0.8755 - lr: 2.0000e-04\n",
            "Epoch 20/30\n",
            "1329/1329 [==============================] - 14s 10ms/step - loss: 0.0579 - accuracy: 0.9814 - val_loss: 0.6726 - val_accuracy: 0.8671 - lr: 2.0000e-04\n",
            "Epoch 21/30\n",
            "1329/1329 [==============================] - 14s 11ms/step - loss: 0.0423 - accuracy: 0.9854 - val_loss: 0.6823 - val_accuracy: 0.8691 - lr: 2.0000e-04\n",
            "Epoch 22/30\n",
            "1329/1329 [==============================] - 14s 10ms/step - loss: 0.0337 - accuracy: 0.9887 - val_loss: 0.7676 - val_accuracy: 0.8644 - lr: 2.0000e-04\n",
            "Epoch 23/30\n",
            "1327/1329 [============================>.] - ETA: 0s - loss: 0.0301 - accuracy: 0.9907\n",
            "Epoch 00023: ReduceLROnPlateau reducing learning rate to 4.0000001899898055e-05.\n",
            "1329/1329 [==============================] - 13s 10ms/step - loss: 0.0301 - accuracy: 0.9907 - val_loss: 0.8303 - val_accuracy: 0.8664 - lr: 2.0000e-04\n",
            "Epoch 00023: early stopping\n"
          ]
        }
      ]
    },
    {
      "metadata": {
        "trusted": true,
        "colab": {
          "base_uri": "https://localhost:8080/",
          "height": 283
        },
        "id": "CtAiENP_V63D",
        "outputId": "055ae4bc-c92a-4b0e-a2fe-28e141987003"
      },
      "cell_type": "code",
      "source": [
        "model.evaluate(test_images, test_oh_labels)\n",
        "show_history(history)"
      ],
      "execution_count": 15,
      "outputs": [
        {
          "output_type": "stream",
          "name": "stdout",
          "text": [
            "313/313 [==============================] - 2s 5ms/step - loss: 0.9667 - accuracy: 0.8532\n"
          ]
        },
        {
          "output_type": "display_data",
          "data": {
            "image/png": "[encoded data removed]",
            "text/plain": [
              "<Figure size 576x288 with 1 Axes>"
            ]
          },
          "metadata": {
            "needs_background": "light"
          }
        }
      ]
    },
    {
      "metadata": {
        "id": "rUxbaRW-V63E"
      },
      "cell_type": "markdown",
      "source": [
        "### 맨 마지막 Conv + MaxPooling 대신 맨 마지막 Conv의 Strides를 2로 하여 Feature map 조정\n",
        "- 성능 비슷하며, 학습시간이나 컴퓨팅 파워 아주 조금 줄일 수 있음.\n"
      ]
    },
    {
      "metadata": {
        "trusted": true,
        "colab": {
          "base_uri": "https://localhost:8080/"
        },
        "id": "53aMXsPMV63I",
        "outputId": "0ca6f9c9-1078-453e-de8a-0e13c39fb102"
      },
      "cell_type": "code",
      "source": [
        "from tensorflow.keras.models import Sequential, Model\n",
        "from tensorflow.keras.layers import Input, Dense , Conv2D , Dropout , Flatten , Activation, MaxPooling2D , GlobalAveragePooling2D\n",
        "from tensorflow.keras.optimizers import Adam , RMSprop \n",
        "from tensorflow.keras.layers import BatchNormalization\n",
        "from tensorflow.keras.callbacks import ReduceLROnPlateau , EarlyStopping , ModelCheckpoint , LearningRateScheduler\n",
        "\n",
        "input_tensor = Input(shape=(IMAGE_SIZE, IMAGE_SIZE, 3))\n",
        "\n",
        "x = Conv2D(filters=64, kernel_size=(3, 3), padding='same')(input_tensor)\n",
        "x = BatchNormalization()(x)\n",
        "x = Activation('relu')(x)\n",
        "\n",
        "x = Conv2D(filters=64, kernel_size=(3, 3), padding='same')(x)\n",
        "x = BatchNormalization()(x)\n",
        "x = Activation('relu')(x)\n",
        "x = MaxPooling2D(pool_size=(2, 2))(x)\n",
        "\n",
        "x = Conv2D(filters=128, kernel_size=3, padding='same')(x)\n",
        "x = BatchNormalization()(x)\n",
        "x = Activation('relu')(x)\n",
        "\n",
        "x = Conv2D(filters=128, kernel_size=3, padding='same')(x)\n",
        "x = Activation('relu')(x)\n",
        "x = Activation('relu')(x)\n",
        "x = MaxPooling2D(pool_size=2)(x)\n",
        "\n",
        "x = Conv2D(filters=256, kernel_size=3, padding='same')(x)\n",
        "x = BatchNormalization()(x)\n",
        "x = Activation('relu')(x)\n",
        "\n",
        "x = Conv2D(filters=256, kernel_size=3, padding='same')(x)\n",
        "x = BatchNormalization()(x)\n",
        "x = Activation('relu')(x)\n",
        "\n",
        "# 512 filters Conv layer 추가하되 이후 MaxPooling을 적용하지 않고 strides는 2로 변경하여 출력 feature map 크기 조정\n",
        "# stride 2에 padding same이면 input에 똑같이 맞춰주는게 아니라, 오른쪽과 하단에 추출 못한 픽셀을 할 수 있도록 패딩을 주는 것\n",
        "x = Conv2D(filters=512, kernel_size=3, strides=2, padding='same')(x)\n",
        "x = BatchNormalization()(x)\n",
        "x = Activation('relu')(x)\n",
        "\n",
        "\n",
        "# cifar10의 클래스가 10개 이므로 마지막 classification의 Dense layer units갯수는 10\n",
        "x = Flatten(name='flatten')(x)\n",
        "x = Dropout(rate=0.5)(x)\n",
        "x = Dense(300, activation='relu', name='fc1')(x)\n",
        "x = Dropout(rate=0.3)(x)\n",
        "output = Dense(10, activation='softmax', name='output')(x)\n",
        "\n",
        "model = Model(inputs=input_tensor, outputs=output)\n",
        "\n",
        "model.summary()"
      ],
      "execution_count": 16,
      "outputs": [
        {
          "output_type": "stream",
          "name": "stdout",
          "text": [
            "Model: \"model_5\"\n",
            "_________________________________________________________________\n",
            " Layer (type)                Output Shape              Param #   \n",
            "=================================================================\n",
            " input_6 (InputLayer)        [(None, 32, 32, 3)]       0         \n",
            "                                                                 \n",
            " conv2d_31 (Conv2D)          (None, 32, 32, 64)        1792      \n",
            "                                                                 \n",
            " batch_normalization_26 (Bat  (None, 32, 32, 64)       256       \n",
            " chNormalization)                                                \n",
            "                                                                 \n",
            " activation_36 (Activation)  (None, 32, 32, 64)        0         \n",
            "                                                                 \n",
            " conv2d_32 (Conv2D)          (None, 32, 32, 64)        36928     \n",
            "                                                                 \n",
            " batch_normalization_27 (Bat  (None, 32, 32, 64)       256       \n",
            " chNormalization)                                                \n",
            "                                                                 \n",
            " activation_37 (Activation)  (None, 32, 32, 64)        0         \n",
            "                                                                 \n",
            " max_pooling2d_15 (MaxPoolin  (None, 16, 16, 64)       0         \n",
            " g2D)                                                            \n",
            "                                                                 \n",
            " conv2d_33 (Conv2D)          (None, 16, 16, 128)       73856     \n",
            "                                                                 \n",
            " batch_normalization_28 (Bat  (None, 16, 16, 128)      512       \n",
            " chNormalization)                                                \n",
            "                                                                 \n",
            " activation_38 (Activation)  (None, 16, 16, 128)       0         \n",
            "                                                                 \n",
            " conv2d_34 (Conv2D)          (None, 16, 16, 128)       147584    \n",
            "                                                                 \n",
            " activation_39 (Activation)  (None, 16, 16, 128)       0         \n",
            "                                                                 \n",
            " activation_40 (Activation)  (None, 16, 16, 128)       0         \n",
            "                                                                 \n",
            " max_pooling2d_16 (MaxPoolin  (None, 8, 8, 128)        0         \n",
            " g2D)                                                            \n",
            "                                                                 \n",
            " conv2d_35 (Conv2D)          (None, 8, 8, 256)         295168    \n",
            "                                                                 \n",
            " batch_normalization_29 (Bat  (None, 8, 8, 256)        1024      \n",
            " chNormalization)                                                \n",
            "                                                                 \n",
            " activation_41 (Activation)  (None, 8, 8, 256)         0         \n",
            "                                                                 \n",
            " conv2d_36 (Conv2D)          (None, 8, 8, 256)         590080    \n",
            "                                                                 \n",
            " batch_normalization_30 (Bat  (None, 8, 8, 256)        1024      \n",
            " chNormalization)                                                \n",
            "                                                                 \n",
            " activation_42 (Activation)  (None, 8, 8, 256)         0         \n",
            "                                                                 \n",
            " conv2d_37 (Conv2D)          (None, 4, 4, 512)         1180160   \n",
            "                                                                 \n",
            " batch_normalization_31 (Bat  (None, 4, 4, 512)        2048      \n",
            " chNormalization)                                                \n",
            "                                                                 \n",
            " activation_43 (Activation)  (None, 4, 4, 512)         0         \n",
            "                                                                 \n",
            " flatten (Flatten)           (None, 8192)              0         \n",
            "                                                                 \n",
            " dropout_10 (Dropout)        (None, 8192)              0         \n",
            "                                                                 \n",
            " fc1 (Dense)                 (None, 300)               2457900   \n",
            "                                                                 \n",
            " dropout_11 (Dropout)        (None, 300)               0         \n",
            "                                                                 \n",
            " output (Dense)              (None, 10)                3010      \n",
            "                                                                 \n",
            "=================================================================\n",
            "Total params: 4,791,598\n",
            "Trainable params: 4,789,038\n",
            "Non-trainable params: 2,560\n",
            "_________________________________________________________________\n"
          ]
        }
      ]
    },
    {
      "metadata": {
        "trusted": true,
        "colab": {
          "base_uri": "https://localhost:8080/"
        },
        "id": "_tAtMKjnV63J",
        "outputId": "ab9c39fa-d3e5-421b-941d-d2b2fa221943"
      },
      "cell_type": "code",
      "source": [
        "model.compile(optimizer=Adam(lr=0.001), loss='categorical_crossentropy', metrics=['accuracy'])\n",
        "\n",
        "# 5번 iteration내에 validation loss가 향상되지 않으면 learning rate을 기존 learning rate * 0.2로 줄임.  \n",
        "rlr_cb = ReduceLROnPlateau(monitor='val_loss', factor=0.2, patience=5, mode='min', verbose=1)\n",
        "# 10번 iteration내에 validation loss가 향상되지 않으면 더 이상 학습하지 않고 종료\n",
        "ely_cb = EarlyStopping(monitor='val_loss', patience=10, mode='min', verbose=1)\n",
        "\n",
        "\n",
        "history = model.fit(x=tr_images, y=tr_oh_labels, batch_size=32, epochs=30, shuffle=True,\n",
        "                    validation_data=(val_images, val_oh_labels),  \n",
        "                    callbacks=[rlr_cb, ely_cb] )"
      ],
      "execution_count": 17,
      "outputs": [
        {
          "output_type": "stream",
          "name": "stderr",
          "text": [
            "/usr/local/lib/python3.7/dist-packages/keras/optimizer_v2/adam.py:105: UserWarning: The `lr` argument is deprecated, use `learning_rate` instead.\n",
            "  super(Adam, self).__init__(name, **kwargs)\n"
          ]
        },
        {
          "output_type": "stream",
          "name": "stdout",
          "text": [
            "Epoch 1/30\n",
            "1329/1329 [==============================] - 15s 10ms/step - loss: 1.6330 - accuracy: 0.4056 - val_loss: 1.4275 - val_accuracy: 0.4988 - lr: 0.0010\n",
            "Epoch 2/30\n",
            "1329/1329 [==============================] - 14s 10ms/step - loss: 1.1753 - accuracy: 0.5826 - val_loss: 1.6652 - val_accuracy: 0.4728 - lr: 0.0010\n",
            "Epoch 3/30\n",
            "1329/1329 [==============================] - 14s 10ms/step - loss: 0.9618 - accuracy: 0.6656 - val_loss: 1.0937 - val_accuracy: 0.6449 - lr: 0.0010\n",
            "Epoch 4/30\n",
            "1329/1329 [==============================] - 14s 10ms/step - loss: 0.8189 - accuracy: 0.7212 - val_loss: 0.9707 - val_accuracy: 0.6767 - lr: 0.0010\n",
            "Epoch 5/30\n",
            "1329/1329 [==============================] - 15s 11ms/step - loss: 0.7229 - accuracy: 0.7582 - val_loss: 0.7389 - val_accuracy: 0.7455 - lr: 0.0010\n",
            "Epoch 6/30\n",
            "1329/1329 [==============================] - 16s 12ms/step - loss: 0.6197 - accuracy: 0.7942 - val_loss: 0.7472 - val_accuracy: 0.7588 - lr: 0.0010\n",
            "Epoch 7/30\n",
            "1329/1329 [==============================] - 14s 10ms/step - loss: 0.5384 - accuracy: 0.8196 - val_loss: 0.5879 - val_accuracy: 0.8104 - lr: 0.0010\n",
            "Epoch 8/30\n",
            "1329/1329 [==============================] - 15s 11ms/step - loss: 0.4707 - accuracy: 0.8446 - val_loss: 0.5950 - val_accuracy: 0.8045 - lr: 0.0010\n",
            "Epoch 9/30\n",
            "1329/1329 [==============================] - 16s 12ms/step - loss: 0.4025 - accuracy: 0.8663 - val_loss: 0.5520 - val_accuracy: 0.8255 - lr: 0.0010\n",
            "Epoch 10/30\n",
            "1329/1329 [==============================] - 14s 11ms/step - loss: 0.3428 - accuracy: 0.8876 - val_loss: 0.6706 - val_accuracy: 0.8043 - lr: 0.0010\n",
            "Epoch 11/30\n",
            "1329/1329 [==============================] - 14s 11ms/step - loss: 0.2933 - accuracy: 0.9024 - val_loss: 0.6038 - val_accuracy: 0.8219 - lr: 0.0010\n",
            "Epoch 12/30\n",
            "1329/1329 [==============================] - 14s 11ms/step - loss: 0.2540 - accuracy: 0.9154 - val_loss: 0.6035 - val_accuracy: 0.8251 - lr: 0.0010\n",
            "Epoch 13/30\n",
            "1329/1329 [==============================] - 14s 10ms/step - loss: 0.2182 - accuracy: 0.9279 - val_loss: 0.5797 - val_accuracy: 0.8464 - lr: 0.0010\n",
            "Epoch 14/30\n",
            "1329/1329 [==============================] - ETA: 0s - loss: 0.1817 - accuracy: 0.9407\n",
            "Epoch 00014: ReduceLROnPlateau reducing learning rate to 0.00020000000949949026.\n",
            "1329/1329 [==============================] - 14s 10ms/step - loss: 0.1817 - accuracy: 0.9407 - val_loss: 0.7044 - val_accuracy: 0.8283 - lr: 0.0010\n",
            "Epoch 15/30\n",
            "1329/1329 [==============================] - 15s 11ms/step - loss: 0.0898 - accuracy: 0.9701 - val_loss: 0.6100 - val_accuracy: 0.8656 - lr: 2.0000e-04\n",
            "Epoch 16/30\n",
            "1329/1329 [==============================] - 14s 11ms/step - loss: 0.0517 - accuracy: 0.9825 - val_loss: 0.5986 - val_accuracy: 0.8723 - lr: 2.0000e-04\n",
            "Epoch 17/30\n",
            "1329/1329 [==============================] - 14s 10ms/step - loss: 0.0388 - accuracy: 0.9868 - val_loss: 0.6413 - val_accuracy: 0.8721 - lr: 2.0000e-04\n",
            "Epoch 18/30\n",
            "1329/1329 [==============================] - 14s 11ms/step - loss: 0.0308 - accuracy: 0.9896 - val_loss: 0.7105 - val_accuracy: 0.8711 - lr: 2.0000e-04\n",
            "Epoch 19/30\n",
            "1329/1329 [==============================] - ETA: 0s - loss: 0.0287 - accuracy: 0.9908\n",
            "Epoch 00019: ReduceLROnPlateau reducing learning rate to 4.0000001899898055e-05.\n",
            "1329/1329 [==============================] - 14s 11ms/step - loss: 0.0287 - accuracy: 0.9908 - val_loss: 0.8055 - val_accuracy: 0.8656 - lr: 2.0000e-04\n",
            "Epoch 00019: early stopping\n"
          ]
        }
      ]
    },
    {
      "metadata": {
        "trusted": true,
        "colab": {
          "base_uri": "https://localhost:8080/",
          "height": 283
        },
        "id": "TtRVgmCXV63K",
        "outputId": "85926db7-27d5-449a-b9e7-178bbf9d3a4e"
      },
      "cell_type": "code",
      "source": [
        "model.evaluate(test_images, test_oh_labels)\n",
        "show_history(history)"
      ],
      "execution_count": 18,
      "outputs": [
        {
          "output_type": "stream",
          "name": "stdout",
          "text": [
            "313/313 [==============================] - 1s 5ms/step - loss: 0.8313 - accuracy: 0.8642\n"
          ]
        },
        {
          "output_type": "display_data",
          "data": {
            "image/png": "[encoded data removed]",
            "text/plain": [
              "<Figure size 576x288 with 1 Axes>"
            ]
          },
          "metadata": {
            "needs_background": "light"
          }
        }
      ]
    },
    {
      "metadata": {
        "id": "qeBEThpLV63M"
      },
      "cell_type": "markdown",
      "source": [
        "### Global Average Pooling의 적용\n",
        "* Global Average Pooling은 피처맵의 가로x세로의 특정 영역을 Sub sampling 않고, 채널별로 평균 값을 추출\n",
        "* 충분히 Feature map의 채널수가 많을 경우 이를 적용. 채널수가 적다면 Flatten이 유리. \n",
        "* Flatten-> Classification Dense Layer로 이어지면서 많은 파라미터들로 인한 오버피팅 유발 가능성 증대 및 학습 시간 늘어남. \n",
        "* 맨 마지막 Feature Map의 채널 수가 충분히 크다면 GlobalAveragePooling2D를 적용하여 Flatten을 제거하는데 더 유리 할 수 있음. \n",
        "- Flatten보다 무조건 좋다는 아니지만 많이 사용됨."
      ]
    },
    {
      "metadata": {
        "trusted": true,
        "colab": {
          "base_uri": "https://localhost:8080/"
        },
        "id": "Ca2StGjlV63N",
        "outputId": "f835353b-2eec-4dd3-f397-8e5d37fa2c05"
      },
      "cell_type": "code",
      "source": [
        "from tensorflow.keras.models import Sequential, Model\n",
        "from tensorflow.keras.layers import Input, Dense , Conv2D , Dropout , Flatten , Activation, MaxPooling2D , GlobalAveragePooling2D\n",
        "from tensorflow.keras.optimizers import Adam , RMSprop \n",
        "from tensorflow.keras.layers import BatchNormalization\n",
        "from tensorflow.keras.callbacks import ReduceLROnPlateau , EarlyStopping , ModelCheckpoint , LearningRateScheduler\n",
        "\n",
        "input_tensor = Input(shape=(IMAGE_SIZE, IMAGE_SIZE, 3))\n",
        "\n",
        "#x = Conv2D(filters=32, kernel_size=(5, 5), padding='valid', activation='relu')(input_tensor)\n",
        "x = Conv2D(filters=64, kernel_size=(3, 3), padding='same')(input_tensor)\n",
        "x = BatchNormalization()(x)\n",
        "x = Activation('relu')(x)\n",
        "\n",
        "x = Conv2D(filters=64, kernel_size=(3, 3), padding='same')(x)\n",
        "x = BatchNormalization()(x)\n",
        "x = Activation('relu')(x)\n",
        "x = MaxPooling2D(pool_size=(2, 2))(x)\n",
        "\n",
        "x = Conv2D(filters=128, kernel_size=3, padding='same')(x)\n",
        "x = BatchNormalization()(x)\n",
        "x = Activation('relu')(x)\n",
        "\n",
        "x = Conv2D(filters=128, kernel_size=3, padding='same')(x)\n",
        "x = Activation('relu')(x)\n",
        "x = Activation('relu')(x)\n",
        "x = MaxPooling2D(pool_size=2)(x)\n",
        "\n",
        "x = Conv2D(filters=256, kernel_size=3, padding='same')(x)\n",
        "x = BatchNormalization()(x)\n",
        "x = Activation('relu')(x)\n",
        "\n",
        "x = Conv2D(filters=256, kernel_size=3, padding='same')(x)\n",
        "x = BatchNormalization()(x)\n",
        "x = Activation('relu')(x)\n",
        "\n",
        "x = Conv2D(filters=512, kernel_size=3, strides=2, padding='same')(x)\n",
        "x = BatchNormalization()(x)\n",
        "x = Activation('relu')(x)\n",
        "\n",
        "# Flatten 대신 Global AveragePooling 을 적용. \n",
        "# x = Flatten()(x)\n",
        "x = GlobalAveragePooling2D()(x)\n",
        "x = Dropout(rate=0.5)(x)\n",
        "x = Dense(50, activation='relu', name='fc1')(x)\n",
        "x = Dropout(rate=0.2)(x)\n",
        "output = Dense(10, activation='softmax', name='output')(x)\n",
        "\n",
        "model = Model(inputs=input_tensor, outputs=output)\n",
        "\n",
        "model.summary()"
      ],
      "execution_count": 19,
      "outputs": [
        {
          "output_type": "stream",
          "name": "stdout",
          "text": [
            "Model: \"model_6\"\n",
            "_________________________________________________________________\n",
            " Layer (type)                Output Shape              Param #   \n",
            "=================================================================\n",
            " input_7 (InputLayer)        [(None, 32, 32, 3)]       0         \n",
            "                                                                 \n",
            " conv2d_38 (Conv2D)          (None, 32, 32, 64)        1792      \n",
            "                                                                 \n",
            " batch_normalization_32 (Bat  (None, 32, 32, 64)       256       \n",
            " chNormalization)                                                \n",
            "                                                                 \n",
            " activation_44 (Activation)  (None, 32, 32, 64)        0         \n",
            "                                                                 \n",
            " conv2d_39 (Conv2D)          (None, 32, 32, 64)        36928     \n",
            "                                                                 \n",
            " batch_normalization_33 (Bat  (None, 32, 32, 64)       256       \n",
            " chNormalization)                                                \n",
            "                                                                 \n",
            " activation_45 (Activation)  (None, 32, 32, 64)        0         \n",
            "                                                                 \n",
            " max_pooling2d_17 (MaxPoolin  (None, 16, 16, 64)       0         \n",
            " g2D)                                                            \n",
            "                                                                 \n",
            " conv2d_40 (Conv2D)          (None, 16, 16, 128)       73856     \n",
            "                                                                 \n",
            " batch_normalization_34 (Bat  (None, 16, 16, 128)      512       \n",
            " chNormalization)                                                \n",
            "                                                                 \n",
            " activation_46 (Activation)  (None, 16, 16, 128)       0         \n",
            "                                                                 \n",
            " conv2d_41 (Conv2D)          (None, 16, 16, 128)       147584    \n",
            "                                                                 \n",
            " activation_47 (Activation)  (None, 16, 16, 128)       0         \n",
            "                                                                 \n",
            " activation_48 (Activation)  (None, 16, 16, 128)       0         \n",
            "                                                                 \n",
            " max_pooling2d_18 (MaxPoolin  (None, 8, 8, 128)        0         \n",
            " g2D)                                                            \n",
            "                                                                 \n",
            " conv2d_42 (Conv2D)          (None, 8, 8, 256)         295168    \n",
            "                                                                 \n",
            " batch_normalization_35 (Bat  (None, 8, 8, 256)        1024      \n",
            " chNormalization)                                                \n",
            "                                                                 \n",
            " activation_49 (Activation)  (None, 8, 8, 256)         0         \n",
            "                                                                 \n",
            " conv2d_43 (Conv2D)          (None, 8, 8, 256)         590080    \n",
            "                                                                 \n",
            " batch_normalization_36 (Bat  (None, 8, 8, 256)        1024      \n",
            " chNormalization)                                                \n",
            "                                                                 \n",
            " activation_50 (Activation)  (None, 8, 8, 256)         0         \n",
            "                                                                 \n",
            " conv2d_44 (Conv2D)          (None, 4, 4, 512)         1180160   \n",
            "                                                                 \n",
            " batch_normalization_37 (Bat  (None, 4, 4, 512)        2048      \n",
            " chNormalization)                                                \n",
            "                                                                 \n",
            " activation_51 (Activation)  (None, 4, 4, 512)         0         \n",
            "                                                                 \n",
            " global_average_pooling2d (G  (None, 512)              0         \n",
            " lobalAveragePooling2D)                                          \n",
            "                                                                 \n",
            " dropout_12 (Dropout)        (None, 512)               0         \n",
            "                                                                 \n",
            " fc1 (Dense)                 (None, 50)                25650     \n",
            "                                                                 \n",
            " dropout_13 (Dropout)        (None, 50)                0         \n",
            "                                                                 \n",
            " output (Dense)              (None, 10)                510       \n",
            "                                                                 \n",
            "=================================================================\n",
            "Total params: 2,356,848\n",
            "Trainable params: 2,354,288\n",
            "Non-trainable params: 2,560\n",
            "_________________________________________________________________\n"
          ]
        }
      ]
    },
    {
      "metadata": {
        "trusted": true,
        "colab": {
          "base_uri": "https://localhost:8080/"
        },
        "id": "_e40rWxvV63O",
        "outputId": "1d163bca-712e-4400-85a7-61eb8f162bca"
      },
      "cell_type": "code",
      "source": [
        "from tensorflow.keras.callbacks import ReduceLROnPlateau\n",
        "from tensorflow.keras.callbacks import EarlyStopping\n",
        "\n",
        "model.compile(optimizer=Adam(lr=0.001), loss='categorical_crossentropy', metrics=['accuracy'])\n",
        "\n",
        "# 5번 iteration내에 validation loss가 향상되지 않으면 learning rate을 기존 learning rate * 0.2로 줄임.  \n",
        "rlr_cb = ReduceLROnPlateau(monitor='val_loss', factor=0.2, patience=5, mode='min', verbose=1)\n",
        "# 10번 iteration내에 validation loss가 향상되지 않으면 더 이상 학습하지 않고 종료\n",
        "ely_cb = EarlyStopping(monitor='val_loss', patience=10, mode='min', verbose=1)\n",
        "\n",
        "\n",
        "history = model.fit(x=tr_images, y=tr_oh_labels, batch_size=32, epochs=30, shuffle=True,\n",
        "                    validation_data=(val_images, val_oh_labels),  \n",
        "                    callbacks=[rlr_cb, ely_cb] )"
      ],
      "execution_count": 20,
      "outputs": [
        {
          "output_type": "stream",
          "name": "stderr",
          "text": [
            "/usr/local/lib/python3.7/dist-packages/keras/optimizer_v2/adam.py:105: UserWarning: The `lr` argument is deprecated, use `learning_rate` instead.\n",
            "  super(Adam, self).__init__(name, **kwargs)\n"
          ]
        },
        {
          "output_type": "stream",
          "name": "stdout",
          "text": [
            "Epoch 1/30\n",
            "1329/1329 [==============================] - 15s 11ms/step - loss: 1.5038 - accuracy: 0.4505 - val_loss: 1.9798 - val_accuracy: 0.3864 - lr: 0.0010\n",
            "Epoch 2/30\n",
            "1329/1329 [==============================] - 14s 10ms/step - loss: 1.0540 - accuracy: 0.6306 - val_loss: 0.9526 - val_accuracy: 0.6695 - lr: 0.0010\n",
            "Epoch 3/30\n",
            "1329/1329 [==============================] - 13s 10ms/step - loss: 0.8602 - accuracy: 0.7048 - val_loss: 0.9392 - val_accuracy: 0.6761 - lr: 0.0010\n",
            "Epoch 4/30\n",
            "1329/1329 [==============================] - 13s 10ms/step - loss: 0.7240 - accuracy: 0.7543 - val_loss: 0.6683 - val_accuracy: 0.7740 - lr: 0.0010\n",
            "Epoch 5/30\n",
            "1329/1329 [==============================] - 14s 10ms/step - loss: 0.6137 - accuracy: 0.7972 - val_loss: 0.6227 - val_accuracy: 0.7863 - lr: 0.0010\n",
            "Epoch 6/30\n",
            "1329/1329 [==============================] - 13s 10ms/step - loss: 0.5311 - accuracy: 0.8248 - val_loss: 0.7822 - val_accuracy: 0.7576 - lr: 0.0010\n",
            "Epoch 7/30\n",
            "1329/1329 [==============================] - 13s 10ms/step - loss: 0.4585 - accuracy: 0.8483 - val_loss: 0.6299 - val_accuracy: 0.7879 - lr: 0.0010\n",
            "Epoch 8/30\n",
            "1329/1329 [==============================] - 13s 10ms/step - loss: 0.3949 - accuracy: 0.8696 - val_loss: 0.5441 - val_accuracy: 0.8176 - lr: 0.0010\n",
            "Epoch 9/30\n",
            "1329/1329 [==============================] - 14s 10ms/step - loss: 0.3382 - accuracy: 0.8881 - val_loss: 0.4935 - val_accuracy: 0.8391 - lr: 0.0010\n",
            "Epoch 10/30\n",
            "1329/1329 [==============================] - 13s 10ms/step - loss: 0.2868 - accuracy: 0.9049 - val_loss: 0.5727 - val_accuracy: 0.8252 - lr: 0.0010\n",
            "Epoch 11/30\n",
            "1329/1329 [==============================] - 14s 10ms/step - loss: 0.2422 - accuracy: 0.9196 - val_loss: 0.7578 - val_accuracy: 0.7956 - lr: 0.0010\n",
            "Epoch 12/30\n",
            "1329/1329 [==============================] - 13s 10ms/step - loss: 0.2124 - accuracy: 0.9281 - val_loss: 0.5169 - val_accuracy: 0.8483 - lr: 0.0010\n",
            "Epoch 13/30\n",
            "1329/1329 [==============================] - 14s 10ms/step - loss: 0.1804 - accuracy: 0.9395 - val_loss: 0.5766 - val_accuracy: 0.8408 - lr: 0.0010\n",
            "Epoch 14/30\n",
            "1326/1329 [============================>.] - ETA: 0s - loss: 0.1564 - accuracy: 0.9486\n",
            "Epoch 00014: ReduceLROnPlateau reducing learning rate to 0.00020000000949949026.\n",
            "1329/1329 [==============================] - 13s 10ms/step - loss: 0.1562 - accuracy: 0.9487 - val_loss: 0.6910 - val_accuracy: 0.8212 - lr: 0.0010\n",
            "Epoch 15/30\n",
            "1329/1329 [==============================] - 13s 10ms/step - loss: 0.0646 - accuracy: 0.9798 - val_loss: 0.5284 - val_accuracy: 0.8713 - lr: 2.0000e-04\n",
            "Epoch 16/30\n",
            "1329/1329 [==============================] - 13s 10ms/step - loss: 0.0370 - accuracy: 0.9880 - val_loss: 0.5717 - val_accuracy: 0.8725 - lr: 2.0000e-04\n",
            "Epoch 17/30\n",
            "1329/1329 [==============================] - 14s 10ms/step - loss: 0.0294 - accuracy: 0.9902 - val_loss: 0.5965 - val_accuracy: 0.8748 - lr: 2.0000e-04\n",
            "Epoch 18/30\n",
            "1329/1329 [==============================] - 13s 10ms/step - loss: 0.0269 - accuracy: 0.9915 - val_loss: 0.6464 - val_accuracy: 0.8668 - lr: 2.0000e-04\n",
            "Epoch 19/30\n",
            "1327/1329 [============================>.] - ETA: 0s - loss: 0.0213 - accuracy: 0.9932\n",
            "Epoch 00019: ReduceLROnPlateau reducing learning rate to 4.0000001899898055e-05.\n",
            "1329/1329 [==============================] - 13s 10ms/step - loss: 0.0214 - accuracy: 0.9932 - val_loss: 0.7254 - val_accuracy: 0.8633 - lr: 2.0000e-04\n",
            "Epoch 00019: early stopping\n"
          ]
        }
      ]
    },
    {
      "metadata": {
        "trusted": true,
        "colab": {
          "base_uri": "https://localhost:8080/",
          "height": 283
        },
        "id": "WYZienC2V63O",
        "outputId": "065d4b39-ea01-4f5b-936e-d2ae3a752b11"
      },
      "cell_type": "code",
      "source": [
        "model.evaluate(test_images, test_oh_labels)\n",
        "show_history(history)"
      ],
      "execution_count": 21,
      "outputs": [
        {
          "output_type": "stream",
          "name": "stdout",
          "text": [
            "313/313 [==============================] - 1s 5ms/step - loss: 0.7696 - accuracy: 0.8544\n"
          ]
        },
        {
          "output_type": "display_data",
          "data": {
            "image/png": "[encoded data removed]",
            "text/plain": [
              "<Figure size 576x288 with 1 Axes>"
            ]
          },
          "metadata": {
            "needs_background": "light"
          }
        }
      ]
    },
    {
      "metadata": {
        "id": "pnn-FoB_V63P"
      },
      "cell_type": "markdown",
      "source": [
        "### 가중치 규제(Weight Regularizations)\n",
        "* 개별 layer별로 tensorflow.keras.regularizers의 l1, l2, l1_l2 를 이용하여 가중치 규제를 적용할 수 있음. \n",
        "- 교수님 경험상 이미지에서는 크게 성능 향상에 미치는 영향은 아니었다.\n",
        "- Conv2D보다는 Dense에서 더 많이 씀\n",
        "- 큰 값을 넣으면 성능이 떨어지니 작은 값을 넣어야 한다."
      ]
    },
    {
      "metadata": {
        "trusted": true,
        "colab": {
          "base_uri": "https://localhost:8080/"
        },
        "id": "xxFIztTgV63R",
        "outputId": "50d741c6-2ce2-4002-b5c9-f0b9cebebdc1"
      },
      "cell_type": "code",
      "source": [
        "from tensorflow.keras.models import Sequential, Model\n",
        "from tensorflow.keras.layers import Input, Dense , Conv2D , Dropout , Flatten , Activation, MaxPooling2D , GlobalAveragePooling2D\n",
        "from tensorflow.keras.optimizers import Adam , RMSprop \n",
        "from tensorflow.keras.layers import BatchNormalization\n",
        "from tensorflow.keras.callbacks import ReduceLROnPlateau , EarlyStopping , ModelCheckpoint , LearningRateScheduler\n",
        "from tensorflow.keras.regularizers import l1, l2, l1_l2\n",
        "\n",
        "input_tensor = Input(shape=(IMAGE_SIZE, IMAGE_SIZE, 3))\n",
        "\n",
        "x = Conv2D(filters=64, kernel_size=(3, 3), padding='same', kernel_regularizer=l2(0.00001))(input_tensor)\n",
        "x = BatchNormalization()(x)\n",
        "x = Activation('relu')(x)\n",
        "\n",
        "x = Conv2D(filters=64, kernel_size=(3, 3), padding='same', kernel_regularizer=l2(0.00001))(x)\n",
        "x = BatchNormalization()(x)\n",
        "x = Activation('relu')(x)\n",
        "x = MaxPooling2D(pool_size=(2, 2))(x)\n",
        "\n",
        "x = Conv2D(filters=128, kernel_size=3, padding='same', kernel_regularizer=l1_l2(l1=1e-5, l2=1e-4))(x)\n",
        "x = BatchNormalization()(x)\n",
        "x = Activation('relu')(x)\n",
        "\n",
        "x = Conv2D(filters=128, kernel_size=3, padding='same', kernel_regularizer=l2(1e-5))(x)\n",
        "x = Activation('relu')(x)\n",
        "x = Activation('relu')(x)\n",
        "x = MaxPooling2D(pool_size=2)(x)\n",
        "\n",
        "x = Conv2D(filters=256, kernel_size=3, padding='same', kernel_regularizer=l2(1e-5))(x)\n",
        "x = BatchNormalization()(x)\n",
        "x = Activation('relu')(x)\n",
        "\n",
        "x = Conv2D(filters=256, kernel_size=3, padding='same', kernel_regularizer=l2(1e-5))(x)\n",
        "x = BatchNormalization()(x)\n",
        "x = Activation('relu')(x)\n",
        "\n",
        "# 512 filters Conv layer 추가하되 이후 MaxPooling을 적용하지 않고 strides는 2로 변경하여 출력 feature map 크기 조정\n",
        "x = Conv2D(filters=512, kernel_size=3, strides=2, padding='same', kernel_regularizer=l2(1e-5))(x)\n",
        "x = BatchNormalization()(x)\n",
        "x = Activation('relu')(x)\n",
        "\n",
        "\n",
        "# cifar10의 클래스가 10개 이므로 마지막 classification의 Dense layer units갯수는 10\n",
        "x = Flatten(name='flatten')(x)\n",
        "x = Dropout(rate=0.5)(x)\n",
        "x = Dense(300, activation='relu', kernel_regularizer=l2(1e-5), name='fc1')(x)\n",
        "x = Dropout(rate=0.3)(x)\n",
        "output = Dense(10, activation='softmax', name='output')(x)\n",
        "\n",
        "model = Model(inputs=input_tensor, outputs=output)\n",
        "\n",
        "model.summary()"
      ],
      "execution_count": 22,
      "outputs": [
        {
          "output_type": "stream",
          "name": "stdout",
          "text": [
            "Model: \"model_7\"\n",
            "_________________________________________________________________\n",
            " Layer (type)                Output Shape              Param #   \n",
            "=================================================================\n",
            " input_8 (InputLayer)        [(None, 32, 32, 3)]       0         \n",
            "                                                                 \n",
            " conv2d_45 (Conv2D)          (None, 32, 32, 64)        1792      \n",
            "                                                                 \n",
            " batch_normalization_38 (Bat  (None, 32, 32, 64)       256       \n",
            " chNormalization)                                                \n",
            "                                                                 \n",
            " activation_52 (Activation)  (None, 32, 32, 64)        0         \n",
            "                                                                 \n",
            " conv2d_46 (Conv2D)          (None, 32, 32, 64)        36928     \n",
            "                                                                 \n",
            " batch_normalization_39 (Bat  (None, 32, 32, 64)       256       \n",
            " chNormalization)                                                \n",
            "                                                                 \n",
            " activation_53 (Activation)  (None, 32, 32, 64)        0         \n",
            "                                                                 \n",
            " max_pooling2d_19 (MaxPoolin  (None, 16, 16, 64)       0         \n",
            " g2D)                                                            \n",
            "                                                                 \n",
            " conv2d_47 (Conv2D)          (None, 16, 16, 128)       73856     \n",
            "                                                                 \n",
            " batch_normalization_40 (Bat  (None, 16, 16, 128)      512       \n",
            " chNormalization)                                                \n",
            "                                                                 \n",
            " activation_54 (Activation)  (None, 16, 16, 128)       0         \n",
            "                                                                 \n",
            " conv2d_48 (Conv2D)          (None, 16, 16, 128)       147584    \n",
            "                                                                 \n",
            " activation_55 (Activation)  (None, 16, 16, 128)       0         \n",
            "                                                                 \n",
            " activation_56 (Activation)  (None, 16, 16, 128)       0         \n",
            "                                                                 \n",
            " max_pooling2d_20 (MaxPoolin  (None, 8, 8, 128)        0         \n",
            " g2D)                                                            \n",
            "                                                                 \n",
            " conv2d_49 (Conv2D)          (None, 8, 8, 256)         295168    \n",
            "                                                                 \n",
            " batch_normalization_41 (Bat  (None, 8, 8, 256)        1024      \n",
            " chNormalization)                                                \n",
            "                                                                 \n",
            " activation_57 (Activation)  (None, 8, 8, 256)         0         \n",
            "                                                                 \n",
            " conv2d_50 (Conv2D)          (None, 8, 8, 256)         590080    \n",
            "                                                                 \n",
            " batch_normalization_42 (Bat  (None, 8, 8, 256)        1024      \n",
            " chNormalization)                                                \n",
            "                                                                 \n",
            " activation_58 (Activation)  (None, 8, 8, 256)         0         \n",
            "                                                                 \n",
            " conv2d_51 (Conv2D)          (None, 4, 4, 512)         1180160   \n",
            "                                                                 \n",
            " batch_normalization_43 (Bat  (None, 4, 4, 512)        2048      \n",
            " chNormalization)                                                \n",
            "                                                                 \n",
            " activation_59 (Activation)  (None, 4, 4, 512)         0         \n",
            "                                                                 \n",
            " flatten (Flatten)           (None, 8192)              0         \n",
            "                                                                 \n",
            " dropout_14 (Dropout)        (None, 8192)              0         \n",
            "                                                                 \n",
            " fc1 (Dense)                 (None, 300)               2457900   \n",
            "                                                                 \n",
            " dropout_15 (Dropout)        (None, 300)               0         \n",
            "                                                                 \n",
            " output (Dense)              (None, 10)                3010      \n",
            "                                                                 \n",
            "=================================================================\n",
            "Total params: 4,791,598\n",
            "Trainable params: 4,789,038\n",
            "Non-trainable params: 2,560\n",
            "_________________________________________________________________\n"
          ]
        }
      ]
    },
    {
      "metadata": {
        "trusted": true,
        "colab": {
          "base_uri": "https://localhost:8080/"
        },
        "id": "Ua6OdLe7V63V",
        "outputId": "209be145-2e35-4c43-e985-12f4cc196a05"
      },
      "cell_type": "code",
      "source": [
        "model.compile(optimizer=Adam(lr=0.001), loss='categorical_crossentropy', metrics=['accuracy'])\n",
        "\n",
        "# 5번 iteration내에 validation loss가 향상되지 않으면 learning rate을 기존 learning rate * 0.2로 줄임.  \n",
        "rlr_cb = ReduceLROnPlateau(monitor='val_loss', factor=0.2, patience=5, mode='min', verbose=1)\n",
        "# 10번 iteration내에 validation loss가 향상되지 않으면 더 이상 학습하지 않고 종료\n",
        "ely_cb = EarlyStopping(monitor='val_loss', patience=10, mode='min', verbose=1)\n",
        "\n",
        "\n",
        "history = model.fit(x=tr_images, y=tr_oh_labels, batch_size=32, epochs=30, shuffle=True,\n",
        "                    validation_data=(val_images, val_oh_labels),  \n",
        "                    callbacks=[rlr_cb, ely_cb] )"
      ],
      "execution_count": 23,
      "outputs": [
        {
          "output_type": "stream",
          "name": "stderr",
          "text": [
            "/usr/local/lib/python3.7/dist-packages/keras/optimizer_v2/adam.py:105: UserWarning: The `lr` argument is deprecated, use `learning_rate` instead.\n",
            "  super(Adam, self).__init__(name, **kwargs)\n"
          ]
        },
        {
          "output_type": "stream",
          "name": "stdout",
          "text": [
            "Epoch 1/30\n",
            "1329/1329 [==============================] - 19s 12ms/step - loss: 1.6749 - accuracy: 0.4066 - val_loss: 1.3312 - val_accuracy: 0.5376 - lr: 0.0010\n",
            "Epoch 2/30\n",
            "1329/1329 [==============================] - 15s 11ms/step - loss: 1.2378 - accuracy: 0.5826 - val_loss: 1.1327 - val_accuracy: 0.6131 - lr: 0.0010\n",
            "Epoch 3/30\n",
            "1329/1329 [==============================] - 15s 11ms/step - loss: 1.0547 - accuracy: 0.6605 - val_loss: 0.9946 - val_accuracy: 0.6913 - lr: 0.0010\n",
            "Epoch 4/30\n",
            "1329/1329 [==============================] - 15s 11ms/step - loss: 0.9488 - accuracy: 0.7079 - val_loss: 1.1534 - val_accuracy: 0.6560 - lr: 0.0010\n",
            "Epoch 5/30\n",
            "1329/1329 [==============================] - 15s 11ms/step - loss: 0.8698 - accuracy: 0.7448 - val_loss: 0.9390 - val_accuracy: 0.7327 - lr: 0.0010\n",
            "Epoch 6/30\n",
            "1329/1329 [==============================] - 15s 11ms/step - loss: 0.7994 - accuracy: 0.7769 - val_loss: 0.8227 - val_accuracy: 0.7781 - lr: 0.0010\n",
            "Epoch 7/30\n",
            "1329/1329 [==============================] - 15s 11ms/step - loss: 0.7462 - accuracy: 0.8041 - val_loss: 0.7884 - val_accuracy: 0.8028 - lr: 0.0010\n",
            "Epoch 8/30\n",
            "1329/1329 [==============================] - 15s 11ms/step - loss: 0.6962 - accuracy: 0.8332 - val_loss: 0.8939 - val_accuracy: 0.7751 - lr: 0.0010\n",
            "Epoch 9/30\n",
            "1329/1329 [==============================] - 15s 11ms/step - loss: 0.6457 - accuracy: 0.8520 - val_loss: 0.9383 - val_accuracy: 0.7792 - lr: 0.0010\n",
            "Epoch 10/30\n",
            "1329/1329 [==============================] - 15s 11ms/step - loss: 0.6068 - accuracy: 0.8714 - val_loss: 0.7992 - val_accuracy: 0.8143 - lr: 0.0010\n",
            "Epoch 11/30\n",
            "1329/1329 [==============================] - 15s 11ms/step - loss: 0.5754 - accuracy: 0.8870 - val_loss: 0.9882 - val_accuracy: 0.7819 - lr: 0.0010\n",
            "Epoch 12/30\n",
            "1328/1329 [============================>.] - ETA: 0s - loss: 0.5473 - accuracy: 0.9000\n",
            "Epoch 00012: ReduceLROnPlateau reducing learning rate to 0.00020000000949949026.\n",
            "1329/1329 [==============================] - 15s 11ms/step - loss: 0.5473 - accuracy: 0.9000 - val_loss: 1.0428 - val_accuracy: 0.7637 - lr: 0.0010\n",
            "Epoch 13/30\n",
            "1329/1329 [==============================] - 15s 11ms/step - loss: 0.4014 - accuracy: 0.9486 - val_loss: 0.7413 - val_accuracy: 0.8633 - lr: 2.0000e-04\n",
            "Epoch 14/30\n",
            "1329/1329 [==============================] - 15s 11ms/step - loss: 0.3401 - accuracy: 0.9649 - val_loss: 0.7707 - val_accuracy: 0.8680 - lr: 2.0000e-04\n",
            "Epoch 15/30\n",
            "1329/1329 [==============================] - 15s 11ms/step - loss: 0.3101 - accuracy: 0.9734 - val_loss: 0.8483 - val_accuracy: 0.8659 - lr: 2.0000e-04\n",
            "Epoch 16/30\n",
            "1329/1329 [==============================] - 15s 11ms/step - loss: 0.2879 - accuracy: 0.9789 - val_loss: 0.8540 - val_accuracy: 0.8643 - lr: 2.0000e-04\n",
            "Epoch 17/30\n",
            "1329/1329 [==============================] - 15s 11ms/step - loss: 0.2710 - accuracy: 0.9830 - val_loss: 0.8768 - val_accuracy: 0.8721 - lr: 2.0000e-04\n",
            "Epoch 18/30\n",
            "1326/1329 [============================>.] - ETA: 0s - loss: 0.2579 - accuracy: 0.9860\n",
            "Epoch 00018: ReduceLROnPlateau reducing learning rate to 4.0000001899898055e-05.\n",
            "1329/1329 [==============================] - 15s 11ms/step - loss: 0.2578 - accuracy: 0.9861 - val_loss: 0.9358 - val_accuracy: 0.8669 - lr: 2.0000e-04\n",
            "Epoch 19/30\n",
            "1329/1329 [==============================] - 15s 11ms/step - loss: 0.2376 - accuracy: 0.9920 - val_loss: 0.8913 - val_accuracy: 0.8732 - lr: 4.0000e-05\n",
            "Epoch 20/30\n",
            "1329/1329 [==============================] - 15s 11ms/step - loss: 0.2284 - accuracy: 0.9945 - val_loss: 0.9260 - val_accuracy: 0.8757 - lr: 4.0000e-05\n",
            "Epoch 21/30\n",
            "1329/1329 [==============================] - 15s 11ms/step - loss: 0.2250 - accuracy: 0.9948 - val_loss: 0.9356 - val_accuracy: 0.8729 - lr: 4.0000e-05\n",
            "Epoch 22/30\n",
            "1329/1329 [==============================] - 15s 11ms/step - loss: 0.2192 - accuracy: 0.9966 - val_loss: 0.9575 - val_accuracy: 0.8728 - lr: 4.0000e-05\n",
            "Epoch 23/30\n",
            "1325/1329 [============================>.] - ETA: 0s - loss: 0.2160 - accuracy: 0.9963\n",
            "Epoch 00023: ReduceLROnPlateau reducing learning rate to 8.000000525498762e-06.\n",
            "1329/1329 [==============================] - 15s 11ms/step - loss: 0.2160 - accuracy: 0.9963 - val_loss: 0.9770 - val_accuracy: 0.8747 - lr: 4.0000e-05\n",
            "Epoch 00023: early stopping\n"
          ]
        }
      ]
    },
    {
      "metadata": {
        "trusted": true,
        "colab": {
          "base_uri": "https://localhost:8080/",
          "height": 283
        },
        "id": "Y2yBgt0KV63Y",
        "outputId": "5fd897af-b0e4-4b59-9e52-0d3abf61d693"
      },
      "cell_type": "code",
      "source": [
        "model.evaluate(test_images, test_oh_labels)\n",
        "show_history(history)"
      ],
      "execution_count": 24,
      "outputs": [
        {
          "output_type": "stream",
          "name": "stdout",
          "text": [
            "313/313 [==============================] - 2s 5ms/step - loss: 1.0232 - accuracy: 0.8670\n"
          ]
        },
        {
          "output_type": "display_data",
          "data": {
            "image/png": "[encoded data removed]",
            "text/plain": [
              "<Figure size 576x288 with 1 Axes>"
            ]
          },
          "metadata": {
            "needs_background": "light"
          }
        }
      ]
    },
    {
      "cell_type": "code",
      "source": [
        ""
      ],
      "metadata": {
        "id": "IHtIvT6Hietu"
      },
      "execution_count": null,
      "outputs": []
    }
  ],
  "metadata": {
    "kernelspec": {
      "language": "python",
      "display_name": "Python 3",
      "name": "python3"
    },
    "language_info": {
      "pygments_lexer": "ipython3",
      "nbconvert_exporter": "python",
      "version": "3.6.4",
      "file_extension": ".py",
      "codemirror_mode": {
        "name": "ipython",
        "version": 3
      },
      "name": "python",
      "mimetype": "text/x-python"
    },
    "colab": {
      "name": "05-CIFAR10_Custom_CB_Filters_Decay.ipynb",
      "provenance": [],
      "toc_visible": true,
      "include_colab_link": true
    },
    "accelerator": "GPU"
  },
  "nbformat": 4,
  "nbformat_minor": 0
}