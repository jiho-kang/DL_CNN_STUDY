{
  "cells": [
    {
      "cell_type": "markdown",
      "metadata": {
        "id": "view-in-github",
        "colab_type": "text"
      },
      "source": [
        "<a href=\"https://colab.research.google.com/github/jiho-kang/DL_CNN_STUDY/blob/main/07_CIFAR10_Custom_Aug.ipynb\" target=\"_parent\"><img src=\"https://colab.research.google.com/assets/colab-badge.svg\" alt=\"Open In Colab\"/></a>"
      ]
    },
    {
      "metadata": {
        "_uuid": "8f2839f25d086af736a60e9eeb907d3b93b6e0e5",
        "_cell_guid": "b1076dfc-b9ad-4769-8c92-a6c4dae69d19",
        "trusted": true,
        "id": "0HDtmmR27WT9"
      },
      "cell_type": "code",
      "source": [
        "import numpy as np # linear algebra\n",
        "import pandas as pd # data processing, CSV file I/O (e.g. pd.read_csv)\n",
        "import os"
      ],
      "execution_count": null,
      "outputs": []
    },
    {
      "metadata": {
        "trusted": true,
        "colab": {
          "base_uri": "https://localhost:8080/"
        },
        "id": "7ylo2Kar7WUF",
        "outputId": "f73a7cd1-25ea-4fa5-f6fa-4aad48c4e4c3"
      },
      "cell_type": "code",
      "source": [
        "import tensorflow as tf\n",
        "import numpy as np\n",
        "import pandas as pd\n",
        "\n",
        "import random as python_random\n",
        "from tensorflow.keras.utils import to_categorical\n",
        "from sklearn.model_selection import train_test_split\n",
        "from tensorflow.keras.datasets import cifar10\n",
        "\n",
        "# seed 를 설정해서 학습시마다 동일한 결과 유도. 불행히도 의도한 대로 동작하지 않음. \n",
        "def set_random_seed(seed_value):\n",
        "    np.random.seed(seed_value)\n",
        "    python_random.seed(seed_value)\n",
        "    tf.random.set_seed(seed_value)\n",
        "\n",
        "# 0 ~ 1사이값의 float32로 변경하는 함수\n",
        "def get_preprocessed_data(images, labels, scaling=True):\n",
        "    \n",
        "    # 학습과 테스트 이미지 array를 0~1 사이값으로 scale 및 float32 형 변형. \n",
        "    if scaling:\n",
        "        images = np.array(images/255.0, dtype=np.float32)\n",
        "    else: # scaling이 False면 뒤의 ImageDataGenerator에서 rescale을 해줄 예정임.\n",
        "        images = np.array(images, dtype=np.float32)\n",
        "        \n",
        "    labels = np.array(labels, dtype=np.float32)\n",
        "    \n",
        "    return images, labels\n",
        "\n",
        "# 0 ~ 1사이값 float32로 변경하는 함수 호출 한 뒤 OHE 적용 \n",
        "def get_preprocessed_ohe(images, labels):\n",
        "    images, labels = get_preprocessed_data(images, labels, scaling=False)\n",
        "    # OHE 적용 \n",
        "    oh_labels = to_categorical(labels)\n",
        "    return images, oh_labels\n",
        "\n",
        "# 학습/검증/테스트 데이터 세트에 전처리 및 OHE 적용한 뒤 반환 \n",
        "def get_train_valid_test_set(train_images, train_labels, test_images, test_labels, valid_size=0.15, random_state=2021):\n",
        "    # 학습 및 테스트 데이터 세트를  0 ~ 1사이값 float32로 변경 및 OHE 적용. \n",
        "    train_images, train_oh_labels = get_preprocessed_ohe(train_images, train_labels)\n",
        "    test_images, test_oh_labels = get_preprocessed_ohe(test_images, test_labels)\n",
        "    \n",
        "    # 학습 데이터를 검증 데이터 세트로 다시 분리\n",
        "    tr_images, val_images, tr_oh_labels, val_oh_labels = train_test_split(train_images, train_oh_labels, test_size=valid_size, random_state=random_state)\n",
        "    \n",
        "    return (tr_images, tr_oh_labels), (val_images, val_oh_labels), (test_images, test_oh_labels ) \n",
        "\n",
        "\n",
        "# random seed는 2021로 고정.\n",
        "set_random_seed(2021)\n",
        "# CIFAR10 데이터 재 로딩 및 Scaling/OHE 전처리 적용하여 학습/검증/데이터 세트 생성. \n",
        "(train_images, train_labels), (test_images, test_labels) = cifar10.load_data()\n",
        "print(train_images.shape, train_labels.shape, test_images.shape, test_labels.shape)\n",
        "\n",
        "(tr_images, tr_oh_labels), (val_images, val_oh_labels), (test_images, test_oh_labels) = \\\n",
        "    get_train_valid_test_set(train_images, train_labels, test_images, test_labels, valid_size=0.15, random_state=2021)\n",
        "\n",
        "print('after preprocessing')\n",
        "print(tr_images.shape, tr_oh_labels.shape, val_images.shape, val_oh_labels.shape, test_images.shape, test_oh_labels.shape)"
      ],
      "execution_count": null,
      "outputs": [
        {
          "output_type": "stream",
          "name": "stdout",
          "text": [
            "(50000, 32, 32, 3) (50000, 1) (10000, 32, 32, 3) (10000, 1)\n",
            "after preprocessing\n",
            "(42500, 32, 32, 3) (42500, 10) (7500, 32, 32, 3) (7500, 10) (10000, 32, 32, 3) (10000, 10)\n"
          ]
        }
      ]
    },
    {
      "metadata": {
        "trusted": true,
        "colab": {
          "base_uri": "https://localhost:8080/",
          "height": 286
        },
        "id": "KvKizDKc7WUI",
        "outputId": "1fe4791c-4b03-4aae-d268-50b2b6f5eafa"
      },
      "cell_type": "code",
      "source": [
        "import matplotlib.pyplot as plt\n",
        "import cv2\n",
        "%matplotlib inline\n",
        "\n",
        "NAMES = np.array(['airplane', 'automobile', 'bird', 'cat', 'deer', 'dog', 'frog', 'horse', 'ship', 'truck'])\n",
        "\n",
        "def show_images(images, labels, ncols=8):\n",
        "    figure, axs = plt.subplots(figsize=(22, 6), nrows=1, ncols=ncols)\n",
        "    for i in range(ncols):\n",
        "        axs[i].imshow(images[i])\n",
        "        label = labels[i].squeeze()\n",
        "        axs[i].set_title(NAMES[int(label)])\n",
        "        \n",
        "show_images(train_images[:8], train_labels[:8], ncols=8)\n",
        "show_images(train_images[8:16], train_labels[8:16], ncols=8)\n",
        "\n",
        "# 아래처럼 화질이 낮은 경우는 Augmentation을 가볍게 줘야함."
      ],
      "execution_count": null,
      "outputs": [
        {
          "output_type": "display_data",
          "data": {
            "image/png": "[encoded data removed]",
            "text/plain": [
              "<Figure size 1584x432 with 8 Axes>"
            ]
          },
          "metadata": {
            "needs_background": "light"
          }
        },
        {
          "output_type": "display_data",
          "data": {
            "image/png": "[encoded data removed]",
            "text/plain": [
              "<Figure size 1584x432 with 8 Axes>"
            ]
          },
          "metadata": {
            "needs_background": "light"
          }
        }
      ]
    },
    {
      "metadata": {
        "trusted": true,
        "colab": {
          "base_uri": "https://localhost:8080/"
        },
        "id": "7bmCwovC7WUJ",
        "outputId": "af089c3d-f4f4-4a32-9cb3-8283044e7d7a"
      },
      "cell_type": "code",
      "source": [
        "tr_images[0]"
      ],
      "execution_count": null,
      "outputs": [
        {
          "output_type": "execute_result",
          "data": {
            "text/plain": [
              "array([[[ 3.,  3.,  3.],\n",
              "        [ 3.,  3.,  3.],\n",
              "        [ 3.,  3.,  3.],\n",
              "        ...,\n",
              "        [ 3.,  3.,  2.],\n",
              "        [ 3.,  3.,  1.],\n",
              "        [ 3.,  3.,  1.]],\n",
              "\n",
              "       [[ 3.,  3.,  3.],\n",
              "        [ 3.,  3.,  3.],\n",
              "        [ 3.,  3.,  3.],\n",
              "        ...,\n",
              "        [ 3.,  3.,  2.],\n",
              "        [ 3.,  3.,  2.],\n",
              "        [ 3.,  3.,  2.]],\n",
              "\n",
              "       [[ 3.,  3.,  3.],\n",
              "        [ 3.,  3.,  3.],\n",
              "        [ 3.,  3.,  3.],\n",
              "        ...,\n",
              "        [ 3.,  3.,  3.],\n",
              "        [ 3.,  3.,  4.],\n",
              "        [ 3.,  3.,  4.]],\n",
              "\n",
              "       ...,\n",
              "\n",
              "       [[21., 18., 39.],\n",
              "        [18., 14., 37.],\n",
              "        [15., 11., 35.],\n",
              "        ...,\n",
              "        [16., 13., 31.],\n",
              "        [10.,  7., 25.],\n",
              "        [ 8.,  5., 22.]],\n",
              "\n",
              "       [[23., 20., 40.],\n",
              "        [20., 17., 39.],\n",
              "        [20., 17., 39.],\n",
              "        ...,\n",
              "        [25., 23., 40.],\n",
              "        [21., 18., 37.],\n",
              "        [19., 16., 35.]],\n",
              "\n",
              "       [[26., 23., 42.],\n",
              "        [25., 22., 42.],\n",
              "        [26., 23., 44.],\n",
              "        ...,\n",
              "        [38., 36., 50.],\n",
              "        [34., 31., 47.],\n",
              "        [34., 31., 48.]]], dtype=float32)"
            ]
          },
          "metadata": {},
          "execution_count": 6
        }
      ]
    },
    {
      "metadata": {
        "trusted": true,
        "id": "xaDEhJxO7WUK"
      },
      "cell_type": "code",
      "source": [
        "IMAGE_SIZE = 32\n",
        "BATCH_SIZE = 64"
      ],
      "execution_count": null,
      "outputs": []
    },
    {
      "metadata": {
        "id": "3KQscJ7B7WUK"
      },
      "cell_type": "markdown",
      "source": [
        "### ImageDataGenerator로 Augmentation 설정하고 학습용, 검증용 Generator 생성\n",
        "- 원래는 model.fit에 train, label, batch size, shuffle을 넣어줬는데, ImageDataGenerator를 쓰면 여기서 넣어준다.\n",
        "- 모델에 넣기 위한 데이터 로딩 파트."
      ]
    },
    {
      "metadata": {
        "trusted": true,
        "id": "UeoYeyPU7WUM"
      },
      "cell_type": "code",
      "source": [
        "from tensorflow.keras.preprocessing.image import ImageDataGenerator\n",
        "\n",
        "train_generator = ImageDataGenerator(\n",
        "    #rotation_range=20,\n",
        "    #zoom_range=(0.7, 0.9),\n",
        "    horizontal_flip=True,\n",
        "    #vertical_flip=True,\n",
        "    rescale=1/255.0\n",
        ")\n",
        "valid_generator = ImageDataGenerator(rescale=1/255.0)\n",
        "\n",
        "\n",
        "flow_tr_gen = train_generator.flow(tr_images, tr_oh_labels, batch_size=BATCH_SIZE, shuffle=True)\n",
        "flow_val_gen = valid_generator.flow(val_images, val_oh_labels, batch_size=BATCH_SIZE, shuffle=False)"
      ],
      "execution_count": null,
      "outputs": []
    },
    {
      "metadata": {
        "id": "Mj-LexOo7WUN"
      },
      "cell_type": "markdown",
      "source": [
        "### Keras CNN 모델 생성. "
      ]
    },
    {
      "metadata": {
        "trusted": true,
        "id": "sp45g04p7WUO"
      },
      "cell_type": "code",
      "source": [
        "from tensorflow.keras.models import Sequential, Model\n",
        "from tensorflow.keras.layers import Input, Dense , Conv2D , Dropout , Flatten , Activation, MaxPooling2D , GlobalAveragePooling2D\n",
        "from tensorflow.keras.optimizers import Adam , RMSprop \n",
        "from tensorflow.keras.layers import BatchNormalization\n",
        "from tensorflow.keras.callbacks import ReduceLROnPlateau , EarlyStopping , ModelCheckpoint , LearningRateScheduler\n",
        "\n",
        "def create_model(verbose=False):\n",
        "    input_tensor = Input(shape=(IMAGE_SIZE, IMAGE_SIZE, 3))\n",
        "\n",
        "    #x = Conv2D(filters=32, kernel_size=(5, 5), padding='valid', activation='relu')(input_tensor)\n",
        "    x = Conv2D(filters=64, kernel_size=(3, 3), padding='same')(input_tensor)\n",
        "    x = BatchNormalization()(x)\n",
        "    x = Activation('relu')(x)\n",
        "\n",
        "    x = Conv2D(filters=64, kernel_size=(3, 3), padding='same')(x)\n",
        "    x = BatchNormalization()(x)\n",
        "    x = Activation('relu')(x)\n",
        "    x = MaxPooling2D(pool_size=(2, 2))(x)\n",
        "\n",
        "    x = Conv2D(filters=128, kernel_size=3, padding='same')(x)\n",
        "    x = BatchNormalization()(x)\n",
        "    x = Activation('relu')(x)\n",
        "\n",
        "    x = Conv2D(filters=128, kernel_size=3, padding='same')(x)\n",
        "    x = Activation('relu')(x)\n",
        "    x = Activation('relu')(x)\n",
        "    x = MaxPooling2D(pool_size=2)(x)\n",
        "\n",
        "    x = Conv2D(filters=256, kernel_size=3, padding='same')(x)\n",
        "    x = BatchNormalization()(x)\n",
        "    x = Activation('relu')(x)\n",
        "\n",
        "    x = Conv2D(filters=256, kernel_size=3, padding='same')(x)\n",
        "    x = BatchNormalization()(x)\n",
        "    x = Activation('relu')(x)\n",
        "\n",
        "    x = Conv2D(filters=512, kernel_size=3, strides=2, padding='same')(x)\n",
        "    x = BatchNormalization()(x)\n",
        "    x = Activation('relu')(x)\n",
        "\n",
        "    # Flatten 대신 Global AveragePooling 을 적용. \n",
        "    x = GlobalAveragePooling2D()(x)\n",
        "    x = Dropout(rate=0.5)(x)\n",
        "    x = Dense(50, activation='relu', name='fc1')(x)\n",
        "    x = Dropout(rate=0.2)(x)\n",
        "    output = Dense(10, activation='softmax', name='output')(x)\n",
        "\n",
        "    model = Model(inputs=input_tensor, outputs=output)\n",
        "    if verbose:\n",
        "        model.summary()\n",
        "        \n",
        "    return model"
      ],
      "execution_count": null,
      "outputs": []
    },
    {
      "metadata": {
        "trusted": true,
        "colab": {
          "base_uri": "https://localhost:8080/"
        },
        "id": "mSNe9Wi-7WUQ",
        "outputId": "27fa8a9b-7ccf-4c4d-9102-9ba6b906ab58"
      },
      "cell_type": "code",
      "source": [
        "model = create_model(verbose=True)\n",
        "model.compile(optimizer=Adam(lr=0.001), loss='categorical_crossentropy', metrics=['accuracy'])\n",
        "\n",
        "# 5번 iteration내에 validation loss가 향상되지 않으면 learning rate을 기존 learning rate * 0.2로 줄임.  \n",
        "rlr_cb = ReduceLROnPlateau(monitor='val_loss', factor=0.2, patience=5, mode='min', verbose=1)\n",
        "# 10번 iteration내에 validation loss가 향상되지 않으면 더 이상 학습하지 않고 종료\n",
        "ely_cb = EarlyStopping(monitor='val_loss', patience=10, mode='min', verbose=1)"
      ],
      "execution_count": null,
      "outputs": [
        {
          "output_type": "stream",
          "name": "stdout",
          "text": [
            "Model: \"model\"\n",
            "_________________________________________________________________\n",
            " Layer (type)                Output Shape              Param #   \n",
            "=================================================================\n",
            " input_1 (InputLayer)        [(None, 32, 32, 3)]       0         \n",
            "                                                                 \n",
            " conv2d (Conv2D)             (None, 32, 32, 64)        1792      \n",
            "                                                                 \n",
            " batch_normalization (BatchN  (None, 32, 32, 64)       256       \n",
            " ormalization)                                                   \n",
            "                                                                 \n",
            " activation (Activation)     (None, 32, 32, 64)        0         \n",
            "                                                                 \n",
            " conv2d_1 (Conv2D)           (None, 32, 32, 64)        36928     \n",
            "                                                                 \n",
            " batch_normalization_1 (Batc  (None, 32, 32, 64)       256       \n",
            " hNormalization)                                                 \n",
            "                                                                 \n",
            " activation_1 (Activation)   (None, 32, 32, 64)        0         \n",
            "                                                                 \n",
            " max_pooling2d (MaxPooling2D  (None, 16, 16, 64)       0         \n",
            " )                                                               \n",
            "                                                                 \n",
            " conv2d_2 (Conv2D)           (None, 16, 16, 128)       73856     \n",
            "                                                                 \n",
            " batch_normalization_2 (Batc  (None, 16, 16, 128)      512       \n",
            " hNormalization)                                                 \n",
            "                                                                 \n",
            " activation_2 (Activation)   (None, 16, 16, 128)       0         \n",
            "                                                                 \n",
            " conv2d_3 (Conv2D)           (None, 16, 16, 128)       147584    \n",
            "                                                                 \n",
            " activation_3 (Activation)   (None, 16, 16, 128)       0         \n",
            "                                                                 \n",
            " activation_4 (Activation)   (None, 16, 16, 128)       0         \n",
            "                                                                 \n",
            " max_pooling2d_1 (MaxPooling  (None, 8, 8, 128)        0         \n",
            " 2D)                                                             \n",
            "                                                                 \n",
            " conv2d_4 (Conv2D)           (None, 8, 8, 256)         295168    \n",
            "                                                                 \n",
            " batch_normalization_3 (Batc  (None, 8, 8, 256)        1024      \n",
            " hNormalization)                                                 \n",
            "                                                                 \n",
            " activation_5 (Activation)   (None, 8, 8, 256)         0         \n",
            "                                                                 \n",
            " conv2d_5 (Conv2D)           (None, 8, 8, 256)         590080    \n",
            "                                                                 \n",
            " batch_normalization_4 (Batc  (None, 8, 8, 256)        1024      \n",
            " hNormalization)                                                 \n",
            "                                                                 \n",
            " activation_6 (Activation)   (None, 8, 8, 256)         0         \n",
            "                                                                 \n",
            " conv2d_6 (Conv2D)           (None, 4, 4, 512)         1180160   \n",
            "                                                                 \n",
            " batch_normalization_5 (Batc  (None, 4, 4, 512)        2048      \n",
            " hNormalization)                                                 \n",
            "                                                                 \n",
            " activation_7 (Activation)   (None, 4, 4, 512)         0         \n",
            "                                                                 \n",
            " global_average_pooling2d (G  (None, 512)              0         \n",
            " lobalAveragePooling2D)                                          \n",
            "                                                                 \n",
            " dropout (Dropout)           (None, 512)               0         \n",
            "                                                                 \n",
            " fc1 (Dense)                 (None, 50)                25650     \n",
            "                                                                 \n",
            " dropout_1 (Dropout)         (None, 50)                0         \n",
            "                                                                 \n",
            " output (Dense)              (None, 10)                510       \n",
            "                                                                 \n",
            "=================================================================\n",
            "Total params: 2,356,848\n",
            "Trainable params: 2,354,288\n",
            "Non-trainable params: 2,560\n",
            "_________________________________________________________________\n"
          ]
        },
        {
          "output_type": "stream",
          "name": "stderr",
          "text": [
            "/usr/local/lib/python3.7/dist-packages/keras/optimizer_v2/adam.py:105: UserWarning: The `lr` argument is deprecated, use `learning_rate` instead.\n",
            "  super(Adam, self).__init__(name, **kwargs)\n"
          ]
        }
      ]
    },
    {
      "metadata": {
        "trusted": true,
        "colab": {
          "base_uri": "https://localhost:8080/"
        },
        "id": "rX8xbnX-7WUS",
        "outputId": "c9d03aed-f951-4b14-d68b-29894f914d9f"
      },
      "cell_type": "code",
      "source": [
        "print(type(next(flow_tr_gen)))\n",
        "image_batch, label_batch = next(flow_tr_gen)\n",
        "print(image_batch.shape, label_batch.shape)\n",
        "print(image_batch[0])"
      ],
      "execution_count": null,
      "outputs": [
        {
          "output_type": "stream",
          "name": "stdout",
          "text": [
            "<class 'tuple'>\n",
            "(64, 32, 32, 3) (64, 10)\n",
            "[[[0.45098042 0.50980395 0.3921569 ]\n",
            "  [0.4784314  0.54509807 0.4431373 ]\n",
            "  [0.36862746 0.4156863  0.32156864]\n",
            "  ...\n",
            "  [0.41960788 0.4156863  0.35686275]\n",
            "  [0.40784317 0.4039216  0.34117648]\n",
            "  [0.4156863  0.427451   0.34509805]]\n",
            "\n",
            " [[0.4666667  0.5019608  0.4039216 ]\n",
            "  [0.49411768 0.56078434 0.45882356]\n",
            "  [0.4039216  0.45098042 0.35686275]\n",
            "  ...\n",
            "  [0.38823533 0.38431376 0.30980393]\n",
            "  [0.38823533 0.38823533 0.3137255 ]\n",
            "  [0.41960788 0.43137258 0.34901962]]\n",
            "\n",
            " [[0.4431373  0.48235297 0.38823533]\n",
            "  [0.5254902  0.57254905 0.4784314 ]\n",
            "  [0.44705886 0.4666667  0.37647063]\n",
            "  ...\n",
            "  [0.38823533 0.3803922  0.3137255 ]\n",
            "  [0.41176474 0.40784317 0.3254902 ]\n",
            "  [0.454902   0.44705886 0.36862746]]\n",
            "\n",
            " ...\n",
            "\n",
            " [[0.6745098  0.6        0.5568628 ]\n",
            "  [0.5294118  0.5254902  0.45098042]\n",
            "  [0.6156863  0.64705884 0.5764706 ]\n",
            "  ...\n",
            "  [0.43529415 0.4156863  0.3529412 ]\n",
            "  [0.427451   0.427451   0.3529412 ]\n",
            "  [0.41176474 0.4039216  0.33333334]]\n",
            "\n",
            " [[0.52156866 0.5294118  0.44705886]\n",
            "  [0.5568628  0.6156863  0.50980395]\n",
            "  [0.5764706  0.60784316 0.52156866]\n",
            "  ...\n",
            "  [0.4156863  0.41176474 0.34117648]\n",
            "  [0.47450984 0.4784314  0.40784317]\n",
            "  [0.45882356 0.45098042 0.38431376]]\n",
            "\n",
            " [[0.5529412  0.6        0.5176471 ]\n",
            "  [0.627451   0.654902   0.58431375]\n",
            "  [0.57254905 0.6        0.50980395]\n",
            "  ...\n",
            "  [0.46274513 0.43921572 0.37647063]\n",
            "  [0.5176471  0.5019608  0.43921572]\n",
            "  [0.44705886 0.4431373  0.37254903]]]\n"
          ]
        }
      ]
    },
    {
      "metadata": {
        "trusted": true,
        "colab": {
          "base_uri": "https://localhost:8080/"
        },
        "id": "63go1UNm7WUW",
        "outputId": "47825309-871d-4cb3-be0c-e79a92657f2f"
      },
      "cell_type": "code",
      "source": [
        "'''\n",
        "과거는 아래와 같은 code 였음\n",
        "history = model.fit(x=tr_images, y=tr_oh_labels, batch_size=32, epochs=30, shuffle=True,\n",
        "                    validation_data=(val_images, val_oh_labels),  \n",
        "                    callbacks=[rlr_cb, ely_cb] )\n",
        "'''\n",
        "# steps 횟수를 구하기 위해 학습 데이터의 건수와 검증 데이터의 건수를 구함. steps = ceil(학습 데이터 건수/BATCH_SIZE)\n",
        "tr_data_len = tr_images.shape[0]\n",
        "val_data_len = val_images.shape[0]\n",
        "history = model.fit(flow_tr_gen, epochs=40, \n",
        "                    steps_per_epoch=int(np.ceil(tr_data_len/BATCH_SIZE)), # 생략 가능\n",
        "                    validation_data=flow_val_gen, \n",
        "                    validation_steps=int(np.ceil(val_data_len/BATCH_SIZE)), # 생략 가능\n",
        "                    callbacks=[rlr_cb, ely_cb])"
      ],
      "execution_count": null,
      "outputs": [
        {
          "output_type": "stream",
          "name": "stdout",
          "text": [
            "Epoch 1/40\n",
            "665/665 [==============================] - 23s 20ms/step - loss: 1.4498 - accuracy: 0.4735 - val_loss: 1.2973 - val_accuracy: 0.5483 - lr: 0.0010\n",
            "Epoch 2/40\n",
            "665/665 [==============================] - 14s 21ms/step - loss: 1.0042 - accuracy: 0.6481 - val_loss: 1.4219 - val_accuracy: 0.5195 - lr: 0.0010\n",
            "Epoch 3/40\n",
            "665/665 [==============================] - 16s 24ms/step - loss: 0.8182 - accuracy: 0.7183 - val_loss: 0.9227 - val_accuracy: 0.6840 - lr: 0.0010\n",
            "Epoch 4/40\n",
            "665/665 [==============================] - 13s 20ms/step - loss: 0.7009 - accuracy: 0.7632 - val_loss: 0.9241 - val_accuracy: 0.6865 - lr: 0.0010\n",
            "Epoch 5/40\n",
            "665/665 [==============================] - 13s 19ms/step - loss: 0.6064 - accuracy: 0.7966 - val_loss: 0.9849 - val_accuracy: 0.6903 - lr: 0.0010\n",
            "Epoch 6/40\n",
            "665/665 [==============================] - 13s 19ms/step - loss: 0.5412 - accuracy: 0.8198 - val_loss: 0.7871 - val_accuracy: 0.7397 - lr: 0.0010\n",
            "Epoch 7/40\n",
            "665/665 [==============================] - 13s 19ms/step - loss: 0.4869 - accuracy: 0.8386 - val_loss: 0.6603 - val_accuracy: 0.7827 - lr: 0.0010\n",
            "Epoch 8/40\n",
            "665/665 [==============================] - 12s 19ms/step - loss: 0.4365 - accuracy: 0.8551 - val_loss: 0.7403 - val_accuracy: 0.7585 - lr: 0.0010\n",
            "Epoch 9/40\n",
            "665/665 [==============================] - 12s 19ms/step - loss: 0.4005 - accuracy: 0.8657 - val_loss: 0.5805 - val_accuracy: 0.8093 - lr: 0.0010\n",
            "Epoch 10/40\n",
            "665/665 [==============================] - 12s 19ms/step - loss: 0.3588 - accuracy: 0.8801 - val_loss: 0.6119 - val_accuracy: 0.8101 - lr: 0.0010\n",
            "Epoch 11/40\n",
            "665/665 [==============================] - 12s 19ms/step - loss: 0.3229 - accuracy: 0.8925 - val_loss: 0.6259 - val_accuracy: 0.8095 - lr: 0.0010\n",
            "Epoch 12/40\n",
            "665/665 [==============================] - 13s 19ms/step - loss: 0.2940 - accuracy: 0.9017 - val_loss: 0.6984 - val_accuracy: 0.7957 - lr: 0.0010\n",
            "Epoch 13/40\n",
            "665/665 [==============================] - 12s 19ms/step - loss: 0.2670 - accuracy: 0.9116 - val_loss: 0.6074 - val_accuracy: 0.8176 - lr: 0.0010\n",
            "Epoch 14/40\n",
            "665/665 [==============================] - 12s 19ms/step - loss: 0.2448 - accuracy: 0.9176 - val_loss: 0.5224 - val_accuracy: 0.8400 - lr: 0.0010\n",
            "Epoch 15/40\n",
            "665/665 [==============================] - 12s 19ms/step - loss: 0.2192 - accuracy: 0.9278 - val_loss: 0.5585 - val_accuracy: 0.8263 - lr: 0.0010\n",
            "Epoch 16/40\n",
            "665/665 [==============================] - 12s 19ms/step - loss: 0.2011 - accuracy: 0.9334 - val_loss: 0.7695 - val_accuracy: 0.8011 - lr: 0.0010\n",
            "Epoch 17/40\n",
            "665/665 [==============================] - 13s 19ms/step - loss: 0.1851 - accuracy: 0.9386 - val_loss: 0.7098 - val_accuracy: 0.8172 - lr: 0.0010\n",
            "Epoch 18/40\n",
            "665/665 [==============================] - 12s 19ms/step - loss: 0.1835 - accuracy: 0.9389 - val_loss: 0.6788 - val_accuracy: 0.8228 - lr: 0.0010\n",
            "Epoch 19/40\n",
            "665/665 [==============================] - 12s 19ms/step - loss: 0.1595 - accuracy: 0.9470 - val_loss: 0.4913 - val_accuracy: 0.8593 - lr: 0.0010\n",
            "Epoch 20/40\n",
            "665/665 [==============================] - 13s 19ms/step - loss: 0.1543 - accuracy: 0.9495 - val_loss: 0.5090 - val_accuracy: 0.8521 - lr: 0.0010\n",
            "Epoch 21/40\n",
            "665/665 [==============================] - 12s 19ms/step - loss: 0.1345 - accuracy: 0.9562 - val_loss: 0.6148 - val_accuracy: 0.8485 - lr: 0.0010\n",
            "Epoch 22/40\n",
            "665/665 [==============================] - 12s 19ms/step - loss: 0.1408 - accuracy: 0.9543 - val_loss: 0.5539 - val_accuracy: 0.8424 - lr: 0.0010\n",
            "Epoch 23/40\n",
            "665/665 [==============================] - 12s 19ms/step - loss: 0.1175 - accuracy: 0.9614 - val_loss: 0.5013 - val_accuracy: 0.8637 - lr: 0.0010\n",
            "Epoch 24/40\n",
            "662/665 [============================>.] - ETA: 0s - loss: 0.1027 - accuracy: 0.9660\n",
            "Epoch 24: ReduceLROnPlateau reducing learning rate to 0.00020000000949949026.\n",
            "665/665 [==============================] - 12s 19ms/step - loss: 0.1025 - accuracy: 0.9660 - val_loss: 0.5401 - val_accuracy: 0.8579 - lr: 0.0010\n",
            "Epoch 25/40\n",
            "665/665 [==============================] - 12s 19ms/step - loss: 0.0497 - accuracy: 0.9843 - val_loss: 0.4063 - val_accuracy: 0.8967 - lr: 2.0000e-04\n",
            "Epoch 26/40\n",
            "665/665 [==============================] - 12s 19ms/step - loss: 0.0323 - accuracy: 0.9896 - val_loss: 0.4628 - val_accuracy: 0.8963 - lr: 2.0000e-04\n",
            "Epoch 27/40\n",
            "665/665 [==============================] - 12s 19ms/step - loss: 0.0284 - accuracy: 0.9912 - val_loss: 0.4742 - val_accuracy: 0.8956 - lr: 2.0000e-04\n",
            "Epoch 28/40\n",
            "665/665 [==============================] - 12s 19ms/step - loss: 0.0243 - accuracy: 0.9927 - val_loss: 0.4697 - val_accuracy: 0.8975 - lr: 2.0000e-04\n",
            "Epoch 29/40\n",
            "665/665 [==============================] - 12s 19ms/step - loss: 0.0213 - accuracy: 0.9931 - val_loss: 0.7088 - val_accuracy: 0.8652 - lr: 2.0000e-04\n",
            "Epoch 30/40\n",
            "665/665 [==============================] - ETA: 0s - loss: 0.0205 - accuracy: 0.9937\n",
            "Epoch 30: ReduceLROnPlateau reducing learning rate to 4.0000001899898055e-05.\n",
            "665/665 [==============================] - 15s 22ms/step - loss: 0.0205 - accuracy: 0.9937 - val_loss: 0.5279 - val_accuracy: 0.8944 - lr: 2.0000e-04\n",
            "Epoch 31/40\n",
            "665/665 [==============================] - 12s 19ms/step - loss: 0.0138 - accuracy: 0.9959 - val_loss: 0.4932 - val_accuracy: 0.9001 - lr: 4.0000e-05\n",
            "Epoch 32/40\n",
            "665/665 [==============================] - 12s 19ms/step - loss: 0.0135 - accuracy: 0.9964 - val_loss: 0.4983 - val_accuracy: 0.9004 - lr: 4.0000e-05\n",
            "Epoch 33/40\n",
            "665/665 [==============================] - 12s 19ms/step - loss: 0.0110 - accuracy: 0.9969 - val_loss: 0.5002 - val_accuracy: 0.8996 - lr: 4.0000e-05\n",
            "Epoch 34/40\n",
            "665/665 [==============================] - 13s 19ms/step - loss: 0.0096 - accuracy: 0.9972 - val_loss: 0.5025 - val_accuracy: 0.9001 - lr: 4.0000e-05\n",
            "Epoch 35/40\n",
            "665/665 [==============================] - ETA: 0s - loss: 0.0091 - accuracy: 0.9972\n",
            "Epoch 35: ReduceLROnPlateau reducing learning rate to 8.000000525498762e-06.\n",
            "665/665 [==============================] - 12s 19ms/step - loss: 0.0091 - accuracy: 0.9972 - val_loss: 0.5079 - val_accuracy: 0.8993 - lr: 4.0000e-05\n",
            "Epoch 35: early stopping\n"
          ]
        }
      ]
    },
    {
      "metadata": {
        "trusted": true,
        "colab": {
          "base_uri": "https://localhost:8080/"
        },
        "id": "9QRiph7N7WUf",
        "outputId": "073b1ad5-a64c-4640-e9c1-c4cad12564ef"
      },
      "cell_type": "code",
      "source": [
        "test_generator = ImageDataGenerator(rescale=1/255.0)\n",
        "flow_test_gen = test_generator.flow(test_images, test_oh_labels, batch_size=BATCH_SIZE, shuffle=False)\n",
        "model.evaluate(flow_test_gen)"
      ],
      "execution_count": null,
      "outputs": [
        {
          "output_type": "stream",
          "name": "stdout",
          "text": [
            "157/157 [==============================] - 1s 8ms/step - loss: 0.5826 - accuracy: 0.8915\n"
          ]
        },
        {
          "output_type": "execute_result",
          "data": {
            "text/plain": [
              "[0.5825998783111572, 0.8914999961853027]"
            ]
          },
          "metadata": {},
          "execution_count": 13
        }
      ]
    },
    {
      "metadata": {
        "trusted": true,
        "colab": {
          "base_uri": "https://localhost:8080/",
          "height": 265
        },
        "id": "8NW0iVXL7WUi",
        "outputId": "56886e2f-a444-4289-e069-e09ff274819f"
      },
      "cell_type": "code",
      "source": [
        "import matplotlib.pyplot as plt\n",
        "%matplotlib inline\n",
        "\n",
        "def show_history(history):\n",
        "    plt.figure(figsize=(8, 4))\n",
        "    plt.yticks(np.arange(0, 1, 0.05))\n",
        "    plt.xticks(np.arange(0, 40, 2))\n",
        "    plt.plot(history.history['accuracy'], label='train')\n",
        "    plt.plot(history.history['val_accuracy'], label='valid')\n",
        "    plt.legend()\n",
        "    \n",
        "show_history(history)"
      ],
      "execution_count": null,
      "outputs": [
        {
          "output_type": "display_data",
          "data": {
            "image/png": "[encoded data removed]",
            "text/plain": [
              "<Figure size 576x288 with 1 Axes>"
            ]
          },
          "metadata": {
            "needs_background": "light"
          }
        }
      ]
    },
    {
      "metadata": {
        "id": "tKR0WKIu7WUj"
      },
      "cell_type": "markdown",
      "source": [
        "### 원본 이미지 상황에 맞지 않거나 과도한 Augmentation은 오히려 성능을 저하시킴."
      ]
    },
    {
      "metadata": {
        "trusted": true,
        "colab": {
          "base_uri": "https://localhost:8080/"
        },
        "id": "JdzHqV3K7WUj",
        "outputId": "019d2f89-863b-43ae-dcd1-d13752447c57"
      },
      "cell_type": "code",
      "source": [
        "from tensorflow.keras.preprocessing.image import ImageDataGenerator\n",
        "\n",
        "# 현재의 데이터는 32 * 32 라서 과할 수 있음.\n",
        "train_generator = ImageDataGenerator(\n",
        "    rotation_range=20,\n",
        "    zoom_range=(0.7, 0.9),\n",
        "    horizontal_flip=True,\n",
        "    vertical_flip=True,\n",
        "    rescale=1/255.0\n",
        ")\n",
        "\n",
        "valid_generator = ImageDataGenerator(rescale=1/255.0)\n",
        "\n",
        "flow_tr_gen = train_generator.flow(tr_images, tr_oh_labels, batch_size=BATCH_SIZE, shuffle=True)\n",
        "flow_val_gen = valid_generator.flow(val_images, val_oh_labels, batch_size=BATCH_SIZE, shuffle=False)\n",
        "\n",
        "model = create_model()\n",
        "model.compile(optimizer=Adam(lr=0.001), loss='categorical_crossentropy', metrics=['accuracy'])\n",
        "\n",
        "# 5번 iteration내에 validation loss가 향상되지 않으면 learning rate을 기존 learning rate * 0.2로 줄임.  \n",
        "rlr_cb = ReduceLROnPlateau(monitor='val_loss', factor=0.2, patience=5, mode='min', verbose=1)\n",
        "# 10번 iteration내에 validation loss가 향상되지 않으면 더 이상 학습하지 않고 종료\n",
        "ely_cb = EarlyStopping(monitor='val_loss', patience=10, mode='min', verbose=1)\n",
        "\n",
        "# steps 횟수를 구하기 위해 학습 데이터의 건수와 검증 데이터의 건수를 구함. steps = ceil(학습 데이터 건수/BATCH_SIZE)\n",
        "tr_data_len = tr_images.shape[0]\n",
        "val_data_len = val_images.shape[0]\n",
        "\n",
        "history = model.fit(flow_tr_gen, epochs=40, \n",
        "                    steps_per_epoch=int(np.ceil(tr_data_len/BATCH_SIZE)),\n",
        "                    validation_data=flow_val_gen, \n",
        "                    validation_steps=int(np.ceil(val_data_len/BATCH_SIZE)),\n",
        "                    callbacks=[rlr_cb, ely_cb], verbose=1)\n"
      ],
      "execution_count": null,
      "outputs": [
        {
          "output_type": "stream",
          "name": "stdout",
          "text": [
            "Epoch 1/40\n"
          ]
        },
        {
          "output_type": "stream",
          "name": "stderr",
          "text": [
            "/usr/local/lib/python3.7/dist-packages/keras/optimizer_v2/adam.py:105: UserWarning: The `lr` argument is deprecated, use `learning_rate` instead.\n",
            "  super(Adam, self).__init__(name, **kwargs)\n"
          ]
        },
        {
          "output_type": "stream",
          "name": "stdout",
          "text": [
            "665/665 [==============================] - 30s 43ms/step - loss: 1.7736 - accuracy: 0.3368 - val_loss: 2.2289 - val_accuracy: 0.2673 - lr: 0.0010\n",
            "Epoch 2/40\n",
            "665/665 [==============================] - 40s 60ms/step - loss: 1.4383 - accuracy: 0.4779 - val_loss: 3.6050 - val_accuracy: 0.2735 - lr: 0.0010\n",
            "Epoch 3/40\n",
            "665/665 [==============================] - 32s 48ms/step - loss: 1.2666 - accuracy: 0.5480 - val_loss: 1.5287 - val_accuracy: 0.5117 - lr: 0.0010\n",
            "Epoch 4/40\n",
            "665/665 [==============================] - 29s 43ms/step - loss: 1.1616 - accuracy: 0.5931 - val_loss: 1.2376 - val_accuracy: 0.5652 - lr: 0.0010\n",
            "Epoch 5/40\n",
            "665/665 [==============================] - 29s 44ms/step - loss: 1.0698 - accuracy: 0.6247 - val_loss: 1.3129 - val_accuracy: 0.5667 - lr: 0.0010\n",
            "Epoch 6/40\n",
            "665/665 [==============================] - 29s 43ms/step - loss: 1.0113 - accuracy: 0.6453 - val_loss: 1.2460 - val_accuracy: 0.5685 - lr: 0.0010\n",
            "Epoch 7/40\n",
            "665/665 [==============================] - 29s 43ms/step - loss: 0.9532 - accuracy: 0.6679 - val_loss: 1.3133 - val_accuracy: 0.5889 - lr: 0.0010\n",
            "Epoch 8/40\n",
            "665/665 [==============================] - 29s 43ms/step - loss: 0.8988 - accuracy: 0.6864 - val_loss: 1.0546 - val_accuracy: 0.6355 - lr: 0.0010\n",
            "Epoch 9/40\n",
            "665/665 [==============================] - 30s 45ms/step - loss: 0.8542 - accuracy: 0.7056 - val_loss: 1.4032 - val_accuracy: 0.5703 - lr: 0.0010\n",
            "Epoch 10/40\n",
            "665/665 [==============================] - 28s 43ms/step - loss: 0.8201 - accuracy: 0.7176 - val_loss: 0.9968 - val_accuracy: 0.6716 - lr: 0.0010\n",
            "Epoch 11/40\n",
            "665/665 [==============================] - 29s 43ms/step - loss: 0.7907 - accuracy: 0.7301 - val_loss: 0.9543 - val_accuracy: 0.6847 - lr: 0.0010\n",
            "Epoch 12/40\n",
            "665/665 [==============================] - 29s 44ms/step - loss: 0.7581 - accuracy: 0.7404 - val_loss: 0.8621 - val_accuracy: 0.7040 - lr: 0.0010\n",
            "Epoch 13/40\n",
            "665/665 [==============================] - 29s 43ms/step - loss: 0.7293 - accuracy: 0.7508 - val_loss: 0.8371 - val_accuracy: 0.7167 - lr: 0.0010\n",
            "Epoch 14/40\n",
            "665/665 [==============================] - 29s 44ms/step - loss: 0.7045 - accuracy: 0.7599 - val_loss: 0.7761 - val_accuracy: 0.7343 - lr: 0.0010\n",
            "Epoch 15/40\n",
            "665/665 [==============================] - 29s 44ms/step - loss: 0.6810 - accuracy: 0.7698 - val_loss: 0.9222 - val_accuracy: 0.7075 - lr: 0.0010\n",
            "Epoch 16/40\n",
            "665/665 [==============================] - 29s 44ms/step - loss: 0.6692 - accuracy: 0.7722 - val_loss: 0.7814 - val_accuracy: 0.7327 - lr: 0.0010\n",
            "Epoch 17/40\n",
            "665/665 [==============================] - 29s 44ms/step - loss: 0.6431 - accuracy: 0.7812 - val_loss: 0.7232 - val_accuracy: 0.7560 - lr: 0.0010\n",
            "Epoch 18/40\n",
            "665/665 [==============================] - 29s 43ms/step - loss: 0.6199 - accuracy: 0.7913 - val_loss: 0.7731 - val_accuracy: 0.7423 - lr: 0.0010\n",
            "Epoch 19/40\n",
            "665/665 [==============================] - 29s 44ms/step - loss: 0.6060 - accuracy: 0.7946 - val_loss: 0.7425 - val_accuracy: 0.7484 - lr: 0.0010\n",
            "Epoch 20/40\n",
            "665/665 [==============================] - 28s 43ms/step - loss: 0.5955 - accuracy: 0.7989 - val_loss: 0.8833 - val_accuracy: 0.7352 - lr: 0.0010\n",
            "Epoch 21/40\n",
            "665/665 [==============================] - 29s 43ms/step - loss: 0.5865 - accuracy: 0.8031 - val_loss: 0.7401 - val_accuracy: 0.7517 - lr: 0.0010\n",
            "Epoch 22/40\n",
            "665/665 [==============================] - ETA: 0s - loss: 0.5627 - accuracy: 0.8093\n",
            "Epoch 22: ReduceLROnPlateau reducing learning rate to 0.00020000000949949026.\n",
            "665/665 [==============================] - 29s 43ms/step - loss: 0.5627 - accuracy: 0.8093 - val_loss: 0.7854 - val_accuracy: 0.7379 - lr: 0.0010\n",
            "Epoch 23/40\n",
            "665/665 [==============================] - 29s 43ms/step - loss: 0.4829 - accuracy: 0.8358 - val_loss: 0.5870 - val_accuracy: 0.8024 - lr: 2.0000e-04\n",
            "Epoch 24/40\n",
            "665/665 [==============================] - 29s 43ms/step - loss: 0.4574 - accuracy: 0.8442 - val_loss: 0.5770 - val_accuracy: 0.8064 - lr: 2.0000e-04\n",
            "Epoch 25/40\n",
            "665/665 [==============================] - 29s 43ms/step - loss: 0.4411 - accuracy: 0.8512 - val_loss: 0.6133 - val_accuracy: 0.8001 - lr: 2.0000e-04\n",
            "Epoch 26/40\n",
            "665/665 [==============================] - 29s 43ms/step - loss: 0.4313 - accuracy: 0.8542 - val_loss: 0.5913 - val_accuracy: 0.8044 - lr: 2.0000e-04\n",
            "Epoch 27/40\n",
            "665/665 [==============================] - 28s 43ms/step - loss: 0.4300 - accuracy: 0.8529 - val_loss: 0.5892 - val_accuracy: 0.8061 - lr: 2.0000e-04\n",
            "Epoch 28/40\n",
            "665/665 [==============================] - 28s 42ms/step - loss: 0.4152 - accuracy: 0.8588 - val_loss: 0.5625 - val_accuracy: 0.8147 - lr: 2.0000e-04\n",
            "Epoch 29/40\n",
            "665/665 [==============================] - 28s 43ms/step - loss: 0.4086 - accuracy: 0.8622 - val_loss: 0.5747 - val_accuracy: 0.8117 - lr: 2.0000e-04\n",
            "Epoch 30/40\n",
            "665/665 [==============================] - 28s 43ms/step - loss: 0.4062 - accuracy: 0.8628 - val_loss: 0.5771 - val_accuracy: 0.8092 - lr: 2.0000e-04\n",
            "Epoch 31/40\n",
            "665/665 [==============================] - 28s 43ms/step - loss: 0.4044 - accuracy: 0.8645 - val_loss: 0.5968 - val_accuracy: 0.8025 - lr: 2.0000e-04\n",
            "Epoch 32/40\n",
            "665/665 [==============================] - 29s 43ms/step - loss: 0.3951 - accuracy: 0.8650 - val_loss: 0.5640 - val_accuracy: 0.8144 - lr: 2.0000e-04\n",
            "Epoch 33/40\n",
            "665/665 [==============================] - ETA: 0s - loss: 0.3924 - accuracy: 0.8665\n",
            "Epoch 33: ReduceLROnPlateau reducing learning rate to 4.0000001899898055e-05.\n",
            "665/665 [==============================] - 28s 43ms/step - loss: 0.3924 - accuracy: 0.8665 - val_loss: 0.5681 - val_accuracy: 0.8132 - lr: 2.0000e-04\n",
            "Epoch 34/40\n",
            "665/665 [==============================] - 28s 42ms/step - loss: 0.3795 - accuracy: 0.8729 - val_loss: 0.5525 - val_accuracy: 0.8173 - lr: 4.0000e-05\n",
            "Epoch 35/40\n",
            "665/665 [==============================] - 28s 43ms/step - loss: 0.3669 - accuracy: 0.8760 - val_loss: 0.5545 - val_accuracy: 0.8189 - lr: 4.0000e-05\n",
            "Epoch 36/40\n",
            "665/665 [==============================] - 28s 42ms/step - loss: 0.3680 - accuracy: 0.8750 - val_loss: 0.5525 - val_accuracy: 0.8191 - lr: 4.0000e-05\n",
            "Epoch 37/40\n",
            "665/665 [==============================] - 28s 42ms/step - loss: 0.3659 - accuracy: 0.8763 - val_loss: 0.5502 - val_accuracy: 0.8192 - lr: 4.0000e-05\n",
            "Epoch 38/40\n",
            "665/665 [==============================] - 28s 42ms/step - loss: 0.3644 - accuracy: 0.8771 - val_loss: 0.5434 - val_accuracy: 0.8213 - lr: 4.0000e-05\n",
            "Epoch 39/40\n",
            "665/665 [==============================] - 28s 42ms/step - loss: 0.3630 - accuracy: 0.8776 - val_loss: 0.5427 - val_accuracy: 0.8245 - lr: 4.0000e-05\n",
            "Epoch 40/40\n",
            "665/665 [==============================] - 28s 41ms/step - loss: 0.3586 - accuracy: 0.8793 - val_loss: 0.5458 - val_accuracy: 0.8209 - lr: 4.0000e-05\n"
          ]
        }
      ]
    },
    {
      "metadata": {
        "trusted": true,
        "colab": {
          "base_uri": "https://localhost:8080/"
        },
        "id": "YEoV2CHx7WUk",
        "outputId": "c32e7bfe-e509-47bf-8dd6-a6131da018ef"
      },
      "cell_type": "code",
      "source": [
        "test_generator = ImageDataGenerator(rescale=1/255.0)\n",
        "flow_test_gen = test_generator.flow(test_images, test_oh_labels, batch_size=BATCH_SIZE, shuffle=False)\n",
        "model.evaluate(flow_test_gen)"
      ],
      "execution_count": null,
      "outputs": [
        {
          "output_type": "stream",
          "name": "stdout",
          "text": [
            "157/157 [==============================] - 1s 7ms/step - loss: 0.5806 - accuracy: 0.8133\n"
          ]
        },
        {
          "output_type": "execute_result",
          "data": {
            "text/plain": [
              "[0.5805527567863464, 0.8133000135421753]"
            ]
          },
          "metadata": {},
          "execution_count": 20
        }
      ]
    },
    {
      "metadata": {
        "trusted": true,
        "id": "oK9VwWr-7WUl"
      },
      "cell_type": "code",
      "source": [
        ""
      ],
      "execution_count": null,
      "outputs": []
    }
  ],
  "metadata": {
    "kernelspec": {
      "language": "python",
      "display_name": "Python 3",
      "name": "python3"
    },
    "language_info": {
      "pygments_lexer": "ipython3",
      "nbconvert_exporter": "python",
      "version": "3.6.4",
      "file_extension": ".py",
      "codemirror_mode": {
        "name": "ipython",
        "version": 3
      },
      "name": "python",
      "mimetype": "text/x-python"
    },
    "colab": {
      "name": "07-CIFAR10_Custom_Aug.ipynb",
      "provenance": [],
      "toc_visible": true,
      "include_colab_link": true
    },
    "accelerator": "GPU"
  },
  "nbformat": 4,
  "nbformat_minor": 0
}